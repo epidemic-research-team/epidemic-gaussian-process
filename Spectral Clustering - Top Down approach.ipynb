{
 "cells": [
  {
   "cell_type": "code",
   "execution_count": 117,
   "id": "buried-victor",
   "metadata": {},
   "outputs": [],
   "source": [
    "import numpy as np\n",
    "import pandas as pd\n",
    "from collections import Counter\n",
    "from sklearn.cluster import SpectralClustering\n",
    "from pprint import pprint\n",
    "import copy"
   ]
  },
  {
   "cell_type": "code",
   "execution_count": 109,
   "id": "italic-lawsuit",
   "metadata": {},
   "outputs": [],
   "source": [
    "Kmm = pd.read_csv(\"Kmm.csv\")\n",
    "STATES = [\n",
    "    'Alaska', 'Alabama', 'Arkansas', 'Arizona', \n",
    "    'California', 'Colorado', 'Connecticut', 'District of Columbia', \n",
    "    'Delaware', 'Florida', 'Georgia', 'Hawaii', 'Iowa', 'Idaho', \n",
    "    'Illinois', 'Indiana', 'Kansas'\n",
    "]\n",
    "N = 17\n",
    "P = 15"
   ]
  },
  {
   "cell_type": "code",
   "execution_count": 110,
   "id": "thorough-explanation",
   "metadata": {},
   "outputs": [],
   "source": [
    "def sub_matrix(k, states):\n",
    "    states_indices = [STATES.index(s) for s in states]\n",
    "    \n",
    "    l = []\n",
    "    for i in states_indices:\n",
    "        l += list(range(i*P, (i+1)*P))\n",
    "\n",
    "    return k[l,:][:,l]"
   ]
  },
  {
   "cell_type": "code",
   "execution_count": 164,
   "id": "clean-clear",
   "metadata": {},
   "outputs": [],
   "source": [
    "def get_clusters(clustering, keys):\n",
    "    clusters = []\n",
    "\n",
    "    labels = clustering.labels_\n",
    "    \n",
    "    for i, k in enumerate(keys):\n",
    "        clusters.append((k, Counter(labels[i*P:(i+1)*P]).most_common(1)[0][0]))\n",
    "    \n",
    "    return dict(clusters)"
   ]
  },
  {
   "cell_type": "code",
   "execution_count": 171,
   "id": "immune-international",
   "metadata": {},
   "outputs": [],
   "source": [
    "def cluster(prev_cluster):\n",
    "    if len(prev_cluster) <= 1:\n",
    "        return\n",
    "    \n",
    "    Kmm_sub = sub_matrix(Kmm.values, prev_cluster.keys())\n",
    "    clustering = SpectralClustering(\n",
    "        n_clusters=2, affinity='nearest_neighbors', assign_labels='kmeans', n_neighbors=P, random_state=123\n",
    "    ).fit(Kmm_sub)\n",
    "\n",
    "    clusters = get_clusters(clustering, list(prev_cluster.keys()))\n",
    "    pprint(clusters)\n",
    "#     print(set(clustering.labels_), set(clusters.values()))\n",
    "    \n",
    "    if len(set(clusters.values())) == 1:\n",
    "        return\n",
    "    \n",
    "    for c in set(clusters.values()):\n",
    "        sub_cluster = {k: v for k, v in clusters.items() if v == c}\n",
    "        cluster(sub_cluster)"
   ]
  },
  {
   "cell_type": "code",
   "execution_count": 172,
   "id": "offshore-villa",
   "metadata": {
    "scrolled": false
   },
   "outputs": [
    {
     "name": "stderr",
     "output_type": "stream",
     "text": [
      "/Users/leo/.pyenv/versions/3.8.7/envs/covid/lib/python3.8/site-packages/sklearn/cluster/_spectral.py:504: UserWarning: The spectral clustering API has changed. ``fit``now constructs an affinity matrix from data. To use a custom affinity matrix, set ``affinity=precomputed``.\n",
      "  warnings.warn(\"The spectral clustering API has changed. ``fit``\"\n",
      "/Users/leo/.pyenv/versions/3.8.7/envs/covid/lib/python3.8/site-packages/sklearn/cluster/_spectral.py:504: UserWarning: The spectral clustering API has changed. ``fit``now constructs an affinity matrix from data. To use a custom affinity matrix, set ``affinity=precomputed``.\n",
      "  warnings.warn(\"The spectral clustering API has changed. ``fit``\"\n",
      "/Users/leo/.pyenv/versions/3.8.7/envs/covid/lib/python3.8/site-packages/sklearn/cluster/_spectral.py:504: UserWarning: The spectral clustering API has changed. ``fit``now constructs an affinity matrix from data. To use a custom affinity matrix, set ``affinity=precomputed``.\n",
      "  warnings.warn(\"The spectral clustering API has changed. ``fit``\"\n",
      "/Users/leo/.pyenv/versions/3.8.7/envs/covid/lib/python3.8/site-packages/sklearn/cluster/_spectral.py:504: UserWarning: The spectral clustering API has changed. ``fit``now constructs an affinity matrix from data. To use a custom affinity matrix, set ``affinity=precomputed``.\n",
      "  warnings.warn(\"The spectral clustering API has changed. ``fit``\"\n",
      "/Users/leo/.pyenv/versions/3.8.7/envs/covid/lib/python3.8/site-packages/sklearn/cluster/_spectral.py:504: UserWarning: The spectral clustering API has changed. ``fit``now constructs an affinity matrix from data. To use a custom affinity matrix, set ``affinity=precomputed``.\n",
      "  warnings.warn(\"The spectral clustering API has changed. ``fit``\"\n",
      "/Users/leo/.pyenv/versions/3.8.7/envs/covid/lib/python3.8/site-packages/sklearn/cluster/_spectral.py:504: UserWarning: The spectral clustering API has changed. ``fit``now constructs an affinity matrix from data. To use a custom affinity matrix, set ``affinity=precomputed``.\n",
      "  warnings.warn(\"The spectral clustering API has changed. ``fit``\"\n",
      "/Users/leo/.pyenv/versions/3.8.7/envs/covid/lib/python3.8/site-packages/sklearn/cluster/_spectral.py:504: UserWarning: The spectral clustering API has changed. ``fit``now constructs an affinity matrix from data. To use a custom affinity matrix, set ``affinity=precomputed``.\n",
      "  warnings.warn(\"The spectral clustering API has changed. ``fit``\"\n",
      "/Users/leo/.pyenv/versions/3.8.7/envs/covid/lib/python3.8/site-packages/sklearn/cluster/_spectral.py:504: UserWarning: The spectral clustering API has changed. ``fit``now constructs an affinity matrix from data. To use a custom affinity matrix, set ``affinity=precomputed``.\n",
      "  warnings.warn(\"The spectral clustering API has changed. ``fit``\"\n",
      "/Users/leo/.pyenv/versions/3.8.7/envs/covid/lib/python3.8/site-packages/sklearn/cluster/_spectral.py:504: UserWarning: The spectral clustering API has changed. ``fit``now constructs an affinity matrix from data. To use a custom affinity matrix, set ``affinity=precomputed``.\n",
      "  warnings.warn(\"The spectral clustering API has changed. ``fit``\"\n",
      "/Users/leo/.pyenv/versions/3.8.7/envs/covid/lib/python3.8/site-packages/sklearn/cluster/_spectral.py:504: UserWarning: The spectral clustering API has changed. ``fit``now constructs an affinity matrix from data. To use a custom affinity matrix, set ``affinity=precomputed``.\n",
      "  warnings.warn(\"The spectral clustering API has changed. ``fit``\"\n",
      "/Users/leo/.pyenv/versions/3.8.7/envs/covid/lib/python3.8/site-packages/sklearn/cluster/_spectral.py:504: UserWarning: The spectral clustering API has changed. ``fit``now constructs an affinity matrix from data. To use a custom affinity matrix, set ``affinity=precomputed``.\n",
      "  warnings.warn(\"The spectral clustering API has changed. ``fit``\"\n",
      "/Users/leo/.pyenv/versions/3.8.7/envs/covid/lib/python3.8/site-packages/sklearn/cluster/_spectral.py:504: UserWarning: The spectral clustering API has changed. ``fit``now constructs an affinity matrix from data. To use a custom affinity matrix, set ``affinity=precomputed``.\n",
      "  warnings.warn(\"The spectral clustering API has changed. ``fit``\"\n"
     ]
    },
    {
     "name": "stdout",
     "output_type": "stream",
     "text": [
      "{'Alabama': 0,\n",
      " 'Alaska': 0,\n",
      " 'Arizona': 0,\n",
      " 'Arkansas': 0,\n",
      " 'California': 0,\n",
      " 'Colorado': 0,\n",
      " 'Connecticut': 0,\n",
      " 'Delaware': 0,\n",
      " 'District of Columbia': 0,\n",
      " 'Florida': 1,\n",
      " 'Georgia': 1,\n",
      " 'Hawaii': 1,\n",
      " 'Idaho': 1,\n",
      " 'Illinois': 1,\n",
      " 'Indiana': 1,\n",
      " 'Iowa': 1,\n",
      " 'Kansas': 1}\n",
      "{'Alabama': 0,\n",
      " 'Alaska': 0,\n",
      " 'Arizona': 0,\n",
      " 'Arkansas': 0,\n",
      " 'California': 1,\n",
      " 'Colorado': 1,\n",
      " 'Connecticut': 1,\n",
      " 'Delaware': 1,\n",
      " 'District of Columbia': 1}\n",
      "{'Alabama': 1, 'Alaska': 1, 'Arizona': 0, 'Arkansas': 0}\n",
      "{'Arizona': 0, 'Arkansas': 0}\n",
      "{'Alabama': 0, 'Alaska': 1}\n",
      "{'California': 0,\n",
      " 'Colorado': 0,\n",
      " 'Connecticut': 0,\n",
      " 'Delaware': 0,\n",
      " 'District of Columbia': 0}\n",
      "{'Florida': 0,\n",
      " 'Georgia': 0,\n",
      " 'Hawaii': 0,\n",
      " 'Idaho': 0,\n",
      " 'Illinois': 1,\n",
      " 'Indiana': 0,\n",
      " 'Iowa': 0,\n",
      " 'Kansas': 0}\n",
      "{'Florida': 0,\n",
      " 'Georgia': 0,\n",
      " 'Hawaii': 0,\n",
      " 'Idaho': 0,\n",
      " 'Indiana': 1,\n",
      " 'Iowa': 0,\n",
      " 'Kansas': 0}\n",
      "{'Florida': 0, 'Georgia': 0, 'Hawaii': 1, 'Idaho': 0, 'Iowa': 0, 'Kansas': 0}\n",
      "{'Florida': 1, 'Georgia': 0, 'Idaho': 0, 'Iowa': 0, 'Kansas': 1}\n",
      "{'Georgia': 0, 'Idaho': 0, 'Iowa': 0}\n",
      "{'Florida': 0, 'Kansas': 0}\n"
     ]
    }
   ],
   "source": [
    "cluster({s: 0 for s in STATES})"
   ]
  }
 ],
 "metadata": {
  "kernelspec": {
   "display_name": "Python 3",
   "language": "python",
   "name": "python3"
  },
  "language_info": {
   "codemirror_mode": {
    "name": "ipython",
    "version": 3
   },
   "file_extension": ".py",
   "mimetype": "text/x-python",
   "name": "python",
   "nbconvert_exporter": "python",
   "pygments_lexer": "ipython3",
   "version": "3.8.7"
  }
 },
 "nbformat": 4,
 "nbformat_minor": 5
}
