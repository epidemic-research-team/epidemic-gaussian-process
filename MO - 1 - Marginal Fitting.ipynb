{
 "cells": [
  {
   "cell_type": "code",
   "execution_count": 1,
   "id": "victorian-administrator",
   "metadata": {
    "scrolled": true
   },
   "outputs": [
    {
     "name": "stderr",
     "output_type": "stream",
     "text": [
      "/Users/leo/.pyenv/versions/3.8.7/envs/covid/lib/python3.8/site-packages/pandas/compat/__init__.py:97: UserWarning: Could not import the lzma module. Your installed Python is incomplete. Attempting to use lzma compression will result in a RuntimeError.\n",
      "  warnings.warn(msg)\n",
      "<ipython-input-1-06da3225ef62>:22: FutureWarning: Passing a negative integer is deprecated in version 1.0 and will not be supported in future version. Instead, use None to not limit the column width.\n",
      "  pd.set_option('display.max_colwidth', -1)\n"
     ]
    }
   ],
   "source": [
    "import pandas as pd\n",
    "from itertools import cycle\n",
    "import gpflow\n",
    "import numpy as np\n",
    "from gpflow.utilities import print_summary, positive\n",
    "from gpflow.ci_utils import ci_niter\n",
    "from gpflow.optimizers import NaturalGradient\n",
    "from gpflow import set_trainable\n",
    "import tensorflow as tf\n",
    "import tensorflow_probability as tfp\n",
    "import matplotlib.pyplot as plt\n",
    "import seaborn as sns\n",
    "from sklearn import preprocessing\n",
    "from sklearn.model_selection import train_test_split\n",
    "from collections import namedtuple\n",
    "import statsmodels.api as sm\n",
    "import dill as pickle\n",
    "\n",
    "sns.set(style=\"white\")\n",
    "pd.set_option('display.max_columns', None)\n",
    "pd.set_option('display.width', None)\n",
    "pd.set_option('display.max_colwidth', -1)\n",
    "\n",
    "gpflow.config.set_default_float(np.float64)\n",
    "gpflow.config.set_default_summary_fmt(\"notebook\")"
   ]
  },
  {
   "cell_type": "markdown",
   "id": "median-bosnia",
   "metadata": {},
   "source": [
    "# Dataset"
   ]
  },
  {
   "cell_type": "markdown",
   "id": "nervous-maximum",
   "metadata": {},
   "source": [
    "## Mobility"
   ]
  },
  {
   "cell_type": "code",
   "execution_count": 2,
   "id": "reflected-electronics",
   "metadata": {},
   "outputs": [
    {
     "name": "stderr",
     "output_type": "stream",
     "text": [
      "/Users/leo/.pyenv/versions/3.8.7/envs/covid/lib/python3.8/site-packages/IPython/core/interactiveshell.py:3165: DtypeWarning: Columns (4) have mixed types.Specify dtype option on import or set low_memory=False.\n",
      "  has_raised = await self.run_ast_nodes(code_ast.body, cell_name,\n"
     ]
    }
   ],
   "source": [
    "mobility_data = pd.read_csv(\n",
    "    \"./Data/Google/Global_Mobility_Report.csv\", \n",
    "    encoding=\"ISO-8859-1\", \n",
    "    parse_dates=[\"date\"],\n",
    "    dayfirst=True\n",
    ")\n",
    "mobility_data_us = mobility_data[\n",
    "    (mobility_data[\"country_region\"]==\"United States\") & \n",
    "    (~mobility_data[\"sub_region_1\"].isnull()) &\n",
    "    (mobility_data[\"sub_region_2\"].isnull())\n",
    "]\n",
    "mobility_data_us_temp = mobility_data_us.iloc[:,7:] # keep only relevant columns\n",
    "mobility_data_us_temp[\"state\"] = mobility_data_us[\"sub_region_1\"]\n",
    "mobility_data_us_temp.iloc[:,1:-1] = mobility_data_us_temp.iloc[:,1:-1].apply(lambda x: x/100 + 1)\n",
    "mobility_data_us =  mobility_data_us_temp.reset_index(drop=True)\n",
    "mobility_data_us = pd.DataFrame({\n",
    "    \"state\": mobility_data_us[\"state\"],\n",
    "    \"date\": mobility_data_us[\"date\"],\n",
    "    \"HOME\": mobility_data_us['residential_percent_change_from_baseline'],\n",
    "    \"WORK\": mobility_data_us['workplaces_percent_change_from_baseline'],\n",
    "    \"RECREATIONAL\": mobility_data_us['retail_and_recreation_percent_change_from_baseline'],\n",
    "    \"OTHER\": mobility_data_us.iloc[:,2:5].mean(axis=1)\n",
    "})\n",
    "\n",
    "processed_dfs = []\n",
    "\n",
    "for state in mobility_data_us[\"state\"].unique():\n",
    "    d = mobility_data_us[mobility_data_us[\"state\"] == state].copy()\n",
    "    \n",
    "    d[\"HOME\"] = d[\"HOME\"].rolling(7).median()\n",
    "    d[\"WORK\"] = d[\"WORK\"].rolling(7).median()\n",
    "    d[\"RECREATIONAL\"] = d[\"RECREATIONAL\"].rolling(7).median()\n",
    "    d[\"OTHER\"] = d[\"OTHER\"].rolling(7).median()\n",
    "\n",
    "    processed_dfs.append(d)\n",
    "    \n",
    "mobility_data_us = pd.concat(processed_dfs)"
   ]
  },
  {
   "cell_type": "markdown",
   "id": "fleet-toyota",
   "metadata": {},
   "source": [
    "## Cases"
   ]
  },
  {
   "cell_type": "code",
   "execution_count": 3,
   "id": "derived-token",
   "metadata": {},
   "outputs": [],
   "source": [
    "# COVID Cases from Microsoft, includes Recovered and Infected\n",
    "ms_covid = pd.read_csv(\n",
    "    \"./Data/Microsoft/COVID_CASES.csv\", \n",
    "    encoding=\"ISO-8859-1\",\n",
    "    parse_dates=[\"Updated\"],\n",
    "    dayfirst=False\n",
    ")\n",
    "ms_us_covid = ms_covid[\n",
    "    (ms_covid[\"Country_Region\"]==\"United States\") & \n",
    "    (~ms_covid[\"AdminRegion1\"].isnull()) &\n",
    "    (ms_covid[\"AdminRegion2\"].isnull())\n",
    "]\n",
    "ms_us_covid = ms_us_covid.loc[:,[\"AdminRegion1\", \"Updated\", \"Confirmed\", \"ConfirmedChange\", \"Deaths\", \"Recovered\"]]\n",
    "ms_us_covid.rename(columns={\"AdminRegion1\": \"state\"}, inplace=True)\n",
    "ms_us_covid.reset_index(drop=True, inplace=True)\n",
    "population = pd.read_excel(\n",
    "    \"./Data/Population/US_population_raw_data.xls\",\n",
    ")\n",
    "STATE_POPULATION = dict(zip(population[1:].Location, population[1:].COVIDTotal))\n",
    "\n",
    "processed_dfs = []\n",
    "\n",
    "for state in ms_us_covid[\"state\"].unique():\n",
    "    d = ms_us_covid[ms_us_covid[\"state\"] == state]\n",
    "    d = d.fillna(method='ffill').fillna(0)\n",
    "    d[\"I\"] = d[\"Confirmed\"] - d[\"Deaths\"] - d[\"Recovered\"]\n",
    "\n",
    "    d[\"S\"] = int(STATE_POPULATION[state]) - d[\"I\"]\n",
    "\n",
    "    d[\"ConfirmedChange\"] = np.log(d[\"ConfirmedChange\"].rolling(7).median()+1)\n",
    "    d[\"I\"] = np.log(d[\"I\"].rolling(7).median()+1)\n",
    "    d[\"S\"] = np.log(d[\"S\"].rolling(7).median()+1)\n",
    "\n",
    "    d.dropna(inplace=True)\n",
    "    processed_dfs.append(d)\n",
    "    \n",
    "ms_us_covid = pd.concat(processed_dfs)\n",
    "ms_us_covid[\"WEEKDAY\"] = (ms_us_covid[\"Updated\"].dt.dayofweek < 5).astype(int)\n",
    "ms_us_covid[\"index\"] = ms_us_covid[\"Updated\"].dt.dayofyear"
   ]
  },
  {
   "cell_type": "markdown",
   "id": "satisfactory-decrease",
   "metadata": {},
   "source": [
    "## Merge"
   ]
  },
  {
   "cell_type": "code",
   "execution_count": 4,
   "id": "quick-original",
   "metadata": {},
   "outputs": [],
   "source": [
    "final_data = ms_us_covid.merge(\n",
    "    mobility_data_us, how='left', left_on=[\"state\", \"Updated\"], right_on=[\"state\", \"date\"]\n",
    ")\n",
    "final_data.dropna(inplace=True)\n",
    "final_data.set_index(\"state\", inplace=True)"
   ]
  },
  {
   "cell_type": "code",
   "execution_count": 5,
   "id": "manual-manitoba",
   "metadata": {},
   "outputs": [],
   "source": [
    "final_data.to_pickle(\"tmp/final_data.pkl\")"
   ]
  },
  {
   "cell_type": "markdown",
   "id": "local-person",
   "metadata": {},
   "source": [
    "# Model"
   ]
  },
  {
   "cell_type": "code",
   "execution_count": 6,
   "id": "guilty-connecticut",
   "metadata": {},
   "outputs": [],
   "source": [
    "from model import COVIDGPModel"
   ]
  },
  {
   "cell_type": "code",
   "execution_count": 7,
   "id": "prostate-launch",
   "metadata": {},
   "outputs": [],
   "source": [
    "def run_for_state(name, data):\n",
    "    data = data.copy()\n",
    "    data.reset_index(inplace=True, drop=True)\n",
    "    t = data[[\"Updated\"]]\n",
    "    y = data[[\"ConfirmedChange\"]]\n",
    "    X = pd.DataFrame({\n",
    "        \"index\": data[\"index\"],\n",
    "        \"S\": data[\"S\"],\n",
    "        \"I\": data[\"I\"],\n",
    "        \"HOME\": data[\"HOME\"],\n",
    "        \"WORK\": data[\"WORK\"],\n",
    "        \"RECREATIONAL\": data[\"RECREATIONAL\"],\n",
    "    }, index=data.index)[[\n",
    "        \"index\",\n",
    "        \"S\",\n",
    "        \"I\",\n",
    "        \"HOME\", \n",
    "        \"WORK\", \n",
    "        \"RECREATIONAL\"\n",
    "    ]]\n",
    "\n",
    "    model_params = {\n",
    "        'kernel': (\n",
    "            gpflow.kernels.SquaredExponential(lengthscales=np.ones(X.shape[1])) +\n",
    "            gpflow.kernels.Linear() +\n",
    "            gpflow.kernels.RationalQuadratic(lengthscales=np.ones(X.shape[1]))\n",
    "        )\n",
    "    }\n",
    "\n",
    "    y_scaler = preprocessing.StandardScaler().fit(y)\n",
    "    y_train = y_scaler.transform(y)\n",
    "\n",
    "    x_scaler = preprocessing.StandardScaler().fit(X)\n",
    "    X_train = x_scaler.transform(X)\n",
    "\n",
    "    model = COVIDGPModel(name, **model_params)\n",
    "    model.train(X_train, y_train)\n",
    "\n",
    "    mean_train, var_train = model.predict(X_train)\n",
    "    y_train_pred = y_scaler.inverse_transform(mean_train.numpy())\n",
    "    y_train_true = y_scaler.inverse_transform(y_train)\n",
    "\n",
    "    res = y_train_true - y_train_pred\n",
    "    \n",
    "    return model, res"
   ]
  },
  {
   "cell_type": "code",
   "execution_count": null,
   "id": "proper-religious",
   "metadata": {},
   "outputs": [],
   "source": [
    "results_states = {}\n",
    "for state in final_data.index.unique():\n",
    "    data = final_data.loc[state]\n",
    "    results_states[state] = run_for_state(state, data)"
   ]
  },
  {
   "cell_type": "code",
   "execution_count": null,
   "id": "vocal-angel",
   "metadata": {},
   "outputs": [],
   "source": [
    "pickle.dump(results_states, open('tmp/trained_models_states.pkl', 'wb'))"
   ]
  },
  {
   "cell_type": "code",
   "execution_count": null,
   "id": "painful-blanket",
   "metadata": {},
   "outputs": [],
   "source": [
    "N = len(results_states)\n",
    "fig, axs = plt.subplots(N // 3 + 1, 3, sharex=True, sharey=True, figsize=(20, 20))\n",
    "for i, (s, (_, r)) in enumerate(results_states.items()):\n",
    "    ax = axs[i//3, i % 3]\n",
    "    ax.plot(r)\n",
    "    ax.set_title(s)"
   ]
  }
 ],
 "metadata": {
  "kernelspec": {
   "display_name": "Python 3",
   "language": "python",
   "name": "python3"
  },
  "language_info": {
   "codemirror_mode": {
    "name": "ipython",
    "version": 3
   },
   "file_extension": ".py",
   "mimetype": "text/x-python",
   "name": "python",
   "nbconvert_exporter": "python",
   "pygments_lexer": "ipython3",
   "version": "3.8.7"
  }
 },
 "nbformat": 4,
 "nbformat_minor": 5
}
