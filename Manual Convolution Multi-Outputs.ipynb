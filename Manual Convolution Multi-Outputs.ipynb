{
 "cells": [
  {
   "cell_type": "code",
   "execution_count": 1,
   "id": "continued-support",
   "metadata": {
    "scrolled": true
   },
   "outputs": [
    {
     "name": "stderr",
     "output_type": "stream",
     "text": [
      "/Users/leo/.pyenv/versions/3.8.7/envs/covid/lib/python3.8/site-packages/pandas/compat/__init__.py:97: UserWarning: Could not import the lzma module. Your installed Python is incomplete. Attempting to use lzma compression will result in a RuntimeError.\n",
      "  warnings.warn(msg)\n",
      "<ipython-input-1-c9d6d75d7f0f>:21: FutureWarning: Passing a negative integer is deprecated in version 1.0 and will not be supported in future version. Instead, use None to not limit the column width.\n",
      "  pd.set_option('display.max_colwidth', -1)\n"
     ]
    }
   ],
   "source": [
    "import pandas as pd\n",
    "from itertools import cycle\n",
    "import gpflow\n",
    "import numpy as np\n",
    "from gpflow.utilities import print_summary, positive\n",
    "from gpflow.ci_utils import ci_niter\n",
    "from gpflow.optimizers import NaturalGradient\n",
    "from gpflow import set_trainable\n",
    "import tensorflow as tf\n",
    "import tensorflow_probability as tfp\n",
    "import matplotlib.pyplot as plt\n",
    "import seaborn as sns\n",
    "from sklearn import preprocessing\n",
    "from sklearn.model_selection import train_test_split\n",
    "from collections import namedtuple\n",
    "import statsmodels.api as sm\n",
    "\n",
    "sns.set(style=\"white\")\n",
    "pd.set_option('display.max_columns', None)\n",
    "pd.set_option('display.width', None)\n",
    "pd.set_option('display.max_colwidth', -1)\n",
    "\n",
    "gpflow.config.set_default_float(np.float64)\n",
    "gpflow.config.set_default_summary_fmt(\"notebook\")"
   ]
  },
  {
   "cell_type": "markdown",
   "id": "emotional-processor",
   "metadata": {},
   "source": [
    "# Dataset"
   ]
  },
  {
   "cell_type": "markdown",
   "id": "filled-acting",
   "metadata": {},
   "source": [
    "## Mobility"
   ]
  },
  {
   "cell_type": "code",
   "execution_count": 2,
   "id": "interstate-policy",
   "metadata": {},
   "outputs": [
    {
     "name": "stderr",
     "output_type": "stream",
     "text": [
      "/Users/leo/.pyenv/versions/3.8.7/envs/covid/lib/python3.8/site-packages/IPython/core/interactiveshell.py:3165: DtypeWarning: Columns (4) have mixed types.Specify dtype option on import or set low_memory=False.\n",
      "  has_raised = await self.run_ast_nodes(code_ast.body, cell_name,\n"
     ]
    }
   ],
   "source": [
    "mobility_data = pd.read_csv(\n",
    "    \"./Data/Google/Global_Mobility_Report.csv\", \n",
    "    encoding=\"ISO-8859-1\", \n",
    "    parse_dates=[\"date\"],\n",
    "    dayfirst=True\n",
    ")\n",
    "mobility_data_us = mobility_data[\n",
    "    (mobility_data[\"country_region\"]==\"United States\") & \n",
    "    (~mobility_data[\"sub_region_1\"].isnull()) &\n",
    "    (mobility_data[\"sub_region_2\"].isnull())\n",
    "]\n",
    "mobility_data_us_temp = mobility_data_us.iloc[:,7:] # keep only relevant columns\n",
    "mobility_data_us_temp[\"state\"] = mobility_data_us[\"sub_region_1\"]\n",
    "mobility_data_us_temp.iloc[:,1:-1] = mobility_data_us_temp.iloc[:,1:-1].apply(lambda x: x/100 + 1)\n",
    "mobility_data_us =  mobility_data_us_temp.reset_index(drop=True)\n",
    "mobility_data_us = pd.DataFrame({\n",
    "    \"state\": mobility_data_us[\"state\"],\n",
    "    \"date\": mobility_data_us[\"date\"],\n",
    "    \"HOME\": mobility_data_us['residential_percent_change_from_baseline'],\n",
    "    \"WORK\": mobility_data_us['workplaces_percent_change_from_baseline'],\n",
    "    \"RECREATIONAL\": mobility_data_us['retail_and_recreation_percent_change_from_baseline'],\n",
    "    \"OTHER\": mobility_data_us.iloc[:,2:5].mean(axis=1)\n",
    "})\n",
    "\n",
    "processed_dfs = []\n",
    "\n",
    "for state in mobility_data_us[\"state\"].unique():\n",
    "    d = mobility_data_us[mobility_data_us[\"state\"] == state].copy()\n",
    "    \n",
    "    d[\"HOME\"] = d[\"HOME\"].rolling(7).median()\n",
    "    d[\"WORK\"] = d[\"WORK\"].rolling(7).median()\n",
    "    d[\"RECREATIONAL\"] = d[\"RECREATIONAL\"].rolling(7).median()\n",
    "    d[\"OTHER\"] = d[\"OTHER\"].rolling(7).median()\n",
    "\n",
    "    processed_dfs.append(d)\n",
    "    \n",
    "mobility_data_us = pd.concat(processed_dfs)"
   ]
  },
  {
   "cell_type": "markdown",
   "id": "broke-burning",
   "metadata": {},
   "source": [
    "## Cases"
   ]
  },
  {
   "cell_type": "code",
   "execution_count": 3,
   "id": "bright-association",
   "metadata": {},
   "outputs": [],
   "source": [
    "# COVID Cases from Microsoft, includes Recovered and Infected\n",
    "ms_covid = pd.read_csv(\n",
    "    \"./Data/Microsoft/COVID_CASES.csv\", \n",
    "    encoding=\"ISO-8859-1\",\n",
    "    parse_dates=[\"Updated\"],\n",
    "    dayfirst=False\n",
    ")\n",
    "ms_us_covid = ms_covid[\n",
    "    (ms_covid[\"Country_Region\"]==\"United States\") & \n",
    "    (~ms_covid[\"AdminRegion1\"].isnull()) &\n",
    "    (ms_covid[\"AdminRegion2\"].isnull())\n",
    "]\n",
    "ms_us_covid = ms_us_covid.loc[:,[\"AdminRegion1\", \"Updated\", \"Confirmed\", \"ConfirmedChange\", \"Deaths\", \"Recovered\"]]\n",
    "ms_us_covid.rename(columns={\"AdminRegion1\": \"state\"}, inplace=True)\n",
    "ms_us_covid.reset_index(drop=True, inplace=True)\n",
    "population = pd.read_excel(\n",
    "    \"./Data/Population/US_population_raw_data.xls\",\n",
    ")\n",
    "STATE_POPULATION = dict(zip(population[1:].Location, population[1:].COVIDTotal))\n",
    "\n",
    "processed_dfs = []\n",
    "\n",
    "for state in ms_us_covid[\"state\"].unique():\n",
    "    d = ms_us_covid[ms_us_covid[\"state\"] == state]\n",
    "    d = d.fillna(method='ffill').fillna(0)\n",
    "    d[\"I\"] = d[\"Confirmed\"] - d[\"Deaths\"] - d[\"Recovered\"]\n",
    "\n",
    "    d[\"S\"] = int(STATE_POPULATION[state]) - d[\"I\"]\n",
    "\n",
    "    d[\"ConfirmedChange\"] = np.log(d[\"ConfirmedChange\"].rolling(7).median()+1)\n",
    "    d[\"I\"] = np.log(d[\"I\"].rolling(7).median()+1)\n",
    "    d[\"S\"] = np.log(d[\"S\"].rolling(7).median()+1)\n",
    "\n",
    "    d.dropna(inplace=True)\n",
    "    processed_dfs.append(d)\n",
    "    \n",
    "ms_us_covid = pd.concat(processed_dfs)\n",
    "ms_us_covid[\"WEEKDAY\"] = (ms_us_covid[\"Updated\"].dt.dayofweek < 5).astype(int)\n",
    "ms_us_covid[\"index\"] = ms_us_covid[\"Updated\"].dt.dayofyear"
   ]
  },
  {
   "cell_type": "markdown",
   "id": "german-exemption",
   "metadata": {},
   "source": [
    "## Merge"
   ]
  },
  {
   "cell_type": "code",
   "execution_count": 4,
   "id": "activated-fleet",
   "metadata": {},
   "outputs": [],
   "source": [
    "final_data = ms_us_covid.merge(\n",
    "    mobility_data_us, how='left', left_on=[\"state\", \"Updated\"], right_on=[\"state\", \"date\"]\n",
    ")\n",
    "final_data.dropna(inplace=True)\n",
    "final_data.set_index(\"state\", inplace=True)"
   ]
  },
  {
   "cell_type": "markdown",
   "id": "southern-pride",
   "metadata": {},
   "source": [
    "# Model"
   ]
  },
  {
   "cell_type": "code",
   "execution_count": null,
   "id": "prompt-walker",
   "metadata": {},
   "outputs": [],
   "source": [
    "from model import COVIDGPModel"
   ]
  },
  {
   "cell_type": "code",
   "execution_count": null,
   "id": "absolute-bradley",
   "metadata": {},
   "outputs": [],
   "source": [
    "def run_for_state(name, data):\n",
    "    data = data.copy()\n",
    "    data.reset_index(inplace=True, drop=True)\n",
    "    t = data[[\"Updated\"]]\n",
    "    y = data[[\"ConfirmedChange\"]]\n",
    "    X = pd.DataFrame({\n",
    "        \"index\": data[\"index\"],\n",
    "        \"S\": data[\"S\"],\n",
    "        \"I\": data[\"I\"],\n",
    "        \"HOME\": data[\"HOME\"],\n",
    "        \"WORK\": data[\"WORK\"],\n",
    "        \"RECREATIONAL\": data[\"RECREATIONAL\"],\n",
    "    }, index=data.index)[[\n",
    "        \"index\",\n",
    "        \"S\",\n",
    "        \"I\",\n",
    "        \"HOME\", \n",
    "        \"WORK\", \n",
    "        \"RECREATIONAL\"\n",
    "    ]]\n",
    "\n",
    "    model_params = {\n",
    "        'kernel': (\n",
    "            gpflow.kernels.SquaredExponential(lengthscales=np.ones(X.shape[1])) +\n",
    "            gpflow.kernels.Linear() +\n",
    "            gpflow.kernels.RationalQuadratic(lengthscales=np.ones(X.shape[1]))\n",
    "        )\n",
    "    }\n",
    "\n",
    "    y_scaler = preprocessing.StandardScaler().fit(y)\n",
    "    y_train = y_scaler.transform(y)\n",
    "\n",
    "    x_scaler = preprocessing.StandardScaler().fit(X)\n",
    "    X_train = x_scaler.transform(X)\n",
    "\n",
    "    model = COVIDGPModel(name, **model_params)\n",
    "    model.train(X_train, y_train)\n",
    "\n",
    "    mean_train, var_train = model.predict(X_train)\n",
    "    y_train_pred = y_scaler.inverse_transform(mean_train.numpy())\n",
    "    y_train_true = y_scaler.inverse_transform(y_train)\n",
    "\n",
    "    res = y_train_true - y_train_pred\n",
    "    \n",
    "    return model, res"
   ]
  },
  {
   "cell_type": "code",
   "execution_count": null,
   "id": "resident-youth",
   "metadata": {},
   "outputs": [],
   "source": [
    "results_states = {}\n",
    "for state in final_data.index.unique():\n",
    "    data = final_data.loc[state]\n",
    "    results_states[state] = run_for_state(state, data)"
   ]
  },
  {
   "cell_type": "code",
   "execution_count": null,
   "id": "regular-cotton",
   "metadata": {},
   "outputs": [],
   "source": [
    "import dill as pickle\n",
    "pickle.dump(results_states, open('tmp/trained_models_states.pkl', 'wb'))"
   ]
  },
  {
   "cell_type": "code",
   "execution_count": 5,
   "id": "higher-fruit",
   "metadata": {},
   "outputs": [],
   "source": [
    "import dill as pickle\n",
    "results_states = pickle.load(open('tmp/trained_models_states.pkl', 'rb'))"
   ]
  },
  {
   "cell_type": "code",
   "execution_count": 359,
   "id": "hearing-burton",
   "metadata": {},
   "outputs": [
    {
     "data": {
      "text/plain": [
       "[<matplotlib.lines.Line2D at 0x190e215e0>]"
      ]
     },
     "execution_count": 359,
     "metadata": {},
     "output_type": "execute_result"
    },
    {
     "data": {
      "image/png": "[encoded data removed]",
      "text/plain": [
       "<Figure size 432x288 with 1 Axes>"
      ]
     },
     "metadata": {},
     "output_type": "display_data"
    }
   ],
   "source": [
    "plt.plot([v[1] for v in results_states.values()][10])"
   ]
  },
  {
   "cell_type": "markdown",
   "id": "commercial-pattern",
   "metadata": {},
   "source": [
    "## White noise"
   ]
  },
  {
   "cell_type": "code",
   "execution_count": 6,
   "id": "smoking-prototype",
   "metadata": {},
   "outputs": [
    {
     "data": {
      "text/html": [
       "<div>\n",
       "<style scoped>\n",
       "    .dataframe tbody tr th:only-of-type {\n",
       "        vertical-align: middle;\n",
       "    }\n",
       "\n",
       "    .dataframe tbody tr th {\n",
       "        vertical-align: top;\n",
       "    }\n",
       "\n",
       "    .dataframe thead th {\n",
       "        text-align: right;\n",
       "    }\n",
       "</style>\n",
       "<table border=\"1\" class=\"dataframe\">\n",
       "  <thead>\n",
       "    <tr style=\"text-align: right;\">\n",
       "      <th></th>\n",
       "      <th>Updated</th>\n",
       "      <th>Residual</th>\n",
       "    </tr>\n",
       "  </thead>\n",
       "  <tbody>\n",
       "    <tr>\n",
       "      <th>0</th>\n",
       "      <td>2020-02-21</td>\n",
       "      <td>-1.085631</td>\n",
       "    </tr>\n",
       "    <tr>\n",
       "      <th>1</th>\n",
       "      <td>2020-02-22</td>\n",
       "      <td>0.997345</td>\n",
       "    </tr>\n",
       "    <tr>\n",
       "      <th>2</th>\n",
       "      <td>2020-02-23</td>\n",
       "      <td>0.282978</td>\n",
       "    </tr>\n",
       "    <tr>\n",
       "      <th>3</th>\n",
       "      <td>2020-02-24</td>\n",
       "      <td>-1.506295</td>\n",
       "    </tr>\n",
       "    <tr>\n",
       "      <th>4</th>\n",
       "      <td>2020-02-25</td>\n",
       "      <td>-0.578600</td>\n",
       "    </tr>\n",
       "  </tbody>\n",
       "</table>\n",
       "</div>"
      ],
      "text/plain": [
       "     Updated  Residual\n",
       "0 2020-02-21 -1.085631\n",
       "1 2020-02-22  0.997345\n",
       "2 2020-02-23  0.282978\n",
       "3 2020-02-24 -1.506295\n",
       "4 2020-02-25 -0.578600"
      ]
     },
     "execution_count": 6,
     "metadata": {},
     "output_type": "execute_result"
    }
   ],
   "source": [
    "np.random.seed(123)\n",
    "dates = pd.date_range(final_data[[\"Updated\"]].min().values[0], final_data[[\"Updated\"]].max().values[0]).values\n",
    "u0 = np.random.normal(size=len(dates))\n",
    "\n",
    "u0 = pd.DataFrame({\"Updated\": dates, \"Residual\": u0})\n",
    "u0.head()"
   ]
  },
  {
   "cell_type": "code",
   "execution_count": 7,
   "id": "indian-plasma",
   "metadata": {},
   "outputs": [
    {
     "data": {
      "text/plain": [
       "<AxesSubplot:>"
      ]
     },
     "execution_count": 7,
     "metadata": {},
     "output_type": "execute_result"
    },
    {
     "data": {
      "image/png": "[encoded data removed]",
      "text/plain": [
       "<Figure size 432x288 with 1 Axes>"
      ]
     },
     "metadata": {},
     "output_type": "display_data"
    }
   ],
   "source": [
    "u0[\"Residual\"].plot()"
   ]
  },
  {
   "cell_type": "markdown",
   "id": "facial-adams",
   "metadata": {},
   "source": [
    "## $h_.(t)$ linear filters"
   ]
  },
  {
   "cell_type": "code",
   "execution_count": 8,
   "id": "settled-scenario",
   "metadata": {},
   "outputs": [],
   "source": [
    "from functools import partial"
   ]
  },
  {
   "cell_type": "code",
   "execution_count": 491,
   "id": "material-basin",
   "metadata": {},
   "outputs": [],
   "source": [
    "linear_filters_states = {}\n",
    "\n",
    "ORDER = 5\n",
    "\n",
    "for state in results_states.keys():\n",
    "    u0_ = u0[u0['Updated'].isin(final_data.loc[state, 'Updated'])]\n",
    "    state_residual = results_states[state][1]\n",
    "    t = u0_[\"Updated\"].index.astype('float').values.reshape(-1, 1)\n",
    "\n",
    "    def _yule_walker(u=None, coeff_=None, sigma_=None):\n",
    "        return np.convolve(coeff_, u, mode=\"same\")\n",
    "\n",
    "    rho_, sigma_ = sm.regression.yule_walker(state_residual, order=ORDER, method=\"mle\")\n",
    "    rho_ = np.array(rho_)[::-1]\n",
    "    linear_filters_states[state] = rho_, partial(\n",
    "        _yule_walker, u=u0_[\"Residual\"].values, coeff_=tuple(rho_), sigma_=sigma_\n",
    "    )\n",
    "        \n",
    "\n",
    "pickle.dump(linear_filters_states, open('tmp/linear_filters_states.pkl', 'wb'))"
   ]
  },
  {
   "cell_type": "code",
   "execution_count": 492,
   "id": "living-summary",
   "metadata": {},
   "outputs": [],
   "source": [
    "linear_filters_states = pickle.load(open('tmp/linear_filters_states.pkl', 'rb'))"
   ]
  },
  {
   "cell_type": "code",
   "execution_count": 493,
   "id": "suspended-briefing",
   "metadata": {},
   "outputs": [],
   "source": [
    "times = None\n",
    "for s in final_data.index.unique():\n",
    "    s_times = set(final_data.loc[s, 'Updated'].unique())\n",
    "    if times is None:\n",
    "        times = s_times\n",
    "    else:\n",
    "        times = times.intersection(s_times)"
   ]
  },
  {
   "cell_type": "code",
   "execution_count": 557,
   "id": "initial-grammar",
   "metadata": {},
   "outputs": [],
   "source": [
    "u0_ = u0[u0['Updated'].isin(times)]['Residual'].values\n",
    "T = u0_.shape[0]\n",
    "t = np.arange(1, T + 1).reshape(-1, 1)\n",
    "\n",
    "T2 = T - ORDER + 1\n",
    "\n",
    "rhos = np.zeros((T2*N, T2*N))\n",
    "for i, (hX, epsX) in enumerate(linear_filters_states.values()):\n",
    "    for j, (hY, epsY) in enumerate(linear_filters_states.values()):\n",
    "        hYi = hY[::-1]  \n",
    "        for s in range(hYi.shape[0]):\n",
    "            hYis = hYi[s:]\n",
    "            rho = np.convolve(hX, hYis, mode=\"valid\")\n",
    "            rhos[(i+1)*T2-rho.shape[0]:(i+1)*T2, (j+1)*T2-s-1] = rho"
   ]
  },
  {
   "cell_type": "code",
   "execution_count": 565,
   "id": "spatial-vampire",
   "metadata": {},
   "outputs": [
    {
     "data": {
      "text/plain": [
       "array([[ 0.        ,  0.        ,  0.        ,  0.        ],\n",
       "       [ 0.        ,  0.        ,  0.        ,  0.        ],\n",
       "       [ 0.        ,  0.        ,  0.        ,  0.        ],\n",
       "       [ 0.        ,  0.        ,  0.        ,  0.        ],\n",
       "       [ 0.02714221,  0.        ,  0.        ,  0.        ],\n",
       "       [-0.01671714,  0.05469098,  0.        ,  0.        ],\n",
       "       [ 0.03318104, -0.0398453 ,  0.07410788,  0.        ],\n",
       "       [ 0.00707625, -0.05920518,  0.03771614,  0.38392972]])"
      ]
     },
     "execution_count": 565,
     "metadata": {},
     "output_type": "execute_result"
    }
   ],
   "source": [
    "rhos[140:148,144:148]"
   ]
  },
  {
   "cell_type": "code",
   "execution_count": 541,
   "id": "built-pension",
   "metadata": {},
   "outputs": [
    {
     "data": {
      "text/plain": [
       "(2516, 2516)"
      ]
     },
     "execution_count": 541,
     "metadata": {},
     "output_type": "execute_result"
    }
   ],
   "source": [
    "rhos.shape"
   ]
  },
  {
   "cell_type": "markdown",
   "id": "comfortable-viewer",
   "metadata": {},
   "source": [
    "## Gram Matrix"
   ]
  },
  {
   "cell_type": "code",
   "execution_count": 566,
   "id": "square-telling",
   "metadata": {},
   "outputs": [],
   "source": [
    "def prepare_data_for_state(data):\n",
    "    data = data.copy()\n",
    "    data.reset_index(inplace=True)\n",
    "    t = data[[\"Updated\"]]\n",
    "    y = data[[\"Updated\", \"ConfirmedChange\"]]\n",
    "    X = pd.DataFrame({\n",
    "        \"Updated\": data[\"Updated\"],\n",
    "        \"state\": data[\"state\"].apply(lambda v: list(results_states.keys()).index(v)),\n",
    "        \"index\": data[\"index\"],\n",
    "        \"S\": data[\"S\"],\n",
    "        \"I\": data[\"I\"],\n",
    "        \"HOME\": data[\"HOME\"],\n",
    "        \"WORK\": data[\"WORK\"],\n",
    "        \"RECREATIONAL\": data[\"RECREATIONAL\"],\n",
    "    }, index=data.index)[[\n",
    "        \"Updated\",\n",
    "        \"state\",\n",
    "        \"index\",\n",
    "        \"S\",\n",
    "        \"I\",\n",
    "        \"HOME\", \n",
    "        \"WORK\", \n",
    "        \"RECREATIONAL\"\n",
    "    ]]\n",
    "    return X, y"
   ]
  },
  {
   "cell_type": "code",
   "execution_count": 567,
   "id": "swiss-causing",
   "metadata": {},
   "outputs": [],
   "source": [
    "ks = np.zeros((T2*N, T2))\n",
    "\n",
    "final_data_ = final_data[final_data['Updated'].isin(times)]\n",
    "\n",
    "for i, (s, (m, _r)) in enumerate(results_states.items()):\n",
    "    data = final_data_.loc[s]\n",
    "    X, _y = prepare_data_for_state(data)\n",
    "    ks[i*T2:(i+1)*T2] = m.kernel((X.drop(columns=[\"Updated\", \"index\"]).values[ORDER-1:]))\n",
    "    \n",
    "\n",
    "ks = np.repeat(ks, N, axis=1)"
   ]
  },
  {
   "cell_type": "code",
   "execution_count": 568,
   "id": "fixed-throat",
   "metadata": {},
   "outputs": [],
   "source": [
    "M = ks + rhos"
   ]
  },
  {
   "cell_type": "code",
   "execution_count": 569,
   "id": "thermal-proposal",
   "metadata": {},
   "outputs": [
    {
     "data": {
      "text/plain": [
       "(2516, 2516)"
      ]
     },
     "execution_count": 569,
     "metadata": {},
     "output_type": "execute_result"
    }
   ],
   "source": [
    "M.shape"
   ]
  },
  {
   "cell_type": "code",
   "execution_count": 570,
   "id": "specific-webmaster",
   "metadata": {},
   "outputs": [
    {
     "data": {
      "text/plain": [
       "163"
      ]
     },
     "execution_count": 570,
     "metadata": {},
     "output_type": "execute_result"
    }
   ],
   "source": [
    "np.linalg.matrix_rank(M)"
   ]
  },
  {
   "cell_type": "code",
   "execution_count": 571,
   "id": "automotive-ownership",
   "metadata": {},
   "outputs": [
    {
     "data": {
      "text/plain": [
       "0.0"
      ]
     },
     "execution_count": 571,
     "metadata": {},
     "output_type": "execute_result"
    }
   ],
   "source": [
    "np.linalg.det(M)"
   ]
  },
  {
   "cell_type": "code",
   "execution_count": 572,
   "id": "respected-recall",
   "metadata": {},
   "outputs": [
    {
     "data": {
      "text/plain": [
       "(-202.1455960043138-0j)"
      ]
     },
     "execution_count": 572,
     "metadata": {},
     "output_type": "execute_result"
    }
   ],
   "source": [
    "e_val, e_vec = np.linalg.eig(M)\n",
    "np.max(e_val) / np.min(e_val)"
   ]
  },
  {
   "cell_type": "code",
   "execution_count": 573,
   "id": "mental-doubt",
   "metadata": {},
   "outputs": [],
   "source": [
    "M_reshaped = np.zeros((T2, N, T2, N))\n",
    "\n",
    "for i in range(N):\n",
    "    for j in range(N):\n",
    "        v = M[i*T2:(i+1)*T2, j*T2:(j+1)*T2]\n",
    "        M_reshaped[:, i, :, j] = v"
   ]
  },
  {
   "cell_type": "code",
   "execution_count": 574,
   "id": "prompt-horizon",
   "metadata": {},
   "outputs": [
    {
     "data": {
      "text/plain": [
       "(148, 17, 148, 17)"
      ]
     },
     "execution_count": 574,
     "metadata": {},
     "output_type": "execute_result"
    }
   ],
   "source": [
    "M_reshaped.shape"
   ]
  },
  {
   "cell_type": "markdown",
   "id": "running-olive",
   "metadata": {},
   "source": [
    "# GPFlow"
   ]
  },
  {
   "cell_type": "code",
   "execution_count": 164,
   "id": "announced-abuse",
   "metadata": {},
   "outputs": [
    {
     "data": {
      "text/plain": [
       "Index(['Alaska', 'Alabama', 'Arkansas', 'Arizona', 'California', 'Colorado',\n",
       "       'Connecticut', 'District of Columbia', 'Delaware', 'Florida', 'Georgia',\n",
       "       'Hawaii', 'Iowa', 'Idaho', 'Illinois', 'Indiana', 'Kansas'],\n",
       "      dtype='object', name='state')"
      ]
     },
     "execution_count": 164,
     "metadata": {},
     "output_type": "execute_result"
    }
   ],
   "source": [
    "final_data.index.unique()"
   ]
  },
  {
   "cell_type": "code",
   "execution_count": 281,
   "id": "according-amsterdam",
   "metadata": {},
   "outputs": [],
   "source": [
    "multi_X, multi_y = None, None\n",
    "\n",
    "final_data_ = final_data[final_data['Updated'].isin(list(sorted(times))[ORDER-1:])]\n",
    "\n",
    "for s in results_states.keys():\n",
    "    data = final_data_.loc[s]\n",
    "    X, y = prepare_data_for_state(data)\n",
    "    \n",
    "    if multi_X is None:\n",
    "        multi_X, multi_y = X, y\n",
    "        prev_suffix = f\"_{s}\"\n",
    "    else:\n",
    "        suffixes, prev_suffix = (prev_suffix, f\"_{s}\"), \"\"\n",
    "        multi_X = pd.merge(multi_X, X, left_on=\"Updated\", right_on=\"Updated\", suffixes=suffixes)\n",
    "        multi_y = pd.merge(multi_y, y, left_on=\"Updated\", right_on=\"Updated\", suffixes=suffixes)\n",
    "    \n",
    "multi_X = multi_X.dropna().drop(columns=[\"Updated\"])\n",
    "multi_y = multi_y.dropna().drop(columns=[\"Updated\"])"
   ]
  },
  {
   "cell_type": "code",
   "execution_count": 282,
   "id": "signed-diabetes",
   "metadata": {},
   "outputs": [
    {
     "data": {
      "text/plain": [
       "((148, 119), (148, 17))"
      ]
     },
     "execution_count": 282,
     "metadata": {},
     "output_type": "execute_result"
    }
   ],
   "source": [
    "multi_X.shape, multi_y.shape"
   ]
  },
  {
   "cell_type": "code",
   "execution_count": 283,
   "id": "manufactured-glory",
   "metadata": {},
   "outputs": [],
   "source": [
    "multi_X_vals = multi_X.values\n",
    "multi_y_vals = multi_y.values"
   ]
  },
  {
   "cell_type": "code",
   "execution_count": 320,
   "id": "first-ethnic",
   "metadata": {},
   "outputs": [],
   "source": [
    "class ManualConvolutionMultiOutput(gpflow.kernels.multioutput.kernels.MultioutputKernel):\n",
    "    def __init__(self, results_states, gram_matrix):\n",
    "        super().__init__()\n",
    "        self.results_states = results_states\n",
    "        self.gram_matrix = tf.convert_to_tensor(gram_matrix, dtype=tf.float64)\n",
    "    \n",
    "    @property\n",
    "    def num_latent_gps(self):\n",
    "        \"\"\"The number of latent GPs in the multioutput kernel\"\"\"\n",
    "        return 17\n",
    "\n",
    "    @property\n",
    "    def latent_kernels(self):\n",
    "        \"\"\"The underlying kernels in the multioutput kernel\"\"\"\n",
    "        return tuple(v[0].kernel for v in self.results_states.values())\n",
    "    \n",
    "    def __call__(self, X, X2=None, *, full_cov=False, full_output_cov=True, presliced=False):\n",
    "        if not presliced:\n",
    "            X, X2 = self.slice(X, X2)\n",
    "        if not full_cov and X2 is not None:\n",
    "            raise ValueError(\n",
    "                \"Ambiguous inputs: passing in `X2` is not compatible with `full_cov=False`.\"\n",
    "            )\n",
    "        if not full_cov:\n",
    "            return self.K_diag(X, full_output_cov=full_output_cov)\n",
    "        return self.K(X, X2, full_output_cov=full_output_cov)\n",
    "    \n",
    "    \n",
    "    def K(self, X, X2=None, full_output_cov=True):\n",
    "        \"\"\"\n",
    "        Returns the correlation of f(X) and f(X2), where f(.) can be multi-dimensional.\n",
    "        :param X: data matrix, [N1, D]\n",
    "        :param X2: data matrix, [N2, D]\n",
    "        :param full_output_cov: calculate correlation between outputs.\n",
    "        :return: cov[f(X), f(X2)] with shape\n",
    "        - [N1, P, N2, P] if `full_output_cov` = True\n",
    "        - [P, N1, N2] if `full_output_cov` = False\n",
    "        \"\"\"\n",
    "        if X2 is None:\n",
    "            X2 = X\n",
    "        \n",
    "        T = X.shape[0]\n",
    "        N = len(self.results_states)\n",
    "        \n",
    "#         X_states = {}\n",
    "#         for s in tf.split(X, num_or_size_splits=N, axis=1):\n",
    "#             X_states[list(self.results_states.keys())[int(s[0][0])]] = s[:, 1:]\n",
    "            \n",
    "#         X2_states = {}\n",
    "#         for s in tf.split(X2, num_or_size_splits=N, axis=1):\n",
    "#             X2_states[list(self.results_states.keys())[int(s[0][0])]] = s[:, 1:]\n",
    "        \n",
    "        k = tf.Variable(tf.zeros((T,N,T,N), tf.float64))\n",
    "\n",
    "        for i in range(N):\n",
    "            for j in range(N):\n",
    "                k = k[:, i, :, j].assign(self.gram_matrix[i*T:(i+1)*T, j*T:(j+1)*T])\n",
    "                \n",
    "        return k\n",
    "\n",
    "    def K_diag(self, X, full_output_cov=False):\n",
    "        \"\"\"\n",
    "        Returns the correlation of f(X) and f(X), where f(.) can be multi-dimensional.\n",
    "        :param X: data matrix, [N, D]\n",
    "        :param full_output_cov: calculate correlation between outputs.\n",
    "        :return: var[f(X)] with shape\n",
    "        - [N, P, N, P] if `full_output_cov` = True\n",
    "        - [N, P] if `full_output_cov` = False\n",
    "        \"\"\"\n",
    "        T = X.shape[0]\n",
    "        N = len(self.results_states)\n",
    "\n",
    "#         X_states = {}\n",
    "#         for s in tf.split(X, num_or_size_splits=N, axis=1):\n",
    "#             X_states[list(self.results_states.keys())[int(s[0][0])]] = s[:, 1:]\n",
    "        \n",
    "        k = tf.Variable(tf.zeros((T,N,T,N), tf.float64))\n",
    "\n",
    "        for i in range(N):\n",
    "            for j in range(N):\n",
    "                k = k[:, i, :, j].assign(self.gram_matrix[i*T: (i+1)*T, j*T: (j+1)*T])\n",
    "\n",
    "        return k\n",
    "\n",
    "k_custom = ManualConvolutionMultiOutput(results_states, rhos)"
   ]
  },
  {
   "cell_type": "code",
   "execution_count": null,
   "id": "scheduled-retreat",
   "metadata": {},
   "outputs": [],
   "source": [
    "# class RhosKernel(gpflow.kernels.Kernel):\n",
    "#     def __init__(self, rhos, active_dims=None):\n",
    "#         super().__init__(active_dims)\n",
    "#         self.rhos = tf.convert_to_tensor(rhos, dtype=tf.float64)\n",
    "    \n",
    "#     def K(self, X, X2=None):\n",
    "#         if X2 is None:\n",
    "#             X2 = X\n",
    "        \n",
    "#         T = X.shape[0]\n",
    "        \n",
    "#         state_X_index = int(X[0][0])\n",
    "#         state_X2_index = int(X2[0][0])\n",
    "        \n",
    "#         return self.rhos[\n",
    "#             T*state_X_index : T*(state_X_index+1),\n",
    "#             T*state_X2_index : T*(state_X2_index+1)\n",
    "#         ]\n",
    "\n",
    "#     def K_diag(self, X):\n",
    "        \n",
    "#         state_X_index = int(X[0][0])\n",
    "#         return tf.linalg.diag_part(self.rhos[\n",
    "#             T*state_X_index : T*(state_X_index+1),\n",
    "#             T*state_X_index : T*(state_X_index+1)\n",
    "#         ])\n",
    "        \n",
    "\n",
    "\n",
    "# M = int(multi_X.shape[1] / multi_y.shape[1])\n",
    "        \n",
    "# kern_list = [\n",
    "#     (gpflow.kernels.SquaredExponential(lengthscales=np.ones(M), active_dims=list(range(i, i+M))) * \\\n",
    "#     gpflow.kernels.Linear(active_dims=list(range(i, i+M))) *  \\\n",
    "#     gpflow.kernels.RationalQuadratic(lengthscales=np.ones(M), active_dims=list(range(i, i+M)))) + \n",
    "#     RhosKernel(rhos, active_dims=list(range(i, i+M)))\n",
    "#     for i in range(multi_y.shape[1])\n",
    "# ]\n",
    "\n",
    "# k_custom = gpflow.kernels.SeparateIndependent(kern_list)"
   ]
  },
  {
   "cell_type": "code",
   "execution_count": 339,
   "id": "dimensional-endorsement",
   "metadata": {},
   "outputs": [],
   "source": [
    "Zinit = multi_X_vals[np.random.randint(multi_X_vals.shape[0], size=15), :]\n",
    "\n",
    "iv = [Zinit.copy() for _ in range(multi_y.shape[1])]\n",
    "# iv_list = [gpflow.inducing_variables.InducingPoints(Z) for Z in Zs]\n",
    "\n",
    "# iv = gpflow.inducing_variables.SeparateIndependentInducingVariables(iv_list)"
   ]
  },
  {
   "cell_type": "code",
   "execution_count": 361,
   "id": "immune-disney",
   "metadata": {},
   "outputs": [],
   "source": [
    "m = gpflow.models.VGP(\n",
    "    (multi_X_vals, multi_y_vals),\n",
    "# m = gpflow.models.SVGP(\n",
    "#     inducing_variable=iv,\n",
    "    kernel=k_custom, \n",
    "    likelihood=gpflow.likelihoods.Gaussian(), \n",
    "#     num_latent_gps=multi_y.shape[1],\n",
    ")"
   ]
  },
  {
   "cell_type": "code",
   "execution_count": 362,
   "id": "romantic-physics",
   "metadata": {
    "scrolled": true
   },
   "outputs": [
    {
     "ename": "InvalidArgumentError",
     "evalue": "Incompatible shapes: [148,17,148,17] vs. [148,148] [Op:AddV2]",
     "output_type": "error",
     "traceback": [
      "\u001b[0;31m---------------------------------------------------------------------------\u001b[0m",
      "\u001b[0;31mInvalidArgumentError\u001b[0m                      Traceback (most recent call last)",
      "\u001b[0;32m<ipython-input-362-c6d5ddae50a4>\u001b[0m in \u001b[0;36m<module>\u001b[0;34m\u001b[0m\n\u001b[1;32m     22\u001b[0m \u001b[0;31m#         m.trainable_variables\u001b[0m\u001b[0;34m\u001b[0m\u001b[0;34m\u001b[0m\u001b[0;34m\u001b[0m\u001b[0m\n\u001b[1;32m     23\u001b[0m \u001b[0;31m#     )\u001b[0m\u001b[0;34m\u001b[0m\u001b[0;34m\u001b[0m\u001b[0;34m\u001b[0m\u001b[0m\n\u001b[0;32m---> 24\u001b[0;31m     natgrad_opt.minimize(\n\u001b[0m\u001b[1;32m     25\u001b[0m         \u001b[0mtrain_loss\u001b[0m\u001b[0;34m,\u001b[0m\u001b[0;34m\u001b[0m\u001b[0;34m\u001b[0m\u001b[0m\n\u001b[1;32m     26\u001b[0m         \u001b[0mvariational_params\u001b[0m\u001b[0;34m\u001b[0m\u001b[0;34m\u001b[0m\u001b[0m\n",
      "\u001b[0;32m~/.pyenv/versions/3.8.7/envs/covid/lib/python3.8/site-packages/gpflow/optimizers/natgrad.py\u001b[0m in \u001b[0;36mminimize\u001b[0;34m(self, loss_fn, var_list)\u001b[0m\n\u001b[1;32m    180\u001b[0m         \"\"\"\n\u001b[1;32m    181\u001b[0m         \u001b[0mparameters\u001b[0m \u001b[0;34m=\u001b[0m \u001b[0;34m[\u001b[0m\u001b[0;34m(\u001b[0m\u001b[0mv\u001b[0m\u001b[0;34m[\u001b[0m\u001b[0;36m0\u001b[0m\u001b[0;34m]\u001b[0m\u001b[0;34m,\u001b[0m \u001b[0mv\u001b[0m\u001b[0;34m[\u001b[0m\u001b[0;36m1\u001b[0m\u001b[0;34m]\u001b[0m\u001b[0;34m,\u001b[0m \u001b[0;34m(\u001b[0m\u001b[0mv\u001b[0m\u001b[0;34m[\u001b[0m\u001b[0;36m2\u001b[0m\u001b[0;34m]\u001b[0m \u001b[0;32mif\u001b[0m \u001b[0mlen\u001b[0m\u001b[0;34m(\u001b[0m\u001b[0mv\u001b[0m\u001b[0;34m)\u001b[0m \u001b[0;34m>\u001b[0m \u001b[0;36m2\u001b[0m \u001b[0;32melse\u001b[0m \u001b[0;32mNone\u001b[0m\u001b[0;34m)\u001b[0m\u001b[0;34m)\u001b[0m \u001b[0;32mfor\u001b[0m \u001b[0mv\u001b[0m \u001b[0;32min\u001b[0m \u001b[0mvar_list\u001b[0m\u001b[0;34m]\u001b[0m\u001b[0;34m\u001b[0m\u001b[0;34m\u001b[0m\u001b[0m\n\u001b[0;32m--> 182\u001b[0;31m         \u001b[0mself\u001b[0m\u001b[0;34m.\u001b[0m\u001b[0m_natgrad_steps\u001b[0m\u001b[0;34m(\u001b[0m\u001b[0mloss_fn\u001b[0m\u001b[0;34m,\u001b[0m \u001b[0mparameters\u001b[0m\u001b[0;34m)\u001b[0m\u001b[0;34m\u001b[0m\u001b[0;34m\u001b[0m\u001b[0m\n\u001b[0m\u001b[1;32m    183\u001b[0m \u001b[0;34m\u001b[0m\u001b[0m\n\u001b[1;32m    184\u001b[0m     def _natgrad_steps(\n",
      "\u001b[0;32m~/.pyenv/versions/3.8.7/envs/covid/lib/python3.8/site-packages/gpflow/optimizers/natgrad.py\u001b[0m in \u001b[0;36m_natgrad_steps\u001b[0;34m(self, loss_fn, parameters)\u001b[0m\n\u001b[1;32m    201\u001b[0m         \u001b[0;32mwith\u001b[0m \u001b[0mtf\u001b[0m\u001b[0;34m.\u001b[0m\u001b[0mGradientTape\u001b[0m\u001b[0;34m(\u001b[0m\u001b[0mwatch_accessed_variables\u001b[0m\u001b[0;34m=\u001b[0m\u001b[0;32mFalse\u001b[0m\u001b[0;34m)\u001b[0m \u001b[0;32mas\u001b[0m \u001b[0mtape\u001b[0m\u001b[0;34m:\u001b[0m\u001b[0;34m\u001b[0m\u001b[0;34m\u001b[0m\u001b[0m\n\u001b[1;32m    202\u001b[0m             \u001b[0mtape\u001b[0m\u001b[0;34m.\u001b[0m\u001b[0mwatch\u001b[0m\u001b[0;34m(\u001b[0m\u001b[0mq_mu_vars\u001b[0m \u001b[0;34m+\u001b[0m \u001b[0mq_sqrt_vars\u001b[0m\u001b[0;34m)\u001b[0m\u001b[0;34m\u001b[0m\u001b[0;34m\u001b[0m\u001b[0m\n\u001b[0;32m--> 203\u001b[0;31m             \u001b[0mloss\u001b[0m \u001b[0;34m=\u001b[0m \u001b[0mloss_fn\u001b[0m\u001b[0;34m(\u001b[0m\u001b[0;34m)\u001b[0m\u001b[0;34m\u001b[0m\u001b[0;34m\u001b[0m\u001b[0m\n\u001b[0m\u001b[1;32m    204\u001b[0m \u001b[0;34m\u001b[0m\u001b[0m\n\u001b[1;32m    205\u001b[0m         \u001b[0mq_mu_grads\u001b[0m\u001b[0;34m,\u001b[0m \u001b[0mq_sqrt_grads\u001b[0m \u001b[0;34m=\u001b[0m \u001b[0mtape\u001b[0m\u001b[0;34m.\u001b[0m\u001b[0mgradient\u001b[0m\u001b[0;34m(\u001b[0m\u001b[0mloss\u001b[0m\u001b[0;34m,\u001b[0m \u001b[0;34m[\u001b[0m\u001b[0mq_mu_vars\u001b[0m\u001b[0;34m,\u001b[0m \u001b[0mq_sqrt_vars\u001b[0m\u001b[0;34m]\u001b[0m\u001b[0;34m)\u001b[0m\u001b[0;34m\u001b[0m\u001b[0;34m\u001b[0m\u001b[0m\n",
      "\u001b[0;32m~/.pyenv/versions/3.8.7/envs/covid/lib/python3.8/site-packages/gpflow/models/training_mixins.py\u001b[0m in \u001b[0;36mtraining_loss\u001b[0;34m(self)\u001b[0m\n\u001b[1;32m     61\u001b[0m         \u001b[0mReturns\u001b[0m \u001b[0mthe\u001b[0m \u001b[0mtraining\u001b[0m \u001b[0mloss\u001b[0m \u001b[0;32mfor\u001b[0m \u001b[0mthis\u001b[0m \u001b[0mmodel\u001b[0m\u001b[0;34m.\u001b[0m\u001b[0;34m\u001b[0m\u001b[0;34m\u001b[0m\u001b[0m\n\u001b[1;32m     62\u001b[0m         \"\"\"\n\u001b[0;32m---> 63\u001b[0;31m         \u001b[0;32mreturn\u001b[0m \u001b[0mself\u001b[0m\u001b[0;34m.\u001b[0m\u001b[0m_training_loss\u001b[0m\u001b[0;34m(\u001b[0m\u001b[0;34m)\u001b[0m\u001b[0;34m\u001b[0m\u001b[0;34m\u001b[0m\u001b[0m\n\u001b[0m\u001b[1;32m     64\u001b[0m \u001b[0;34m\u001b[0m\u001b[0m\n\u001b[1;32m     65\u001b[0m     \u001b[0;32mdef\u001b[0m \u001b[0mtraining_loss_closure\u001b[0m\u001b[0;34m(\u001b[0m\u001b[0mself\u001b[0m\u001b[0;34m,\u001b[0m \u001b[0;34m*\u001b[0m\u001b[0;34m,\u001b[0m \u001b[0mcompile\u001b[0m\u001b[0;34m=\u001b[0m\u001b[0;32mTrue\u001b[0m\u001b[0;34m)\u001b[0m \u001b[0;34m->\u001b[0m \u001b[0mCallable\u001b[0m\u001b[0;34m[\u001b[0m\u001b[0;34m[\u001b[0m\u001b[0;34m]\u001b[0m\u001b[0;34m,\u001b[0m \u001b[0mtf\u001b[0m\u001b[0;34m.\u001b[0m\u001b[0mTensor\u001b[0m\u001b[0;34m]\u001b[0m\u001b[0;34m:\u001b[0m\u001b[0;34m\u001b[0m\u001b[0;34m\u001b[0m\u001b[0m\n",
      "\u001b[0;32m~/.pyenv/versions/3.8.7/envs/covid/lib/python3.8/site-packages/gpflow/models/model.py\u001b[0m in \u001b[0;36m_training_loss\u001b[0;34m(self, *args, **kwargs)\u001b[0m\n\u001b[1;32m     55\u001b[0m         \u001b[0madds\u001b[0m \u001b[0mthe\u001b[0m \u001b[0mlog\u001b[0m \u001b[0mdensity\u001b[0m \u001b[0mof\u001b[0m \u001b[0mall\u001b[0m \u001b[0mpriors\u001b[0m \u001b[0mto\u001b[0m \u001b[0mmaximum_log_likelihood_objective\u001b[0m\u001b[0;34m(\u001b[0m\u001b[0;34m)\u001b[0m\u001b[0;34m.\u001b[0m\u001b[0;34m\u001b[0m\u001b[0;34m\u001b[0m\u001b[0m\n\u001b[1;32m     56\u001b[0m         \"\"\"\n\u001b[0;32m---> 57\u001b[0;31m         \u001b[0;32mreturn\u001b[0m \u001b[0;34m-\u001b[0m\u001b[0;34m(\u001b[0m\u001b[0mself\u001b[0m\u001b[0;34m.\u001b[0m\u001b[0mmaximum_log_likelihood_objective\u001b[0m\u001b[0;34m(\u001b[0m\u001b[0;34m*\u001b[0m\u001b[0margs\u001b[0m\u001b[0;34m,\u001b[0m \u001b[0;34m**\u001b[0m\u001b[0mkwargs\u001b[0m\u001b[0;34m)\u001b[0m \u001b[0;34m+\u001b[0m \u001b[0mself\u001b[0m\u001b[0;34m.\u001b[0m\u001b[0mlog_prior_density\u001b[0m\u001b[0;34m(\u001b[0m\u001b[0;34m)\u001b[0m\u001b[0;34m)\u001b[0m\u001b[0;34m\u001b[0m\u001b[0;34m\u001b[0m\u001b[0m\n\u001b[0m\u001b[1;32m     58\u001b[0m \u001b[0;34m\u001b[0m\u001b[0m\n\u001b[1;32m     59\u001b[0m     \u001b[0;34m@\u001b[0m\u001b[0mabc\u001b[0m\u001b[0;34m.\u001b[0m\u001b[0mabstractmethod\u001b[0m\u001b[0;34m\u001b[0m\u001b[0;34m\u001b[0m\u001b[0m\n",
      "\u001b[0;32m~/.pyenv/versions/3.8.7/envs/covid/lib/python3.8/site-packages/gpflow/models/vgp.py\u001b[0m in \u001b[0;36mmaximum_log_likelihood_objective\u001b[0;34m(self)\u001b[0m\n\u001b[1;32m     78\u001b[0m \u001b[0;34m\u001b[0m\u001b[0m\n\u001b[1;32m     79\u001b[0m     \u001b[0;32mdef\u001b[0m \u001b[0mmaximum_log_likelihood_objective\u001b[0m\u001b[0;34m(\u001b[0m\u001b[0mself\u001b[0m\u001b[0;34m)\u001b[0m \u001b[0;34m->\u001b[0m \u001b[0mtf\u001b[0m\u001b[0;34m.\u001b[0m\u001b[0mTensor\u001b[0m\u001b[0;34m:\u001b[0m\u001b[0;34m\u001b[0m\u001b[0;34m\u001b[0m\u001b[0m\n\u001b[0;32m---> 80\u001b[0;31m         \u001b[0;32mreturn\u001b[0m \u001b[0mself\u001b[0m\u001b[0;34m.\u001b[0m\u001b[0melbo\u001b[0m\u001b[0;34m(\u001b[0m\u001b[0;34m)\u001b[0m\u001b[0;34m\u001b[0m\u001b[0;34m\u001b[0m\u001b[0m\n\u001b[0m\u001b[1;32m     81\u001b[0m \u001b[0;34m\u001b[0m\u001b[0m\n\u001b[1;32m     82\u001b[0m     \u001b[0;32mdef\u001b[0m \u001b[0melbo\u001b[0m\u001b[0;34m(\u001b[0m\u001b[0mself\u001b[0m\u001b[0;34m)\u001b[0m \u001b[0;34m->\u001b[0m \u001b[0mtf\u001b[0m\u001b[0;34m.\u001b[0m\u001b[0mTensor\u001b[0m\u001b[0;34m:\u001b[0m\u001b[0;34m\u001b[0m\u001b[0;34m\u001b[0m\u001b[0m\n",
      "\u001b[0;32m~/.pyenv/versions/3.8.7/envs/covid/lib/python3.8/site-packages/gpflow/models/vgp.py\u001b[0m in \u001b[0;36melbo\u001b[0;34m(self)\u001b[0m\n\u001b[1;32m     97\u001b[0m \u001b[0;34m\u001b[0m\u001b[0m\n\u001b[1;32m     98\u001b[0m         \u001b[0;31m# Get conditionals\u001b[0m\u001b[0;34m\u001b[0m\u001b[0;34m\u001b[0m\u001b[0;34m\u001b[0m\u001b[0m\n\u001b[0;32m---> 99\u001b[0;31m         \u001b[0mK\u001b[0m \u001b[0;34m=\u001b[0m \u001b[0mself\u001b[0m\u001b[0;34m.\u001b[0m\u001b[0mkernel\u001b[0m\u001b[0;34m(\u001b[0m\u001b[0mX_data\u001b[0m\u001b[0;34m)\u001b[0m \u001b[0;34m+\u001b[0m \u001b[0mtf\u001b[0m\u001b[0;34m.\u001b[0m\u001b[0meye\u001b[0m\u001b[0;34m(\u001b[0m\u001b[0mself\u001b[0m\u001b[0;34m.\u001b[0m\u001b[0mnum_data\u001b[0m\u001b[0;34m,\u001b[0m \u001b[0mdtype\u001b[0m\u001b[0;34m=\u001b[0m\u001b[0mdefault_float\u001b[0m\u001b[0;34m(\u001b[0m\u001b[0;34m)\u001b[0m\u001b[0;34m)\u001b[0m \u001b[0;34m*\u001b[0m \u001b[0mdefault_jitter\u001b[0m\u001b[0;34m(\u001b[0m\u001b[0;34m)\u001b[0m\u001b[0;34m\u001b[0m\u001b[0;34m\u001b[0m\u001b[0m\n\u001b[0m\u001b[1;32m    100\u001b[0m         \u001b[0mL\u001b[0m \u001b[0;34m=\u001b[0m \u001b[0mtf\u001b[0m\u001b[0;34m.\u001b[0m\u001b[0mlinalg\u001b[0m\u001b[0;34m.\u001b[0m\u001b[0mcholesky\u001b[0m\u001b[0;34m(\u001b[0m\u001b[0mK\u001b[0m\u001b[0;34m)\u001b[0m\u001b[0;34m\u001b[0m\u001b[0;34m\u001b[0m\u001b[0m\n\u001b[1;32m    101\u001b[0m         \u001b[0mfmean\u001b[0m \u001b[0;34m=\u001b[0m \u001b[0mtf\u001b[0m\u001b[0;34m.\u001b[0m\u001b[0mlinalg\u001b[0m\u001b[0;34m.\u001b[0m\u001b[0mmatmul\u001b[0m\u001b[0;34m(\u001b[0m\u001b[0mL\u001b[0m\u001b[0;34m,\u001b[0m \u001b[0mself\u001b[0m\u001b[0;34m.\u001b[0m\u001b[0mq_mu\u001b[0m\u001b[0;34m)\u001b[0m \u001b[0;34m+\u001b[0m \u001b[0mself\u001b[0m\u001b[0;34m.\u001b[0m\u001b[0mmean_function\u001b[0m\u001b[0;34m(\u001b[0m\u001b[0mX_data\u001b[0m\u001b[0;34m)\u001b[0m  \u001b[0;31m# [NN, ND] -> ND\u001b[0m\u001b[0;34m\u001b[0m\u001b[0;34m\u001b[0m\u001b[0m\n",
      "\u001b[0;32m~/.pyenv/versions/3.8.7/envs/covid/lib/python3.8/site-packages/tensorflow/python/ops/variables.py\u001b[0m in \u001b[0;36m_run_op\u001b[0;34m(a, *args, **kwargs)\u001b[0m\n\u001b[1;32m   1072\u001b[0m     \u001b[0;32mdef\u001b[0m \u001b[0m_run_op\u001b[0m\u001b[0;34m(\u001b[0m\u001b[0ma\u001b[0m\u001b[0;34m,\u001b[0m \u001b[0;34m*\u001b[0m\u001b[0margs\u001b[0m\u001b[0;34m,\u001b[0m \u001b[0;34m**\u001b[0m\u001b[0mkwargs\u001b[0m\u001b[0;34m)\u001b[0m\u001b[0;34m:\u001b[0m\u001b[0;34m\u001b[0m\u001b[0;34m\u001b[0m\u001b[0m\n\u001b[1;32m   1073\u001b[0m       \u001b[0;31m# pylint: disable=protected-access\u001b[0m\u001b[0;34m\u001b[0m\u001b[0;34m\u001b[0m\u001b[0;34m\u001b[0m\u001b[0m\n\u001b[0;32m-> 1074\u001b[0;31m       \u001b[0;32mreturn\u001b[0m \u001b[0mtensor_oper\u001b[0m\u001b[0;34m(\u001b[0m\u001b[0ma\u001b[0m\u001b[0;34m.\u001b[0m\u001b[0mvalue\u001b[0m\u001b[0;34m(\u001b[0m\u001b[0;34m)\u001b[0m\u001b[0;34m,\u001b[0m \u001b[0;34m*\u001b[0m\u001b[0margs\u001b[0m\u001b[0;34m,\u001b[0m \u001b[0;34m**\u001b[0m\u001b[0mkwargs\u001b[0m\u001b[0;34m)\u001b[0m\u001b[0;34m\u001b[0m\u001b[0;34m\u001b[0m\u001b[0m\n\u001b[0m\u001b[1;32m   1075\u001b[0m \u001b[0;34m\u001b[0m\u001b[0m\n\u001b[1;32m   1076\u001b[0m     \u001b[0mfunctools\u001b[0m\u001b[0;34m.\u001b[0m\u001b[0mupdate_wrapper\u001b[0m\u001b[0;34m(\u001b[0m\u001b[0m_run_op\u001b[0m\u001b[0;34m,\u001b[0m \u001b[0mtensor_oper\u001b[0m\u001b[0;34m)\u001b[0m\u001b[0;34m\u001b[0m\u001b[0;34m\u001b[0m\u001b[0m\n",
      "\u001b[0;32m~/.pyenv/versions/3.8.7/envs/covid/lib/python3.8/site-packages/tensorflow/python/ops/math_ops.py\u001b[0m in \u001b[0;36mbinary_op_wrapper\u001b[0;34m(x, y)\u001b[0m\n\u001b[1;32m   1122\u001b[0m     \u001b[0;32mwith\u001b[0m \u001b[0mops\u001b[0m\u001b[0;34m.\u001b[0m\u001b[0mname_scope\u001b[0m\u001b[0;34m(\u001b[0m\u001b[0;32mNone\u001b[0m\u001b[0;34m,\u001b[0m \u001b[0mop_name\u001b[0m\u001b[0;34m,\u001b[0m \u001b[0;34m[\u001b[0m\u001b[0mx\u001b[0m\u001b[0;34m,\u001b[0m \u001b[0my\u001b[0m\u001b[0;34m]\u001b[0m\u001b[0;34m)\u001b[0m \u001b[0;32mas\u001b[0m \u001b[0mname\u001b[0m\u001b[0;34m:\u001b[0m\u001b[0;34m\u001b[0m\u001b[0;34m\u001b[0m\u001b[0m\n\u001b[1;32m   1123\u001b[0m       \u001b[0;32mtry\u001b[0m\u001b[0;34m:\u001b[0m\u001b[0;34m\u001b[0m\u001b[0;34m\u001b[0m\u001b[0m\n\u001b[0;32m-> 1124\u001b[0;31m         \u001b[0;32mreturn\u001b[0m \u001b[0mfunc\u001b[0m\u001b[0;34m(\u001b[0m\u001b[0mx\u001b[0m\u001b[0;34m,\u001b[0m \u001b[0my\u001b[0m\u001b[0;34m,\u001b[0m \u001b[0mname\u001b[0m\u001b[0;34m=\u001b[0m\u001b[0mname\u001b[0m\u001b[0;34m)\u001b[0m\u001b[0;34m\u001b[0m\u001b[0;34m\u001b[0m\u001b[0m\n\u001b[0m\u001b[1;32m   1125\u001b[0m       \u001b[0;32mexcept\u001b[0m \u001b[0;34m(\u001b[0m\u001b[0mTypeError\u001b[0m\u001b[0;34m,\u001b[0m \u001b[0mValueError\u001b[0m\u001b[0;34m)\u001b[0m \u001b[0;32mas\u001b[0m \u001b[0me\u001b[0m\u001b[0;34m:\u001b[0m\u001b[0;34m\u001b[0m\u001b[0;34m\u001b[0m\u001b[0m\n\u001b[1;32m   1126\u001b[0m         \u001b[0;31m# Even if dispatching the op failed, the RHS may be a tensor aware\u001b[0m\u001b[0;34m\u001b[0m\u001b[0;34m\u001b[0m\u001b[0;34m\u001b[0m\u001b[0m\n",
      "\u001b[0;32m~/.pyenv/versions/3.8.7/envs/covid/lib/python3.8/site-packages/tensorflow/python/util/dispatch.py\u001b[0m in \u001b[0;36mwrapper\u001b[0;34m(*args, **kwargs)\u001b[0m\n\u001b[1;32m    199\u001b[0m     \u001b[0;34m\"\"\"Call target, and fall back on dispatchers if there is a TypeError.\"\"\"\u001b[0m\u001b[0;34m\u001b[0m\u001b[0;34m\u001b[0m\u001b[0m\n\u001b[1;32m    200\u001b[0m     \u001b[0;32mtry\u001b[0m\u001b[0;34m:\u001b[0m\u001b[0;34m\u001b[0m\u001b[0;34m\u001b[0m\u001b[0m\n\u001b[0;32m--> 201\u001b[0;31m       \u001b[0;32mreturn\u001b[0m \u001b[0mtarget\u001b[0m\u001b[0;34m(\u001b[0m\u001b[0;34m*\u001b[0m\u001b[0margs\u001b[0m\u001b[0;34m,\u001b[0m \u001b[0;34m**\u001b[0m\u001b[0mkwargs\u001b[0m\u001b[0;34m)\u001b[0m\u001b[0;34m\u001b[0m\u001b[0;34m\u001b[0m\u001b[0m\n\u001b[0m\u001b[1;32m    202\u001b[0m     \u001b[0;32mexcept\u001b[0m \u001b[0;34m(\u001b[0m\u001b[0mTypeError\u001b[0m\u001b[0;34m,\u001b[0m \u001b[0mValueError\u001b[0m\u001b[0;34m)\u001b[0m\u001b[0;34m:\u001b[0m\u001b[0;34m\u001b[0m\u001b[0;34m\u001b[0m\u001b[0m\n\u001b[1;32m    203\u001b[0m       \u001b[0;31m# Note: convert_to_eager_tensor currently raises a ValueError, not a\u001b[0m\u001b[0;34m\u001b[0m\u001b[0;34m\u001b[0m\u001b[0;34m\u001b[0m\u001b[0m\n",
      "\u001b[0;32m~/.pyenv/versions/3.8.7/envs/covid/lib/python3.8/site-packages/tensorflow/python/ops/math_ops.py\u001b[0m in \u001b[0;36m_add_dispatch\u001b[0;34m(x, y, name)\u001b[0m\n\u001b[1;32m   1444\u001b[0m     \u001b[0;32mreturn\u001b[0m \u001b[0mgen_math_ops\u001b[0m\u001b[0;34m.\u001b[0m\u001b[0madd\u001b[0m\u001b[0;34m(\u001b[0m\u001b[0mx\u001b[0m\u001b[0;34m,\u001b[0m \u001b[0my\u001b[0m\u001b[0;34m,\u001b[0m \u001b[0mname\u001b[0m\u001b[0;34m=\u001b[0m\u001b[0mname\u001b[0m\u001b[0;34m)\u001b[0m\u001b[0;34m\u001b[0m\u001b[0;34m\u001b[0m\u001b[0m\n\u001b[1;32m   1445\u001b[0m   \u001b[0;32melse\u001b[0m\u001b[0;34m:\u001b[0m\u001b[0;34m\u001b[0m\u001b[0;34m\u001b[0m\u001b[0m\n\u001b[0;32m-> 1446\u001b[0;31m     \u001b[0;32mreturn\u001b[0m \u001b[0mgen_math_ops\u001b[0m\u001b[0;34m.\u001b[0m\u001b[0madd_v2\u001b[0m\u001b[0;34m(\u001b[0m\u001b[0mx\u001b[0m\u001b[0;34m,\u001b[0m \u001b[0my\u001b[0m\u001b[0;34m,\u001b[0m \u001b[0mname\u001b[0m\u001b[0;34m=\u001b[0m\u001b[0mname\u001b[0m\u001b[0;34m)\u001b[0m\u001b[0;34m\u001b[0m\u001b[0;34m\u001b[0m\u001b[0m\n\u001b[0m\u001b[1;32m   1447\u001b[0m \u001b[0;34m\u001b[0m\u001b[0m\n\u001b[1;32m   1448\u001b[0m \u001b[0;34m\u001b[0m\u001b[0m\n",
      "\u001b[0;32m~/.pyenv/versions/3.8.7/envs/covid/lib/python3.8/site-packages/tensorflow/python/ops/gen_math_ops.py\u001b[0m in \u001b[0;36madd_v2\u001b[0;34m(x, y, name)\u001b[0m\n\u001b[1;32m    484\u001b[0m       \u001b[0;32mreturn\u001b[0m \u001b[0m_result\u001b[0m\u001b[0;34m\u001b[0m\u001b[0;34m\u001b[0m\u001b[0m\n\u001b[1;32m    485\u001b[0m     \u001b[0;32mexcept\u001b[0m \u001b[0m_core\u001b[0m\u001b[0;34m.\u001b[0m\u001b[0m_NotOkStatusException\u001b[0m \u001b[0;32mas\u001b[0m \u001b[0me\u001b[0m\u001b[0;34m:\u001b[0m\u001b[0;34m\u001b[0m\u001b[0;34m\u001b[0m\u001b[0m\n\u001b[0;32m--> 486\u001b[0;31m       \u001b[0m_ops\u001b[0m\u001b[0;34m.\u001b[0m\u001b[0mraise_from_not_ok_status\u001b[0m\u001b[0;34m(\u001b[0m\u001b[0me\u001b[0m\u001b[0;34m,\u001b[0m \u001b[0mname\u001b[0m\u001b[0;34m)\u001b[0m\u001b[0;34m\u001b[0m\u001b[0;34m\u001b[0m\u001b[0m\n\u001b[0m\u001b[1;32m    487\u001b[0m     \u001b[0;32mexcept\u001b[0m \u001b[0m_core\u001b[0m\u001b[0;34m.\u001b[0m\u001b[0m_FallbackException\u001b[0m\u001b[0;34m:\u001b[0m\u001b[0;34m\u001b[0m\u001b[0;34m\u001b[0m\u001b[0m\n\u001b[1;32m    488\u001b[0m       \u001b[0;32mpass\u001b[0m\u001b[0;34m\u001b[0m\u001b[0;34m\u001b[0m\u001b[0m\n",
      "\u001b[0;32m~/.pyenv/versions/3.8.7/envs/covid/lib/python3.8/site-packages/tensorflow/python/framework/ops.py\u001b[0m in \u001b[0;36mraise_from_not_ok_status\u001b[0;34m(e, name)\u001b[0m\n\u001b[1;32m   6841\u001b[0m   \u001b[0mmessage\u001b[0m \u001b[0;34m=\u001b[0m \u001b[0me\u001b[0m\u001b[0;34m.\u001b[0m\u001b[0mmessage\u001b[0m \u001b[0;34m+\u001b[0m \u001b[0;34m(\u001b[0m\u001b[0;34m\" name: \"\u001b[0m \u001b[0;34m+\u001b[0m \u001b[0mname\u001b[0m \u001b[0;32mif\u001b[0m \u001b[0mname\u001b[0m \u001b[0;32mis\u001b[0m \u001b[0;32mnot\u001b[0m \u001b[0;32mNone\u001b[0m \u001b[0;32melse\u001b[0m \u001b[0;34m\"\"\u001b[0m\u001b[0;34m)\u001b[0m\u001b[0;34m\u001b[0m\u001b[0;34m\u001b[0m\u001b[0m\n\u001b[1;32m   6842\u001b[0m   \u001b[0;31m# pylint: disable=protected-access\u001b[0m\u001b[0;34m\u001b[0m\u001b[0;34m\u001b[0m\u001b[0;34m\u001b[0m\u001b[0m\n\u001b[0;32m-> 6843\u001b[0;31m   \u001b[0msix\u001b[0m\u001b[0;34m.\u001b[0m\u001b[0mraise_from\u001b[0m\u001b[0;34m(\u001b[0m\u001b[0mcore\u001b[0m\u001b[0;34m.\u001b[0m\u001b[0m_status_to_exception\u001b[0m\u001b[0;34m(\u001b[0m\u001b[0me\u001b[0m\u001b[0;34m.\u001b[0m\u001b[0mcode\u001b[0m\u001b[0;34m,\u001b[0m \u001b[0mmessage\u001b[0m\u001b[0;34m)\u001b[0m\u001b[0;34m,\u001b[0m \u001b[0;32mNone\u001b[0m\u001b[0;34m)\u001b[0m\u001b[0;34m\u001b[0m\u001b[0;34m\u001b[0m\u001b[0m\n\u001b[0m\u001b[1;32m   6844\u001b[0m   \u001b[0;31m# pylint: enable=protected-access\u001b[0m\u001b[0;34m\u001b[0m\u001b[0;34m\u001b[0m\u001b[0;34m\u001b[0m\u001b[0m\n\u001b[1;32m   6845\u001b[0m \u001b[0;34m\u001b[0m\u001b[0m\n",
      "\u001b[0;32m~/.pyenv/versions/3.8.7/envs/covid/lib/python3.8/site-packages/six.py\u001b[0m in \u001b[0;36mraise_from\u001b[0;34m(value, from_value)\u001b[0m\n",
      "\u001b[0;31mInvalidArgumentError\u001b[0m: Incompatible shapes: [148,17,148,17] vs. [148,148] [Op:AddV2]"
     ]
    }
   ],
   "source": [
    "# for k in m.kernel.kernels:\n",
    "#     for p in k.trainable_parameters:\n",
    "#         set_trainable(p, False)\n",
    "        \n",
    "set_trainable(m.q_mu, False)\n",
    "set_trainable(m.q_sqrt, False)\n",
    "\n",
    "# use Adam to optimise the kernel parameters\n",
    "# adam_opt = tf.optimizers.Adam(0.01)\n",
    "natgrad_opt = NaturalGradient(gamma=0.1)\n",
    "\n",
    "variational_params = [(m.q_mu, m.q_sqrt)]\n",
    "\n",
    "# train_loss = m.training_loss_closure((multi_X_vals, multi_y_vals))\n",
    "train_loss = m.training_loss\n",
    "\n",
    "# _elbo = []\n",
    "\n",
    "for _ in range(ci_niter(10)):\n",
    "#     adam_opt.minimize(\n",
    "#         train_loss, \n",
    "#         m.trainable_variables\n",
    "#     )\n",
    "    natgrad_opt.minimize(\n",
    "        train_loss,\n",
    "        variational_params\n",
    "    )\n",
    "#     _elbo.append(m.elbo((X, y)))"
   ]
  }
 ],
 "metadata": {
  "kernelspec": {
   "display_name": "Python 3",
   "language": "python",
   "name": "python3"
  },
  "language_info": {
   "codemirror_mode": {
    "name": "ipython",
    "version": 3
   },
   "file_extension": ".py",
   "mimetype": "text/x-python",
   "name": "python",
   "nbconvert_exporter": "python",
   "pygments_lexer": "ipython3",
   "version": "3.8.5"
  }
 },
 "nbformat": 4,
 "nbformat_minor": 5
}
