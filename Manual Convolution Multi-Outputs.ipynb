{
 "cells": [
  {
   "cell_type": "code",
   "execution_count": 1,
   "id": "victorian-administrator",
   "metadata": {},
   "outputs": [
    {
     "name": "stderr",
     "output_type": "stream",
     "text": [
      "/Users/leo/opt/anaconda3/envs/covid/lib/python3.6/site-packages/ipykernel_launcher.py:21: FutureWarning: Passing a negative integer is deprecated in version 1.0 and will not be supported in future version. Instead, use None to not limit the column width.\n"
     ]
    }
   ],
   "source": [
    "import pandas as pd\n",
    "from itertools import cycle\n",
    "import gpflow\n",
    "import numpy as np\n",
    "from gpflow.utilities import print_summary, positive\n",
    "from gpflow.ci_utils import ci_niter\n",
    "from gpflow.optimizers import NaturalGradient\n",
    "from gpflow import set_trainable\n",
    "import tensorflow as tf\n",
    "import tensorflow_probability as tfp\n",
    "import matplotlib.pyplot as plt\n",
    "import seaborn as sns\n",
    "from sklearn import preprocessing\n",
    "from sklearn.model_selection import train_test_split\n",
    "from collections import namedtuple\n",
    "import statsmodels.api as sm\n",
    "\n",
    "sns.set(style=\"white\")\n",
    "pd.set_option('display.max_columns', None)\n",
    "pd.set_option('display.width', None)\n",
    "pd.set_option('display.max_colwidth', -1)\n",
    "\n",
    "gpflow.config.set_default_float(np.float64)\n",
    "gpflow.config.set_default_summary_fmt(\"notebook\")"
   ]
  },
  {
   "cell_type": "markdown",
   "id": "sized-binary",
   "metadata": {},
   "source": [
    "# Dataset"
   ]
  },
  {
   "cell_type": "markdown",
   "id": "architectural-portsmouth",
   "metadata": {},
   "source": [
    "## Mobility"
   ]
  },
  {
   "cell_type": "code",
   "execution_count": 2,
   "id": "aquatic-frank",
   "metadata": {},
   "outputs": [
    {
     "name": "stderr",
     "output_type": "stream",
     "text": [
      "/Users/leo/opt/anaconda3/envs/covid/lib/python3.6/site-packages/IPython/core/interactiveshell.py:3072: DtypeWarning: Columns (4) have mixed types.Specify dtype option on import or set low_memory=False.\n",
      "  interactivity=interactivity, compiler=compiler, result=result)\n"
     ]
    }
   ],
   "source": [
    "mobility_data = pd.read_csv(\n",
    "    \"./Data/Google/Global_Mobility_Report.csv\", \n",
    "    encoding=\"ISO-8859-1\", \n",
    "    parse_dates=[\"date\"],\n",
    "    dayfirst=True\n",
    ")\n",
    "mobility_data_us = mobility_data[\n",
    "    (mobility_data[\"country_region\"]==\"United States\") & \n",
    "    (~mobility_data[\"sub_region_1\"].isnull()) &\n",
    "    (mobility_data[\"sub_region_2\"].isnull())\n",
    "]\n",
    "mobility_data_us_temp = mobility_data_us.iloc[:,7:] # keep only relevant columns\n",
    "mobility_data_us_temp[\"state\"] = mobility_data_us[\"sub_region_1\"]\n",
    "mobility_data_us_temp.iloc[:,1:-1] = mobility_data_us_temp.iloc[:,1:-1].apply(lambda x: x/100 + 1)\n",
    "mobility_data_us =  mobility_data_us_temp.reset_index(drop=True)\n",
    "mobility_data_us = pd.DataFrame({\n",
    "    \"state\": mobility_data_us[\"state\"],\n",
    "    \"date\": mobility_data_us[\"date\"],\n",
    "    \"HOME\": mobility_data_us['residential_percent_change_from_baseline'],\n",
    "    \"WORK\": mobility_data_us['workplaces_percent_change_from_baseline'],\n",
    "    \"RECREATIONAL\": mobility_data_us['retail_and_recreation_percent_change_from_baseline'],\n",
    "    \"OTHER\": mobility_data_us.iloc[:,2:5].mean(axis=1)\n",
    "})\n",
    "\n",
    "processed_dfs = []\n",
    "\n",
    "for state in mobility_data_us[\"state\"].unique():\n",
    "    d = mobility_data_us[mobility_data_us[\"state\"] == state].copy()\n",
    "    \n",
    "    d[\"HOME\"] = d[\"HOME\"].rolling(7).median()\n",
    "    d[\"WORK\"] = d[\"WORK\"].rolling(7).median()\n",
    "    d[\"RECREATIONAL\"] = d[\"RECREATIONAL\"].rolling(7).median()\n",
    "    d[\"OTHER\"] = d[\"OTHER\"].rolling(7).median()\n",
    "\n",
    "    processed_dfs.append(d)\n",
    "    \n",
    "mobility_data_us = pd.concat(processed_dfs)"
   ]
  },
  {
   "cell_type": "markdown",
   "id": "bound-prompt",
   "metadata": {},
   "source": [
    "## Cases"
   ]
  },
  {
   "cell_type": "code",
   "execution_count": 3,
   "id": "virgin-header",
   "metadata": {},
   "outputs": [],
   "source": [
    "# COVID Cases from Microsoft, includes Recovered and Infected\n",
    "ms_covid = pd.read_csv(\n",
    "    \"./Data/Microsoft/COVID_CASES.csv\", \n",
    "    encoding=\"ISO-8859-1\",\n",
    "    parse_dates=[\"Updated\"],\n",
    "    dayfirst=False\n",
    ")\n",
    "ms_us_covid = ms_covid[\n",
    "    (ms_covid[\"Country_Region\"]==\"United States\") & \n",
    "    (~ms_covid[\"AdminRegion1\"].isnull()) &\n",
    "    (ms_covid[\"AdminRegion2\"].isnull())\n",
    "]\n",
    "ms_us_covid = ms_us_covid.loc[:,[\"AdminRegion1\", \"Updated\", \"Confirmed\", \"ConfirmedChange\", \"Deaths\", \"Recovered\"]]\n",
    "ms_us_covid.rename(columns={\"AdminRegion1\": \"state\"}, inplace=True)\n",
    "ms_us_covid.reset_index(drop=True, inplace=True)\n",
    "population = pd.read_excel(\n",
    "    \"./Data/Population/US_population_raw_data.xls\",\n",
    ")\n",
    "STATE_POPULATION = dict(zip(population[1:].Location, population[1:].COVIDTotal))\n",
    "\n",
    "processed_dfs = []\n",
    "\n",
    "for state in ms_us_covid[\"state\"].unique():\n",
    "    d = ms_us_covid[ms_us_covid[\"state\"] == state]\n",
    "    d = d.fillna(method='ffill').fillna(0)\n",
    "    d[\"I\"] = d[\"Confirmed\"] - d[\"Deaths\"] - d[\"Recovered\"]\n",
    "\n",
    "    d[\"S\"] = int(STATE_POPULATION[state]) - d[\"I\"]\n",
    "\n",
    "    d[\"ConfirmedChange\"] = np.log(d[\"ConfirmedChange\"].rolling(7).median()+1)\n",
    "    d[\"I\"] = np.log(d[\"I\"].rolling(7).median()+1)\n",
    "    d[\"S\"] = np.log(d[\"S\"].rolling(7).median()+1)\n",
    "\n",
    "    d.dropna(inplace=True)\n",
    "    processed_dfs.append(d)\n",
    "    \n",
    "ms_us_covid = pd.concat(processed_dfs)\n",
    "ms_us_covid[\"WEEKDAY\"] = (ms_us_covid[\"Updated\"].dt.dayofweek < 5).astype(int)\n",
    "ms_us_covid[\"index\"] = ms_us_covid[\"Updated\"].dt.dayofyear"
   ]
  },
  {
   "cell_type": "markdown",
   "id": "derived-coalition",
   "metadata": {},
   "source": [
    "## Merge"
   ]
  },
  {
   "cell_type": "code",
   "execution_count": 4,
   "id": "amateur-updating",
   "metadata": {},
   "outputs": [],
   "source": [
    "final_data = ms_us_covid.merge(\n",
    "    mobility_data_us, how='left', left_on=[\"state\", \"Updated\"], right_on=[\"state\", \"date\"]\n",
    ")\n",
    "final_data.dropna(inplace=True)\n",
    "final_data.set_index(\"state\", inplace=True)"
   ]
  },
  {
   "cell_type": "markdown",
   "id": "hindu-colors",
   "metadata": {},
   "source": [
    "# Model"
   ]
  },
  {
   "cell_type": "code",
   "execution_count": 5,
   "id": "immune-liver",
   "metadata": {},
   "outputs": [],
   "source": [
    "from model import COVIDGPModel"
   ]
  },
  {
   "cell_type": "code",
   "execution_count": 6,
   "id": "backed-pencil",
   "metadata": {},
   "outputs": [],
   "source": [
    "def run_for_state(name, data):\n",
    "    t = data[[\"Updated\"]]\n",
    "    y = data[[\"ConfirmedChange\"]]\n",
    "    X = pd.DataFrame({\n",
    "        \"index\": data[\"index\"],\n",
    "        \"S\": data[\"S\"],\n",
    "        \"I\": data[\"I\"],\n",
    "        \"HOME\": data[\"HOME\"],\n",
    "        \"WORK\": data[\"WORK\"],\n",
    "        \"RECREATIONAL\": data[\"RECREATIONAL\"],\n",
    "    }, index=data.index)[[\n",
    "        \"index\",\n",
    "        \"S\",\n",
    "        \"I\",\n",
    "        \"HOME\", \n",
    "        \"WORK\", \n",
    "        \"RECREATIONAL\"\n",
    "    ]]\n",
    "\n",
    "    model_params = {\n",
    "        'kernel': (\n",
    "            gpflow.kernels.SquaredExponential(lengthscales=np.ones(X.shape[1])) +\n",
    "            gpflow.kernels.Linear() +\n",
    "            gpflow.kernels.RationalQuadratic(lengthscales=np.ones(X.shape[1]))\n",
    "        )\n",
    "    }\n",
    "\n",
    "    y_scaler = preprocessing.StandardScaler().fit(y)\n",
    "    y_train = y_scaler.transform(y)\n",
    "\n",
    "    x_scaler = preprocessing.StandardScaler().fit(X)\n",
    "    X_train = x_scaler.transform(X)\n",
    "\n",
    "    model = COVIDGPModel(name, **model_params)\n",
    "    model.train(X_train, y_train)\n",
    "\n",
    "    mean_train, var_train = model.predict(X_train)\n",
    "    y_train_pred = y_scaler.inverse_transform(mean_train.numpy())\n",
    "    y_train_true = y_scaler.inverse_transform(y_train)\n",
    "\n",
    "    res = y_train_true - y_train_pred\n",
    "    \n",
    "    return model, res"
   ]
  },
  {
   "cell_type": "code",
   "execution_count": 7,
   "id": "attended-heater",
   "metadata": {},
   "outputs": [],
   "source": [
    "results_states = {}\n",
    "for state in final_data.index.unique():\n",
    "    data = final_data.loc[state]\n",
    "    results_states[state] = run_for_state(state, data)"
   ]
  },
  {
   "cell_type": "code",
   "execution_count": 8,
   "id": "stretch-thermal",
   "metadata": {},
   "outputs": [
    {
     "data": {
      "text/plain": [
       "dict_keys(['Alaska', 'Alabama', 'Arkansas', 'Arizona', 'California', 'Colorado', 'Connecticut', 'District of Columbia', 'Delaware', 'Florida', 'Georgia', 'Hawaii', 'Iowa', 'Idaho', 'Illinois', 'Indiana', 'Kansas'])"
      ]
     },
     "execution_count": 8,
     "metadata": {},
     "output_type": "execute_result"
    }
   ],
   "source": [
    "results_states.keys()"
   ]
  },
  {
   "cell_type": "code",
   "execution_count": 21,
   "id": "clean-basketball",
   "metadata": {},
   "outputs": [],
   "source": [
    "import dill as pickle\n",
    "pickle.dump(results_states, open('tmp/trained_models_states.pkl', 'wb'))"
   ]
  },
  {
   "cell_type": "markdown",
   "id": "surprised-owner",
   "metadata": {},
   "source": [
    "## White noise"
   ]
  },
  {
   "cell_type": "code",
   "execution_count": 11,
   "id": "blind-miniature",
   "metadata": {},
   "outputs": [
    {
     "data": {
      "text/html": [
       "<div>\n",
       "<style scoped>\n",
       "    .dataframe tbody tr th:only-of-type {\n",
       "        vertical-align: middle;\n",
       "    }\n",
       "\n",
       "    .dataframe tbody tr th {\n",
       "        vertical-align: top;\n",
       "    }\n",
       "\n",
       "    .dataframe thead th {\n",
       "        text-align: right;\n",
       "    }\n",
       "</style>\n",
       "<table border=\"1\" class=\"dataframe\">\n",
       "  <thead>\n",
       "    <tr style=\"text-align: right;\">\n",
       "      <th></th>\n",
       "      <th>Updated</th>\n",
       "      <th>Residual</th>\n",
       "    </tr>\n",
       "  </thead>\n",
       "  <tbody>\n",
       "    <tr>\n",
       "      <th>0</th>\n",
       "      <td>2020-02-21</td>\n",
       "      <td>-0.509213</td>\n",
       "    </tr>\n",
       "    <tr>\n",
       "      <th>1</th>\n",
       "      <td>2020-02-22</td>\n",
       "      <td>0.703437</td>\n",
       "    </tr>\n",
       "    <tr>\n",
       "      <th>2</th>\n",
       "      <td>2020-02-23</td>\n",
       "      <td>0.310949</td>\n",
       "    </tr>\n",
       "    <tr>\n",
       "      <th>3</th>\n",
       "      <td>2020-02-24</td>\n",
       "      <td>0.216742</td>\n",
       "    </tr>\n",
       "    <tr>\n",
       "      <th>4</th>\n",
       "      <td>2020-02-25</td>\n",
       "      <td>1.531984</td>\n",
       "    </tr>\n",
       "  </tbody>\n",
       "</table>\n",
       "</div>"
      ],
      "text/plain": [
       "     Updated  Residual\n",
       "0 2020-02-21 -0.509213\n",
       "1 2020-02-22  0.703437\n",
       "2 2020-02-23  0.310949\n",
       "3 2020-02-24  0.216742\n",
       "4 2020-02-25  1.531984"
      ]
     },
     "execution_count": 11,
     "metadata": {},
     "output_type": "execute_result"
    }
   ],
   "source": [
    "dates = pd.date_range(final_data[[\"Updated\"]].min().values[0], final_data[[\"Updated\"]].max().values[0]).values\n",
    "u0 = np.random.normal(size=len(dates))\n",
    "\n",
    "u0 = pd.DataFrame({\"Updated\": dates, \"Residual\": u0})\n",
    "u0.head()"
   ]
  },
  {
   "cell_type": "code",
   "execution_count": 12,
   "id": "spread-toronto",
   "metadata": {},
   "outputs": [
    {
     "data": {
      "text/plain": [
       "<AxesSubplot:>"
      ]
     },
     "execution_count": 12,
     "metadata": {},
     "output_type": "execute_result"
    },
    {
     "data": {
      "image/png": "[encoded data removed]",
      "text/plain": [
       "<Figure size 432x288 with 1 Axes>"
      ]
     },
     "metadata": {},
     "output_type": "display_data"
    }
   ],
   "source": [
    "u0[\"Residual\"].plot()"
   ]
  },
  {
   "cell_type": "markdown",
   "id": "essential-montgomery",
   "metadata": {},
   "source": [
    "## $h_.(t)$ linear filters"
   ]
  },
  {
   "cell_type": "code",
   "execution_count": 53,
   "id": "aerial-parcel",
   "metadata": {},
   "outputs": [],
   "source": [
    "from functools import partial"
   ]
  },
  {
   "cell_type": "code",
   "execution_count": 201,
   "id": "previous-argentina",
   "metadata": {},
   "outputs": [],
   "source": [
    "linear_filters_states = {}\n",
    "for state in results_states.keys():\n",
    "    u0_ = u0[u0['Updated'].isin(final_data.loc[state, 'Updated'])]\n",
    "    state_residual = results_states[state][1]\n",
    "    h_vals = state_residual / u0_['Residual'].values.reshape(-1, 1)\n",
    "    t = u0_[\"Updated\"].index.astype('float').values.reshape(-1, 1)\n",
    "    \n",
    "    def _yule_walker(X, coeff_=None, sigma_=None):\n",
    "        order = len(coeff_)\n",
    "        X_lag = X[-order:,:]\n",
    "        return tf.square(sigma_) + tf.tensordot(X_lag.T, np.array(coeff_), axes=1)\n",
    "    \n",
    "    rho_, sigma_ = sm.regression.yule_walker(h_vals, order=28, method=\"mle\")\n",
    "    linear_filters_states[state] = partial(_yule_walker, coeff_=tuple(rho_), sigma_=sigma_)"
   ]
  },
  {
   "cell_type": "code",
   "execution_count": 202,
   "id": "buried-clone",
   "metadata": {},
   "outputs": [],
   "source": [
    "pickle.dump(linear_filters_states, open('tmp/linear_filters_states.pkl', 'wb'))"
   ]
  },
  {
   "cell_type": "code",
   "execution_count": 203,
   "id": "understanding-antenna",
   "metadata": {},
   "outputs": [
    {
     "data": {
      "text/plain": [
       "dict_keys(['Alaska', 'Alabama', 'Arkansas', 'Arizona', 'California', 'Colorado', 'Connecticut', 'District of Columbia', 'Delaware', 'Florida', 'Georgia', 'Hawaii', 'Iowa', 'Idaho', 'Illinois', 'Indiana', 'Kansas'])"
      ]
     },
     "execution_count": 203,
     "metadata": {},
     "output_type": "execute_result"
    }
   ],
   "source": [
    "linear_filters_states.keys()"
   ]
  },
  {
   "cell_type": "markdown",
   "id": "tracked-courage",
   "metadata": {},
   "source": [
    "# GPFlow`"
   ]
  },
  {
   "cell_type": "code",
   "execution_count": 204,
   "id": "impossible-narrow",
   "metadata": {},
   "outputs": [],
   "source": [
    "p = {s: (results_states[s][0], linear_filters_states[s]) for s in results_states.keys()}"
   ]
  },
  {
   "cell_type": "code",
   "execution_count": 208,
   "id": "proud-lewis",
   "metadata": {},
   "outputs": [
    {
     "data": {
      "text/html": [
       "<table>\n",
       "<thead>\n",
       "<tr></tr>\n",
       "</thead>\n",
       "<tbody>\n",
       "</tbody>\n",
       "</table>"
      ],
      "text/plain": [
       "<IPython.core.display.HTML object>"
      ]
     },
     "metadata": {},
     "output_type": "display_data"
    }
   ],
   "source": [
    "class ManualConvolutionMultiOutput(gpflow.kernels.Kernel):\n",
    "    def __init__(self, p, order=28):\n",
    "        super().__init__()\n",
    "        self.p = p\n",
    "        self.order = order\n",
    "\n",
    "    @staticmethod\n",
    "    def cov(X, t, h_X, Y, s, h_Y, order, T):\n",
    "        return tf.sum([\n",
    "            h_X(X[:i,:]) * h_Y(Y[:i+s-t,:]) \n",
    "            for i in range(order, T)\n",
    "        ], axis=0)\n",
    "        \n",
    "    def K(self, X, X2=None):\n",
    "        if X2 is None:\n",
    "            X2 = X\n",
    "        \n",
    "        T = X.shape[0]\n",
    "        N = len(self.p)\n",
    "        \n",
    "        X_states = dict(zip(self.p.keys(), tf.split(X, num_or_size_splits=N, axis=1)))\n",
    "        X2_states = dict(zip(self.p.keys(), tf.split(X2, num_or_size_splits=N, axis=1)))\n",
    "        \n",
    "        k = np.zeros((T*N,)*2)\n",
    "        \n",
    "        ## TODO: optimise this monster....\n",
    "        for s_i, state_X in enumerate(self.keys()):\n",
    "            for s_j, state_Y in enumerate(self.keys()):\n",
    "                k_X = self.p[state_X][0].kernel.K(X_states[state_X], X2_states[state_Y])\n",
    "                for t_i in range(T):\n",
    "                    for t_j in range(T):\n",
    "                        k[s_i*T+t_i, s_j*T+t_j] = k_X[t_i, t_j] + self.cov(\n",
    "                            X_states[state_X], t_i, self.p[state_X][1],\n",
    "                            X2_states[state_Y], t_j, self.p[state_Y][1],\n",
    "                            self.order, T\n",
    "                        )\n",
    "            \n",
    "        \n",
    "        return k\n",
    "\n",
    "    def K_diag(self, X):\n",
    "        return tf.linalg.diag_part(self.K(X))\n",
    "\n",
    "\n",
    "k_custom = ManualConvolutionMultiOutput(p)"
   ]
  },
  {
   "cell_type": "code",
   "execution_count": null,
   "id": "chronic-holocaust",
   "metadata": {},
   "outputs": [],
   "source": []
  }
 ],
 "metadata": {
  "kernelspec": {
   "display_name": "Python 3",
   "language": "python",
   "name": "python3"
  },
  "language_info": {
   "codemirror_mode": {
    "name": "ipython",
    "version": 3
   },
   "file_extension": ".py",
   "mimetype": "text/x-python",
   "name": "python",
   "nbconvert_exporter": "python",
   "pygments_lexer": "ipython3",
   "version": "3.6.12"
  }
 },
 "nbformat": 4,
 "nbformat_minor": 5
}
