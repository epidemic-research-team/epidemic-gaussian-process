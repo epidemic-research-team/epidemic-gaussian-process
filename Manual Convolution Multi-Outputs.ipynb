{
 "cells": [
  {
   "cell_type": "code",
   "execution_count": 1,
   "id": "victorian-administrator",
   "metadata": {},
   "outputs": [
    {
     "name": "stderr",
     "output_type": "stream",
     "text": [
      "/Users/leo/opt/anaconda3/envs/covid/lib/python3.6/site-packages/ipykernel_launcher.py:21: FutureWarning: Passing a negative integer is deprecated in version 1.0 and will not be supported in future version. Instead, use None to not limit the column width.\n"
     ]
    }
   ],
   "source": [
    "import pandas as pd\n",
    "from itertools import cycle\n",
    "import gpflow\n",
    "import numpy as np\n",
    "from gpflow.utilities import print_summary, positive\n",
    "from gpflow.ci_utils import ci_niter\n",
    "from gpflow.optimizers import NaturalGradient\n",
    "from gpflow import set_trainable\n",
    "import tensorflow as tf\n",
    "import tensorflow_probability as tfp\n",
    "import matplotlib.pyplot as plt\n",
    "import seaborn as sns\n",
    "from sklearn import preprocessing\n",
    "from sklearn.model_selection import train_test_split\n",
    "from collections import namedtuple\n",
    "import statsmodels.api as sm\n",
    "\n",
    "sns.set(style=\"white\")\n",
    "pd.set_option('display.max_columns', None)\n",
    "pd.set_option('display.width', None)\n",
    "pd.set_option('display.max_colwidth', -1)\n",
    "\n",
    "gpflow.config.set_default_float(np.float64)\n",
    "gpflow.config.set_default_summary_fmt(\"notebook\")"
   ]
  },
  {
   "cell_type": "markdown",
   "id": "sized-binary",
   "metadata": {},
   "source": [
    "# Dataset"
   ]
  },
  {
   "cell_type": "markdown",
   "id": "architectural-portsmouth",
   "metadata": {},
   "source": [
    "## Mobility"
   ]
  },
  {
   "cell_type": "code",
   "execution_count": 2,
   "id": "aquatic-frank",
   "metadata": {},
   "outputs": [
    {
     "name": "stderr",
     "output_type": "stream",
     "text": [
      "/Users/leo/opt/anaconda3/envs/covid/lib/python3.6/site-packages/IPython/core/interactiveshell.py:3072: DtypeWarning: Columns (4) have mixed types.Specify dtype option on import or set low_memory=False.\n",
      "  interactivity=interactivity, compiler=compiler, result=result)\n"
     ]
    }
   ],
   "source": [
    "mobility_data = pd.read_csv(\n",
    "    \"./Data/Google/Global_Mobility_Report.csv\", \n",
    "    encoding=\"ISO-8859-1\", \n",
    "    parse_dates=[\"date\"],\n",
    "    dayfirst=True\n",
    ")\n",
    "mobility_data_us = mobility_data[\n",
    "    (mobility_data[\"country_region\"]==\"United States\") & \n",
    "    (~mobility_data[\"sub_region_1\"].isnull()) &\n",
    "    (mobility_data[\"sub_region_2\"].isnull())\n",
    "]\n",
    "mobility_data_us_temp = mobility_data_us.iloc[:,7:] # keep only relevant columns\n",
    "mobility_data_us_temp[\"state\"] = mobility_data_us[\"sub_region_1\"]\n",
    "mobility_data_us_temp.iloc[:,1:-1] = mobility_data_us_temp.iloc[:,1:-1].apply(lambda x: x/100 + 1)\n",
    "mobility_data_us =  mobility_data_us_temp.reset_index(drop=True)\n",
    "mobility_data_us = pd.DataFrame({\n",
    "    \"state\": mobility_data_us[\"state\"],\n",
    "    \"date\": mobility_data_us[\"date\"],\n",
    "    \"HOME\": mobility_data_us['residential_percent_change_from_baseline'],\n",
    "    \"WORK\": mobility_data_us['workplaces_percent_change_from_baseline'],\n",
    "    \"RECREATIONAL\": mobility_data_us['retail_and_recreation_percent_change_from_baseline'],\n",
    "    \"OTHER\": mobility_data_us.iloc[:,2:5].mean(axis=1)\n",
    "})\n",
    "\n",
    "processed_dfs = []\n",
    "\n",
    "for state in mobility_data_us[\"state\"].unique():\n",
    "    d = mobility_data_us[mobility_data_us[\"state\"] == state].copy()\n",
    "    \n",
    "    d[\"HOME\"] = d[\"HOME\"].rolling(7).median()\n",
    "    d[\"WORK\"] = d[\"WORK\"].rolling(7).median()\n",
    "    d[\"RECREATIONAL\"] = d[\"RECREATIONAL\"].rolling(7).median()\n",
    "    d[\"OTHER\"] = d[\"OTHER\"].rolling(7).median()\n",
    "\n",
    "    processed_dfs.append(d)\n",
    "    \n",
    "mobility_data_us = pd.concat(processed_dfs)"
   ]
  },
  {
   "cell_type": "markdown",
   "id": "bound-prompt",
   "metadata": {},
   "source": [
    "## Cases"
   ]
  },
  {
   "cell_type": "code",
   "execution_count": 3,
   "id": "virgin-header",
   "metadata": {},
   "outputs": [],
   "source": [
    "# COVID Cases from Microsoft, includes Recovered and Infected\n",
    "ms_covid = pd.read_csv(\n",
    "    \"./Data/Microsoft/COVID_CASES.csv\", \n",
    "    encoding=\"ISO-8859-1\",\n",
    "    parse_dates=[\"Updated\"],\n",
    "    dayfirst=False\n",
    ")\n",
    "ms_us_covid = ms_covid[\n",
    "    (ms_covid[\"Country_Region\"]==\"United States\") & \n",
    "    (~ms_covid[\"AdminRegion1\"].isnull()) &\n",
    "    (ms_covid[\"AdminRegion2\"].isnull())\n",
    "]\n",
    "ms_us_covid = ms_us_covid.loc[:,[\"AdminRegion1\", \"Updated\", \"Confirmed\", \"ConfirmedChange\", \"Deaths\", \"Recovered\"]]\n",
    "ms_us_covid.rename(columns={\"AdminRegion1\": \"state\"}, inplace=True)\n",
    "ms_us_covid.reset_index(drop=True, inplace=True)\n",
    "population = pd.read_excel(\n",
    "    \"./Data/Population/US_population_raw_data.xlsx\", \n",
    "    engine='openpyxl'\n",
    ")\n",
    "STATE_POPULATION = dict(zip(population[1:].Location, population[1:].COVIDTotal))\n",
    "\n",
    "processed_dfs = []\n",
    "\n",
    "for state in ms_us_covid[\"state\"].unique():\n",
    "    d = ms_us_covid[ms_us_covid[\"state\"] == state]\n",
    "    d = d.fillna(method='ffill').fillna(0)\n",
    "    d[\"I\"] = d[\"Confirmed\"] - d[\"Deaths\"] - d[\"Recovered\"]\n",
    "\n",
    "    d[\"S\"] = int(STATE_POPULATION[state]) - d[\"I\"]\n",
    "\n",
    "    d[\"ConfirmedChange\"] = np.log(d[\"ConfirmedChange\"].rolling(7).median()+1)\n",
    "    d[\"I\"] = np.log(d[\"I\"].rolling(7).median()+1)\n",
    "    d[\"S\"] = np.log(d[\"S\"].rolling(7).median()+1)\n",
    "\n",
    "    d.dropna(inplace=True)\n",
    "    processed_dfs.append(d)\n",
    "    \n",
    "ms_us_covid = pd.concat(processed_dfs)\n",
    "ms_us_covid[\"WEEKDAY\"] = (ms_us_covid[\"Updated\"].dt.dayofweek < 5).astype(int)\n",
    "ms_us_covid[\"index\"] = ms_us_covid[\"Updated\"].dt.dayofyear"
   ]
  },
  {
   "cell_type": "markdown",
   "id": "derived-coalition",
   "metadata": {},
   "source": [
    "## Merge"
   ]
  },
  {
   "cell_type": "code",
   "execution_count": 4,
   "id": "amateur-updating",
   "metadata": {},
   "outputs": [],
   "source": [
    "final_data = ms_us_covid.merge(\n",
    "    mobility_data_us, how='left', left_on=[\"state\", \"Updated\"], right_on=[\"state\", \"date\"]\n",
    ")\n",
    "final_data.dropna(inplace=True)\n",
    "final_data.set_index(\"state\", inplace=True)"
   ]
  },
  {
   "cell_type": "markdown",
   "id": "hindu-colors",
   "metadata": {},
   "source": [
    "# Model"
   ]
  },
  {
   "cell_type": "code",
   "execution_count": 36,
   "id": "immune-liver",
   "metadata": {},
   "outputs": [],
   "source": [
    "from model import COVIDGPModel"
   ]
  },
  {
   "cell_type": "code",
   "execution_count": 40,
   "id": "backed-pencil",
   "metadata": {},
   "outputs": [],
   "source": [
    "def run_for_state(name, data):\n",
    "    t = data[[\"Updated\"]]\n",
    "    y = data[[\"ConfirmedChange\"]]\n",
    "    X = pd.DataFrame({\n",
    "        \"index\": data[\"index\"],\n",
    "        \"S\": data[\"S\"],\n",
    "        \"I\": data[\"I\"],\n",
    "        \"HOME\": data[\"HOME\"],\n",
    "        \"WORK\": data[\"WORK\"],\n",
    "        \"RECREATIONAL\": data[\"RECREATIONAL\"],\n",
    "    }, index=data.index)[[\n",
    "        \"index\",\n",
    "        \"S\",\n",
    "        \"I\",\n",
    "        \"HOME\", \n",
    "        \"WORK\", \n",
    "        \"RECREATIONAL\"\n",
    "    ]]\n",
    "\n",
    "    model_params = {\n",
    "        'kernel': (\n",
    "            gpflow.kernels.SquaredExponential(lengthscales=np.ones(X.shape[1])) +\n",
    "            gpflow.kernels.Linear() +\n",
    "            gpflow.kernels.RationalQuadratic(lengthscales=np.ones(X.shape[1]))\n",
    "        )\n",
    "    }\n",
    "\n",
    "    y_scaler = preprocessing.StandardScaler().fit(y)\n",
    "    y_train = y_scaler.transform(y)\n",
    "\n",
    "    x_scaler = preprocessing.StandardScaler().fit(X)\n",
    "    X_train = x_scaler.transform(X)\n",
    "\n",
    "    model = COVIDGPModel(name, **model_params)\n",
    "    model.train(X_train, y_train)\n",
    "\n",
    "    mean_train, var_train = model.predict(X_train)\n",
    "    y_train_pred = y_scaler.inverse_transform(mean_train.numpy())\n",
    "    y_train_true = y_scaler.inverse_transform(y_train)\n",
    "\n",
    "    res = y_train_true - y_train_pred\n",
    "    \n",
    "    return model, res"
   ]
  },
  {
   "cell_type": "code",
   "execution_count": 41,
   "id": "attended-heater",
   "metadata": {},
   "outputs": [],
   "source": [
    "results_states = {}\n",
    "for state in final_data.index.unique():\n",
    "    data = final_data.loc[state]\n",
    "    results_states[state] = run_for_state(state, data)"
   ]
  },
  {
   "cell_type": "code",
   "execution_count": 42,
   "id": "stretch-thermal",
   "metadata": {},
   "outputs": [
    {
     "data": {
      "text/plain": [
       "dict_keys(['Alaska', 'Alabama', 'Arkansas', 'Arizona', 'California', 'Colorado', 'Connecticut', 'District of Columbia', 'Delaware', 'Florida', 'Georgia', 'Hawaii', 'Iowa', 'Idaho', 'Illinois', 'Indiana', 'Kansas'])"
      ]
     },
     "execution_count": 42,
     "metadata": {},
     "output_type": "execute_result"
    }
   ],
   "source": [
    "results_states.keys()"
   ]
  },
  {
   "cell_type": "markdown",
   "id": "surprised-owner",
   "metadata": {},
   "source": [
    "## White noise"
   ]
  },
  {
   "cell_type": "code",
   "execution_count": 81,
   "id": "blind-miniature",
   "metadata": {},
   "outputs": [
    {
     "data": {
      "text/html": [
       "<div>\n",
       "<style scoped>\n",
       "    .dataframe tbody tr th:only-of-type {\n",
       "        vertical-align: middle;\n",
       "    }\n",
       "\n",
       "    .dataframe tbody tr th {\n",
       "        vertical-align: top;\n",
       "    }\n",
       "\n",
       "    .dataframe thead th {\n",
       "        text-align: right;\n",
       "    }\n",
       "</style>\n",
       "<table border=\"1\" class=\"dataframe\">\n",
       "  <thead>\n",
       "    <tr style=\"text-align: right;\">\n",
       "      <th></th>\n",
       "      <th>Updated</th>\n",
       "      <th>Residual</th>\n",
       "    </tr>\n",
       "  </thead>\n",
       "  <tbody>\n",
       "    <tr>\n",
       "      <th>0</th>\n",
       "      <td>2020-02-21</td>\n",
       "      <td>-1.738198</td>\n",
       "    </tr>\n",
       "    <tr>\n",
       "      <th>1</th>\n",
       "      <td>2020-02-22</td>\n",
       "      <td>0.368622</td>\n",
       "    </tr>\n",
       "    <tr>\n",
       "      <th>2</th>\n",
       "      <td>2020-02-23</td>\n",
       "      <td>1.035065</td>\n",
       "    </tr>\n",
       "    <tr>\n",
       "      <th>3</th>\n",
       "      <td>2020-02-24</td>\n",
       "      <td>0.350217</td>\n",
       "    </tr>\n",
       "    <tr>\n",
       "      <th>4</th>\n",
       "      <td>2020-02-25</td>\n",
       "      <td>-2.360612</td>\n",
       "    </tr>\n",
       "  </tbody>\n",
       "</table>\n",
       "</div>"
      ],
      "text/plain": [
       "     Updated  Residual\n",
       "0 2020-02-21 -1.738198\n",
       "1 2020-02-22  0.368622\n",
       "2 2020-02-23  1.035065\n",
       "3 2020-02-24  0.350217\n",
       "4 2020-02-25 -2.360612"
      ]
     },
     "execution_count": 81,
     "metadata": {},
     "output_type": "execute_result"
    }
   ],
   "source": [
    "dates = pd.date_range(final_data[[\"Updated\"]].min().values[0], final_data[[\"Updated\"]].max().values[0]).values\n",
    "u0 = np.random.normal(size=len(dates))\n",
    "\n",
    "u0 = pd.DataFrame({\"Updated\": dates, \"Residual\": u0})\n",
    "u0.head()"
   ]
  },
  {
   "cell_type": "code",
   "execution_count": 82,
   "id": "spread-toronto",
   "metadata": {},
   "outputs": [
    {
     "data": {
      "text/plain": [
       "<AxesSubplot:>"
      ]
     },
     "execution_count": 82,
     "metadata": {},
     "output_type": "execute_result"
    },
    {
     "data": {
      "image/png": "[encoded data removed]",
      "text/plain": [
       "<Figure size 432x288 with 1 Axes>"
      ]
     },
     "metadata": {},
     "output_type": "display_data"
    }
   ],
   "source": [
    "u0[\"Residual\"].plot()"
   ]
  },
  {
   "cell_type": "markdown",
   "id": "essential-montgomery",
   "metadata": {},
   "source": [
    "## $h_.(t)$ linear filters"
   ]
  },
  {
   "cell_type": "markdown",
   "id": "ethical-evolution",
   "metadata": {},
   "source": [
    "Here I use another Gaussian Process to find $h_.(t)$. Not sure that's the best solution..."
   ]
  },
  {
   "cell_type": "code",
   "execution_count": 150,
   "id": "previous-argentina",
   "metadata": {},
   "outputs": [],
   "source": [
    "linear_filters_states = {}\n",
    "for state in results_states.keys():\n",
    "    u0_ = u0[u0['Updated'].isin(final_data.loc[state, 'Updated'])]\n",
    "    state_residual = results_states[state][1]\n",
    "    h_vals = state_residual / u0_['Residual'].values.reshape(-1, 1)\n",
    "    t = u0_[\"Updated\"].index.astype('float').values.reshape(-1, 1)\n",
    "    \n",
    "    m = gpflow.models.GPR(data=(t, h_vals), kernel=gpflow.kernels.Matern52())\n",
    "    linear_filters_states[state] = m"
   ]
  }
 ],
 "metadata": {
  "kernelspec": {
   "display_name": "Python 3",
   "language": "python",
   "name": "python3"
  },
  "language_info": {
   "codemirror_mode": {
    "name": "ipython",
    "version": 3
   },
   "file_extension": ".py",
   "mimetype": "text/x-python",
   "name": "python",
   "nbconvert_exporter": "python",
   "pygments_lexer": "ipython3",
   "version": "3.6.12"
  }
 },
 "nbformat": 4,
 "nbformat_minor": 5
}
