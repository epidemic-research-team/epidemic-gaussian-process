{
 "cells": [
  {
   "cell_type": "markdown",
   "metadata": {
    "toc": true
   },
   "source": [
    "<h1>Table of Contents<span class=\"tocSkip\"></span></h1>\n",
    "<div class=\"toc\"><ul class=\"toc-item\"><li><span><a href=\"#Dataset\" data-toc-modified-id=\"Dataset-1\">Dataset</a></span><ul class=\"toc-item\"><li><span><a href=\"#Mobility\" data-toc-modified-id=\"Mobility-1.1\">Mobility</a></span></li><li><span><a href=\"#Cases\" data-toc-modified-id=\"Cases-1.2\">Cases</a></span></li><li><span><a href=\"#Merge\" data-toc-modified-id=\"Merge-1.3\">Merge</a></span></li></ul></li><li><span><a href=\"#Model\" data-toc-modified-id=\"Model-2\">Model</a></span></li><li><span><a href=\"#Experiments\" data-toc-modified-id=\"Experiments-3\">Experiments</a></span><ul class=\"toc-item\"><li><span><a href=\"#$\\lambda-(t)-=-f(t)$---Gaussian---Matern32\" data-toc-modified-id=\"$\\lambda-(t)-=-f(t)$---Gaussian---Matern32-3.1\"><strong>$\\lambda (t) = f(t)$</strong> - Gaussian - Matern32</a></span></li><li><span><a href=\"#$\\lambda-(t)-=-f(S(t),-I(t))$---Gaussian---Matern32\" data-toc-modified-id=\"$\\lambda-(t)-=-f(S(t),-I(t))$---Gaussian---Matern32-3.2\"><strong>$\\lambda (t) = f(S(t), I(t))$</strong> - Gaussian - Matern32</a></span></li><li><span><a href=\"#$\\lambda-(t)-=-f(S(t)*I(t))$---Gaussian---Matern32\" data-toc-modified-id=\"$\\lambda-(t)-=-f(S(t)*I(t))$---Gaussian---Matern32-3.3\"><strong>$\\lambda (t) = f(S(t)*I(t))$</strong> - Gaussian - Matern32</a></span></li><li><span><a href=\"#$\\lambda-(t)-=-f(S(t)+I(t))$---Gaussian---Matern32\" data-toc-modified-id=\"$\\lambda-(t)-=-f(S(t)+I(t))$---Gaussian---Matern32-3.4\"><strong>$\\lambda (t) = f(S(t)+I(t))$</strong> - Gaussian - Matern32</a></span></li><li><span><a href=\"#$\\lambda-(t)-=-f(t,-S(t)*I(t))$---Gaussian---Matern32\" data-toc-modified-id=\"$\\lambda-(t)-=-f(t,-S(t)*I(t))$---Gaussian---Matern32-3.5\"><strong>$\\lambda (t) = f(t, S(t)*I(t))$</strong> - Gaussian - Matern32</a></span></li><li><span><a href=\"#$\\lambda-(t)-=-f(t,-S(t)+I(t))$---Gaussian---Matern32\" data-toc-modified-id=\"$\\lambda-(t)-=-f(t,-S(t)+I(t))$---Gaussian---Matern32-3.6\"><strong>$\\lambda (t) = f(t, S(t)+I(t))$</strong> - Gaussian - Matern32</a></span></li><li><span><a href=\"#$\\lambda-(t)-=-f(t,-S(t),-I(t))$---Gaussian---Matern32\" data-toc-modified-id=\"$\\lambda-(t)-=-f(t,-S(t),-I(t))$---Gaussian---Matern32-3.7\"><strong>$\\lambda (t) = f(t, S(t), I(t))$</strong> - Gaussian - Matern32</a></span></li><li><span><a href=\"#$\\lambda-(t)-=-f(t,-S(t)^p,-I(t)^p)$---Gaussian---Matern32\" data-toc-modified-id=\"$\\lambda-(t)-=-f(t,-S(t)^p,-I(t)^p)$---Gaussian---Matern32-3.8\"><strong>$\\lambda (t) = f(t, S(t)^p, I(t)^p)$</strong> - Gaussian - Matern32</a></span></li><li><span><a href=\"#$\\lambda-(t)-=-f(t,-I(t),-Home(t))$---Gaussian---Matern32\" data-toc-modified-id=\"$\\lambda-(t)-=-f(t,-I(t),-Home(t))$---Gaussian---Matern32-3.9\"><strong>$\\lambda (t) = f(t, I(t), Home(t))$</strong> - Gaussian - Matern32</a></span></li><li><span><a href=\"#$\\lambda-(t)-=-f(t,-S(t)*I(t),-Home(t))$---Gaussian---Matern32\" data-toc-modified-id=\"$\\lambda-(t)-=-f(t,-S(t)*I(t),-Home(t))$---Gaussian---Matern32-3.10\"><strong>$\\lambda (t) = f(t, S(t)*I(t), Home(t))$</strong> - Gaussian - Matern32</a></span></li><li><span><a href=\"#$\\lambda-(t)-=-f(t,-S(t)*I(t),-Home(t)*Work(t)*Recreational(t))$---Gaussian---Matern32\" data-toc-modified-id=\"$\\lambda-(t)-=-f(t,-S(t)*I(t),-Home(t)*Work(t)*Recreational(t))$---Gaussian---Matern32-3.11\"><strong>$\\lambda (t) = f(t, S(t)*I(t), Home(t)*Work(t)*Recreational(t))$</strong> - Gaussian - Matern32</a></span></li><li><span><a href=\"#$\\lambda-(t)-=-f(t,-S(t),-I(t),-Home(t),-Work(t),-Recreational(t))$---Gaussian---Matern32\" data-toc-modified-id=\"$\\lambda-(t)-=-f(t,-S(t),-I(t),-Home(t),-Work(t),-Recreational(t))$---Gaussian---Matern32-3.12\"><strong>$\\lambda (t) = f(t, S(t), I(t), Home(t), Work(t), Recreational(t))$</strong> - Gaussian - Matern32</a></span></li><li><span><a href=\"#$\\lambda-(t)-=-f(t,-S(t)^p,-I(t)^p,-Home(t)^p,-Work(t)^p,-Recreational(t)^p)$---Gaussian---Matern32\" data-toc-modified-id=\"$\\lambda-(t)-=-f(t,-S(t)^p,-I(t)^p,-Home(t)^p,-Work(t)^p,-Recreational(t)^p)$---Gaussian---Matern32-3.13\"><strong>$\\lambda (t) = f(t, S(t)^p, I(t)^p, Home(t)^p, Work(t)^p, Recreational(t)^p)$</strong> - Gaussian - Matern32</a></span></li><li><span><a href=\"#$\\lambda-(t)-=-f(t)$---Gaussian---SE*L*RQ\" data-toc-modified-id=\"$\\lambda-(t)-=-f(t)$---Gaussian---SE*L*RQ-3.14\"><strong>$\\lambda (t) = f(t)$</strong> - Gaussian - SE*L*RQ</a></span></li><li><span><a href=\"#$\\lambda-(t)-=-f(S(t),-I(t))$---Gaussian---SE*L*RQ\" data-toc-modified-id=\"$\\lambda-(t)-=-f(S(t),-I(t))$---Gaussian---SE*L*RQ-3.15\"><strong>$\\lambda (t) = f(S(t), I(t))$</strong> - Gaussian - SE*L*RQ</a></span></li><li><span><a href=\"#$\\lambda-(t)-=-f(S(t)*I(t))$---Gaussian---SE*L*RQ\" data-toc-modified-id=\"$\\lambda-(t)-=-f(S(t)*I(t))$---Gaussian---SE*L*RQ-3.16\"><strong>$\\lambda (t) = f(S(t)*I(t))$</strong> - Gaussian - SE*L*RQ</a></span></li><li><span><a href=\"#$\\lambda-(t)-=-f(S(t)+I(t))$---Gaussian---SE*L*RQ\" data-toc-modified-id=\"$\\lambda-(t)-=-f(S(t)+I(t))$---Gaussian---SE*L*RQ-3.17\"><strong>$\\lambda (t) = f(S(t)+I(t))$</strong> - Gaussian - SE*L*RQ</a></span></li><li><span><a href=\"#$\\lambda-(t)-=-f(t,-S(t)*I(t))$---Gaussian---SE*L*RQ\" data-toc-modified-id=\"$\\lambda-(t)-=-f(t,-S(t)*I(t))$---Gaussian---SE*L*RQ-3.18\"><strong>$\\lambda (t) = f(t, S(t)*I(t))$</strong> - Gaussian - SE*L*RQ</a></span></li><li><span><a href=\"#$\\lambda-(t)-=-f(t,-S(t)+I(t))$---Gaussian---SE*L*RQ\" data-toc-modified-id=\"$\\lambda-(t)-=-f(t,-S(t)+I(t))$---Gaussian---SE*L*RQ-3.19\"><strong>$\\lambda (t) = f(t, S(t)+I(t))$</strong> - Gaussian - SE*L*RQ</a></span></li><li><span><a href=\"#$\\lambda-(t)-=-f(t,-S(t),-I(t))$---Gaussian---SE*L*RQ\" data-toc-modified-id=\"$\\lambda-(t)-=-f(t,-S(t),-I(t))$---Gaussian---SE*L*RQ-3.20\"><strong>$\\lambda (t) = f(t, S(t), I(t))$</strong> - Gaussian - SE*L*RQ</a></span></li><li><span><a href=\"#$\\lambda-(t)-=-f(t,-S(t)^p,-I(t)^p)$---Gaussian---SE*L*RQ\" data-toc-modified-id=\"$\\lambda-(t)-=-f(t,-S(t)^p,-I(t)^p)$---Gaussian---SE*L*RQ-3.21\"><strong>$\\lambda (t) = f(t, S(t)^p, I(t)^p)$</strong> - Gaussian - SE*L*RQ</a></span></li><li><span><a href=\"#$\\lambda-(t)-=-f(t,-I(t),-Home(t))$---Gaussian---SE*L*RQ\" data-toc-modified-id=\"$\\lambda-(t)-=-f(t,-I(t),-Home(t))$---Gaussian---SE*L*RQ-3.22\"><strong>$\\lambda (t) = f(t, I(t), Home(t))$</strong> - Gaussian - SE*L*RQ</a></span></li><li><span><a href=\"#$\\lambda-(t)-=-f(t,-S(t)*I(t),-Home(t))$---Gaussian---SE*L*RQ\" data-toc-modified-id=\"$\\lambda-(t)-=-f(t,-S(t)*I(t),-Home(t))$---Gaussian---SE*L*RQ-3.23\"><strong>$\\lambda (t) = f(t, S(t)*I(t), Home(t))$</strong> - Gaussian - SE*L*RQ</a></span></li><li><span><a href=\"#$\\lambda-(t)-=-f(t,-S(t)*I(t),-Home(t)*Work(t)*Recreational(t))$---Gaussian---SE*L*RQ\" data-toc-modified-id=\"$\\lambda-(t)-=-f(t,-S(t)*I(t),-Home(t)*Work(t)*Recreational(t))$---Gaussian---SE*L*RQ-3.24\"><strong>$\\lambda (t) = f(t, S(t)*I(t), Home(t)*Work(t)*Recreational(t))$</strong> - Gaussian - SE*L*RQ</a></span></li><li><span><a href=\"#$\\lambda-(t)-=-f(t,-S(t),-I(t),-Home(t),-Work(t),-Recreational(t))$---Gaussian---SE*L*RQ\" data-toc-modified-id=\"$\\lambda-(t)-=-f(t,-S(t),-I(t),-Home(t),-Work(t),-Recreational(t))$---Gaussian---SE*L*RQ-3.25\"><strong>$\\lambda (t) = f(t, S(t), I(t), Home(t), Work(t), Recreational(t))$</strong> - Gaussian - SE*L*RQ</a></span></li><li><span><a href=\"#$\\lambda-(t)-=-f(t,-S(t)^p,-I(t)^p,-Home(t)^p,-Work(t)^p,-Recreational(t)^p)$---Gaussian---SE*L*RQ\" data-toc-modified-id=\"$\\lambda-(t)-=-f(t,-S(t)^p,-I(t)^p,-Home(t)^p,-Work(t)^p,-Recreational(t)^p)$---Gaussian---SE*L*RQ-3.26\"><strong>$\\lambda (t) = f(t, S(t)^p, I(t)^p, Home(t)^p, Work(t)^p, Recreational(t)^p)$</strong> - Gaussian - SE*L*RQ</a></span></li><li><span><a href=\"#$\\lambda-(t)-=-f(t)$---Gaussian---SE+L+RQ\" data-toc-modified-id=\"$\\lambda-(t)-=-f(t)$---Gaussian---SE+L+RQ-3.27\"><strong>$\\lambda (t) = f(t)$</strong> - Gaussian - SE+L+RQ</a></span></li><li><span><a href=\"#$\\lambda-(t)-=-f(S(t),-I(t))$---Gaussian---SE+L+RQ\" data-toc-modified-id=\"$\\lambda-(t)-=-f(S(t),-I(t))$---Gaussian---SE+L+RQ-3.28\"><strong>$\\lambda (t) = f(S(t), I(t))$</strong> - Gaussian - SE+L+RQ</a></span></li><li><span><a href=\"#$\\lambda-(t)-=-f(S(t)*I(t))$---Gaussian---SE+L+RQ\" data-toc-modified-id=\"$\\lambda-(t)-=-f(S(t)*I(t))$---Gaussian---SE+L+RQ-3.29\"><strong>$\\lambda (t) = f(S(t)*I(t))$</strong> - Gaussian - SE+L+RQ</a></span></li><li><span><a href=\"#$\\lambda-(t)-=-f(S(t)+I(t))$---Gaussian---SE+L+RQ\" data-toc-modified-id=\"$\\lambda-(t)-=-f(S(t)+I(t))$---Gaussian---SE+L+RQ-3.30\"><strong>$\\lambda (t) = f(S(t)+I(t))$</strong> - Gaussian - SE+L+RQ</a></span></li><li><span><a href=\"#$\\lambda-(t)-=-f(t,-S(t)*I(t))$---Gaussian---SE+L+RQ\" data-toc-modified-id=\"$\\lambda-(t)-=-f(t,-S(t)*I(t))$---Gaussian---SE+L+RQ-3.31\"><strong>$\\lambda (t) = f(t, S(t)*I(t))$</strong> - Gaussian - SE+L+RQ</a></span></li><li><span><a href=\"#$\\lambda-(t)-=-f(t,-S(t)+I(t))$---Gaussian---SE+L+RQ\" data-toc-modified-id=\"$\\lambda-(t)-=-f(t,-S(t)+I(t))$---Gaussian---SE+L+RQ-3.32\"><strong>$\\lambda (t) = f(t, S(t)+I(t))$</strong> - Gaussian - SE+L+RQ</a></span></li><li><span><a href=\"#$\\lambda-(t)-=-f(t,-S(t),-I(t))$---Gaussian---SE+L+RQ\" data-toc-modified-id=\"$\\lambda-(t)-=-f(t,-S(t),-I(t))$---Gaussian---SE+L+RQ-3.33\"><strong>$\\lambda (t) = f(t, S(t), I(t))$</strong> - Gaussian - SE+L+RQ</a></span></li><li><span><a href=\"#$\\lambda-(t)-=-f(t,-S(t)^p,-I(t)^p)$---Gaussian---SE+L+RQ\" data-toc-modified-id=\"$\\lambda-(t)-=-f(t,-S(t)^p,-I(t)^p)$---Gaussian---SE+L+RQ-3.34\"><strong>$\\lambda (t) = f(t, S(t)^p, I(t)^p)$</strong> - Gaussian - SE+L+RQ</a></span></li><li><span><a href=\"#$\\lambda-(t)-=-f(t,-I(t),-Home(t))$---Gaussian---SE+L+RQ\" data-toc-modified-id=\"$\\lambda-(t)-=-f(t,-I(t),-Home(t))$---Gaussian---SE+L+RQ-3.35\"><strong>$\\lambda (t) = f(t, I(t), Home(t))$</strong> - Gaussian - SE+L+RQ</a></span></li><li><span><a href=\"#$\\lambda-(t)-=-f(t,-S(t)*I(t),-Home(t))$---Gaussian---SE+L+RQ\" data-toc-modified-id=\"$\\lambda-(t)-=-f(t,-S(t)*I(t),-Home(t))$---Gaussian---SE+L+RQ-3.36\"><strong>$\\lambda (t) = f(t, S(t)*I(t), Home(t))$</strong> - Gaussian - SE+L+RQ</a></span></li><li><span><a href=\"#$\\lambda-(t)-=-f(t,-S(t)*I(t),-Home(t)*Work(t)*Recreational(t))$---Gaussian---SE+L+RQ\" data-toc-modified-id=\"$\\lambda-(t)-=-f(t,-S(t)*I(t),-Home(t)*Work(t)*Recreational(t))$---Gaussian---SE+L+RQ-3.37\"><strong>$\\lambda (t) = f(t, S(t)*I(t), Home(t)*Work(t)*Recreational(t))$</strong> - Gaussian - SE+L+RQ</a></span></li><li><span><a href=\"#$\\lambda-(t)-=-f(t,-S(t),-I(t),-Home(t),-Work(t),-Recreational(t))$---Gaussian---SE+L+RQ\" data-toc-modified-id=\"$\\lambda-(t)-=-f(t,-S(t),-I(t),-Home(t),-Work(t),-Recreational(t))$---Gaussian---SE+L+RQ-3.38\"><strong>$\\lambda (t) = f(t, S(t), I(t), Home(t), Work(t), Recreational(t))$</strong> - Gaussian - SE+L+RQ</a></span></li><li><span><a href=\"#$\\lambda-(t)-=-f(t,-S(t)^p,-I(t)^p,-Home(t)^p,-Work(t)^p,-Recreational(t)^p)$---Gaussian---SE+L+RQ\" data-toc-modified-id=\"$\\lambda-(t)-=-f(t,-S(t)^p,-I(t)^p,-Home(t)^p,-Work(t)^p,-Recreational(t)^p)$---Gaussian---SE+L+RQ-3.39\"><strong>$\\lambda (t) = f(t, S(t)^p, I(t)^p, Home(t)^p, Work(t)^p, Recreational(t)^p)$</strong> - Gaussian - SE+L+RQ</a></span></li></ul></li><li><span><a href=\"#Report\" data-toc-modified-id=\"Report-4\">Report</a></span></li></ul></div>"
   ]
  },
  {
   "cell_type": "code",
   "execution_count": 1,
   "metadata": {
    "ExecuteTime": {
     "end_time": "2021-01-06T16:10:03.006336Z",
     "start_time": "2021-01-06T16:09:57.989139Z"
    }
   },
   "outputs": [],
   "source": [
    "import pandas as pd\n",
    "from itertools import cycle\n",
    "import gpflow\n",
    "import numpy as np\n",
    "from gpflow.utilities import print_summary, positive\n",
    "from gpflow.ci_utils import ci_niter\n",
    "from gpflow.optimizers import NaturalGradient\n",
    "from gpflow import set_trainable\n",
    "import tensorflow as tf\n",
    "import tensorflow_probability as tfp\n",
    "import matplotlib.pyplot as plt\n",
    "import seaborn as sns\n",
    "from sklearn import preprocessing\n",
    "from sklearn.model_selection import train_test_split\n",
    "from collections import namedtuple\n",
    "import statsmodels.api as sm\n",
    "\n",
    "sns.set(style=\"white\")\n",
    "pd.set_option('display.max_columns', None)\n",
    "pd.set_option('display.width', None)\n",
    "pd.set_option('display.max_colwidth', -1)\n",
    "\n",
    "gpflow.config.set_default_float(np.float64)\n",
    "gpflow.config.set_default_summary_fmt(\"notebook\")"
   ]
  },
  {
   "cell_type": "markdown",
   "metadata": {},
   "source": [
    "## Dataset"
   ]
  },
  {
   "cell_type": "markdown",
   "metadata": {},
   "source": [
    "### Mobility"
   ]
  },
  {
   "cell_type": "code",
   "execution_count": 2,
   "metadata": {
    "ExecuteTime": {
     "end_time": "2021-01-06T16:11:10.583256Z",
     "start_time": "2021-01-06T16:10:03.007921Z"
    }
   },
   "outputs": [
    {
     "name": "stderr",
     "output_type": "stream",
     "text": [
      "/Users/N547113/opt/anaconda3/lib/python3.8/site-packages/IPython/core/interactiveshell.py:3071: DtypeWarning: Columns (4) have mixed types. Specify dtype option on import or set low_memory=False.\n",
      "  has_raised = await self.run_ast_nodes(code_ast.body, cell_name,\n"
     ]
    }
   ],
   "source": [
    "mobility_data = pd.read_csv(\n",
    "    \"./Data/Google/Global_Mobility_Report.csv\", \n",
    "    encoding=\"ISO-8859-1\", \n",
    "    parse_dates=[\"date\"],\n",
    "    dayfirst=True\n",
    ")"
   ]
  },
  {
   "cell_type": "code",
   "execution_count": 3,
   "metadata": {
    "ExecuteTime": {
     "end_time": "2021-01-06T16:11:10.764259Z",
     "start_time": "2021-01-06T16:11:10.585549Z"
    }
   },
   "outputs": [],
   "source": [
    "mobility_data_us = mobility_data[\n",
    "    (mobility_data[\"country_region\"]==\"United States\") & \n",
    "    (~mobility_data[\"sub_region_1\"].isnull()) &\n",
    "    (mobility_data[\"sub_region_2\"].isnull())\n",
    "]\n",
    "mobility_data_us_temp = mobility_data_us.iloc[:,7:] # keep only relevant columns\n",
    "mobility_data_us_temp[\"state\"] = mobility_data_us[\"sub_region_1\"]\n",
    "mobility_data_us_temp.iloc[:,1:-1] = mobility_data_us_temp.iloc[:,1:-1].apply(lambda x: x/100 + 1)\n",
    "mobility_data_us =  mobility_data_us_temp.reset_index(drop=True)"
   ]
  },
  {
   "cell_type": "code",
   "execution_count": 4,
   "metadata": {
    "ExecuteTime": {
     "end_time": "2021-01-06T16:11:10.836444Z",
     "start_time": "2021-01-06T16:11:10.766483Z"
    }
   },
   "outputs": [],
   "source": [
    "mobility_data_us = pd.DataFrame({\n",
    "    \"state\": mobility_data_us[\"state\"],\n",
    "    \"date\": mobility_data_us[\"date\"],\n",
    "    \"HOME\": mobility_data_us['residential_percent_change_from_baseline'],\n",
    "    \"WORK\": mobility_data_us['workplaces_percent_change_from_baseline'],\n",
    "    \"RECREATIONAL\": mobility_data_us['retail_and_recreation_percent_change_from_baseline'],\n",
    "    \"OTHER\": mobility_data_us.iloc[:,2:5].mean(axis=1)\n",
    "})\n",
    "\n",
    "processed_dfs = []\n",
    "\n",
    "for state in mobility_data_us[\"state\"].unique():\n",
    "    d = mobility_data_us[mobility_data_us[\"state\"] == state].copy()\n",
    "    \n",
    "    d[\"HOME\"] = d[\"HOME\"].rolling(7).median()\n",
    "    d[\"WORK\"] = d[\"WORK\"].rolling(7).median()\n",
    "    d[\"RECREATIONAL\"] = d[\"RECREATIONAL\"].rolling(7).median()\n",
    "    d[\"OTHER\"] = d[\"OTHER\"].rolling(7).median()\n",
    "\n",
    "    processed_dfs.append(d)\n",
    "    \n",
    "mobility_data_us = pd.concat(processed_dfs)\n"
   ]
  },
  {
   "cell_type": "code",
   "execution_count": 5,
   "metadata": {
    "ExecuteTime": {
     "end_time": "2021-01-06T16:11:13.745619Z",
     "start_time": "2021-01-06T16:11:10.838146Z"
    }
   },
   "outputs": [
    {
     "name": "stderr",
     "output_type": "stream",
     "text": [
      "/Users/N547113/opt/anaconda3/lib/python3.8/site-packages/pandas/plotting/_converter.py:129: FutureWarning: Using an implicitly registered datetime converter for a matplotlib plotting method. The converter was registered by pandas on import. Future versions of pandas will require you to explicitly register matplotlib converters.\n",
      "\n",
      "To register the converters:\n",
      "\t>>> from pandas.plotting import register_matplotlib_converters\n",
      "\t>>> register_matplotlib_converters()\n",
      "  warnings.warn(msg, FutureWarning)\n"
     ]
    },
    {
     "data": {
      "image/png": "[encoded data removed]",
      "text/plain": [
       "<Figure size 1440x2160 with 18 Axes>"
      ]
     },
     "metadata": {},
     "output_type": "display_data"
    }
   ],
   "source": [
    "fig, axs = plt.subplots(9, 2, figsize=(20, 30), sharex=True)\n",
    "\n",
    "for i, state in enumerate(mobility_data_us[\"state\"].unique()):\n",
    "    ax = axs[i//2, i%2]\n",
    "    ax.plot(mobility_data_us[mobility_data_us[\"state\"]==state].set_index(\"date\")[[\"HOME\", \"WORK\"]])\n",
    "    ax.set_title(state)"
   ]
  },
  {
   "cell_type": "markdown",
   "metadata": {},
   "source": [
    "### Cases"
   ]
  },
  {
   "cell_type": "code",
   "execution_count": 6,
   "metadata": {
    "ExecuteTime": {
     "end_time": "2021-01-06T16:11:55.844097Z",
     "start_time": "2021-01-06T16:11:13.746985Z"
    }
   },
   "outputs": [],
   "source": [
    "# COVID Cases from Microsoft, includes Recovered and Infected\n",
    "ms_covid = pd.read_csv(\n",
    "    \"./Data/Microsoft/COVID_CASES.csv\", \n",
    "    encoding=\"ISO-8859-1\",\n",
    "    parse_dates=[\"Updated\"],\n",
    "    dayfirst=False\n",
    ")\n",
    "ms_us_covid = ms_covid[\n",
    "    (ms_covid[\"Country_Region\"]==\"United States\") & \n",
    "    (~ms_covid[\"AdminRegion1\"].isnull()) &\n",
    "    (ms_covid[\"AdminRegion2\"].isnull())\n",
    "]\n",
    "ms_us_covid = ms_us_covid.loc[:,[\"AdminRegion1\", \"Updated\", \"Confirmed\", \"ConfirmedChange\", \"Deaths\", \"Recovered\"]]\n",
    "ms_us_covid.rename(columns={\"AdminRegion1\": \"state\"}, inplace=True)\n",
    "ms_us_covid.reset_index(drop=True, inplace=True)"
   ]
  },
  {
   "cell_type": "code",
   "execution_count": 7,
   "metadata": {
    "ExecuteTime": {
     "end_time": "2021-01-06T16:11:56.324378Z",
     "start_time": "2021-01-06T16:11:55.845307Z"
    }
   },
   "outputs": [],
   "source": [
    "population = pd.read_excel(\n",
    "    \"./Data/Population/US_population_raw_data.xlsx\")\n",
    "STATE_POPULATION = dict(zip(population[1:].Location, population[1:].COVIDTotal))\n",
    "\n",
    "processed_dfs = []\n",
    "\n",
    "for state in ms_us_covid[\"state\"].unique():\n",
    "    d = ms_us_covid[ms_us_covid[\"state\"] == state]\n",
    "    d = d.fillna(method='ffill').fillna(0)\n",
    "    d[\"I\"] = d[\"Confirmed\"] - d[\"Deaths\"] - d[\"Recovered\"]\n",
    "\n",
    "    d[\"S\"] = int(STATE_POPULATION[state]) - d[\"I\"]\n",
    "\n",
    "    d[\"ConfirmedChange\"] = np.log(d[\"ConfirmedChange\"].rolling(7).median()+1)\n",
    "    d[\"I\"] = np.log(d[\"I\"].rolling(7).median()+1)\n",
    "    d[\"S\"] = np.log(d[\"S\"].rolling(7).median()+1)\n",
    "\n",
    "    d.dropna(inplace=True)\n",
    "    processed_dfs.append(d)\n",
    "    \n",
    "ms_us_covid = pd.concat(processed_dfs)\n",
    "ms_us_covid[\"WEEKDAY\"] = (ms_us_covid[\"Updated\"].dt.dayofweek < 5).astype(int)\n",
    "ms_us_covid[\"index\"] = ms_us_covid[\"Updated\"].dt.dayofyear"
   ]
  },
  {
   "cell_type": "code",
   "execution_count": 8,
   "metadata": {
    "ExecuteTime": {
     "end_time": "2021-01-06T16:12:05.712776Z",
     "start_time": "2021-01-06T16:11:56.327493Z"
    },
    "scrolled": false
   },
   "outputs": [
    {
     "data": {
      "image/png": "[encoded data removed]",
      "text/plain": [
       "<Figure size 1440x4320 with 52 Axes>"
      ]
     },
     "metadata": {},
     "output_type": "display_data"
    }
   ],
   "source": [
    "import math\n",
    "fig, axs = plt.subplots(\n",
    "    math.ceil(ms_us_covid[\"state\"].nunique() / 2), 2, \n",
    "    figsize=(20, 60), sharex=True\n",
    ")\n",
    "\n",
    "for i, state in enumerate(ms_us_covid[\"state\"].unique()):\n",
    "    ax = axs[i//2, i%2]\n",
    "    d = ms_us_covid[ms_us_covid[\"state\"]==state]\n",
    "    ax.plot(d.set_index(\"Updated\")[[\"ConfirmedChange\"]])\n",
    "    ax.set_title(state)"
   ]
  },
  {
   "cell_type": "markdown",
   "metadata": {},
   "source": [
    "### Merge"
   ]
  },
  {
   "cell_type": "code",
   "execution_count": 9,
   "metadata": {
    "ExecuteTime": {
     "end_time": "2021-01-06T16:12:05.734114Z",
     "start_time": "2021-01-06T16:12:05.715277Z"
    }
   },
   "outputs": [],
   "source": [
    "final_data = ms_us_covid.merge(\n",
    "    mobility_data_us, how='left', left_on=[\"state\", \"Updated\"], right_on=[\"state\", \"date\"]\n",
    ")\n",
    "final_data.dropna(inplace=True)\n",
    "final_data.set_index(\"state\", inplace=True)"
   ]
  },
  {
   "cell_type": "markdown",
   "metadata": {},
   "source": [
    "## Model"
   ]
  },
  {
   "cell_type": "code",
   "execution_count": 10,
   "metadata": {
    "ExecuteTime": {
     "end_time": "2021-01-06T16:12:05.740430Z",
     "start_time": "2021-01-06T16:12:05.735700Z"
    }
   },
   "outputs": [],
   "source": [
    "from experiment import run_experiment, Report"
   ]
  },
  {
   "cell_type": "code",
   "execution_count": 11,
   "metadata": {
    "ExecuteTime": {
     "end_time": "2021-01-06T16:12:05.746789Z",
     "start_time": "2021-01-06T16:12:05.742072Z"
    }
   },
   "outputs": [],
   "source": [
    "def train_test_split_func(t, X, y):\n",
    "    ix = sorted(X.index.unique())\n",
    "    ix_train, ix_test = ix[:-2], ix[-2:]\n",
    "\n",
    "    t_train, t_test = t.loc[ix_train].to_numpy(), t.loc[ix_test].to_numpy()\n",
    "    X_train, X_test = X.loc[ix_train].to_numpy(), X.loc[ix_test].to_numpy()\n",
    "    y_train, y_test = y.loc[ix_train].to_numpy(), y.loc[ix_test].to_numpy()\n",
    "    \n",
    "    return t_train, t_test, X_train, X_test, y_train, y_test"
   ]
  },
  {
   "cell_type": "markdown",
   "metadata": {},
   "source": [
    "## Experiments"
   ]
  },
  {
   "cell_type": "code",
   "execution_count": 12,
   "metadata": {
    "ExecuteTime": {
     "end_time": "2021-01-06T16:12:05.750714Z",
     "start_time": "2021-01-06T16:12:05.748479Z"
    }
   },
   "outputs": [],
   "source": [
    "results = set()"
   ]
  },
  {
   "cell_type": "code",
   "execution_count": 13,
   "metadata": {
    "ExecuteTime": {
     "end_time": "2021-01-06T16:13:55.586779Z",
     "start_time": "2021-01-06T16:12:05.752128Z"
    }
   },
   "outputs": [],
   "source": [
    "t = final_data[[\"Updated\"]]\n",
    "y = final_data[[\"ConfirmedChange\"]]\n",
    "X = pd.DataFrame({\n",
    "    \"S*I\": final_data[\"S\"] * final_data[\"I\"],\n",
    "    \"WEEKDAY\": final_data[\"WEEKDAY\"],\n",
    "    \"HOME\": final_data[\"HOME\"],\n",
    "    \"WORK\": final_data[\"WORK\"],\n",
    "    \"RECREATIONAL\": final_data[\"RECREATIONAL\"],\n",
    "}, index=final_data.index)[[\n",
    "    \"S*I\",\n",
    "    \"WEEKDAY\",\n",
    "    \"HOME\", \n",
    "    \"WORK\", \n",
    "    \"RECREATIONAL\"\n",
    "]]\n",
    "\n",
    "model_params = {\n",
    "    'kernel': (\n",
    "        gpflow.kernels.SquaredExponential() *\n",
    "        gpflow.kernels.Linear() *\n",
    "        gpflow.kernels.RationalQuadratic()\n",
    "    )\n",
    "}\n",
    "\n",
    "res, model = run_experiment('$f(S(t)I(t), WKD(t), HOME(t), WORK(t), RCR(t))$', t, X, y, \n",
    "                            model_params=model_params, \n",
    "                            train_test_split_func=train_test_split_func, \n",
    "                            plot=False)\n",
    "results.add(res)"
   ]
  },
  {
   "cell_type": "code",
   "execution_count": 14,
   "metadata": {
    "ExecuteTime": {
     "end_time": "2021-01-06T16:13:55.596511Z",
     "start_time": "2021-01-06T16:13:55.588608Z"
    }
   },
   "outputs": [
    {
     "data": {
      "text/html": [
       "<div>\n",
       "<style scoped>\n",
       "    .dataframe tbody tr th:only-of-type {\n",
       "        vertical-align: middle;\n",
       "    }\n",
       "\n",
       "    .dataframe tbody tr th {\n",
       "        vertical-align: top;\n",
       "    }\n",
       "\n",
       "    .dataframe thead th {\n",
       "        text-align: right;\n",
       "    }\n",
       "</style>\n",
       "<table border=\"1\" class=\"dataframe\">\n",
       "  <thead>\n",
       "    <tr style=\"text-align: right;\">\n",
       "      <th></th>\n",
       "      <th>Summary</th>\n",
       "    </tr>\n",
       "  </thead>\n",
       "  <tbody>\n",
       "    <tr>\n",
       "      <th>Model</th>\n",
       "      <td>$f(S(t)I(t), WKD(t), HOME(t), WORK(t), RCR(t))$</td>\n",
       "    </tr>\n",
       "    <tr>\n",
       "      <th>Likelihood</th>\n",
       "      <td>Gaussian</td>\n",
       "    </tr>\n",
       "    <tr>\n",
       "      <th>Kernel</th>\n",
       "      <td>Product</td>\n",
       "    </tr>\n",
       "    <tr>\n",
       "      <th>ELBO</th>\n",
       "      <td>-404.54</td>\n",
       "    </tr>\n",
       "    <tr>\n",
       "      <th>Training-set dates</th>\n",
       "      <td>2020-02-21 to 2020-07-27</td>\n",
       "    </tr>\n",
       "    <tr>\n",
       "      <th>Test-set dates</th>\n",
       "      <td>2020-02-26 to 2020-07-27</td>\n",
       "    </tr>\n",
       "    <tr>\n",
       "      <th>train_size</th>\n",
       "      <td>2298</td>\n",
       "    </tr>\n",
       "    <tr>\n",
       "      <th>test_size</th>\n",
       "      <td>304</td>\n",
       "    </tr>\n",
       "    <tr>\n",
       "      <th>Number of inducing points</th>\n",
       "      <td>15</td>\n",
       "    </tr>\n",
       "    <tr>\n",
       "      <th>run_time</th>\n",
       "      <td>109.784</td>\n",
       "    </tr>\n",
       "    <tr>\n",
       "      <th>Train average variance</th>\n",
       "      <td>0.0062</td>\n",
       "    </tr>\n",
       "    <tr>\n",
       "      <th>Test average variance</th>\n",
       "      <td>0.0041</td>\n",
       "    </tr>\n",
       "    <tr>\n",
       "      <th>Train average error</th>\n",
       "      <td>0.0003</td>\n",
       "    </tr>\n",
       "    <tr>\n",
       "      <th>Test average error</th>\n",
       "      <td>0.17</td>\n",
       "    </tr>\n",
       "    <tr>\n",
       "      <th>1st week average error</th>\n",
       "      <td>0.1307</td>\n",
       "    </tr>\n",
       "    <tr>\n",
       "      <th>2nd week average error</th>\n",
       "      <td>0.1642</td>\n",
       "    </tr>\n",
       "    <tr>\n",
       "      <th>3rd week average error</th>\n",
       "      <td>0.171</td>\n",
       "    </tr>\n",
       "  </tbody>\n",
       "</table>\n",
       "</div>"
      ],
      "text/plain": [
       "                                                                   Summary\n",
       "Model                      $f(S(t)I(t), WKD(t), HOME(t), WORK(t), RCR(t))$\n",
       "Likelihood                 Gaussian                                       \n",
       "Kernel                     Product                                        \n",
       "ELBO                      -404.54                                         \n",
       "Training-set dates         2020-02-21 to 2020-07-27                       \n",
       "Test-set dates             2020-02-26 to 2020-07-27                       \n",
       "train_size                 2298                                           \n",
       "test_size                  304                                            \n",
       "Number of inducing points  15                                             \n",
       "run_time                   109.784                                        \n",
       "Train average variance     0.0062                                         \n",
       "Test average variance      0.0041                                         \n",
       "Train average error        0.0003                                         \n",
       "Test average error         0.17                                           \n",
       "1st week average error     0.1307                                         \n",
       "2nd week average error     0.1642                                         \n",
       "3rd week average error     0.171                                          "
      ]
     },
     "execution_count": 14,
     "metadata": {},
     "output_type": "execute_result"
    }
   ],
   "source": [
    "res.to_pandas()"
   ]
  },
  {
   "cell_type": "markdown",
   "metadata": {},
   "source": [
    "### **$\\lambda (t) = f(t)$** - Gaussian - Matern32"
   ]
  },
  {
   "cell_type": "code",
   "execution_count": 15,
   "metadata": {
    "ExecuteTime": {
     "end_time": "2021-01-06T16:14:59.561168Z",
     "start_time": "2021-01-06T16:13:55.598217Z"
    }
   },
   "outputs": [],
   "source": [
    "t = final_data[[\"Updated\"]]\n",
    "y = final_data[[\"ConfirmedChange\"]]\n",
    "X = final_data[[\"index\"]]\n",
    "\n",
    "model_params = {\n",
    "}\n",
    "\n",
    "res, model = run_experiment('$f(t)$', t, X, y, \n",
    "                            model_params=model_params, \n",
    "                            train_test_split_func=train_test_split_func, \n",
    "                            plot=False)\n",
    "results.add(res)"
   ]
  },
  {
   "cell_type": "code",
   "execution_count": 16,
   "metadata": {
    "ExecuteTime": {
     "end_time": "2021-01-06T16:14:59.577912Z",
     "start_time": "2021-01-06T16:14:59.562509Z"
    }
   },
   "outputs": [
    {
     "data": {
      "text/html": [
       "&lt;gpflow.models.svgp.SVGP object at 0x7fe69c6a6b20&gt;\n",
       "<table>\n",
       "<thead>\n",
       "<tr><th>name                    </th><th>class    </th><th>transform       </th><th>prior  </th><th>trainable  </th><th>shape      </th><th>dtype  </th><th>value                                               </th></tr>\n",
       "</thead>\n",
       "<tbody>\n",
       "<tr><td>SVGP.kernel.variance    </td><td>Parameter</td><td>Softplus        </td><td>       </td><td>True       </td><td>()         </td><td>float64</td><td>1.0061869116755404                                  </td></tr>\n",
       "<tr><td>SVGP.kernel.lengthscales</td><td>Parameter</td><td>Softplus        </td><td>       </td><td>True       </td><td>()         </td><td>float64</td><td>1.3631549203220026                                  </td></tr>\n",
       "<tr><td>SVGP.likelihood.variance</td><td>Parameter</td><td>Softplus + Shift</td><td>       </td><td>True       </td><td>()         </td><td>float64</td><td>0.4649015645862146                                  </td></tr>\n",
       "<tr><td>SVGP.inducing_variable.Z</td><td>Parameter</td><td>Identity        </td><td>       </td><td>True       </td><td>(15, 1)    </td><td>float64</td><td>[[1.41376308...                                     </td></tr>\n",
       "<tr><td>SVGP.q_mu               </td><td>Parameter</td><td>Identity        </td><td>       </td><td>False      </td><td>(15, 1)    </td><td>float64</td><td>[[6.37000798e-01...                                 </td></tr>\n",
       "<tr><td>SVGP.q_sqrt             </td><td>Parameter</td><td>FillTriangular  </td><td>       </td><td>False      </td><td>(1, 15, 15)</td><td>float64</td><td>[[[4.91617281e-02, 0.00000000e+00, 0.00000000e+00...</td></tr>\n",
       "</tbody>\n",
       "</table>"
      ],
      "text/plain": [
       "<gpflow.models.svgp.SVGP object at 0x7fe69c6a6b20>\n",
       "name                      class      transform         prior    trainable    shape        dtype    value\n",
       "------------------------  ---------  ----------------  -------  -----------  -----------  -------  ----------------------------------------------------\n",
       "SVGP.kernel.variance      Parameter  Softplus                   True         ()           float64  1.0061869116755404\n",
       "SVGP.kernel.lengthscales  Parameter  Softplus                   True         ()           float64  1.3631549203220026\n",
       "SVGP.likelihood.variance  Parameter  Softplus + Shift           True         ()           float64  0.4649015645862146\n",
       "SVGP.inducing_variable.Z  Parameter  Identity                   True         (15, 1)      float64  [[1.41376308...\n",
       "SVGP.q_mu                 Parameter  Identity                   False        (15, 1)      float64  [[6.37000798e-01...\n",
       "SVGP.q_sqrt               Parameter  FillTriangular             False        (1, 15, 15)  float64  [[[4.91617281e-02, 0.00000000e+00, 0.00000000e+00..."
      ]
     },
     "execution_count": 16,
     "metadata": {},
     "output_type": "execute_result"
    }
   ],
   "source": [
    "model._model"
   ]
  },
  {
   "cell_type": "markdown",
   "metadata": {},
   "source": [
    "### **$\\lambda (t) = f(S(t), I(t))$** - Gaussian - Matern32"
   ]
  },
  {
   "cell_type": "code",
   "execution_count": 17,
   "metadata": {
    "ExecuteTime": {
     "end_time": "2021-01-06T16:16:06.218828Z",
     "start_time": "2021-01-06T16:14:59.579274Z"
    }
   },
   "outputs": [],
   "source": [
    "t = final_data[[\"Updated\"]]\n",
    "y = final_data[[\"ConfirmedChange\"]]\n",
    "X = final_data[[\"S\", \"I\"]]\n",
    "\n",
    "model_params = {\n",
    "}\n",
    "\n",
    "res, model = run_experiment('$f(S(t), I(t))$', t, X, y, \n",
    "                            model_params=model_params, \n",
    "                            train_test_split_func=train_test_split_func, \n",
    "                            plot=False)\n",
    "results.add(res)"
   ]
  },
  {
   "cell_type": "code",
   "execution_count": 18,
   "metadata": {
    "ExecuteTime": {
     "end_time": "2021-01-06T16:16:06.235086Z",
     "start_time": "2021-01-06T16:16:06.220194Z"
    }
   },
   "outputs": [
    {
     "data": {
      "text/html": [
       "&lt;gpflow.models.svgp.SVGP object at 0x7fe6a67961f0&gt;\n",
       "<table>\n",
       "<thead>\n",
       "<tr><th>name                    </th><th>class    </th><th>transform       </th><th>prior  </th><th>trainable  </th><th>shape      </th><th>dtype  </th><th>value                                               </th></tr>\n",
       "</thead>\n",
       "<tbody>\n",
       "<tr><td>SVGP.kernel.variance    </td><td>Parameter</td><td>Softplus        </td><td>       </td><td>True       </td><td>()         </td><td>float64</td><td>0.35503566037815243                                 </td></tr>\n",
       "<tr><td>SVGP.kernel.lengthscales</td><td>Parameter</td><td>Softplus        </td><td>       </td><td>True       </td><td>()         </td><td>float64</td><td>2.5619213961300553                                  </td></tr>\n",
       "<tr><td>SVGP.likelihood.variance</td><td>Parameter</td><td>Softplus + Shift</td><td>       </td><td>True       </td><td>()         </td><td>float64</td><td>0.0675809410424615                                  </td></tr>\n",
       "<tr><td>SVGP.inducing_variable.Z</td><td>Parameter</td><td>Identity        </td><td>       </td><td>True       </td><td>(15, 2)    </td><td>float64</td><td>[[-1.25407553, -0.12879545...                       </td></tr>\n",
       "<tr><td>SVGP.q_mu               </td><td>Parameter</td><td>Identity        </td><td>       </td><td>False      </td><td>(15, 1)    </td><td>float64</td><td>[[-0.52955598...                                    </td></tr>\n",
       "<tr><td>SVGP.q_sqrt             </td><td>Parameter</td><td>FillTriangular  </td><td>       </td><td>False      </td><td>(1, 15, 15)</td><td>float64</td><td>[[[2.61840775e-02, 0.00000000e+00, 0.00000000e+00...</td></tr>\n",
       "</tbody>\n",
       "</table>"
      ],
      "text/plain": [
       "<gpflow.models.svgp.SVGP object at 0x7fe6a67961f0>\n",
       "name                      class      transform         prior    trainable    shape        dtype    value\n",
       "------------------------  ---------  ----------------  -------  -----------  -----------  -------  ----------------------------------------------------\n",
       "SVGP.kernel.variance      Parameter  Softplus                   True         ()           float64  0.35503566037815243\n",
       "SVGP.kernel.lengthscales  Parameter  Softplus                   True         ()           float64  2.5619213961300553\n",
       "SVGP.likelihood.variance  Parameter  Softplus + Shift           True         ()           float64  0.0675809410424615\n",
       "SVGP.inducing_variable.Z  Parameter  Identity                   True         (15, 2)      float64  [[-1.25407553, -0.12879545...\n",
       "SVGP.q_mu                 Parameter  Identity                   False        (15, 1)      float64  [[-0.52955598...\n",
       "SVGP.q_sqrt               Parameter  FillTriangular             False        (1, 15, 15)  float64  [[[2.61840775e-02, 0.00000000e+00, 0.00000000e+00..."
      ]
     },
     "execution_count": 18,
     "metadata": {},
     "output_type": "execute_result"
    }
   ],
   "source": [
    "model._model"
   ]
  },
  {
   "cell_type": "markdown",
   "metadata": {},
   "source": [
    "### **$\\lambda (t) = f(S(t)*I(t))$** - Gaussian - Matern32"
   ]
  },
  {
   "cell_type": "code",
   "execution_count": 19,
   "metadata": {
    "ExecuteTime": {
     "end_time": "2021-01-06T16:17:05.803292Z",
     "start_time": "2021-01-06T16:16:06.237162Z"
    }
   },
   "outputs": [],
   "source": [
    "t = final_data[[\"Updated\"]]\n",
    "y = final_data[[\"ConfirmedChange\"]]\n",
    "X = pd.DataFrame({\n",
    "    \"S*I\": final_data[\"S\"] * final_data[\"I\"]\n",
    "}, index=final_data.index)[[\"S*I\"]]\n",
    "\n",
    "model_params = {\n",
    "}\n",
    "\n",
    "res, model = run_experiment('$f(S(t)*I(t))$', t, X, y, \n",
    "                            model_params=model_params, \n",
    "                            train_test_split_func=train_test_split_func, \n",
    "                            plot=False)\n",
    "results.add(res)"
   ]
  },
  {
   "cell_type": "code",
   "execution_count": 20,
   "metadata": {
    "ExecuteTime": {
     "end_time": "2021-01-06T16:17:05.819356Z",
     "start_time": "2021-01-06T16:17:05.804903Z"
    }
   },
   "outputs": [
    {
     "data": {
      "text/html": [
       "&lt;gpflow.models.svgp.SVGP object at 0x7fe69cba2ee0&gt;\n",
       "<table>\n",
       "<thead>\n",
       "<tr><th>name                    </th><th>class    </th><th>transform       </th><th>prior  </th><th>trainable  </th><th>shape      </th><th>dtype  </th><th>value                                               </th></tr>\n",
       "</thead>\n",
       "<tbody>\n",
       "<tr><td>SVGP.kernel.variance    </td><td>Parameter</td><td>Softplus        </td><td>       </td><td>True       </td><td>()         </td><td>float64</td><td>0.9615004290617077                                  </td></tr>\n",
       "<tr><td>SVGP.kernel.lengthscales</td><td>Parameter</td><td>Softplus        </td><td>       </td><td>True       </td><td>()         </td><td>float64</td><td>1.3396878251226787                                  </td></tr>\n",
       "<tr><td>SVGP.likelihood.variance</td><td>Parameter</td><td>Softplus + Shift</td><td>       </td><td>True       </td><td>()         </td><td>float64</td><td>0.07645902390089178                                 </td></tr>\n",
       "<tr><td>SVGP.inducing_variable.Z</td><td>Parameter</td><td>Identity        </td><td>       </td><td>True       </td><td>(15, 1)    </td><td>float64</td><td>[[-0.16316342...                                    </td></tr>\n",
       "<tr><td>SVGP.q_mu               </td><td>Parameter</td><td>Identity        </td><td>       </td><td>False      </td><td>(15, 1)    </td><td>float64</td><td>[[-1.17802883e-01...                                </td></tr>\n",
       "<tr><td>SVGP.q_sqrt             </td><td>Parameter</td><td>FillTriangular  </td><td>       </td><td>False      </td><td>(1, 15, 15)</td><td>float64</td><td>[[[2.10725469e-02, 0.00000000e+00, 0.00000000e+00...</td></tr>\n",
       "</tbody>\n",
       "</table>"
      ],
      "text/plain": [
       "<gpflow.models.svgp.SVGP object at 0x7fe69cba2ee0>\n",
       "name                      class      transform         prior    trainable    shape        dtype    value\n",
       "------------------------  ---------  ----------------  -------  -----------  -----------  -------  ----------------------------------------------------\n",
       "SVGP.kernel.variance      Parameter  Softplus                   True         ()           float64  0.9615004290617077\n",
       "SVGP.kernel.lengthscales  Parameter  Softplus                   True         ()           float64  1.3396878251226787\n",
       "SVGP.likelihood.variance  Parameter  Softplus + Shift           True         ()           float64  0.07645902390089178\n",
       "SVGP.inducing_variable.Z  Parameter  Identity                   True         (15, 1)      float64  [[-0.16316342...\n",
       "SVGP.q_mu                 Parameter  Identity                   False        (15, 1)      float64  [[-1.17802883e-01...\n",
       "SVGP.q_sqrt               Parameter  FillTriangular             False        (1, 15, 15)  float64  [[[2.10725469e-02, 0.00000000e+00, 0.00000000e+00..."
      ]
     },
     "execution_count": 20,
     "metadata": {},
     "output_type": "execute_result"
    }
   ],
   "source": [
    "model._model"
   ]
  },
  {
   "cell_type": "markdown",
   "metadata": {},
   "source": [
    "### **$\\lambda (t) = f(S(t)+I(t))$** - Gaussian - Matern32"
   ]
  },
  {
   "cell_type": "code",
   "execution_count": 21,
   "metadata": {
    "ExecuteTime": {
     "end_time": "2021-01-06T16:18:05.312589Z",
     "start_time": "2021-01-06T16:17:05.821283Z"
    }
   },
   "outputs": [],
   "source": [
    "t = final_data[[\"Updated\"]]\n",
    "y = final_data[[\"ConfirmedChange\"]]\n",
    "X = pd.DataFrame({\n",
    "    \"S+I\": final_data[\"S\"] + final_data[\"I\"]\n",
    "}, index=final_data.index)[[\n",
    "    \"S+I\"\n",
    "]]\n",
    "\n",
    "model_params = {\n",
    "}\n",
    "\n",
    "res, model = run_experiment('$f(S(t)+I(t))$', t, X, y, \n",
    "                            model_params=model_params, \n",
    "                            train_test_split_func=train_test_split_func, \n",
    "                            plot=False)\n",
    "results.add(res)"
   ]
  },
  {
   "cell_type": "code",
   "execution_count": 22,
   "metadata": {
    "ExecuteTime": {
     "end_time": "2021-01-06T16:18:05.328425Z",
     "start_time": "2021-01-06T16:18:05.314248Z"
    }
   },
   "outputs": [
    {
     "data": {
      "text/html": [
       "&lt;gpflow.models.svgp.SVGP object at 0x7fe69cd08a60&gt;\n",
       "<table>\n",
       "<thead>\n",
       "<tr><th>name                    </th><th>class    </th><th>transform       </th><th>prior  </th><th>trainable  </th><th>shape      </th><th>dtype  </th><th>value                                               </th></tr>\n",
       "</thead>\n",
       "<tbody>\n",
       "<tr><td>SVGP.kernel.variance    </td><td>Parameter</td><td>Softplus        </td><td>       </td><td>True       </td><td>()         </td><td>float64</td><td>1.0299976452786148                                  </td></tr>\n",
       "<tr><td>SVGP.kernel.lengthscales</td><td>Parameter</td><td>Softplus        </td><td>       </td><td>True       </td><td>()         </td><td>float64</td><td>1.4910782492001686                                  </td></tr>\n",
       "<tr><td>SVGP.likelihood.variance</td><td>Parameter</td><td>Softplus + Shift</td><td>       </td><td>True       </td><td>()         </td><td>float64</td><td>0.08370906630391099                                 </td></tr>\n",
       "<tr><td>SVGP.inducing_variable.Z</td><td>Parameter</td><td>Identity        </td><td>       </td><td>True       </td><td>(15, 1)    </td><td>float64</td><td>[[-0.11209332...                                    </td></tr>\n",
       "<tr><td>SVGP.q_mu               </td><td>Parameter</td><td>Identity        </td><td>       </td><td>False      </td><td>(15, 1)    </td><td>float64</td><td>[[-0.07367087...                                    </td></tr>\n",
       "<tr><td>SVGP.q_sqrt             </td><td>Parameter</td><td>FillTriangular  </td><td>       </td><td>False      </td><td>(1, 15, 15)</td><td>float64</td><td>[[[1.86331995e-02, 0.00000000e+00, 0.00000000e+00...</td></tr>\n",
       "</tbody>\n",
       "</table>"
      ],
      "text/plain": [
       "<gpflow.models.svgp.SVGP object at 0x7fe69cd08a60>\n",
       "name                      class      transform         prior    trainable    shape        dtype    value\n",
       "------------------------  ---------  ----------------  -------  -----------  -----------  -------  ----------------------------------------------------\n",
       "SVGP.kernel.variance      Parameter  Softplus                   True         ()           float64  1.0299976452786148\n",
       "SVGP.kernel.lengthscales  Parameter  Softplus                   True         ()           float64  1.4910782492001686\n",
       "SVGP.likelihood.variance  Parameter  Softplus + Shift           True         ()           float64  0.08370906630391099\n",
       "SVGP.inducing_variable.Z  Parameter  Identity                   True         (15, 1)      float64  [[-0.11209332...\n",
       "SVGP.q_mu                 Parameter  Identity                   False        (15, 1)      float64  [[-0.07367087...\n",
       "SVGP.q_sqrt               Parameter  FillTriangular             False        (1, 15, 15)  float64  [[[1.86331995e-02, 0.00000000e+00, 0.00000000e+00..."
      ]
     },
     "execution_count": 22,
     "metadata": {},
     "output_type": "execute_result"
    }
   ],
   "source": [
    "model._model"
   ]
  },
  {
   "cell_type": "markdown",
   "metadata": {},
   "source": [
    "### **$\\lambda (t) = f(t, S(t)*I(t))$** - Gaussian - Matern32"
   ]
  },
  {
   "cell_type": "code",
   "execution_count": 23,
   "metadata": {
    "ExecuteTime": {
     "end_time": "2021-01-06T16:19:06.509188Z",
     "start_time": "2021-01-06T16:18:05.336692Z"
    }
   },
   "outputs": [],
   "source": [
    "t = final_data[[\"Updated\"]]\n",
    "y = final_data[[\"ConfirmedChange\"]]\n",
    "X = pd.DataFrame({\n",
    "    \"index\": final_data[\"index\"],\n",
    "    \"S*I\": final_data[\"S\"] * final_data[\"I\"]\n",
    "}, index=final_data.index)[[\n",
    "    \"index\",\n",
    "    \"S*I\"\n",
    "]]\n",
    "\n",
    "model_params = {\n",
    "    'kernel': gpflow.kernels.Matern32(lengthscales=np.ones(X.shape[1]))\n",
    "}\n",
    "\n",
    "res, model = run_experiment('$f(t, S(t)*I(t))$', t, X, y, \n",
    "                            model_params=model_params, \n",
    "                            train_test_split_func=train_test_split_func, \n",
    "                            plot=False)\n",
    "results.add(res)"
   ]
  },
  {
   "cell_type": "code",
   "execution_count": 24,
   "metadata": {
    "ExecuteTime": {
     "end_time": "2021-01-06T16:19:06.529633Z",
     "start_time": "2021-01-06T16:19:06.513201Z"
    }
   },
   "outputs": [
    {
     "data": {
      "text/html": [
       "&lt;gpflow.models.svgp.SVGP object at 0x7fe69cdd51f0&gt;\n",
       "<table>\n",
       "<thead>\n",
       "<tr><th>name                    </th><th>class    </th><th>transform       </th><th>prior  </th><th>trainable  </th><th>shape      </th><th>dtype  </th><th>value                                               </th></tr>\n",
       "</thead>\n",
       "<tbody>\n",
       "<tr><td>SVGP.kernel.variance    </td><td>Parameter</td><td>Softplus        </td><td>       </td><td>True       </td><td>()         </td><td>float64</td><td>0.4381727570973805                                  </td></tr>\n",
       "<tr><td>SVGP.kernel.lengthscales</td><td>Parameter</td><td>Softplus        </td><td>       </td><td>True       </td><td>(2,)       </td><td>float64</td><td>[3.43807736 2.24891189]                             </td></tr>\n",
       "<tr><td>SVGP.likelihood.variance</td><td>Parameter</td><td>Softplus + Shift</td><td>       </td><td>True       </td><td>()         </td><td>float64</td><td>0.0559569537182463                                  </td></tr>\n",
       "<tr><td>SVGP.inducing_variable.Z</td><td>Parameter</td><td>Identity        </td><td>       </td><td>True       </td><td>(15, 2)    </td><td>float64</td><td>[[1.36330698, 0.23360616...                         </td></tr>\n",
       "<tr><td>SVGP.q_mu               </td><td>Parameter</td><td>Identity        </td><td>       </td><td>False      </td><td>(15, 1)    </td><td>float64</td><td>[[0.65924866...                                     </td></tr>\n",
       "<tr><td>SVGP.q_sqrt             </td><td>Parameter</td><td>FillTriangular  </td><td>       </td><td>False      </td><td>(1, 15, 15)</td><td>float64</td><td>[[[4.16139863e-02, 0.00000000e+00, 0.00000000e+00...</td></tr>\n",
       "</tbody>\n",
       "</table>"
      ],
      "text/plain": [
       "<gpflow.models.svgp.SVGP object at 0x7fe69cdd51f0>\n",
       "name                      class      transform         prior    trainable    shape        dtype    value\n",
       "------------------------  ---------  ----------------  -------  -----------  -----------  -------  ----------------------------------------------------\n",
       "SVGP.kernel.variance      Parameter  Softplus                   True         ()           float64  0.4381727570973805\n",
       "SVGP.kernel.lengthscales  Parameter  Softplus                   True         (2,)         float64  [3.43807736 2.24891189]\n",
       "SVGP.likelihood.variance  Parameter  Softplus + Shift           True         ()           float64  0.0559569537182463\n",
       "SVGP.inducing_variable.Z  Parameter  Identity                   True         (15, 2)      float64  [[1.36330698, 0.23360616...\n",
       "SVGP.q_mu                 Parameter  Identity                   False        (15, 1)      float64  [[0.65924866...\n",
       "SVGP.q_sqrt               Parameter  FillTriangular             False        (1, 15, 15)  float64  [[[4.16139863e-02, 0.00000000e+00, 0.00000000e+00..."
      ]
     },
     "execution_count": 24,
     "metadata": {},
     "output_type": "execute_result"
    }
   ],
   "source": [
    "model._model"
   ]
  },
  {
   "cell_type": "markdown",
   "metadata": {},
   "source": [
    "### **$\\lambda (t) = f(t, S(t)+I(t))$** - Gaussian - Matern32"
   ]
  },
  {
   "cell_type": "code",
   "execution_count": 25,
   "metadata": {
    "ExecuteTime": {
     "end_time": "2021-01-06T16:20:08.769447Z",
     "start_time": "2021-01-06T16:19:06.531946Z"
    }
   },
   "outputs": [],
   "source": [
    "t = final_data[[\"Updated\"]]\n",
    "y = final_data[[\"ConfirmedChange\"]]\n",
    "X = pd.DataFrame({\n",
    "    \"index\": final_data[\"index\"],\n",
    "    \"S+I\": final_data[\"S\"] + final_data[\"I\"]\n",
    "}, index=final_data.index)[[\n",
    "    \"index\",\n",
    "    \"S+I\"\n",
    "]]\n",
    "\n",
    "model_params = {\n",
    "    'kernel': gpflow.kernels.Matern32(lengthscales=np.ones(X.shape[1]))\n",
    "}\n",
    "\n",
    "res, model = run_experiment('$f(t, S(t)+I(t))$', t, X, y, \n",
    "                            model_params=model_params, \n",
    "                            train_test_split_func=train_test_split_func, \n",
    "                            plot=False)\n",
    "results.add(res)"
   ]
  },
  {
   "cell_type": "code",
   "execution_count": 26,
   "metadata": {
    "ExecuteTime": {
     "end_time": "2021-01-06T16:20:08.784145Z",
     "start_time": "2021-01-06T16:20:08.770664Z"
    }
   },
   "outputs": [
    {
     "data": {
      "text/html": [
       "&lt;gpflow.models.svgp.SVGP object at 0x7fe69cdd20a0&gt;\n",
       "<table>\n",
       "<thead>\n",
       "<tr><th>name                    </th><th>class    </th><th>transform       </th><th>prior  </th><th>trainable  </th><th>shape      </th><th>dtype  </th><th>value                                               </th></tr>\n",
       "</thead>\n",
       "<tbody>\n",
       "<tr><td>SVGP.kernel.variance    </td><td>Parameter</td><td>Softplus        </td><td>       </td><td>True       </td><td>()         </td><td>float64</td><td>0.4116228565248814                                  </td></tr>\n",
       "<tr><td>SVGP.kernel.lengthscales</td><td>Parameter</td><td>Softplus        </td><td>       </td><td>True       </td><td>(2,)       </td><td>float64</td><td>[2.48690043 3.19959045]                             </td></tr>\n",
       "<tr><td>SVGP.likelihood.variance</td><td>Parameter</td><td>Softplus + Shift</td><td>       </td><td>True       </td><td>()         </td><td>float64</td><td>0.06123696690865501                                 </td></tr>\n",
       "<tr><td>SVGP.inducing_variable.Z</td><td>Parameter</td><td>Identity        </td><td>       </td><td>True       </td><td>(15, 2)    </td><td>float64</td><td>[[1.44777467, 0.33275133...                         </td></tr>\n",
       "<tr><td>SVGP.q_mu               </td><td>Parameter</td><td>Identity        </td><td>       </td><td>False      </td><td>(15, 1)    </td><td>float64</td><td>[[0.61984167...                                     </td></tr>\n",
       "<tr><td>SVGP.q_sqrt             </td><td>Parameter</td><td>FillTriangular  </td><td>       </td><td>False      </td><td>(1, 15, 15)</td><td>float64</td><td>[[[3.41548351e-02, 0.00000000e+00, 0.00000000e+00...</td></tr>\n",
       "</tbody>\n",
       "</table>"
      ],
      "text/plain": [
       "<gpflow.models.svgp.SVGP object at 0x7fe69cdd20a0>\n",
       "name                      class      transform         prior    trainable    shape        dtype    value\n",
       "------------------------  ---------  ----------------  -------  -----------  -----------  -------  ----------------------------------------------------\n",
       "SVGP.kernel.variance      Parameter  Softplus                   True         ()           float64  0.4116228565248814\n",
       "SVGP.kernel.lengthscales  Parameter  Softplus                   True         (2,)         float64  [2.48690043 3.19959045]\n",
       "SVGP.likelihood.variance  Parameter  Softplus + Shift           True         ()           float64  0.06123696690865501\n",
       "SVGP.inducing_variable.Z  Parameter  Identity                   True         (15, 2)      float64  [[1.44777467, 0.33275133...\n",
       "SVGP.q_mu                 Parameter  Identity                   False        (15, 1)      float64  [[0.61984167...\n",
       "SVGP.q_sqrt               Parameter  FillTriangular             False        (1, 15, 15)  float64  [[[3.41548351e-02, 0.00000000e+00, 0.00000000e+00..."
      ]
     },
     "execution_count": 26,
     "metadata": {},
     "output_type": "execute_result"
    }
   ],
   "source": [
    "model._model"
   ]
  },
  {
   "cell_type": "markdown",
   "metadata": {},
   "source": [
    "### **$\\lambda (t) = f(t, S(t), I(t))$** - Gaussian - Matern32"
   ]
  },
  {
   "cell_type": "code",
   "execution_count": 27,
   "metadata": {
    "ExecuteTime": {
     "end_time": "2021-01-06T16:21:11.287438Z",
     "start_time": "2021-01-06T16:20:08.785365Z"
    }
   },
   "outputs": [],
   "source": [
    "t = final_data[[\"Updated\"]]\n",
    "y = final_data[[\"ConfirmedChange\"]]\n",
    "X = pd.DataFrame({\n",
    "    \"index\": final_data[\"index\"],\n",
    "    \"S\": final_data[\"S\"],\n",
    "    \"I\": final_data[\"I\"]\n",
    "}, index=final_data.index)[[\n",
    "    \"index\",\n",
    "    \"S\",\n",
    "    \"I\"\n",
    "]]\n",
    "\n",
    "model_params = {\n",
    "    'kernel': gpflow.kernels.Matern32(lengthscales=np.ones(X.shape[1]))\n",
    "}\n",
    "\n",
    "res, model = run_experiment('$f(t, S(t), I(t))$', t, X, y, \n",
    "                            model_params=model_params, \n",
    "                            train_test_split_func=train_test_split_func, \n",
    "                            plot=False)\n",
    "results.add(res)"
   ]
  },
  {
   "cell_type": "code",
   "execution_count": 28,
   "metadata": {
    "ExecuteTime": {
     "end_time": "2021-01-06T16:21:11.304401Z",
     "start_time": "2021-01-06T16:21:11.289192Z"
    },
    "scrolled": true
   },
   "outputs": [
    {
     "data": {
      "text/html": [
       "&lt;gpflow.models.svgp.SVGP object at 0x7fe69cf0dbb0&gt;\n",
       "<table>\n",
       "<thead>\n",
       "<tr><th>name                    </th><th>class    </th><th>transform       </th><th>prior  </th><th>trainable  </th><th>shape      </th><th>dtype  </th><th>value                                               </th></tr>\n",
       "</thead>\n",
       "<tbody>\n",
       "<tr><td>SVGP.kernel.variance    </td><td>Parameter</td><td>Softplus        </td><td>       </td><td>True       </td><td>()         </td><td>float64</td><td>0.20533050750498372                                 </td></tr>\n",
       "<tr><td>SVGP.kernel.lengthscales</td><td>Parameter</td><td>Softplus        </td><td>       </td><td>True       </td><td>(3,)       </td><td>float64</td><td>[3.45901143 4.72304873 2.00488844]                  </td></tr>\n",
       "<tr><td>SVGP.likelihood.variance</td><td>Parameter</td><td>Softplus + Shift</td><td>       </td><td>True       </td><td>()         </td><td>float64</td><td>0.044198116302700485                                </td></tr>\n",
       "<tr><td>SVGP.inducing_variable.Z</td><td>Parameter</td><td>Identity        </td><td>       </td><td>True       </td><td>(15, 3)    </td><td>float64</td><td>[[0.94394978, -1.26176567, 0.24907715...            </td></tr>\n",
       "<tr><td>SVGP.q_mu               </td><td>Parameter</td><td>Identity        </td><td>       </td><td>False      </td><td>(15, 1)    </td><td>float64</td><td>[[-4.61348791e-01...                                </td></tr>\n",
       "<tr><td>SVGP.q_sqrt             </td><td>Parameter</td><td>FillTriangular  </td><td>       </td><td>False      </td><td>(1, 15, 15)</td><td>float64</td><td>[[[3.80651214e-02, 0.00000000e+00, 0.00000000e+00...</td></tr>\n",
       "</tbody>\n",
       "</table>"
      ],
      "text/plain": [
       "<gpflow.models.svgp.SVGP object at 0x7fe69cf0dbb0>\n",
       "name                      class      transform         prior    trainable    shape        dtype    value\n",
       "------------------------  ---------  ----------------  -------  -----------  -----------  -------  ----------------------------------------------------\n",
       "SVGP.kernel.variance      Parameter  Softplus                   True         ()           float64  0.20533050750498372\n",
       "SVGP.kernel.lengthscales  Parameter  Softplus                   True         (3,)         float64  [3.45901143 4.72304873 2.00488844]\n",
       "SVGP.likelihood.variance  Parameter  Softplus + Shift           True         ()           float64  0.044198116302700485\n",
       "SVGP.inducing_variable.Z  Parameter  Identity                   True         (15, 3)      float64  [[0.94394978, -1.26176567, 0.24907715...\n",
       "SVGP.q_mu                 Parameter  Identity                   False        (15, 1)      float64  [[-4.61348791e-01...\n",
       "SVGP.q_sqrt               Parameter  FillTriangular             False        (1, 15, 15)  float64  [[[3.80651214e-02, 0.00000000e+00, 0.00000000e+00..."
      ]
     },
     "execution_count": 28,
     "metadata": {},
     "output_type": "execute_result"
    }
   ],
   "source": [
    "model._model"
   ]
  },
  {
   "cell_type": "markdown",
   "metadata": {},
   "source": [
    "### **$\\lambda (t) = f(t, S(t)^p, I(t)^p)$** - Gaussian - Matern32"
   ]
  },
  {
   "cell_type": "code",
   "execution_count": 29,
   "metadata": {
    "ExecuteTime": {
     "end_time": "2021-01-06T16:22:15.040133Z",
     "start_time": "2021-01-06T16:21:11.306025Z"
    }
   },
   "outputs": [],
   "source": [
    "t = final_data[[\"Updated\"]]\n",
    "y = final_data[[\"ConfirmedChange\"]]\n",
    "X = pd.DataFrame({\n",
    "    \"index\": final_data[\"index\"],\n",
    "    \"S\": final_data[\"S\"],\n",
    "    \"S**2\": final_data[\"S\"]**2,\n",
    "    \"S**3\": final_data[\"S\"]**3,\n",
    "    \"I\": final_data[\"I\"],\n",
    "    \"I**2\": final_data[\"I\"]**2,\n",
    "    \"I**3\": final_data[\"I\"]**3\n",
    "}, index=final_data.index)[[\n",
    "    \"index\",\n",
    "    \"S\", \"S**2\", \"S**3\",\n",
    "    \"I\", \"I**2\", \"I**3\"\n",
    "]]\n",
    "\n",
    "model_params = {\n",
    "    'kernel': gpflow.kernels.Matern32(lengthscales=np.ones(X.shape[1]))\n",
    "}\n",
    "\n",
    "res, model = run_experiment('$f(t, S(t)^p, I(t)^p)$', t, X, y, \n",
    "                            model_params=model_params, \n",
    "                            train_test_split_func=train_test_split_func, \n",
    "                            plot=False)\n",
    "results.add(res)"
   ]
  },
  {
   "cell_type": "code",
   "execution_count": 30,
   "metadata": {
    "ExecuteTime": {
     "end_time": "2021-01-06T16:22:15.057060Z",
     "start_time": "2021-01-06T16:22:15.041829Z"
    },
    "scrolled": true
   },
   "outputs": [
    {
     "data": {
      "text/html": [
       "&lt;gpflow.models.svgp.SVGP object at 0x7fe6a49b36d0&gt;\n",
       "<table>\n",
       "<thead>\n",
       "<tr><th>name                    </th><th>class    </th><th>transform       </th><th>prior  </th><th>trainable  </th><th>shape      </th><th>dtype  </th><th>value                                               </th></tr>\n",
       "</thead>\n",
       "<tbody>\n",
       "<tr><td>SVGP.kernel.variance    </td><td>Parameter</td><td>Softplus        </td><td>       </td><td>True       </td><td>()         </td><td>float64</td><td>0.11408931409231425                                 </td></tr>\n",
       "<tr><td>SVGP.kernel.lengthscales</td><td>Parameter</td><td>Softplus        </td><td>       </td><td>True       </td><td>(7,)       </td><td>float64</td><td>[2.76412662, 4.07461769, 4.31454899...              </td></tr>\n",
       "<tr><td>SVGP.likelihood.variance</td><td>Parameter</td><td>Softplus + Shift</td><td>       </td><td>True       </td><td>()         </td><td>float64</td><td>0.04245569951877612                                 </td></tr>\n",
       "<tr><td>SVGP.inducing_variable.Z</td><td>Parameter</td><td>Identity        </td><td>       </td><td>True       </td><td>(15, 7)    </td><td>float64</td><td>[[0.07889609, 1.1991063, 1.21417958...              </td></tr>\n",
       "<tr><td>SVGP.q_mu               </td><td>Parameter</td><td>Identity        </td><td>       </td><td>False      </td><td>(15, 1)    </td><td>float64</td><td>[[2.28836228...                                     </td></tr>\n",
       "<tr><td>SVGP.q_sqrt             </td><td>Parameter</td><td>FillTriangular  </td><td>       </td><td>False      </td><td>(1, 15, 15)</td><td>float64</td><td>[[[5.39844672e-02, 0.00000000e+00, 0.00000000e+00...</td></tr>\n",
       "</tbody>\n",
       "</table>"
      ],
      "text/plain": [
       "<gpflow.models.svgp.SVGP object at 0x7fe6a49b36d0>\n",
       "name                      class      transform         prior    trainable    shape        dtype    value\n",
       "------------------------  ---------  ----------------  -------  -----------  -----------  -------  ----------------------------------------------------\n",
       "SVGP.kernel.variance      Parameter  Softplus                   True         ()           float64  0.11408931409231425\n",
       "SVGP.kernel.lengthscales  Parameter  Softplus                   True         (7,)         float64  [2.76412662, 4.07461769, 4.31454899...\n",
       "SVGP.likelihood.variance  Parameter  Softplus + Shift           True         ()           float64  0.04245569951877612\n",
       "SVGP.inducing_variable.Z  Parameter  Identity                   True         (15, 7)      float64  [[0.07889609, 1.1991063, 1.21417958...\n",
       "SVGP.q_mu                 Parameter  Identity                   False        (15, 1)      float64  [[2.28836228...\n",
       "SVGP.q_sqrt               Parameter  FillTriangular             False        (1, 15, 15)  float64  [[[5.39844672e-02, 0.00000000e+00, 0.00000000e+00..."
      ]
     },
     "execution_count": 30,
     "metadata": {},
     "output_type": "execute_result"
    }
   ],
   "source": [
    "model._model"
   ]
  },
  {
   "cell_type": "code",
   "execution_count": 31,
   "metadata": {
    "ExecuteTime": {
     "end_time": "2021-01-06T16:22:15.071414Z",
     "start_time": "2021-01-06T16:22:15.058624Z"
    }
   },
   "outputs": [
    {
     "data": {
      "text/plain": [
       "array([2.76412662, 4.07461769, 4.31454899, 4.04705395, 2.73854904,\n",
       "       4.16991892, 3.77173856])"
      ]
     },
     "execution_count": 31,
     "metadata": {},
     "output_type": "execute_result"
    }
   ],
   "source": [
    "m = [e for e in results if e.model == '$f(t, S(t)^p, I(t)^p)$'][0].model_obj\n",
    "m.kernel.lengthscales.numpy()"
   ]
  },
  {
   "cell_type": "markdown",
   "metadata": {},
   "source": [
    "### **$\\lambda (t) = f(t, I(t), Home(t))$** - Gaussian - Matern32"
   ]
  },
  {
   "cell_type": "code",
   "execution_count": 32,
   "metadata": {
    "ExecuteTime": {
     "end_time": "2021-01-06T16:23:16.858376Z",
     "start_time": "2021-01-06T16:22:15.073123Z"
    }
   },
   "outputs": [],
   "source": [
    "t = final_data[[\"Updated\"]]\n",
    "y = final_data[[\"ConfirmedChange\"]]\n",
    "X = pd.DataFrame({\n",
    "    \"index\": final_data[\"index\"],\n",
    "    \"I\": final_data[\"I\"],\n",
    "    \"HOME\": final_data[\"HOME\"]\n",
    "}, index=final_data.index)[[\n",
    "    \"index\",\n",
    "    \"I\",\n",
    "    \"HOME\"\n",
    "]]\n",
    "\n",
    "model_params = {\n",
    "    'kernel': gpflow.kernels.Matern32(lengthscales=np.ones(X.shape[1]))\n",
    "}\n",
    "\n",
    "res, model = run_experiment('$f(t, I(t), Home(t))$', t, X, y, \n",
    "                            model_params=model_params, \n",
    "                            train_test_split_func=train_test_split_func, \n",
    "                            plot=False)\n",
    "results.add(res)"
   ]
  },
  {
   "cell_type": "code",
   "execution_count": 33,
   "metadata": {
    "ExecuteTime": {
     "end_time": "2021-01-06T16:23:16.873880Z",
     "start_time": "2021-01-06T16:23:16.860053Z"
    }
   },
   "outputs": [
    {
     "data": {
      "text/html": [
       "&lt;gpflow.models.svgp.SVGP object at 0x7fe69cecc820&gt;\n",
       "<table>\n",
       "<thead>\n",
       "<tr><th>name                    </th><th>class    </th><th>transform       </th><th>prior  </th><th>trainable  </th><th>shape      </th><th>dtype  </th><th>value                                               </th></tr>\n",
       "</thead>\n",
       "<tbody>\n",
       "<tr><td>SVGP.kernel.variance    </td><td>Parameter</td><td>Softplus        </td><td>       </td><td>True       </td><td>()         </td><td>float64</td><td>0.21321928777919283                                 </td></tr>\n",
       "<tr><td>SVGP.kernel.lengthscales</td><td>Parameter</td><td>Softplus        </td><td>       </td><td>True       </td><td>(3,)       </td><td>float64</td><td>[2.97760371 2.15206221 3.89051512]                  </td></tr>\n",
       "<tr><td>SVGP.likelihood.variance</td><td>Parameter</td><td>Softplus + Shift</td><td>       </td><td>True       </td><td>()         </td><td>float64</td><td>0.052418635085235164                                </td></tr>\n",
       "<tr><td>SVGP.inducing_variable.Z</td><td>Parameter</td><td>Identity        </td><td>       </td><td>True       </td><td>(15, 3)    </td><td>float64</td><td>[[1.10390904, 0.42529302, 1.00192926...             </td></tr>\n",
       "<tr><td>SVGP.q_mu               </td><td>Parameter</td><td>Identity        </td><td>       </td><td>False      </td><td>(15, 1)    </td><td>float64</td><td>[[-0.65801965...                                    </td></tr>\n",
       "<tr><td>SVGP.q_sqrt             </td><td>Parameter</td><td>FillTriangular  </td><td>       </td><td>False      </td><td>(1, 15, 15)</td><td>float64</td><td>[[[5.74646000e-02, 0.00000000e+00, 0.00000000e+00...</td></tr>\n",
       "</tbody>\n",
       "</table>"
      ],
      "text/plain": [
       "<gpflow.models.svgp.SVGP object at 0x7fe69cecc820>\n",
       "name                      class      transform         prior    trainable    shape        dtype    value\n",
       "------------------------  ---------  ----------------  -------  -----------  -----------  -------  ----------------------------------------------------\n",
       "SVGP.kernel.variance      Parameter  Softplus                   True         ()           float64  0.21321928777919283\n",
       "SVGP.kernel.lengthscales  Parameter  Softplus                   True         (3,)         float64  [2.97760371 2.15206221 3.89051512]\n",
       "SVGP.likelihood.variance  Parameter  Softplus + Shift           True         ()           float64  0.052418635085235164\n",
       "SVGP.inducing_variable.Z  Parameter  Identity                   True         (15, 3)      float64  [[1.10390904, 0.42529302, 1.00192926...\n",
       "SVGP.q_mu                 Parameter  Identity                   False        (15, 1)      float64  [[-0.65801965...\n",
       "SVGP.q_sqrt               Parameter  FillTriangular             False        (1, 15, 15)  float64  [[[5.74646000e-02, 0.00000000e+00, 0.00000000e+00..."
      ]
     },
     "execution_count": 33,
     "metadata": {},
     "output_type": "execute_result"
    }
   ],
   "source": [
    "model._model"
   ]
  },
  {
   "cell_type": "markdown",
   "metadata": {},
   "source": [
    "### **$\\lambda (t) = f(t, S(t)*I(t), Home(t))$** - Gaussian - Matern32"
   ]
  },
  {
   "cell_type": "code",
   "execution_count": 34,
   "metadata": {
    "ExecuteTime": {
     "end_time": "2021-01-06T16:24:19.676294Z",
     "start_time": "2021-01-06T16:23:16.875408Z"
    }
   },
   "outputs": [],
   "source": [
    "t = final_data[[\"Updated\"]]\n",
    "y = final_data[[\"ConfirmedChange\"]]\n",
    "X = pd.DataFrame({\n",
    "    \"index\": final_data[\"index\"],\n",
    "    \"S*I\": final_data[\"S\"] * final_data[\"I\"],\n",
    "    \"HOME\": final_data[\"HOME\"],\n",
    "}, index=final_data.index)[[\n",
    "    \"index\",\n",
    "    \"S*I\",\n",
    "    \"HOME\"\n",
    "]]\n",
    "\n",
    "model_params = {\n",
    "    'kernel': gpflow.kernels.Matern32(lengthscales=np.ones(X.shape[1]))\n",
    "}\n",
    "\n",
    "res, model = run_experiment('$f(t, S(t)*I(t), Home(t))$', t, X, y, \n",
    "                            model_params=model_params, \n",
    "                            train_test_split_func=train_test_split_func, \n",
    "                            plot=False)\n",
    "results.add(res)"
   ]
  },
  {
   "cell_type": "code",
   "execution_count": 35,
   "metadata": {
    "ExecuteTime": {
     "end_time": "2021-01-06T16:24:19.692477Z",
     "start_time": "2021-01-06T16:24:19.677682Z"
    }
   },
   "outputs": [
    {
     "data": {
      "text/html": [
       "&lt;gpflow.models.svgp.SVGP object at 0x7fe6a3f07f70&gt;\n",
       "<table>\n",
       "<thead>\n",
       "<tr><th>name                    </th><th>class    </th><th>transform       </th><th>prior  </th><th>trainable  </th><th>shape      </th><th>dtype  </th><th>value                                 </th></tr>\n",
       "</thead>\n",
       "<tbody>\n",
       "<tr><td>SVGP.kernel.variance    </td><td>Parameter</td><td>Softplus        </td><td>       </td><td>True       </td><td>()         </td><td>float64</td><td>0.17254917958632288                   </td></tr>\n",
       "<tr><td>SVGP.kernel.lengthscales</td><td>Parameter</td><td>Softplus        </td><td>       </td><td>True       </td><td>(3,)       </td><td>float64</td><td>[3.05971575 2.11716783 3.98139763]    </td></tr>\n",
       "<tr><td>SVGP.likelihood.variance</td><td>Parameter</td><td>Softplus + Shift</td><td>       </td><td>True       </td><td>()         </td><td>float64</td><td>0.04390054362182653                   </td></tr>\n",
       "<tr><td>SVGP.inducing_variable.Z</td><td>Parameter</td><td>Identity        </td><td>       </td><td>True       </td><td>(15, 3)    </td><td>float64</td><td>[[1.1889649, -0.6788758, 0.12679758...</td></tr>\n",
       "<tr><td>SVGP.q_mu               </td><td>Parameter</td><td>Identity        </td><td>       </td><td>False      </td><td>(15, 1)    </td><td>float64</td><td>[[-1.8767952...                       </td></tr>\n",
       "<tr><td>SVGP.q_sqrt             </td><td>Parameter</td><td>FillTriangular  </td><td>       </td><td>False      </td><td>(1, 15, 15)</td><td>float64</td><td>[[[0.05844202, 0., 0....              </td></tr>\n",
       "</tbody>\n",
       "</table>"
      ],
      "text/plain": [
       "<gpflow.models.svgp.SVGP object at 0x7fe6a3f07f70>\n",
       "name                      class      transform         prior    trainable    shape        dtype    value\n",
       "------------------------  ---------  ----------------  -------  -----------  -----------  -------  --------------------------------------\n",
       "SVGP.kernel.variance      Parameter  Softplus                   True         ()           float64  0.17254917958632288\n",
       "SVGP.kernel.lengthscales  Parameter  Softplus                   True         (3,)         float64  [3.05971575 2.11716783 3.98139763]\n",
       "SVGP.likelihood.variance  Parameter  Softplus + Shift           True         ()           float64  0.04390054362182653\n",
       "SVGP.inducing_variable.Z  Parameter  Identity                   True         (15, 3)      float64  [[1.1889649, -0.6788758, 0.12679758...\n",
       "SVGP.q_mu                 Parameter  Identity                   False        (15, 1)      float64  [[-1.8767952...\n",
       "SVGP.q_sqrt               Parameter  FillTriangular             False        (1, 15, 15)  float64  [[[0.05844202, 0., 0...."
      ]
     },
     "execution_count": 35,
     "metadata": {},
     "output_type": "execute_result"
    }
   ],
   "source": [
    "model._model"
   ]
  },
  {
   "cell_type": "markdown",
   "metadata": {},
   "source": [
    "### **$\\lambda (t) = f(t, S(t)*I(t), Home(t)*Work(t)*Recreational(t))$** - Gaussian - Matern32"
   ]
  },
  {
   "cell_type": "code",
   "execution_count": 36,
   "metadata": {
    "ExecuteTime": {
     "end_time": "2021-01-06T16:25:23.831742Z",
     "start_time": "2021-01-06T16:24:19.694453Z"
    }
   },
   "outputs": [],
   "source": [
    "t = final_data[[\"Updated\"]]\n",
    "y = final_data[[\"ConfirmedChange\"]]\n",
    "X = pd.DataFrame({\n",
    "    \"index\": final_data[\"index\"],\n",
    "    \"S*I\": final_data[\"S\"] * final_data[\"I\"],\n",
    "    \"HOME*WORK*RECREATIONAL\": final_data[\"HOME\"]*final_data[\"WORK\"]*final_data[\"RECREATIONAL\"],\n",
    "}, index=final_data.index)[[\n",
    "    \"index\",\n",
    "    \"S*I\",\n",
    "    \"HOME*WORK*RECREATIONAL\"\n",
    "]]\n",
    "\n",
    "model_params = {\n",
    "    'kernel': gpflow.kernels.Matern32(lengthscales=np.ones(X.shape[1]))\n",
    "}\n",
    "\n",
    "res, model = run_experiment('$f(t, S(t)*I(t), Home(t)*Work(t)*Recreational(t))$', t, X, y, \n",
    "                            model_params=model_params, \n",
    "                            train_test_split_func=train_test_split_func, \n",
    "                            plot=False)\n",
    "results.add(res)"
   ]
  },
  {
   "cell_type": "code",
   "execution_count": 37,
   "metadata": {
    "ExecuteTime": {
     "end_time": "2021-01-06T16:25:23.849438Z",
     "start_time": "2021-01-06T16:25:23.833513Z"
    }
   },
   "outputs": [
    {
     "data": {
      "text/html": [
       "&lt;gpflow.models.svgp.SVGP object at 0x7fe6a3e90970&gt;\n",
       "<table>\n",
       "<thead>\n",
       "<tr><th>name                    </th><th>class    </th><th>transform       </th><th>prior  </th><th>trainable  </th><th>shape      </th><th>dtype  </th><th>value                                               </th></tr>\n",
       "</thead>\n",
       "<tbody>\n",
       "<tr><td>SVGP.kernel.variance    </td><td>Parameter</td><td>Softplus        </td><td>       </td><td>True       </td><td>()         </td><td>float64</td><td>0.15019987211146432                                 </td></tr>\n",
       "<tr><td>SVGP.kernel.lengthscales</td><td>Parameter</td><td>Softplus        </td><td>       </td><td>True       </td><td>(3,)       </td><td>float64</td><td>[3.19101101 1.75146503 4.12467466]                  </td></tr>\n",
       "<tr><td>SVGP.likelihood.variance</td><td>Parameter</td><td>Softplus + Shift</td><td>       </td><td>True       </td><td>()         </td><td>float64</td><td>0.04703888986905587                                 </td></tr>\n",
       "<tr><td>SVGP.inducing_variable.Z</td><td>Parameter</td><td>Identity        </td><td>       </td><td>True       </td><td>(15, 3)    </td><td>float64</td><td>[[1.11296157, 0.06400655, -1.41917235...            </td></tr>\n",
       "<tr><td>SVGP.q_mu               </td><td>Parameter</td><td>Identity        </td><td>       </td><td>False      </td><td>(15, 1)    </td><td>float64</td><td>[[-0.78363438...                                    </td></tr>\n",
       "<tr><td>SVGP.q_sqrt             </td><td>Parameter</td><td>FillTriangular  </td><td>       </td><td>False      </td><td>(1, 15, 15)</td><td>float64</td><td>[[[6.90433362e-02, 0.00000000e+00, 0.00000000e+00...</td></tr>\n",
       "</tbody>\n",
       "</table>"
      ],
      "text/plain": [
       "<gpflow.models.svgp.SVGP object at 0x7fe6a3e90970>\n",
       "name                      class      transform         prior    trainable    shape        dtype    value\n",
       "------------------------  ---------  ----------------  -------  -----------  -----------  -------  ----------------------------------------------------\n",
       "SVGP.kernel.variance      Parameter  Softplus                   True         ()           float64  0.15019987211146432\n",
       "SVGP.kernel.lengthscales  Parameter  Softplus                   True         (3,)         float64  [3.19101101 1.75146503 4.12467466]\n",
       "SVGP.likelihood.variance  Parameter  Softplus + Shift           True         ()           float64  0.04703888986905587\n",
       "SVGP.inducing_variable.Z  Parameter  Identity                   True         (15, 3)      float64  [[1.11296157, 0.06400655, -1.41917235...\n",
       "SVGP.q_mu                 Parameter  Identity                   False        (15, 1)      float64  [[-0.78363438...\n",
       "SVGP.q_sqrt               Parameter  FillTriangular             False        (1, 15, 15)  float64  [[[6.90433362e-02, 0.00000000e+00, 0.00000000e+00..."
      ]
     },
     "execution_count": 37,
     "metadata": {},
     "output_type": "execute_result"
    }
   ],
   "source": [
    "model._model"
   ]
  },
  {
   "cell_type": "markdown",
   "metadata": {},
   "source": [
    "### **$\\lambda (t) = f(t, S(t), I(t), Home(t), Work(t), Recreational(t))$** - Gaussian - Matern32"
   ]
  },
  {
   "cell_type": "code",
   "execution_count": 38,
   "metadata": {
    "ExecuteTime": {
     "end_time": "2021-01-06T16:26:45.143999Z",
     "start_time": "2021-01-06T16:25:23.850810Z"
    }
   },
   "outputs": [],
   "source": [
    "t = final_data[[\"Updated\"]]\n",
    "y = final_data[[\"ConfirmedChange\"]]\n",
    "X = pd.DataFrame({\n",
    "    \"index\": final_data[\"index\"],\n",
    "    \"S\": final_data[\"S\"],\n",
    "    \"I\": final_data[\"I\"],\n",
    "    \"HOME\": final_data[\"HOME\"],\n",
    "    \"WORK\": final_data[\"WORK\"],\n",
    "    \"RECREATIONAL\": final_data[\"RECREATIONAL\"],\n",
    "}, index=final_data.index)[[\n",
    "    \"index\",\n",
    "    \"S\",\n",
    "    \"I\",\n",
    "    \"HOME\", \n",
    "    \"WORK\", \n",
    "    \"RECREATIONAL\"\n",
    "]]\n",
    "\n",
    "model_params = {\n",
    "    'kernel': gpflow.kernels.Matern32(lengthscales=np.ones(X.shape[1]))\n",
    "}\n",
    "\n",
    "res, model = run_experiment('$f(t, S(t)*I(t), Home(t), Work(t), Recreational(t))$', t, X, y, \n",
    "                            model_params=model_params, \n",
    "                            train_test_split_func=train_test_split_func, \n",
    "                            plot=False)\n",
    "results.add(res)"
   ]
  },
  {
   "cell_type": "code",
   "execution_count": 39,
   "metadata": {
    "ExecuteTime": {
     "end_time": "2021-01-06T16:26:45.166232Z",
     "start_time": "2021-01-06T16:26:45.145905Z"
    }
   },
   "outputs": [
    {
     "data": {
      "text/html": [
       "&lt;gpflow.models.svgp.SVGP object at 0x7fe6a4c913a0&gt;\n",
       "<table>\n",
       "<thead>\n",
       "<tr><th>name                    </th><th>class    </th><th>transform       </th><th>prior  </th><th>trainable  </th><th>shape      </th><th>dtype  </th><th>value                                   </th></tr>\n",
       "</thead>\n",
       "<tbody>\n",
       "<tr><td>SVGP.kernel.variance    </td><td>Parameter</td><td>Softplus        </td><td>       </td><td>True       </td><td>()         </td><td>float64</td><td>0.1027647497146519                      </td></tr>\n",
       "<tr><td>SVGP.kernel.lengthscales</td><td>Parameter</td><td>Softplus        </td><td>       </td><td>True       </td><td>(6,)       </td><td>float64</td><td>[2.86051062, 4.60761085, 2.2688612...   </td></tr>\n",
       "<tr><td>SVGP.likelihood.variance</td><td>Parameter</td><td>Softplus + Shift</td><td>       </td><td>True       </td><td>()         </td><td>float64</td><td>0.030805085150452775                    </td></tr>\n",
       "<tr><td>SVGP.inducing_variable.Z</td><td>Parameter</td><td>Identity        </td><td>       </td><td>True       </td><td>(15, 6)    </td><td>float64</td><td>[[1.38034064, -0.77424144, 0.50202607...</td></tr>\n",
       "<tr><td>SVGP.q_mu               </td><td>Parameter</td><td>Identity        </td><td>       </td><td>False      </td><td>(15, 1)    </td><td>float64</td><td>[[1.14175225...                         </td></tr>\n",
       "<tr><td>SVGP.q_sqrt             </td><td>Parameter</td><td>FillTriangular  </td><td>       </td><td>False      </td><td>(1, 15, 15)</td><td>float64</td><td>[[[0.04806538, 0., 0....                </td></tr>\n",
       "</tbody>\n",
       "</table>"
      ],
      "text/plain": [
       "<gpflow.models.svgp.SVGP object at 0x7fe6a4c913a0>\n",
       "name                      class      transform         prior    trainable    shape        dtype    value\n",
       "------------------------  ---------  ----------------  -------  -----------  -----------  -------  ----------------------------------------\n",
       "SVGP.kernel.variance      Parameter  Softplus                   True         ()           float64  0.1027647497146519\n",
       "SVGP.kernel.lengthscales  Parameter  Softplus                   True         (6,)         float64  [2.86051062, 4.60761085, 2.2688612...\n",
       "SVGP.likelihood.variance  Parameter  Softplus + Shift           True         ()           float64  0.030805085150452775\n",
       "SVGP.inducing_variable.Z  Parameter  Identity                   True         (15, 6)      float64  [[1.38034064, -0.77424144, 0.50202607...\n",
       "SVGP.q_mu                 Parameter  Identity                   False        (15, 1)      float64  [[1.14175225...\n",
       "SVGP.q_sqrt               Parameter  FillTriangular             False        (1, 15, 15)  float64  [[[0.04806538, 0., 0...."
      ]
     },
     "execution_count": 39,
     "metadata": {},
     "output_type": "execute_result"
    }
   ],
   "source": [
    "model._model"
   ]
  },
  {
   "cell_type": "markdown",
   "metadata": {},
   "source": [
    "### **$\\lambda (t) = f(t, S(t)^p, I(t)^p, Home(t)^p, Work(t)^p, Recreational(t)^p)$** - Gaussian - Matern32"
   ]
  },
  {
   "cell_type": "code",
   "execution_count": 40,
   "metadata": {
    "ExecuteTime": {
     "end_time": "2021-01-06T16:28:09.081246Z",
     "start_time": "2021-01-06T16:26:45.168319Z"
    }
   },
   "outputs": [],
   "source": [
    "t = final_data[[\"Updated\"]]\n",
    "y = final_data[[\"ConfirmedChange\"]]\n",
    "X = pd.DataFrame({\n",
    "    \"index\": final_data[\"index\"],\n",
    "    \"S\": final_data[\"S\"],\n",
    "    \"S**2\": final_data[\"S\"]**2,\n",
    "    \"S**3\": final_data[\"S\"]**3,\n",
    "    \"I\": final_data[\"I\"],\n",
    "    \"I**2\": final_data[\"I\"]**2,\n",
    "    \"I**3\": final_data[\"I\"]**3,\n",
    "    \"HOME\": final_data[\"HOME\"],\n",
    "    \"HOME**2\": final_data[\"HOME\"]**2,\n",
    "    \"HOME**3\": final_data[\"HOME\"]**3,\n",
    "    \"WORK\": final_data[\"WORK\"],\n",
    "    \"WORK**2\": final_data[\"WORK\"]**2,\n",
    "    \"WORK**3\": final_data[\"WORK\"]**3,\n",
    "    \"RECREATIONAL\": final_data[\"RECREATIONAL\"],\n",
    "    \"RECREATIONAL**2\": final_data[\"RECREATIONAL\"]**2,\n",
    "    \"RECREATIONAL**3\": final_data[\"RECREATIONAL\"]**3,\n",
    "}, index=final_data.index)[[\n",
    "    \"index\",\n",
    "    \"S\",\"S**2\",\"S**3\",\n",
    "    \"I\",\"I**2\",\"I**3\",\n",
    "    \"HOME\",\"HOME**2\",\"HOME**3\",\n",
    "    \"WORK\",\"WORK**2\",\"WORK**3\",\n",
    "    \"RECREATIONAL\",\"RECREATIONAL**2\",\"RECREATIONAL**3\",\n",
    "]]\n",
    "\n",
    "model_params = {\n",
    "    'kernel': gpflow.kernels.Matern32(lengthscales=np.ones(X.shape[1]))\n",
    "}\n",
    "\n",
    "res, model = run_experiment('$f(t, S(t)^p, I(t)^p, Home(t)^p, Work(t)^p, Recreational(t)^p)$', t, X, y, \n",
    "                            model_params=model_params, \n",
    "                            train_test_split_func=train_test_split_func, \n",
    "                            plot=False)\n",
    "results.add(res)"
   ]
  },
  {
   "cell_type": "code",
   "execution_count": 41,
   "metadata": {
    "ExecuteTime": {
     "end_time": "2021-01-06T16:28:09.104260Z",
     "start_time": "2021-01-06T16:28:09.083374Z"
    }
   },
   "outputs": [
    {
     "data": {
      "text/html": [
       "&lt;gpflow.models.svgp.SVGP object at 0x7fe6a3e43e80&gt;\n",
       "<table>\n",
       "<thead>\n",
       "<tr><th>name                    </th><th>class    </th><th>transform       </th><th>prior  </th><th>trainable  </th><th>shape      </th><th>dtype  </th><th>value                                               </th></tr>\n",
       "</thead>\n",
       "<tbody>\n",
       "<tr><td>SVGP.kernel.variance    </td><td>Parameter</td><td>Softplus        </td><td>       </td><td>True       </td><td>()         </td><td>float64</td><td>0.06057603655346945                                 </td></tr>\n",
       "<tr><td>SVGP.kernel.lengthscales</td><td>Parameter</td><td>Softplus        </td><td>       </td><td>True       </td><td>(16,)      </td><td>float64</td><td>[2.28760885, 5.69502305, 5.27090248...              </td></tr>\n",
       "<tr><td>SVGP.likelihood.variance</td><td>Parameter</td><td>Softplus + Shift</td><td>       </td><td>True       </td><td>()         </td><td>float64</td><td>0.030152988830571967                                </td></tr>\n",
       "<tr><td>SVGP.inducing_variable.Z</td><td>Parameter</td><td>Identity        </td><td>       </td><td>True       </td><td>(15, 16)   </td><td>float64</td><td>[[1.27677948, -0.19936506, -0.23819619...           </td></tr>\n",
       "<tr><td>SVGP.q_mu               </td><td>Parameter</td><td>Identity        </td><td>       </td><td>False      </td><td>(15, 1)    </td><td>float64</td><td>[[-0.36302729...                                    </td></tr>\n",
       "<tr><td>SVGP.q_sqrt             </td><td>Parameter</td><td>FillTriangular  </td><td>       </td><td>False      </td><td>(1, 15, 15)</td><td>float64</td><td>[[[8.67765316e-02, 0.00000000e+00, 0.00000000e+00...</td></tr>\n",
       "</tbody>\n",
       "</table>"
      ],
      "text/plain": [
       "<gpflow.models.svgp.SVGP object at 0x7fe6a3e43e80>\n",
       "name                      class      transform         prior    trainable    shape        dtype    value\n",
       "------------------------  ---------  ----------------  -------  -----------  -----------  -------  ----------------------------------------------------\n",
       "SVGP.kernel.variance      Parameter  Softplus                   True         ()           float64  0.06057603655346945\n",
       "SVGP.kernel.lengthscales  Parameter  Softplus                   True         (16,)        float64  [2.28760885, 5.69502305, 5.27090248...\n",
       "SVGP.likelihood.variance  Parameter  Softplus + Shift           True         ()           float64  0.030152988830571967\n",
       "SVGP.inducing_variable.Z  Parameter  Identity                   True         (15, 16)     float64  [[1.27677948, -0.19936506, -0.23819619...\n",
       "SVGP.q_mu                 Parameter  Identity                   False        (15, 1)      float64  [[-0.36302729...\n",
       "SVGP.q_sqrt               Parameter  FillTriangular             False        (1, 15, 15)  float64  [[[8.67765316e-02, 0.00000000e+00, 0.00000000e+00..."
      ]
     },
     "execution_count": 41,
     "metadata": {},
     "output_type": "execute_result"
    }
   ],
   "source": [
    "model._model"
   ]
  },
  {
   "cell_type": "markdown",
   "metadata": {},
   "source": [
    "### **$\\lambda (t) = f(t)$** - Gaussian - SE\\*L\\*RQ"
   ]
  },
  {
   "cell_type": "code",
   "execution_count": 42,
   "metadata": {
    "ExecuteTime": {
     "end_time": "2021-01-06T16:29:51.725164Z",
     "start_time": "2021-01-06T16:28:09.105955Z"
    }
   },
   "outputs": [],
   "source": [
    "t = final_data[[\"Updated\"]]\n",
    "y = final_data[[\"ConfirmedChange\"]]\n",
    "X = final_data[[\"index\"]]\n",
    "\n",
    "model_params = {\n",
    "    'kernel': (\n",
    "        gpflow.kernels.SquaredExponential() *\n",
    "        gpflow.kernels.Linear() * \n",
    "        gpflow.kernels.RationalQuadratic()\n",
    "    )\n",
    "}\n",
    "\n",
    "res, model = run_experiment('$f(t)$', t, X, y, \n",
    "                            model_params=model_params, \n",
    "                            train_test_split_func=train_test_split_func, \n",
    "                            plot=False)\n",
    "results.add(res)"
   ]
  },
  {
   "cell_type": "code",
   "execution_count": 43,
   "metadata": {
    "ExecuteTime": {
     "end_time": "2021-01-06T16:29:51.747471Z",
     "start_time": "2021-01-06T16:29:51.726469Z"
    }
   },
   "outputs": [
    {
     "data": {
      "text/html": [
       "&lt;gpflow.models.svgp.SVGP object at 0x7fe6a4c91760&gt;\n",
       "<table>\n",
       "<thead>\n",
       "<tr><th>name                               </th><th>class    </th><th>transform       </th><th>prior  </th><th>trainable  </th><th>shape      </th><th>dtype  </th><th>value                                               </th></tr>\n",
       "</thead>\n",
       "<tbody>\n",
       "<tr><td>SVGP.kernel.kernels[0].variance    </td><td>Parameter</td><td>Softplus        </td><td>       </td><td>True       </td><td>()         </td><td>float64</td><td>0.8223516022280056                                  </td></tr>\n",
       "<tr><td>SVGP.kernel.kernels[0].lengthscales</td><td>Parameter</td><td>Softplus        </td><td>       </td><td>True       </td><td>()         </td><td>float64</td><td>0.7862063135823127                                  </td></tr>\n",
       "<tr><td>SVGP.kernel.kernels[1].variance    </td><td>Parameter</td><td>Softplus        </td><td>       </td><td>True       </td><td>()         </td><td>float64</td><td>0.8223516022280056                                  </td></tr>\n",
       "<tr><td>SVGP.kernel.kernels[2].variance    </td><td>Parameter</td><td>Softplus        </td><td>       </td><td>True       </td><td>()         </td><td>float64</td><td>0.822351602227994                                   </td></tr>\n",
       "<tr><td>SVGP.kernel.kernels[2].lengthscales</td><td>Parameter</td><td>Softplus        </td><td>       </td><td>True       </td><td>()         </td><td>float64</td><td>0.6471939309306817                                  </td></tr>\n",
       "<tr><td>SVGP.kernel.kernels[2].alpha       </td><td>Parameter</td><td>Softplus        </td><td>       </td><td>True       </td><td>()         </td><td>float64</td><td>0.6630841077576307                                  </td></tr>\n",
       "<tr><td>SVGP.likelihood.variance           </td><td>Parameter</td><td>Softplus + Shift</td><td>       </td><td>True       </td><td>()         </td><td>float64</td><td>0.46881458768317646                                 </td></tr>\n",
       "<tr><td>SVGP.inducing_variable.Z           </td><td>Parameter</td><td>Identity        </td><td>       </td><td>True       </td><td>(15, 1)    </td><td>float64</td><td>[[1.4637617...                                      </td></tr>\n",
       "<tr><td>SVGP.q_mu                          </td><td>Parameter</td><td>Identity        </td><td>       </td><td>False      </td><td>(15, 1)    </td><td>float64</td><td>[[0.60293368...                                     </td></tr>\n",
       "<tr><td>SVGP.q_sqrt                        </td><td>Parameter</td><td>FillTriangular  </td><td>       </td><td>False      </td><td>(1, 15, 15)</td><td>float64</td><td>[[[4.70839091e-02, 0.00000000e+00, 0.00000000e+00...</td></tr>\n",
       "</tbody>\n",
       "</table>"
      ],
      "text/plain": [
       "<gpflow.models.svgp.SVGP object at 0x7fe6a4c91760>\n",
       "name                                 class      transform         prior    trainable    shape        dtype    value\n",
       "-----------------------------------  ---------  ----------------  -------  -----------  -----------  -------  ----------------------------------------------------\n",
       "SVGP.kernel.kernels[0].variance      Parameter  Softplus                   True         ()           float64  0.8223516022280056\n",
       "SVGP.kernel.kernels[0].lengthscales  Parameter  Softplus                   True         ()           float64  0.7862063135823127\n",
       "SVGP.kernel.kernels[1].variance      Parameter  Softplus                   True         ()           float64  0.8223516022280056\n",
       "SVGP.kernel.kernels[2].variance      Parameter  Softplus                   True         ()           float64  0.822351602227994\n",
       "SVGP.kernel.kernels[2].lengthscales  Parameter  Softplus                   True         ()           float64  0.6471939309306817\n",
       "SVGP.kernel.kernels[2].alpha         Parameter  Softplus                   True         ()           float64  0.6630841077576307\n",
       "SVGP.likelihood.variance             Parameter  Softplus + Shift           True         ()           float64  0.46881458768317646\n",
       "SVGP.inducing_variable.Z             Parameter  Identity                   True         (15, 1)      float64  [[1.4637617...\n",
       "SVGP.q_mu                            Parameter  Identity                   False        (15, 1)      float64  [[0.60293368...\n",
       "SVGP.q_sqrt                          Parameter  FillTriangular             False        (1, 15, 15)  float64  [[[4.70839091e-02, 0.00000000e+00, 0.00000000e+00..."
      ]
     },
     "execution_count": 43,
     "metadata": {},
     "output_type": "execute_result"
    }
   ],
   "source": [
    "model._model"
   ]
  },
  {
   "cell_type": "markdown",
   "metadata": {},
   "source": [
    "### **$\\lambda (t) = f(S(t), I(t))$** - Gaussian - SE\\*L\\*RQ"
   ]
  },
  {
   "cell_type": "code",
   "execution_count": 44,
   "metadata": {
    "ExecuteTime": {
     "end_time": "2021-01-06T16:32:02.730586Z",
     "start_time": "2021-01-06T16:29:51.749266Z"
    }
   },
   "outputs": [],
   "source": [
    "t = final_data[[\"Updated\"]]\n",
    "y = final_data[[\"ConfirmedChange\"]]\n",
    "X = final_data[[\"S\", \"I\"]]\n",
    "\n",
    "model_params = {\n",
    "    'kernel': (\n",
    "        gpflow.kernels.SquaredExponential(lengthscales=np.ones(X.shape[1])) *\n",
    "        gpflow.kernels.Linear() * \n",
    "        gpflow.kernels.RationalQuadratic(lengthscales=np.ones(X.shape[1]))\n",
    "    )\n",
    "}\n",
    "\n",
    "res, model = run_experiment('$f(S(t), I(t))$', t, X, y, \n",
    "                            model_params=model_params, \n",
    "                            train_test_split_func=train_test_split_func, \n",
    "                            plot=False)\n",
    "results.add(res)"
   ]
  },
  {
   "cell_type": "code",
   "execution_count": 45,
   "metadata": {
    "ExecuteTime": {
     "end_time": "2021-01-06T16:32:02.759564Z",
     "start_time": "2021-01-06T16:32:02.732450Z"
    }
   },
   "outputs": [
    {
     "data": {
      "text/html": [
       "&lt;gpflow.models.svgp.SVGP object at 0x7fe6a4c71ee0&gt;\n",
       "<table>\n",
       "<thead>\n",
       "<tr><th>name                               </th><th>class    </th><th>transform       </th><th>prior  </th><th>trainable  </th><th>shape      </th><th>dtype  </th><th>value                                               </th></tr>\n",
       "</thead>\n",
       "<tbody>\n",
       "<tr><td>SVGP.kernel.kernels[0].variance    </td><td>Parameter</td><td>Softplus        </td><td>       </td><td>True       </td><td>()         </td><td>float64</td><td>0.39429433329750974                                 </td></tr>\n",
       "<tr><td>SVGP.kernel.kernels[0].lengthscales</td><td>Parameter</td><td>Softplus        </td><td>       </td><td>True       </td><td>(2,)       </td><td>float64</td><td>[3.1910987  1.82795351]                             </td></tr>\n",
       "<tr><td>SVGP.kernel.kernels[1].variance    </td><td>Parameter</td><td>Softplus        </td><td>       </td><td>True       </td><td>()         </td><td>float64</td><td>0.3942943332975032                                  </td></tr>\n",
       "<tr><td>SVGP.kernel.kernels[2].variance    </td><td>Parameter</td><td>Softplus        </td><td>       </td><td>True       </td><td>()         </td><td>float64</td><td>0.3942943332975117                                  </td></tr>\n",
       "<tr><td>SVGP.kernel.kernels[2].lengthscales</td><td>Parameter</td><td>Softplus        </td><td>       </td><td>True       </td><td>(2,)       </td><td>float64</td><td>[3.33523975 0.83656206]                             </td></tr>\n",
       "<tr><td>SVGP.kernel.kernels[2].alpha       </td><td>Parameter</td><td>Softplus        </td><td>       </td><td>True       </td><td>()         </td><td>float64</td><td>0.15163631654462473                                 </td></tr>\n",
       "<tr><td>SVGP.likelihood.variance           </td><td>Parameter</td><td>Softplus + Shift</td><td>       </td><td>True       </td><td>()         </td><td>float64</td><td>0.07560250633243529                                 </td></tr>\n",
       "<tr><td>SVGP.inducing_variable.Z           </td><td>Parameter</td><td>Identity        </td><td>       </td><td>True       </td><td>(15, 2)    </td><td>float64</td><td>[[-1.52051448, -0.19026488...                       </td></tr>\n",
       "<tr><td>SVGP.q_mu                          </td><td>Parameter</td><td>Identity        </td><td>       </td><td>False      </td><td>(15, 1)    </td><td>float64</td><td>[[-0.60732885...                                    </td></tr>\n",
       "<tr><td>SVGP.q_sqrt                        </td><td>Parameter</td><td>FillTriangular  </td><td>       </td><td>False      </td><td>(1, 15, 15)</td><td>float64</td><td>[[[7.79577172e-02, 0.00000000e+00, 0.00000000e+00...</td></tr>\n",
       "</tbody>\n",
       "</table>"
      ],
      "text/plain": [
       "<gpflow.models.svgp.SVGP object at 0x7fe6a4c71ee0>\n",
       "name                                 class      transform         prior    trainable    shape        dtype    value\n",
       "-----------------------------------  ---------  ----------------  -------  -----------  -----------  -------  ----------------------------------------------------\n",
       "SVGP.kernel.kernels[0].variance      Parameter  Softplus                   True         ()           float64  0.39429433329750974\n",
       "SVGP.kernel.kernels[0].lengthscales  Parameter  Softplus                   True         (2,)         float64  [3.1910987  1.82795351]\n",
       "SVGP.kernel.kernels[1].variance      Parameter  Softplus                   True         ()           float64  0.3942943332975032\n",
       "SVGP.kernel.kernels[2].variance      Parameter  Softplus                   True         ()           float64  0.3942943332975117\n",
       "SVGP.kernel.kernels[2].lengthscales  Parameter  Softplus                   True         (2,)         float64  [3.33523975 0.83656206]\n",
       "SVGP.kernel.kernels[2].alpha         Parameter  Softplus                   True         ()           float64  0.15163631654462473\n",
       "SVGP.likelihood.variance             Parameter  Softplus + Shift           True         ()           float64  0.07560250633243529\n",
       "SVGP.inducing_variable.Z             Parameter  Identity                   True         (15, 2)      float64  [[-1.52051448, -0.19026488...\n",
       "SVGP.q_mu                            Parameter  Identity                   False        (15, 1)      float64  [[-0.60732885...\n",
       "SVGP.q_sqrt                          Parameter  FillTriangular             False        (1, 15, 15)  float64  [[[7.79577172e-02, 0.00000000e+00, 0.00000000e+00..."
      ]
     },
     "execution_count": 45,
     "metadata": {},
     "output_type": "execute_result"
    }
   ],
   "source": [
    "model._model"
   ]
  },
  {
   "cell_type": "markdown",
   "metadata": {},
   "source": [
    "### **$\\lambda (t) = f(S(t)*I(t))$** - Gaussian - SE\\*L\\*RQ"
   ]
  },
  {
   "cell_type": "code",
   "execution_count": 46,
   "metadata": {
    "ExecuteTime": {
     "end_time": "2021-01-06T16:34:16.713266Z",
     "start_time": "2021-01-06T16:32:02.762606Z"
    }
   },
   "outputs": [],
   "source": [
    "t = final_data[[\"Updated\"]]\n",
    "y = final_data[[\"ConfirmedChange\"]]\n",
    "X = pd.DataFrame({\n",
    "    \"S*I\": final_data[\"S\"] * final_data[\"I\"]\n",
    "}, index=final_data.index)[[\"S*I\"]]\n",
    "\n",
    "model_params = {\n",
    "    'kernel': (\n",
    "        gpflow.kernels.SquaredExponential() *\n",
    "        gpflow.kernels.Linear() * \n",
    "        gpflow.kernels.RationalQuadratic()\n",
    "    )\n",
    "}\n",
    "\n",
    "res, model = run_experiment('$f(S(t)*I(t))$', t, X, y, \n",
    "                            model_params=model_params, \n",
    "                            train_test_split_func=train_test_split_func, \n",
    "                            plot=False)\n",
    "results.add(res)"
   ]
  },
  {
   "cell_type": "code",
   "execution_count": 47,
   "metadata": {
    "ExecuteTime": {
     "end_time": "2021-01-06T16:34:16.738718Z",
     "start_time": "2021-01-06T16:34:16.715059Z"
    }
   },
   "outputs": [
    {
     "data": {
      "text/html": [
       "&lt;gpflow.models.svgp.SVGP object at 0x7fe6a3e5eac0&gt;\n",
       "<table>\n",
       "<thead>\n",
       "<tr><th>name                               </th><th>class    </th><th>transform       </th><th>prior  </th><th>trainable  </th><th>shape      </th><th>dtype  </th><th>value                                               </th></tr>\n",
       "</thead>\n",
       "<tbody>\n",
       "<tr><td>SVGP.kernel.kernels[0].variance    </td><td>Parameter</td><td>Softplus        </td><td>       </td><td>True       </td><td>()         </td><td>float64</td><td>1.026389696970342                                   </td></tr>\n",
       "<tr><td>SVGP.kernel.kernels[0].lengthscales</td><td>Parameter</td><td>Softplus        </td><td>       </td><td>True       </td><td>()         </td><td>float64</td><td>1.4576437695681288                                  </td></tr>\n",
       "<tr><td>SVGP.kernel.kernels[1].variance    </td><td>Parameter</td><td>Softplus        </td><td>       </td><td>True       </td><td>()         </td><td>float64</td><td>1.0263896969701853                                  </td></tr>\n",
       "<tr><td>SVGP.kernel.kernels[2].variance    </td><td>Parameter</td><td>Softplus        </td><td>       </td><td>True       </td><td>()         </td><td>float64</td><td>1.026389696970297                                   </td></tr>\n",
       "<tr><td>SVGP.kernel.kernels[2].lengthscales</td><td>Parameter</td><td>Softplus        </td><td>       </td><td>True       </td><td>()         </td><td>float64</td><td>0.5052143904636346                                  </td></tr>\n",
       "<tr><td>SVGP.kernel.kernels[2].alpha       </td><td>Parameter</td><td>Softplus        </td><td>       </td><td>True       </td><td>()         </td><td>float64</td><td>1.1815877331272124                                  </td></tr>\n",
       "<tr><td>SVGP.likelihood.variance           </td><td>Parameter</td><td>Softplus + Shift</td><td>       </td><td>True       </td><td>()         </td><td>float64</td><td>0.07703639730688688                                 </td></tr>\n",
       "<tr><td>SVGP.inducing_variable.Z           </td><td>Parameter</td><td>Identity        </td><td>       </td><td>True       </td><td>(15, 1)    </td><td>float64</td><td>[[0.776013...                                       </td></tr>\n",
       "<tr><td>SVGP.q_mu                          </td><td>Parameter</td><td>Identity        </td><td>       </td><td>False      </td><td>(15, 1)    </td><td>float64</td><td>[[0.70255896...                                     </td></tr>\n",
       "<tr><td>SVGP.q_sqrt                        </td><td>Parameter</td><td>FillTriangular  </td><td>       </td><td>False      </td><td>(1, 15, 15)</td><td>float64</td><td>[[[1.93239939e-02, 0.00000000e+00, 0.00000000e+00...</td></tr>\n",
       "</tbody>\n",
       "</table>"
      ],
      "text/plain": [
       "<gpflow.models.svgp.SVGP object at 0x7fe6a3e5eac0>\n",
       "name                                 class      transform         prior    trainable    shape        dtype    value\n",
       "-----------------------------------  ---------  ----------------  -------  -----------  -----------  -------  ----------------------------------------------------\n",
       "SVGP.kernel.kernels[0].variance      Parameter  Softplus                   True         ()           float64  1.026389696970342\n",
       "SVGP.kernel.kernels[0].lengthscales  Parameter  Softplus                   True         ()           float64  1.4576437695681288\n",
       "SVGP.kernel.kernels[1].variance      Parameter  Softplus                   True         ()           float64  1.0263896969701853\n",
       "SVGP.kernel.kernels[2].variance      Parameter  Softplus                   True         ()           float64  1.026389696970297\n",
       "SVGP.kernel.kernels[2].lengthscales  Parameter  Softplus                   True         ()           float64  0.5052143904636346\n",
       "SVGP.kernel.kernels[2].alpha         Parameter  Softplus                   True         ()           float64  1.1815877331272124\n",
       "SVGP.likelihood.variance             Parameter  Softplus + Shift           True         ()           float64  0.07703639730688688\n",
       "SVGP.inducing_variable.Z             Parameter  Identity                   True         (15, 1)      float64  [[0.776013...\n",
       "SVGP.q_mu                            Parameter  Identity                   False        (15, 1)      float64  [[0.70255896...\n",
       "SVGP.q_sqrt                          Parameter  FillTriangular             False        (1, 15, 15)  float64  [[[1.93239939e-02, 0.00000000e+00, 0.00000000e+00..."
      ]
     },
     "execution_count": 47,
     "metadata": {},
     "output_type": "execute_result"
    }
   ],
   "source": [
    "model._model"
   ]
  },
  {
   "cell_type": "markdown",
   "metadata": {},
   "source": [
    "### **$\\lambda (t) = f(S(t)+I(t))$** - Gaussian - SE\\*L\\*RQ"
   ]
  },
  {
   "cell_type": "code",
   "execution_count": 48,
   "metadata": {
    "ExecuteTime": {
     "end_time": "2021-01-06T16:36:34.192744Z",
     "start_time": "2021-01-06T16:34:16.740892Z"
    }
   },
   "outputs": [],
   "source": [
    "t = final_data[[\"Updated\"]]\n",
    "y = final_data[[\"ConfirmedChange\"]]\n",
    "X = pd.DataFrame({\n",
    "    \"S+I\": final_data[\"S\"] + final_data[\"I\"]\n",
    "}, index=final_data.index)[[\n",
    "    \"S+I\"\n",
    "]]\n",
    "\n",
    "model_params = {\n",
    "    'kernel': (\n",
    "        gpflow.kernels.SquaredExponential() *\n",
    "        gpflow.kernels.Linear() * \n",
    "        gpflow.kernels.RationalQuadratic()\n",
    "    )\n",
    "}\n",
    "\n",
    "res, model = run_experiment('$f(S(t)+I(t))$', t, X, y, \n",
    "                            model_params=model_params, \n",
    "                            train_test_split_func=train_test_split_func, \n",
    "                            plot=False)\n",
    "results.add(res)"
   ]
  },
  {
   "cell_type": "code",
   "execution_count": 49,
   "metadata": {
    "ExecuteTime": {
     "end_time": "2021-01-06T16:36:34.217924Z",
     "start_time": "2021-01-06T16:36:34.194730Z"
    }
   },
   "outputs": [
    {
     "data": {
      "text/html": [
       "&lt;gpflow.models.svgp.SVGP object at 0x7fe6a4c68580&gt;\n",
       "<table>\n",
       "<thead>\n",
       "<tr><th>name                               </th><th>class    </th><th>transform       </th><th>prior  </th><th>trainable  </th><th>shape      </th><th>dtype  </th><th>value                                               </th></tr>\n",
       "</thead>\n",
       "<tbody>\n",
       "<tr><td>SVGP.kernel.kernels[0].variance    </td><td>Parameter</td><td>Softplus        </td><td>       </td><td>True       </td><td>()         </td><td>float64</td><td>0.9166977341493979                                  </td></tr>\n",
       "<tr><td>SVGP.kernel.kernels[0].lengthscales</td><td>Parameter</td><td>Softplus        </td><td>       </td><td>True       </td><td>()         </td><td>float64</td><td>2.0154207504807435                                  </td></tr>\n",
       "<tr><td>SVGP.kernel.kernels[1].variance    </td><td>Parameter</td><td>Softplus        </td><td>       </td><td>True       </td><td>()         </td><td>float64</td><td>0.9166977341495556                                  </td></tr>\n",
       "<tr><td>SVGP.kernel.kernels[2].variance    </td><td>Parameter</td><td>Softplus        </td><td>       </td><td>True       </td><td>()         </td><td>float64</td><td>0.9166977341496065                                  </td></tr>\n",
       "<tr><td>SVGP.kernel.kernels[2].lengthscales</td><td>Parameter</td><td>Softplus        </td><td>       </td><td>True       </td><td>()         </td><td>float64</td><td>0.7201069901030775                                  </td></tr>\n",
       "<tr><td>SVGP.kernel.kernels[2].alpha       </td><td>Parameter</td><td>Softplus        </td><td>       </td><td>True       </td><td>()         </td><td>float64</td><td>0.2429595167384274                                  </td></tr>\n",
       "<tr><td>SVGP.likelihood.variance           </td><td>Parameter</td><td>Softplus + Shift</td><td>       </td><td>True       </td><td>()         </td><td>float64</td><td>0.08824381729724626                                 </td></tr>\n",
       "<tr><td>SVGP.inducing_variable.Z           </td><td>Parameter</td><td>Identity        </td><td>       </td><td>True       </td><td>(15, 1)    </td><td>float64</td><td>[[-0.28566589...                                    </td></tr>\n",
       "<tr><td>SVGP.q_mu                          </td><td>Parameter</td><td>Identity        </td><td>       </td><td>False      </td><td>(15, 1)    </td><td>float64</td><td>[[-0.80770917...                                    </td></tr>\n",
       "<tr><td>SVGP.q_sqrt                        </td><td>Parameter</td><td>FillTriangular  </td><td>       </td><td>False      </td><td>(1, 15, 15)</td><td>float64</td><td>[[[7.25246930e-02, 0.00000000e+00, 0.00000000e+00...</td></tr>\n",
       "</tbody>\n",
       "</table>"
      ],
      "text/plain": [
       "<gpflow.models.svgp.SVGP object at 0x7fe6a4c68580>\n",
       "name                                 class      transform         prior    trainable    shape        dtype    value\n",
       "-----------------------------------  ---------  ----------------  -------  -----------  -----------  -------  ----------------------------------------------------\n",
       "SVGP.kernel.kernels[0].variance      Parameter  Softplus                   True         ()           float64  0.9166977341493979\n",
       "SVGP.kernel.kernels[0].lengthscales  Parameter  Softplus                   True         ()           float64  2.0154207504807435\n",
       "SVGP.kernel.kernels[1].variance      Parameter  Softplus                   True         ()           float64  0.9166977341495556\n",
       "SVGP.kernel.kernels[2].variance      Parameter  Softplus                   True         ()           float64  0.9166977341496065\n",
       "SVGP.kernel.kernels[2].lengthscales  Parameter  Softplus                   True         ()           float64  0.7201069901030775\n",
       "SVGP.kernel.kernels[2].alpha         Parameter  Softplus                   True         ()           float64  0.2429595167384274\n",
       "SVGP.likelihood.variance             Parameter  Softplus + Shift           True         ()           float64  0.08824381729724626\n",
       "SVGP.inducing_variable.Z             Parameter  Identity                   True         (15, 1)      float64  [[-0.28566589...\n",
       "SVGP.q_mu                            Parameter  Identity                   False        (15, 1)      float64  [[-0.80770917...\n",
       "SVGP.q_sqrt                          Parameter  FillTriangular             False        (1, 15, 15)  float64  [[[7.25246930e-02, 0.00000000e+00, 0.00000000e+00..."
      ]
     },
     "execution_count": 49,
     "metadata": {},
     "output_type": "execute_result"
    }
   ],
   "source": [
    "model._model"
   ]
  },
  {
   "cell_type": "markdown",
   "metadata": {},
   "source": [
    "### **$\\lambda (t) = f(t, S(t)*I(t))$** - Gaussian - SE\\*L\\*RQ"
   ]
  },
  {
   "cell_type": "code",
   "execution_count": 50,
   "metadata": {
    "ExecuteTime": {
     "end_time": "2021-01-06T16:38:52.648368Z",
     "start_time": "2021-01-06T16:36:34.221555Z"
    }
   },
   "outputs": [],
   "source": [
    "t = final_data[[\"Updated\"]]\n",
    "y = final_data[[\"ConfirmedChange\"]]\n",
    "X = pd.DataFrame({\n",
    "    \"index\": final_data[\"index\"],\n",
    "    \"S*I\": final_data[\"S\"] * final_data[\"I\"]\n",
    "}, index=final_data.index)[[\n",
    "    \"index\",\n",
    "    \"S*I\"\n",
    "]]\n",
    "\n",
    "model_params = {\n",
    "    'kernel': (\n",
    "        gpflow.kernels.SquaredExponential(lengthscales=np.ones(X.shape[1])) *\n",
    "        gpflow.kernels.Linear() * \n",
    "        gpflow.kernels.RationalQuadratic(lengthscales=np.ones(X.shape[1]))\n",
    "    )\n",
    "}\n",
    "\n",
    "res, model = run_experiment('$f(t, S(t)*I(t))$', t, X, y, \n",
    "                            model_params=model_params, \n",
    "                            train_test_split_func=train_test_split_func, \n",
    "                            plot=False)\n",
    "results.add(res)"
   ]
  },
  {
   "cell_type": "code",
   "execution_count": 51,
   "metadata": {
    "ExecuteTime": {
     "end_time": "2021-01-06T16:38:52.675008Z",
     "start_time": "2021-01-06T16:38:52.650247Z"
    }
   },
   "outputs": [
    {
     "data": {
      "text/html": [
       "&lt;gpflow.models.svgp.SVGP object at 0x7fe6a3dc19a0&gt;\n",
       "<table>\n",
       "<thead>\n",
       "<tr><th>name                               </th><th>class    </th><th>transform       </th><th>prior  </th><th>trainable  </th><th>shape      </th><th>dtype  </th><th>value                    </th></tr>\n",
       "</thead>\n",
       "<tbody>\n",
       "<tr><td>SVGP.kernel.kernels[0].variance    </td><td>Parameter</td><td>Softplus        </td><td>       </td><td>True       </td><td>()         </td><td>float64</td><td>0.6324751914652238       </td></tr>\n",
       "<tr><td>SVGP.kernel.kernels[0].lengthscales</td><td>Parameter</td><td>Softplus        </td><td>       </td><td>True       </td><td>(2,)       </td><td>float64</td><td>[1.82590814 2.47846807]  </td></tr>\n",
       "<tr><td>SVGP.kernel.kernels[1].variance    </td><td>Parameter</td><td>Softplus        </td><td>       </td><td>True       </td><td>()         </td><td>float64</td><td>0.6324751914652122       </td></tr>\n",
       "<tr><td>SVGP.kernel.kernels[2].variance    </td><td>Parameter</td><td>Softplus        </td><td>       </td><td>True       </td><td>()         </td><td>float64</td><td>0.6324751914652329       </td></tr>\n",
       "<tr><td>SVGP.kernel.kernels[2].lengthscales</td><td>Parameter</td><td>Softplus        </td><td>       </td><td>True       </td><td>(2,)       </td><td>float64</td><td>[1.6499577  2.64335777]  </td></tr>\n",
       "<tr><td>SVGP.kernel.kernels[2].alpha       </td><td>Parameter</td><td>Softplus        </td><td>       </td><td>True       </td><td>()         </td><td>float64</td><td>2.604798300695539        </td></tr>\n",
       "<tr><td>SVGP.likelihood.variance           </td><td>Parameter</td><td>Softplus + Shift</td><td>       </td><td>True       </td><td>()         </td><td>float64</td><td>0.05800490784029345      </td></tr>\n",
       "<tr><td>SVGP.inducing_variable.Z           </td><td>Parameter</td><td>Identity        </td><td>       </td><td>True       </td><td>(15, 2)    </td><td>float64</td><td>[[1.3767921, 0.1383584...</td></tr>\n",
       "<tr><td>SVGP.q_mu                          </td><td>Parameter</td><td>Identity        </td><td>       </td><td>False      </td><td>(15, 1)    </td><td>float64</td><td>[[0.21761811...          </td></tr>\n",
       "<tr><td>SVGP.q_sqrt                        </td><td>Parameter</td><td>FillTriangular  </td><td>       </td><td>False      </td><td>(1, 15, 15)</td><td>float64</td><td>[[[0.02754524, 0., 0.... </td></tr>\n",
       "</tbody>\n",
       "</table>"
      ],
      "text/plain": [
       "<gpflow.models.svgp.SVGP object at 0x7fe6a3dc19a0>\n",
       "name                                 class      transform         prior    trainable    shape        dtype    value\n",
       "-----------------------------------  ---------  ----------------  -------  -----------  -----------  -------  -------------------------\n",
       "SVGP.kernel.kernels[0].variance      Parameter  Softplus                   True         ()           float64  0.6324751914652238\n",
       "SVGP.kernel.kernels[0].lengthscales  Parameter  Softplus                   True         (2,)         float64  [1.82590814 2.47846807]\n",
       "SVGP.kernel.kernels[1].variance      Parameter  Softplus                   True         ()           float64  0.6324751914652122\n",
       "SVGP.kernel.kernels[2].variance      Parameter  Softplus                   True         ()           float64  0.6324751914652329\n",
       "SVGP.kernel.kernels[2].lengthscales  Parameter  Softplus                   True         (2,)         float64  [1.6499577  2.64335777]\n",
       "SVGP.kernel.kernels[2].alpha         Parameter  Softplus                   True         ()           float64  2.604798300695539\n",
       "SVGP.likelihood.variance             Parameter  Softplus + Shift           True         ()           float64  0.05800490784029345\n",
       "SVGP.inducing_variable.Z             Parameter  Identity                   True         (15, 2)      float64  [[1.3767921, 0.1383584...\n",
       "SVGP.q_mu                            Parameter  Identity                   False        (15, 1)      float64  [[0.21761811...\n",
       "SVGP.q_sqrt                          Parameter  FillTriangular             False        (1, 15, 15)  float64  [[[0.02754524, 0., 0...."
      ]
     },
     "execution_count": 51,
     "metadata": {},
     "output_type": "execute_result"
    }
   ],
   "source": [
    "model._model"
   ]
  },
  {
   "cell_type": "markdown",
   "metadata": {},
   "source": [
    "### **$\\lambda (t) = f(t, S(t)+I(t))$** - Gaussian - SE\\*L\\*RQ"
   ]
  },
  {
   "cell_type": "code",
   "execution_count": 52,
   "metadata": {
    "ExecuteTime": {
     "end_time": "2021-01-06T16:41:10.202357Z",
     "start_time": "2021-01-06T16:38:52.677128Z"
    }
   },
   "outputs": [],
   "source": [
    "t = final_data[[\"Updated\"]]\n",
    "y = final_data[[\"ConfirmedChange\"]]\n",
    "X = pd.DataFrame({\n",
    "    \"index\": final_data[\"index\"],\n",
    "    \"S+I\": final_data[\"S\"] + final_data[\"I\"]\n",
    "}, index=final_data.index)[[\n",
    "    \"index\",\n",
    "    \"S+I\"\n",
    "]]\n",
    "\n",
    "model_params = {\n",
    "    'kernel': (\n",
    "        gpflow.kernels.SquaredExponential(lengthscales=np.ones(X.shape[1])) *\n",
    "        gpflow.kernels.Linear() * \n",
    "        gpflow.kernels.RationalQuadratic(lengthscales=np.ones(X.shape[1]))\n",
    "    )\n",
    "}\n",
    "\n",
    "res, model = run_experiment('$f(t, S(t)+I(t))$', t, X, y, \n",
    "                            model_params=model_params, \n",
    "                            train_test_split_func=train_test_split_func, \n",
    "                            plot=False)\n",
    "results.add(res)"
   ]
  },
  {
   "cell_type": "code",
   "execution_count": 53,
   "metadata": {
    "ExecuteTime": {
     "end_time": "2021-01-06T16:41:10.228326Z",
     "start_time": "2021-01-06T16:41:10.204274Z"
    }
   },
   "outputs": [
    {
     "data": {
      "text/html": [
       "&lt;gpflow.models.svgp.SVGP object at 0x7fe6a4c4ac70&gt;\n",
       "<table>\n",
       "<thead>\n",
       "<tr><th>name                               </th><th>class    </th><th>transform       </th><th>prior  </th><th>trainable  </th><th>shape      </th><th>dtype  </th><th>value                                               </th></tr>\n",
       "</thead>\n",
       "<tbody>\n",
       "<tr><td>SVGP.kernel.kernels[0].variance    </td><td>Parameter</td><td>Softplus        </td><td>       </td><td>True       </td><td>()         </td><td>float64</td><td>0.5450259348547142                                  </td></tr>\n",
       "<tr><td>SVGP.kernel.kernels[0].lengthscales</td><td>Parameter</td><td>Softplus        </td><td>       </td><td>True       </td><td>(2,)       </td><td>float64</td><td>[1.6888259  2.76963037]                             </td></tr>\n",
       "<tr><td>SVGP.kernel.kernels[1].variance    </td><td>Parameter</td><td>Softplus        </td><td>       </td><td>True       </td><td>()         </td><td>float64</td><td>0.5450259348547046                                  </td></tr>\n",
       "<tr><td>SVGP.kernel.kernels[2].variance    </td><td>Parameter</td><td>Softplus        </td><td>       </td><td>True       </td><td>()         </td><td>float64</td><td>0.5450259348547007                                  </td></tr>\n",
       "<tr><td>SVGP.kernel.kernels[2].lengthscales</td><td>Parameter</td><td>Softplus        </td><td>       </td><td>True       </td><td>(2,)       </td><td>float64</td><td>[1.20968241 3.01561823]                             </td></tr>\n",
       "<tr><td>SVGP.kernel.kernels[2].alpha       </td><td>Parameter</td><td>Softplus        </td><td>       </td><td>True       </td><td>()         </td><td>float64</td><td>2.343934755430773                                   </td></tr>\n",
       "<tr><td>SVGP.likelihood.variance           </td><td>Parameter</td><td>Softplus + Shift</td><td>       </td><td>True       </td><td>()         </td><td>float64</td><td>0.061792533778707096                                </td></tr>\n",
       "<tr><td>SVGP.inducing_variable.Z           </td><td>Parameter</td><td>Identity        </td><td>       </td><td>True       </td><td>(15, 2)    </td><td>float64</td><td>[[1.56207018, -0.45935754...                        </td></tr>\n",
       "<tr><td>SVGP.q_mu                          </td><td>Parameter</td><td>Identity        </td><td>       </td><td>False      </td><td>(15, 1)    </td><td>float64</td><td>[[-0.27550799...                                    </td></tr>\n",
       "<tr><td>SVGP.q_sqrt                        </td><td>Parameter</td><td>FillTriangular  </td><td>       </td><td>False      </td><td>(1, 15, 15)</td><td>float64</td><td>[[[4.29062438e-02, 0.00000000e+00, 0.00000000e+00...</td></tr>\n",
       "</tbody>\n",
       "</table>"
      ],
      "text/plain": [
       "<gpflow.models.svgp.SVGP object at 0x7fe6a4c4ac70>\n",
       "name                                 class      transform         prior    trainable    shape        dtype    value\n",
       "-----------------------------------  ---------  ----------------  -------  -----------  -----------  -------  ----------------------------------------------------\n",
       "SVGP.kernel.kernels[0].variance      Parameter  Softplus                   True         ()           float64  0.5450259348547142\n",
       "SVGP.kernel.kernels[0].lengthscales  Parameter  Softplus                   True         (2,)         float64  [1.6888259  2.76963037]\n",
       "SVGP.kernel.kernels[1].variance      Parameter  Softplus                   True         ()           float64  0.5450259348547046\n",
       "SVGP.kernel.kernels[2].variance      Parameter  Softplus                   True         ()           float64  0.5450259348547007\n",
       "SVGP.kernel.kernels[2].lengthscales  Parameter  Softplus                   True         (2,)         float64  [1.20968241 3.01561823]\n",
       "SVGP.kernel.kernels[2].alpha         Parameter  Softplus                   True         ()           float64  2.343934755430773\n",
       "SVGP.likelihood.variance             Parameter  Softplus + Shift           True         ()           float64  0.061792533778707096\n",
       "SVGP.inducing_variable.Z             Parameter  Identity                   True         (15, 2)      float64  [[1.56207018, -0.45935754...\n",
       "SVGP.q_mu                            Parameter  Identity                   False        (15, 1)      float64  [[-0.27550799...\n",
       "SVGP.q_sqrt                          Parameter  FillTriangular             False        (1, 15, 15)  float64  [[[4.29062438e-02, 0.00000000e+00, 0.00000000e+00..."
      ]
     },
     "execution_count": 53,
     "metadata": {},
     "output_type": "execute_result"
    }
   ],
   "source": [
    "model._model"
   ]
  },
  {
   "cell_type": "markdown",
   "metadata": {},
   "source": [
    "### **$\\lambda (t) = f(t, S(t), I(t))$** - Gaussian - SE\\*L\\*RQ"
   ]
  },
  {
   "cell_type": "code",
   "execution_count": 54,
   "metadata": {
    "ExecuteTime": {
     "end_time": "2021-01-06T16:43:27.846838Z",
     "start_time": "2021-01-06T16:41:10.230347Z"
    }
   },
   "outputs": [],
   "source": [
    "t = final_data[[\"Updated\"]]\n",
    "y = final_data[[\"ConfirmedChange\"]]\n",
    "X = pd.DataFrame({\n",
    "    \"index\": final_data[\"index\"],\n",
    "    \"S\": final_data[\"S\"],\n",
    "    \"I\": final_data[\"I\"]\n",
    "}, index=final_data.index)[[\n",
    "    \"index\",\n",
    "    \"S\",\n",
    "    \"I\"\n",
    "]]\n",
    "\n",
    "model_params = {\n",
    "    'kernel': (\n",
    "        gpflow.kernels.SquaredExponential(lengthscales=np.ones(X.shape[1])) *\n",
    "        gpflow.kernels.Linear() * \n",
    "        gpflow.kernels.RationalQuadratic(lengthscales=np.ones(X.shape[1]))\n",
    "    )\n",
    "}\n",
    "\n",
    "res, model = run_experiment('$f(t, S(t), I(t))$', t, X, y, \n",
    "                            model_params=model_params, \n",
    "                            train_test_split_func=train_test_split_func, \n",
    "                            plot=False)\n",
    "results.add(res)"
   ]
  },
  {
   "cell_type": "code",
   "execution_count": 55,
   "metadata": {
    "ExecuteTime": {
     "end_time": "2021-01-06T16:43:27.872674Z",
     "start_time": "2021-01-06T16:43:27.848750Z"
    },
    "scrolled": true
   },
   "outputs": [
    {
     "data": {
      "text/html": [
       "&lt;gpflow.models.svgp.SVGP object at 0x7fe6a4c44040&gt;\n",
       "<table>\n",
       "<thead>\n",
       "<tr><th>name                               </th><th>class    </th><th>transform       </th><th>prior  </th><th>trainable  </th><th>shape      </th><th>dtype  </th><th>value                                               </th></tr>\n",
       "</thead>\n",
       "<tbody>\n",
       "<tr><td>SVGP.kernel.kernels[0].variance    </td><td>Parameter</td><td>Softplus        </td><td>       </td><td>True       </td><td>()         </td><td>float64</td><td>0.339647229654493                                   </td></tr>\n",
       "<tr><td>SVGP.kernel.kernels[0].lengthscales</td><td>Parameter</td><td>Softplus        </td><td>       </td><td>True       </td><td>(3,)       </td><td>float64</td><td>[2.43692509 3.80711695 1.70080508]                  </td></tr>\n",
       "<tr><td>SVGP.kernel.kernels[1].variance    </td><td>Parameter</td><td>Softplus        </td><td>       </td><td>True       </td><td>()         </td><td>float64</td><td>0.3396472296544968                                  </td></tr>\n",
       "<tr><td>SVGP.kernel.kernels[2].variance    </td><td>Parameter</td><td>Softplus        </td><td>       </td><td>True       </td><td>()         </td><td>float64</td><td>0.33964722965449207                                 </td></tr>\n",
       "<tr><td>SVGP.kernel.kernels[2].lengthscales</td><td>Parameter</td><td>Softplus        </td><td>       </td><td>True       </td><td>(3,)       </td><td>float64</td><td>[2.37300488 4.27500461 1.61363593]                  </td></tr>\n",
       "<tr><td>SVGP.kernel.kernels[2].alpha       </td><td>Parameter</td><td>Softplus        </td><td>       </td><td>True       </td><td>()         </td><td>float64</td><td>1.4495947221866272                                  </td></tr>\n",
       "<tr><td>SVGP.likelihood.variance           </td><td>Parameter</td><td>Softplus + Shift</td><td>       </td><td>True       </td><td>()         </td><td>float64</td><td>0.04489238807311889                                 </td></tr>\n",
       "<tr><td>SVGP.inducing_variable.Z           </td><td>Parameter</td><td>Identity        </td><td>       </td><td>True       </td><td>(15, 3)    </td><td>float64</td><td>[[0.97274211, -1.2416394, 0.38796986...             </td></tr>\n",
       "<tr><td>SVGP.q_mu                          </td><td>Parameter</td><td>Identity        </td><td>       </td><td>False      </td><td>(15, 1)    </td><td>float64</td><td>[[-0.59233542...                                    </td></tr>\n",
       "<tr><td>SVGP.q_sqrt                        </td><td>Parameter</td><td>FillTriangular  </td><td>       </td><td>False      </td><td>(1, 15, 15)</td><td>float64</td><td>[[[5.38208035e-02, 0.00000000e+00, 0.00000000e+00...</td></tr>\n",
       "</tbody>\n",
       "</table>"
      ],
      "text/plain": [
       "<gpflow.models.svgp.SVGP object at 0x7fe6a4c44040>\n",
       "name                                 class      transform         prior    trainable    shape        dtype    value\n",
       "-----------------------------------  ---------  ----------------  -------  -----------  -----------  -------  ----------------------------------------------------\n",
       "SVGP.kernel.kernels[0].variance      Parameter  Softplus                   True         ()           float64  0.339647229654493\n",
       "SVGP.kernel.kernels[0].lengthscales  Parameter  Softplus                   True         (3,)         float64  [2.43692509 3.80711695 1.70080508]\n",
       "SVGP.kernel.kernels[1].variance      Parameter  Softplus                   True         ()           float64  0.3396472296544968\n",
       "SVGP.kernel.kernels[2].variance      Parameter  Softplus                   True         ()           float64  0.33964722965449207\n",
       "SVGP.kernel.kernels[2].lengthscales  Parameter  Softplus                   True         (3,)         float64  [2.37300488 4.27500461 1.61363593]\n",
       "SVGP.kernel.kernels[2].alpha         Parameter  Softplus                   True         ()           float64  1.4495947221866272\n",
       "SVGP.likelihood.variance             Parameter  Softplus + Shift           True         ()           float64  0.04489238807311889\n",
       "SVGP.inducing_variable.Z             Parameter  Identity                   True         (15, 3)      float64  [[0.97274211, -1.2416394, 0.38796986...\n",
       "SVGP.q_mu                            Parameter  Identity                   False        (15, 1)      float64  [[-0.59233542...\n",
       "SVGP.q_sqrt                          Parameter  FillTriangular             False        (1, 15, 15)  float64  [[[5.38208035e-02, 0.00000000e+00, 0.00000000e+00..."
      ]
     },
     "execution_count": 55,
     "metadata": {},
     "output_type": "execute_result"
    }
   ],
   "source": [
    "model._model"
   ]
  },
  {
   "cell_type": "markdown",
   "metadata": {},
   "source": [
    "### **$\\lambda (t) = f(t, S(t)^p, I(t)^p)$** - Gaussian - SE\\*L\\*RQ"
   ]
  },
  {
   "cell_type": "code",
   "execution_count": 56,
   "metadata": {
    "ExecuteTime": {
     "end_time": "2021-01-06T16:45:47.682580Z",
     "start_time": "2021-01-06T16:43:27.874465Z"
    }
   },
   "outputs": [],
   "source": [
    "t = final_data[[\"Updated\"]]\n",
    "y = final_data[[\"ConfirmedChange\"]]\n",
    "X = pd.DataFrame({\n",
    "    \"index\": final_data[\"index\"],\n",
    "    \"S\": final_data[\"S\"],\n",
    "    \"S**2\": final_data[\"S\"]**2,\n",
    "    \"S**3\": final_data[\"S\"]**3,\n",
    "    \"I\": final_data[\"I\"],\n",
    "    \"I**2\": final_data[\"I\"]**2,\n",
    "    \"I**3\": final_data[\"I\"]**3\n",
    "}, index=final_data.index)[[\n",
    "    \"index\",\n",
    "    \"S\", \"S**2\", \"S**3\",\n",
    "    \"I\", \"I**2\", \"I**3\"\n",
    "]]\n",
    "\n",
    "model_params = {\n",
    "    'kernel': (\n",
    "        gpflow.kernels.SquaredExponential(lengthscales=np.ones(X.shape[1])) *\n",
    "        gpflow.kernels.Linear() * \n",
    "        gpflow.kernels.RationalQuadratic(lengthscales=np.ones(X.shape[1]))\n",
    "    )\n",
    "}\n",
    "\n",
    "res, model = run_experiment('$f(t, S(t)^p, I(t)^p)$', t, X, y, \n",
    "                            model_params=model_params, \n",
    "                            train_test_split_func=train_test_split_func, \n",
    "                            plot=False)\n",
    "results.add(res)"
   ]
  },
  {
   "cell_type": "code",
   "execution_count": 57,
   "metadata": {
    "ExecuteTime": {
     "end_time": "2021-01-06T16:45:47.710658Z",
     "start_time": "2021-01-06T16:45:47.684971Z"
    },
    "scrolled": true
   },
   "outputs": [
    {
     "data": {
      "text/html": [
       "&lt;gpflow.models.svgp.SVGP object at 0x7fe6a3f7ec40&gt;\n",
       "<table>\n",
       "<thead>\n",
       "<tr><th>name                               </th><th>class    </th><th>transform       </th><th>prior  </th><th>trainable  </th><th>shape      </th><th>dtype  </th><th>value                                    </th></tr>\n",
       "</thead>\n",
       "<tbody>\n",
       "<tr><td>SVGP.kernel.kernels[0].variance    </td><td>Parameter</td><td>Softplus        </td><td>       </td><td>True       </td><td>()         </td><td>float64</td><td>0.3034113698040246                       </td></tr>\n",
       "<tr><td>SVGP.kernel.kernels[0].lengthscales</td><td>Parameter</td><td>Softplus        </td><td>       </td><td>True       </td><td>(7,)       </td><td>float64</td><td>[3.38121089, 3.79673707, 4.38761834...   </td></tr>\n",
       "<tr><td>SVGP.kernel.kernels[1].variance    </td><td>Parameter</td><td>Softplus        </td><td>       </td><td>True       </td><td>()         </td><td>float64</td><td>0.3034113698040246                       </td></tr>\n",
       "<tr><td>SVGP.kernel.kernels[2].variance    </td><td>Parameter</td><td>Softplus        </td><td>       </td><td>True       </td><td>()         </td><td>float64</td><td>0.3034113698040246                       </td></tr>\n",
       "<tr><td>SVGP.kernel.kernels[2].lengthscales</td><td>Parameter</td><td>Softplus        </td><td>       </td><td>True       </td><td>(7,)       </td><td>float64</td><td>[3.78297833, 5.07035835, 5.65983015...   </td></tr>\n",
       "<tr><td>SVGP.kernel.kernels[2].alpha       </td><td>Parameter</td><td>Softplus        </td><td>       </td><td>True       </td><td>()         </td><td>float64</td><td>0.8611478650774473                       </td></tr>\n",
       "<tr><td>SVGP.likelihood.variance           </td><td>Parameter</td><td>Softplus + Shift</td><td>       </td><td>True       </td><td>()         </td><td>float64</td><td>0.05044770404126676                      </td></tr>\n",
       "<tr><td>SVGP.inducing_variable.Z           </td><td>Parameter</td><td>Identity        </td><td>       </td><td>True       </td><td>(15, 7)    </td><td>float64</td><td>[[1.18740605, -1.06142231, -1.03746207...</td></tr>\n",
       "<tr><td>SVGP.q_mu                          </td><td>Parameter</td><td>Identity        </td><td>       </td><td>False      </td><td>(15, 1)    </td><td>float64</td><td>[[-0.60442028...                         </td></tr>\n",
       "<tr><td>SVGP.q_sqrt                        </td><td>Parameter</td><td>FillTriangular  </td><td>       </td><td>False      </td><td>(1, 15, 15)</td><td>float64</td><td>[[[0.06162757, 0., 0....                 </td></tr>\n",
       "</tbody>\n",
       "</table>"
      ],
      "text/plain": [
       "<gpflow.models.svgp.SVGP object at 0x7fe6a3f7ec40>\n",
       "name                                 class      transform         prior    trainable    shape        dtype    value\n",
       "-----------------------------------  ---------  ----------------  -------  -----------  -----------  -------  -----------------------------------------\n",
       "SVGP.kernel.kernels[0].variance      Parameter  Softplus                   True         ()           float64  0.3034113698040246\n",
       "SVGP.kernel.kernels[0].lengthscales  Parameter  Softplus                   True         (7,)         float64  [3.38121089, 3.79673707, 4.38761834...\n",
       "SVGP.kernel.kernels[1].variance      Parameter  Softplus                   True         ()           float64  0.3034113698040246\n",
       "SVGP.kernel.kernels[2].variance      Parameter  Softplus                   True         ()           float64  0.3034113698040246\n",
       "SVGP.kernel.kernels[2].lengthscales  Parameter  Softplus                   True         (7,)         float64  [3.78297833, 5.07035835, 5.65983015...\n",
       "SVGP.kernel.kernels[2].alpha         Parameter  Softplus                   True         ()           float64  0.8611478650774473\n",
       "SVGP.likelihood.variance             Parameter  Softplus + Shift           True         ()           float64  0.05044770404126676\n",
       "SVGP.inducing_variable.Z             Parameter  Identity                   True         (15, 7)      float64  [[1.18740605, -1.06142231, -1.03746207...\n",
       "SVGP.q_mu                            Parameter  Identity                   False        (15, 1)      float64  [[-0.60442028...\n",
       "SVGP.q_sqrt                          Parameter  FillTriangular             False        (1, 15, 15)  float64  [[[0.06162757, 0., 0...."
      ]
     },
     "execution_count": 57,
     "metadata": {},
     "output_type": "execute_result"
    }
   ],
   "source": [
    "model._model"
   ]
  },
  {
   "cell_type": "markdown",
   "metadata": {},
   "source": [
    "### **$\\lambda (t) = f(t, I(t), Home(t))$** - Gaussian - SE\\*L\\*RQ"
   ]
  },
  {
   "cell_type": "code",
   "execution_count": 58,
   "metadata": {
    "ExecuteTime": {
     "end_time": "2021-01-06T16:48:05.874697Z",
     "start_time": "2021-01-06T16:45:47.712534Z"
    }
   },
   "outputs": [],
   "source": [
    "t = final_data[[\"Updated\"]]\n",
    "y = final_data[[\"ConfirmedChange\"]]\n",
    "X = pd.DataFrame({\n",
    "    \"index\": final_data[\"index\"],\n",
    "    \"I\": final_data[\"I\"],\n",
    "    \"HOME\": final_data[\"HOME\"]\n",
    "}, index=final_data.index)[[\n",
    "    \"index\",\n",
    "    \"I\",\n",
    "    \"HOME\"\n",
    "]]\n",
    "\n",
    "model_params = {\n",
    "    'kernel': (\n",
    "        gpflow.kernels.SquaredExponential(lengthscales=np.ones(X.shape[1])) *\n",
    "        gpflow.kernels.Linear() * \n",
    "        gpflow.kernels.RationalQuadratic(lengthscales=np.ones(X.shape[1]))\n",
    "    )\n",
    "}\n",
    "\n",
    "res, model = run_experiment('$f(t, I(t), Home(t))$', t, X, y, \n",
    "                            model_params=model_params, \n",
    "                            train_test_split_func=train_test_split_func, \n",
    "                            plot=False)\n",
    "results.add(res)"
   ]
  },
  {
   "cell_type": "code",
   "execution_count": 59,
   "metadata": {
    "ExecuteTime": {
     "end_time": "2021-01-06T16:48:05.899760Z",
     "start_time": "2021-01-06T16:48:05.876548Z"
    }
   },
   "outputs": [
    {
     "data": {
      "text/html": [
       "&lt;gpflow.models.svgp.SVGP object at 0x7fe6a3d4b910&gt;\n",
       "<table>\n",
       "<thead>\n",
       "<tr><th>name                               </th><th>class    </th><th>transform       </th><th>prior  </th><th>trainable  </th><th>shape      </th><th>dtype  </th><th>value                                               </th></tr>\n",
       "</thead>\n",
       "<tbody>\n",
       "<tr><td>SVGP.kernel.kernels[0].variance    </td><td>Parameter</td><td>Softplus        </td><td>       </td><td>True       </td><td>()         </td><td>float64</td><td>0.3880194256427554                                  </td></tr>\n",
       "<tr><td>SVGP.kernel.kernels[0].lengthscales</td><td>Parameter</td><td>Softplus        </td><td>       </td><td>True       </td><td>(3,)       </td><td>float64</td><td>[2.704092   3.078888   3.31598015]                  </td></tr>\n",
       "<tr><td>SVGP.kernel.kernels[1].variance    </td><td>Parameter</td><td>Softplus        </td><td>       </td><td>True       </td><td>()         </td><td>float64</td><td>0.3880194256427548                                  </td></tr>\n",
       "<tr><td>SVGP.kernel.kernels[2].variance    </td><td>Parameter</td><td>Softplus        </td><td>       </td><td>True       </td><td>()         </td><td>float64</td><td>0.3880194256427559                                  </td></tr>\n",
       "<tr><td>SVGP.kernel.kernels[2].lengthscales</td><td>Parameter</td><td>Softplus        </td><td>       </td><td>True       </td><td>(3,)       </td><td>float64</td><td>[2.55327453 1.49380715 3.27449045]                  </td></tr>\n",
       "<tr><td>SVGP.kernel.kernels[2].alpha       </td><td>Parameter</td><td>Softplus        </td><td>       </td><td>True       </td><td>()         </td><td>float64</td><td>0.10661636831216827                                 </td></tr>\n",
       "<tr><td>SVGP.likelihood.variance           </td><td>Parameter</td><td>Softplus + Shift</td><td>       </td><td>True       </td><td>()         </td><td>float64</td><td>0.05777129517861801                                 </td></tr>\n",
       "<tr><td>SVGP.inducing_variable.Z           </td><td>Parameter</td><td>Identity        </td><td>       </td><td>True       </td><td>(15, 3)    </td><td>float64</td><td>[[1.30558766, -0.64022712, 0.19450629...            </td></tr>\n",
       "<tr><td>SVGP.q_mu                          </td><td>Parameter</td><td>Identity        </td><td>       </td><td>False      </td><td>(15, 1)    </td><td>float64</td><td>[[-2.25477844...                                    </td></tr>\n",
       "<tr><td>SVGP.q_sqrt                        </td><td>Parameter</td><td>FillTriangular  </td><td>       </td><td>False      </td><td>(1, 15, 15)</td><td>float64</td><td>[[[9.44306435e-02, 0.00000000e+00, 0.00000000e+00...</td></tr>\n",
       "</tbody>\n",
       "</table>"
      ],
      "text/plain": [
       "<gpflow.models.svgp.SVGP object at 0x7fe6a3d4b910>\n",
       "name                                 class      transform         prior    trainable    shape        dtype    value\n",
       "-----------------------------------  ---------  ----------------  -------  -----------  -----------  -------  ----------------------------------------------------\n",
       "SVGP.kernel.kernels[0].variance      Parameter  Softplus                   True         ()           float64  0.3880194256427554\n",
       "SVGP.kernel.kernels[0].lengthscales  Parameter  Softplus                   True         (3,)         float64  [2.704092   3.078888   3.31598015]\n",
       "SVGP.kernel.kernels[1].variance      Parameter  Softplus                   True         ()           float64  0.3880194256427548\n",
       "SVGP.kernel.kernels[2].variance      Parameter  Softplus                   True         ()           float64  0.3880194256427559\n",
       "SVGP.kernel.kernels[2].lengthscales  Parameter  Softplus                   True         (3,)         float64  [2.55327453 1.49380715 3.27449045]\n",
       "SVGP.kernel.kernels[2].alpha         Parameter  Softplus                   True         ()           float64  0.10661636831216827\n",
       "SVGP.likelihood.variance             Parameter  Softplus + Shift           True         ()           float64  0.05777129517861801\n",
       "SVGP.inducing_variable.Z             Parameter  Identity                   True         (15, 3)      float64  [[1.30558766, -0.64022712, 0.19450629...\n",
       "SVGP.q_mu                            Parameter  Identity                   False        (15, 1)      float64  [[-2.25477844...\n",
       "SVGP.q_sqrt                          Parameter  FillTriangular             False        (1, 15, 15)  float64  [[[9.44306435e-02, 0.00000000e+00, 0.00000000e+00..."
      ]
     },
     "execution_count": 59,
     "metadata": {},
     "output_type": "execute_result"
    }
   ],
   "source": [
    "model._model"
   ]
  },
  {
   "cell_type": "markdown",
   "metadata": {},
   "source": [
    "### **$\\lambda (t) = f(t, S(t)*I(t), Home(t))$** - Gaussian - SE\\*L\\*RQ"
   ]
  },
  {
   "cell_type": "code",
   "execution_count": 60,
   "metadata": {
    "ExecuteTime": {
     "end_time": "2021-01-06T16:50:28.268472Z",
     "start_time": "2021-01-06T16:48:05.901624Z"
    }
   },
   "outputs": [],
   "source": [
    "t = final_data[[\"Updated\"]]\n",
    "y = final_data[[\"ConfirmedChange\"]]\n",
    "X = pd.DataFrame({\n",
    "    \"index\": final_data[\"index\"],\n",
    "    \"S*I\": final_data[\"S\"] * final_data[\"I\"],\n",
    "    \"HOME\": final_data[\"HOME\"],\n",
    "}, index=final_data.index)[[\n",
    "    \"index\",\n",
    "    \"S*I\",\n",
    "    \"HOME\"\n",
    "]]\n",
    "\n",
    "model_params = {\n",
    "    'kernel': (\n",
    "        gpflow.kernels.SquaredExponential(lengthscales=np.ones(X.shape[1])) *\n",
    "        gpflow.kernels.Linear() * \n",
    "        gpflow.kernels.RationalQuadratic(lengthscales=np.ones(X.shape[1]))\n",
    "    )\n",
    "}\n",
    "\n",
    "res, model = run_experiment('$f(t, S(t)*I(t), Home(t))$', t, X, y, \n",
    "                            model_params=model_params, \n",
    "                            train_test_split_func=train_test_split_func, \n",
    "                            plot=False)\n",
    "results.add(res)"
   ]
  },
  {
   "cell_type": "code",
   "execution_count": 61,
   "metadata": {
    "ExecuteTime": {
     "end_time": "2021-01-06T16:50:28.295377Z",
     "start_time": "2021-01-06T16:50:28.270524Z"
    }
   },
   "outputs": [
    {
     "data": {
      "text/html": [
       "&lt;gpflow.models.svgp.SVGP object at 0x7fe6a4c25280&gt;\n",
       "<table>\n",
       "<thead>\n",
       "<tr><th>name                               </th><th>class    </th><th>transform       </th><th>prior  </th><th>trainable  </th><th>shape      </th><th>dtype  </th><th>value                                               </th></tr>\n",
       "</thead>\n",
       "<tbody>\n",
       "<tr><td>SVGP.kernel.kernels[0].variance    </td><td>Parameter</td><td>Softplus        </td><td>       </td><td>True       </td><td>()         </td><td>float64</td><td>0.3567487273291032                                  </td></tr>\n",
       "<tr><td>SVGP.kernel.kernels[0].lengthscales</td><td>Parameter</td><td>Softplus        </td><td>       </td><td>True       </td><td>(3,)       </td><td>float64</td><td>[2.37836761 2.69780514 3.60962382]                  </td></tr>\n",
       "<tr><td>SVGP.kernel.kernels[1].variance    </td><td>Parameter</td><td>Softplus        </td><td>       </td><td>True       </td><td>()         </td><td>float64</td><td>0.35674872732910407                                 </td></tr>\n",
       "<tr><td>SVGP.kernel.kernels[2].variance    </td><td>Parameter</td><td>Softplus        </td><td>       </td><td>True       </td><td>()         </td><td>float64</td><td>0.35674872732910407                                 </td></tr>\n",
       "<tr><td>SVGP.kernel.kernels[2].lengthscales</td><td>Parameter</td><td>Softplus        </td><td>       </td><td>True       </td><td>(3,)       </td><td>float64</td><td>[2.95397099 1.56396231 3.54109601]                  </td></tr>\n",
       "<tr><td>SVGP.kernel.kernels[2].alpha       </td><td>Parameter</td><td>Softplus        </td><td>       </td><td>True       </td><td>()         </td><td>float64</td><td>0.06144472278371543                                 </td></tr>\n",
       "<tr><td>SVGP.likelihood.variance           </td><td>Parameter</td><td>Softplus + Shift</td><td>       </td><td>True       </td><td>()         </td><td>float64</td><td>0.04486993399910899                                 </td></tr>\n",
       "<tr><td>SVGP.inducing_variable.Z           </td><td>Parameter</td><td>Identity        </td><td>       </td><td>True       </td><td>(15, 3)    </td><td>float64</td><td>[[1.21388383, -0.72961467, 0.08647942...            </td></tr>\n",
       "<tr><td>SVGP.q_mu                          </td><td>Parameter</td><td>Identity        </td><td>       </td><td>False      </td><td>(15, 1)    </td><td>float64</td><td>[[-2.80446712...                                    </td></tr>\n",
       "<tr><td>SVGP.q_sqrt                        </td><td>Parameter</td><td>FillTriangular  </td><td>       </td><td>False      </td><td>(1, 15, 15)</td><td>float64</td><td>[[[8.48524002e-02, 0.00000000e+00, 0.00000000e+00...</td></tr>\n",
       "</tbody>\n",
       "</table>"
      ],
      "text/plain": [
       "<gpflow.models.svgp.SVGP object at 0x7fe6a4c25280>\n",
       "name                                 class      transform         prior    trainable    shape        dtype    value\n",
       "-----------------------------------  ---------  ----------------  -------  -----------  -----------  -------  ----------------------------------------------------\n",
       "SVGP.kernel.kernels[0].variance      Parameter  Softplus                   True         ()           float64  0.3567487273291032\n",
       "SVGP.kernel.kernels[0].lengthscales  Parameter  Softplus                   True         (3,)         float64  [2.37836761 2.69780514 3.60962382]\n",
       "SVGP.kernel.kernels[1].variance      Parameter  Softplus                   True         ()           float64  0.35674872732910407\n",
       "SVGP.kernel.kernels[2].variance      Parameter  Softplus                   True         ()           float64  0.35674872732910407\n",
       "SVGP.kernel.kernels[2].lengthscales  Parameter  Softplus                   True         (3,)         float64  [2.95397099 1.56396231 3.54109601]\n",
       "SVGP.kernel.kernels[2].alpha         Parameter  Softplus                   True         ()           float64  0.06144472278371543\n",
       "SVGP.likelihood.variance             Parameter  Softplus + Shift           True         ()           float64  0.04486993399910899\n",
       "SVGP.inducing_variable.Z             Parameter  Identity                   True         (15, 3)      float64  [[1.21388383, -0.72961467, 0.08647942...\n",
       "SVGP.q_mu                            Parameter  Identity                   False        (15, 1)      float64  [[-2.80446712...\n",
       "SVGP.q_sqrt                          Parameter  FillTriangular             False        (1, 15, 15)  float64  [[[8.48524002e-02, 0.00000000e+00, 0.00000000e+00..."
      ]
     },
     "execution_count": 61,
     "metadata": {},
     "output_type": "execute_result"
    }
   ],
   "source": [
    "model._model"
   ]
  },
  {
   "cell_type": "markdown",
   "metadata": {},
   "source": [
    "### **$\\lambda (t) = f(t, S(t)*I(t), Home(t)*Work(t)*Recreational(t))$** - Gaussian - SE\\*L\\*RQ"
   ]
  },
  {
   "cell_type": "code",
   "execution_count": 62,
   "metadata": {
    "ExecuteTime": {
     "end_time": "2021-01-06T16:52:47.952364Z",
     "start_time": "2021-01-06T16:50:28.297181Z"
    }
   },
   "outputs": [],
   "source": [
    "t = final_data[[\"Updated\"]]\n",
    "y = final_data[[\"ConfirmedChange\"]]\n",
    "X = pd.DataFrame({\n",
    "    \"index\": final_data[\"index\"],\n",
    "    \"S*I\": final_data[\"S\"] * final_data[\"I\"],\n",
    "    \"HOME*WORK*RECREATIONAL\": final_data[\"HOME\"]*final_data[\"WORK\"]*final_data[\"RECREATIONAL\"],\n",
    "}, index=final_data.index)[[\n",
    "    \"index\",\n",
    "    \"S*I\",\n",
    "    \"HOME*WORK*RECREATIONAL\"\n",
    "]]\n",
    "\n",
    "model_params = {\n",
    "    'kernel': (\n",
    "        gpflow.kernels.SquaredExponential(lengthscales=np.ones(X.shape[1])) *\n",
    "        gpflow.kernels.Linear() * \n",
    "        gpflow.kernels.RationalQuadratic(lengthscales=np.ones(X.shape[1]))\n",
    "    )\n",
    "}\n",
    "\n",
    "res, model = run_experiment('$f(t, S(t)*I(t), Home(t)*Work(t)*Recreational(t)$', t, X, y, \n",
    "                            model_params=model_params, \n",
    "                            train_test_split_func=train_test_split_func, \n",
    "                            plot=False)\n",
    "results.add(res)"
   ]
  },
  {
   "cell_type": "code",
   "execution_count": 63,
   "metadata": {
    "ExecuteTime": {
     "end_time": "2021-01-06T16:52:47.980064Z",
     "start_time": "2021-01-06T16:52:47.954614Z"
    }
   },
   "outputs": [
    {
     "data": {
      "text/html": [
       "&lt;gpflow.models.svgp.SVGP object at 0x7fe6a4c57d00&gt;\n",
       "<table>\n",
       "<thead>\n",
       "<tr><th>name                               </th><th>class    </th><th>transform       </th><th>prior  </th><th>trainable  </th><th>shape      </th><th>dtype  </th><th>value                                               </th></tr>\n",
       "</thead>\n",
       "<tbody>\n",
       "<tr><td>SVGP.kernel.kernels[0].variance    </td><td>Parameter</td><td>Softplus        </td><td>       </td><td>True       </td><td>()         </td><td>float64</td><td>0.35117554661830025                                 </td></tr>\n",
       "<tr><td>SVGP.kernel.kernels[0].lengthscales</td><td>Parameter</td><td>Softplus        </td><td>       </td><td>True       </td><td>(3,)       </td><td>float64</td><td>[2.22993494 2.56598511 3.10800669]                  </td></tr>\n",
       "<tr><td>SVGP.kernel.kernels[1].variance    </td><td>Parameter</td><td>Softplus        </td><td>       </td><td>True       </td><td>()         </td><td>float64</td><td>0.35117554661830025                                 </td></tr>\n",
       "<tr><td>SVGP.kernel.kernels[2].variance    </td><td>Parameter</td><td>Softplus        </td><td>       </td><td>True       </td><td>()         </td><td>float64</td><td>0.3511755466183001                                  </td></tr>\n",
       "<tr><td>SVGP.kernel.kernels[2].lengthscales</td><td>Parameter</td><td>Softplus        </td><td>       </td><td>True       </td><td>(3,)       </td><td>float64</td><td>[2.65089415 1.51726688 3.19788558]                  </td></tr>\n",
       "<tr><td>SVGP.kernel.kernels[2].alpha       </td><td>Parameter</td><td>Softplus        </td><td>       </td><td>True       </td><td>()         </td><td>float64</td><td>0.06072015403591737                                 </td></tr>\n",
       "<tr><td>SVGP.likelihood.variance           </td><td>Parameter</td><td>Softplus + Shift</td><td>       </td><td>True       </td><td>()         </td><td>float64</td><td>0.04723173310994484                                 </td></tr>\n",
       "<tr><td>SVGP.inducing_variable.Z           </td><td>Parameter</td><td>Identity        </td><td>       </td><td>True       </td><td>(15, 3)    </td><td>float64</td><td>[[1.1148291, 0.04297198, -1.44858434...             </td></tr>\n",
       "<tr><td>SVGP.q_mu                          </td><td>Parameter</td><td>Identity        </td><td>       </td><td>False      </td><td>(15, 1)    </td><td>float64</td><td>[[-0.82880309...                                    </td></tr>\n",
       "<tr><td>SVGP.q_sqrt                        </td><td>Parameter</td><td>FillTriangular  </td><td>       </td><td>False      </td><td>(1, 15, 15)</td><td>float64</td><td>[[[7.30699388e-02, 0.00000000e+00, 0.00000000e+00...</td></tr>\n",
       "</tbody>\n",
       "</table>"
      ],
      "text/plain": [
       "<gpflow.models.svgp.SVGP object at 0x7fe6a4c57d00>\n",
       "name                                 class      transform         prior    trainable    shape        dtype    value\n",
       "-----------------------------------  ---------  ----------------  -------  -----------  -----------  -------  ----------------------------------------------------\n",
       "SVGP.kernel.kernels[0].variance      Parameter  Softplus                   True         ()           float64  0.35117554661830025\n",
       "SVGP.kernel.kernels[0].lengthscales  Parameter  Softplus                   True         (3,)         float64  [2.22993494 2.56598511 3.10800669]\n",
       "SVGP.kernel.kernels[1].variance      Parameter  Softplus                   True         ()           float64  0.35117554661830025\n",
       "SVGP.kernel.kernels[2].variance      Parameter  Softplus                   True         ()           float64  0.3511755466183001\n",
       "SVGP.kernel.kernels[2].lengthscales  Parameter  Softplus                   True         (3,)         float64  [2.65089415 1.51726688 3.19788558]\n",
       "SVGP.kernel.kernels[2].alpha         Parameter  Softplus                   True         ()           float64  0.06072015403591737\n",
       "SVGP.likelihood.variance             Parameter  Softplus + Shift           True         ()           float64  0.04723173310994484\n",
       "SVGP.inducing_variable.Z             Parameter  Identity                   True         (15, 3)      float64  [[1.1148291, 0.04297198, -1.44858434...\n",
       "SVGP.q_mu                            Parameter  Identity                   False        (15, 1)      float64  [[-0.82880309...\n",
       "SVGP.q_sqrt                          Parameter  FillTriangular             False        (1, 15, 15)  float64  [[[7.30699388e-02, 0.00000000e+00, 0.00000000e+00..."
      ]
     },
     "execution_count": 63,
     "metadata": {},
     "output_type": "execute_result"
    }
   ],
   "source": [
    "model._model"
   ]
  },
  {
   "cell_type": "markdown",
   "metadata": {},
   "source": [
    "### **$\\lambda (t) = f(t, S(t), I(t), Home(t), Work(t), Recreational(t))$** - Gaussian - SE\\*L\\*RQ"
   ]
  },
  {
   "cell_type": "code",
   "execution_count": 64,
   "metadata": {
    "ExecuteTime": {
     "end_time": "2021-01-06T16:55:07.866984Z",
     "start_time": "2021-01-06T16:52:47.983010Z"
    }
   },
   "outputs": [],
   "source": [
    "t = final_data[[\"Updated\"]]\n",
    "y = final_data[[\"ConfirmedChange\"]]\n",
    "X = pd.DataFrame({\n",
    "    \"index\": final_data[\"index\"],\n",
    "    \"S\": final_data[\"S\"],\n",
    "    \"I\": final_data[\"I\"],\n",
    "    \"HOME\": final_data[\"HOME\"],\n",
    "    \"WORK\": final_data[\"WORK\"],\n",
    "    \"RECREATIONAL\": final_data[\"RECREATIONAL\"],\n",
    "}, index=final_data.index)[[\n",
    "    \"index\",\n",
    "    \"S\",\n",
    "    \"I\",\n",
    "    \"HOME\", \n",
    "    \"WORK\", \n",
    "    \"RECREATIONAL\"\n",
    "]]\n",
    "\n",
    "model_params = {\n",
    "    'kernel': (\n",
    "        gpflow.kernels.SquaredExponential(lengthscales=np.ones(X.shape[1])) *\n",
    "        gpflow.kernels.Linear() * \n",
    "        gpflow.kernels.RationalQuadratic(lengthscales=np.ones(X.shape[1]))\n",
    "    )\n",
    "}\n",
    "\n",
    "res, model = run_experiment('$f(t, S(t), I(t), Home(t), Work(t), Recreational(t)$', t, X, y, \n",
    "                            model_params=model_params, \n",
    "                            train_test_split_func=train_test_split_func, \n",
    "                            plot=False)\n",
    "results.add(res)"
   ]
  },
  {
   "cell_type": "code",
   "execution_count": 65,
   "metadata": {
    "ExecuteTime": {
     "end_time": "2021-01-06T16:55:07.894480Z",
     "start_time": "2021-01-06T16:55:07.868741Z"
    }
   },
   "outputs": [
    {
     "data": {
      "text/html": [
       "&lt;gpflow.models.svgp.SVGP object at 0x7fe69d4033d0&gt;\n",
       "<table>\n",
       "<thead>\n",
       "<tr><th>name                               </th><th>class    </th><th>transform       </th><th>prior  </th><th>trainable  </th><th>shape      </th><th>dtype  </th><th>value                                               </th></tr>\n",
       "</thead>\n",
       "<tbody>\n",
       "<tr><td>SVGP.kernel.kernels[0].variance    </td><td>Parameter</td><td>Softplus        </td><td>       </td><td>True       </td><td>()         </td><td>float64</td><td>0.26137524718938054                                 </td></tr>\n",
       "<tr><td>SVGP.kernel.kernels[0].lengthscales</td><td>Parameter</td><td>Softplus        </td><td>       </td><td>True       </td><td>(6,)       </td><td>float64</td><td>[2.79408539, 4.92509872, 3.52053559...              </td></tr>\n",
       "<tr><td>SVGP.kernel.kernels[1].variance    </td><td>Parameter</td><td>Softplus        </td><td>       </td><td>True       </td><td>()         </td><td>float64</td><td>0.26137524718938054                                 </td></tr>\n",
       "<tr><td>SVGP.kernel.kernels[2].variance    </td><td>Parameter</td><td>Softplus        </td><td>       </td><td>True       </td><td>()         </td><td>float64</td><td>0.26137524718938054                                 </td></tr>\n",
       "<tr><td>SVGP.kernel.kernels[2].lengthscales</td><td>Parameter</td><td>Softplus        </td><td>       </td><td>True       </td><td>(6,)       </td><td>float64</td><td>[4.10723846, 4.74675027, 2.87456162...              </td></tr>\n",
       "<tr><td>SVGP.kernel.kernels[2].alpha       </td><td>Parameter</td><td>Softplus        </td><td>       </td><td>True       </td><td>()         </td><td>float64</td><td>0.032265031892698956                                </td></tr>\n",
       "<tr><td>SVGP.likelihood.variance           </td><td>Parameter</td><td>Softplus + Shift</td><td>       </td><td>True       </td><td>()         </td><td>float64</td><td>0.033731707253049345                                </td></tr>\n",
       "<tr><td>SVGP.inducing_variable.Z           </td><td>Parameter</td><td>Identity        </td><td>       </td><td>True       </td><td>(15, 6)    </td><td>float64</td><td>[[0.90053188, -1.13829411, -0.07749532...           </td></tr>\n",
       "<tr><td>SVGP.q_mu                          </td><td>Parameter</td><td>Identity        </td><td>       </td><td>False      </td><td>(15, 1)    </td><td>float64</td><td>[[-1.00477865...                                    </td></tr>\n",
       "<tr><td>SVGP.q_sqrt                        </td><td>Parameter</td><td>FillTriangular  </td><td>       </td><td>False      </td><td>(1, 15, 15)</td><td>float64</td><td>[[[5.48107556e-02, 0.00000000e+00, 0.00000000e+00...</td></tr>\n",
       "</tbody>\n",
       "</table>"
      ],
      "text/plain": [
       "<gpflow.models.svgp.SVGP object at 0x7fe69d4033d0>\n",
       "name                                 class      transform         prior    trainable    shape        dtype    value\n",
       "-----------------------------------  ---------  ----------------  -------  -----------  -----------  -------  ----------------------------------------------------\n",
       "SVGP.kernel.kernels[0].variance      Parameter  Softplus                   True         ()           float64  0.26137524718938054\n",
       "SVGP.kernel.kernels[0].lengthscales  Parameter  Softplus                   True         (6,)         float64  [2.79408539, 4.92509872, 3.52053559...\n",
       "SVGP.kernel.kernels[1].variance      Parameter  Softplus                   True         ()           float64  0.26137524718938054\n",
       "SVGP.kernel.kernels[2].variance      Parameter  Softplus                   True         ()           float64  0.26137524718938054\n",
       "SVGP.kernel.kernels[2].lengthscales  Parameter  Softplus                   True         (6,)         float64  [4.10723846, 4.74675027, 2.87456162...\n",
       "SVGP.kernel.kernels[2].alpha         Parameter  Softplus                   True         ()           float64  0.032265031892698956\n",
       "SVGP.likelihood.variance             Parameter  Softplus + Shift           True         ()           float64  0.033731707253049345\n",
       "SVGP.inducing_variable.Z             Parameter  Identity                   True         (15, 6)      float64  [[0.90053188, -1.13829411, -0.07749532...\n",
       "SVGP.q_mu                            Parameter  Identity                   False        (15, 1)      float64  [[-1.00477865...\n",
       "SVGP.q_sqrt                          Parameter  FillTriangular             False        (1, 15, 15)  float64  [[[5.48107556e-02, 0.00000000e+00, 0.00000000e+00..."
      ]
     },
     "execution_count": 65,
     "metadata": {},
     "output_type": "execute_result"
    }
   ],
   "source": [
    "model._model"
   ]
  },
  {
   "cell_type": "markdown",
   "metadata": {},
   "source": [
    "### **$\\lambda (t) = f(t, S(t)^p, I(t)^p, Home(t)^p, Work(t)^p, Recreational(t)^p)$** - Gaussian - SE\\*L\\*RQ"
   ]
  },
  {
   "cell_type": "code",
   "execution_count": 66,
   "metadata": {
    "ExecuteTime": {
     "end_time": "2021-01-06T16:57:34.546741Z",
     "start_time": "2021-01-06T16:55:07.896139Z"
    }
   },
   "outputs": [],
   "source": [
    "t = final_data[[\"Updated\"]]\n",
    "y = final_data[[\"ConfirmedChange\"]]\n",
    "X = pd.DataFrame({\n",
    "    \"index\": final_data[\"index\"],\n",
    "    \"S\": final_data[\"S\"],\n",
    "    \"S**2\": final_data[\"S\"]**2,\n",
    "    \"S**3\": final_data[\"S\"]**3,\n",
    "    \"I\": final_data[\"I\"],\n",
    "    \"I**2\": final_data[\"I\"]**2,\n",
    "    \"I**3\": final_data[\"I\"]**3,\n",
    "    \"HOME\": final_data[\"HOME\"],\n",
    "    \"HOME**2\": final_data[\"HOME\"]**2,\n",
    "    \"HOME**3\": final_data[\"HOME\"]**3,\n",
    "    \"WORK\": final_data[\"WORK\"],\n",
    "    \"WORK**2\": final_data[\"WORK\"]**2,\n",
    "    \"WORK**3\": final_data[\"WORK\"]**3,\n",
    "    \"RECREATIONAL\": final_data[\"RECREATIONAL\"],\n",
    "    \"RECREATIONAL**2\": final_data[\"RECREATIONAL\"]**2,\n",
    "    \"RECREATIONAL**3\": final_data[\"RECREATIONAL\"]**3,\n",
    "}, index=final_data.index)[[\n",
    "    \"index\",\n",
    "    \"S\",\"S**2\",\"S**3\",\n",
    "    \"I\",\"I**2\",\"I**3\",\n",
    "    \"HOME\",\"HOME**2\",\"HOME**3\",\n",
    "    \"WORK\",\"WORK**2\",\"WORK**3\",\n",
    "    \"RECREATIONAL\",\"RECREATIONAL**2\",\"RECREATIONAL**3\",\n",
    "]]\n",
    "\n",
    "model_params = {\n",
    "    'kernel': (\n",
    "        gpflow.kernels.SquaredExponential(lengthscales=np.ones(X.shape[1])) *\n",
    "        gpflow.kernels.Linear() * \n",
    "        gpflow.kernels.RationalQuadratic(lengthscales=np.ones(X.shape[1]))\n",
    "    )\n",
    "}\n",
    "\n",
    "res, model = run_experiment('$f(t, S(t)^p, I(t)^p, Home(t)^p, Work(t)^p, Recreational(t)^p$', t, X, y, \n",
    "                            model_params=model_params, \n",
    "                            train_test_split_func=train_test_split_func, \n",
    "                            plot=False)\n",
    "results.add(res)"
   ]
  },
  {
   "cell_type": "code",
   "execution_count": 67,
   "metadata": {
    "ExecuteTime": {
     "end_time": "2021-01-06T16:57:34.579754Z",
     "start_time": "2021-01-06T16:57:34.548926Z"
    }
   },
   "outputs": [
    {
     "data": {
      "text/html": [
       "&lt;gpflow.models.svgp.SVGP object at 0x7fe6a4c7b970&gt;\n",
       "<table>\n",
       "<thead>\n",
       "<tr><th>name                               </th><th>class    </th><th>transform       </th><th>prior  </th><th>trainable  </th><th>shape      </th><th>dtype  </th><th>value                                               </th></tr>\n",
       "</thead>\n",
       "<tbody>\n",
       "<tr><td>SVGP.kernel.kernels[0].variance    </td><td>Parameter</td><td>Softplus        </td><td>       </td><td>True       </td><td>()         </td><td>float64</td><td>0.3351332509067281                                  </td></tr>\n",
       "<tr><td>SVGP.kernel.kernels[0].lengthscales</td><td>Parameter</td><td>Softplus        </td><td>       </td><td>True       </td><td>(16,)      </td><td>float64</td><td>[4.37168996, 5.70803106, 5.3646439...               </td></tr>\n",
       "<tr><td>SVGP.kernel.kernels[1].variance    </td><td>Parameter</td><td>Softplus        </td><td>       </td><td>True       </td><td>()         </td><td>float64</td><td>0.3351332509067279                                  </td></tr>\n",
       "<tr><td>SVGP.kernel.kernels[2].variance    </td><td>Parameter</td><td>Softplus        </td><td>       </td><td>True       </td><td>()         </td><td>float64</td><td>0.3351332509067281                                  </td></tr>\n",
       "<tr><td>SVGP.kernel.kernels[2].lengthscales</td><td>Parameter</td><td>Softplus        </td><td>       </td><td>True       </td><td>(16,)      </td><td>float64</td><td>[4.3958938, 5.15253726, 4.9159944...                </td></tr>\n",
       "<tr><td>SVGP.kernel.kernels[2].alpha       </td><td>Parameter</td><td>Softplus        </td><td>       </td><td>True       </td><td>()         </td><td>float64</td><td>0.0010617327303830287                               </td></tr>\n",
       "<tr><td>SVGP.likelihood.variance           </td><td>Parameter</td><td>Softplus + Shift</td><td>       </td><td>True       </td><td>()         </td><td>float64</td><td>0.19802025662952924                                 </td></tr>\n",
       "<tr><td>SVGP.inducing_variable.Z           </td><td>Parameter</td><td>Identity        </td><td>       </td><td>True       </td><td>(15, 16)   </td><td>float64</td><td>[[1.2055025, -0.19963857, -0.23200493...            </td></tr>\n",
       "<tr><td>SVGP.q_mu                          </td><td>Parameter</td><td>Identity        </td><td>       </td><td>False      </td><td>(15, 1)    </td><td>float64</td><td>[[2.25768157...                                     </td></tr>\n",
       "<tr><td>SVGP.q_sqrt                        </td><td>Parameter</td><td>FillTriangular  </td><td>       </td><td>False      </td><td>(1, 15, 15)</td><td>float64</td><td>[[[1.11103893e-01, 0.00000000e+00, 0.00000000e+00...</td></tr>\n",
       "</tbody>\n",
       "</table>"
      ],
      "text/plain": [
       "<gpflow.models.svgp.SVGP object at 0x7fe6a4c7b970>\n",
       "name                                 class      transform         prior    trainable    shape        dtype    value\n",
       "-----------------------------------  ---------  ----------------  -------  -----------  -----------  -------  ----------------------------------------------------\n",
       "SVGP.kernel.kernels[0].variance      Parameter  Softplus                   True         ()           float64  0.3351332509067281\n",
       "SVGP.kernel.kernels[0].lengthscales  Parameter  Softplus                   True         (16,)        float64  [4.37168996, 5.70803106, 5.3646439...\n",
       "SVGP.kernel.kernels[1].variance      Parameter  Softplus                   True         ()           float64  0.3351332509067279\n",
       "SVGP.kernel.kernels[2].variance      Parameter  Softplus                   True         ()           float64  0.3351332509067281\n",
       "SVGP.kernel.kernels[2].lengthscales  Parameter  Softplus                   True         (16,)        float64  [4.3958938, 5.15253726, 4.9159944...\n",
       "SVGP.kernel.kernels[2].alpha         Parameter  Softplus                   True         ()           float64  0.0010617327303830287\n",
       "SVGP.likelihood.variance             Parameter  Softplus + Shift           True         ()           float64  0.19802025662952924\n",
       "SVGP.inducing_variable.Z             Parameter  Identity                   True         (15, 16)     float64  [[1.2055025, -0.19963857, -0.23200493...\n",
       "SVGP.q_mu                            Parameter  Identity                   False        (15, 1)      float64  [[2.25768157...\n",
       "SVGP.q_sqrt                          Parameter  FillTriangular             False        (1, 15, 15)  float64  [[[1.11103893e-01, 0.00000000e+00, 0.00000000e+00..."
      ]
     },
     "execution_count": 67,
     "metadata": {},
     "output_type": "execute_result"
    }
   ],
   "source": [
    "model._model"
   ]
  },
  {
   "cell_type": "markdown",
   "metadata": {},
   "source": [
    "### **$\\lambda (t) = f(t)$** - Gaussian - SE\\+L\\+RQ"
   ]
  },
  {
   "cell_type": "code",
   "execution_count": 68,
   "metadata": {
    "ExecuteTime": {
     "end_time": "2021-01-06T16:59:47.104072Z",
     "start_time": "2021-01-06T16:57:34.582001Z"
    }
   },
   "outputs": [],
   "source": [
    "t = final_data[[\"Updated\"]]\n",
    "y = final_data[[\"ConfirmedChange\"]]\n",
    "X = final_data[[\"index\"]]\n",
    "\n",
    "model_params = {\n",
    "    'kernel': (\n",
    "        gpflow.kernels.SquaredExponential() +\n",
    "        gpflow.kernels.Linear() +\n",
    "        gpflow.kernels.RationalQuadratic()\n",
    "    )\n",
    "}\n",
    "\n",
    "res, model = run_experiment('$f(t)$', t, X, y, \n",
    "                            model_params=model_params, \n",
    "                            train_test_split_func=train_test_split_func, \n",
    "                            plot=False)\n",
    "results.add(res)"
   ]
  },
  {
   "cell_type": "code",
   "execution_count": 69,
   "metadata": {
    "ExecuteTime": {
     "end_time": "2021-01-06T16:59:47.129888Z",
     "start_time": "2021-01-06T16:59:47.106346Z"
    }
   },
   "outputs": [
    {
     "data": {
      "text/html": [
       "&lt;gpflow.models.svgp.SVGP object at 0x7fe6a4c011c0&gt;\n",
       "<table>\n",
       "<thead>\n",
       "<tr><th>name                               </th><th>class    </th><th>transform       </th><th>prior  </th><th>trainable  </th><th>shape      </th><th>dtype  </th><th>value                                               </th></tr>\n",
       "</thead>\n",
       "<tbody>\n",
       "<tr><td>SVGP.kernel.kernels[0].variance    </td><td>Parameter</td><td>Softplus        </td><td>       </td><td>True       </td><td>()         </td><td>float64</td><td>0.9075011735257886                                  </td></tr>\n",
       "<tr><td>SVGP.kernel.kernels[0].lengthscales</td><td>Parameter</td><td>Softplus        </td><td>       </td><td>True       </td><td>()         </td><td>float64</td><td>2.9083753070720237                                  </td></tr>\n",
       "<tr><td>SVGP.kernel.kernels[1].variance    </td><td>Parameter</td><td>Softplus        </td><td>       </td><td>True       </td><td>()         </td><td>float64</td><td>0.9256560688556075                                  </td></tr>\n",
       "<tr><td>SVGP.kernel.kernels[2].variance    </td><td>Parameter</td><td>Softplus        </td><td>       </td><td>True       </td><td>()         </td><td>float64</td><td>0.8894931333896579                                  </td></tr>\n",
       "<tr><td>SVGP.kernel.kernels[2].lengthscales</td><td>Parameter</td><td>Softplus        </td><td>       </td><td>True       </td><td>()         </td><td>float64</td><td>0.6584966677526608                                  </td></tr>\n",
       "<tr><td>SVGP.kernel.kernels[2].alpha       </td><td>Parameter</td><td>Softplus        </td><td>       </td><td>True       </td><td>()         </td><td>float64</td><td>1.0387048770748601                                  </td></tr>\n",
       "<tr><td>SVGP.likelihood.variance           </td><td>Parameter</td><td>Softplus + Shift</td><td>       </td><td>True       </td><td>()         </td><td>float64</td><td>0.4642747511431118                                  </td></tr>\n",
       "<tr><td>SVGP.inducing_variable.Z           </td><td>Parameter</td><td>Identity        </td><td>       </td><td>True       </td><td>(15, 1)    </td><td>float64</td><td>[[1.46066571...                                     </td></tr>\n",
       "<tr><td>SVGP.q_mu                          </td><td>Parameter</td><td>Identity        </td><td>       </td><td>False      </td><td>(15, 1)    </td><td>float64</td><td>[[0.3376788...                                      </td></tr>\n",
       "<tr><td>SVGP.q_sqrt                        </td><td>Parameter</td><td>FillTriangular  </td><td>       </td><td>False      </td><td>(1, 15, 15)</td><td>float64</td><td>[[[2.40159023e-02, 0.00000000e+00, 0.00000000e+00...</td></tr>\n",
       "</tbody>\n",
       "</table>"
      ],
      "text/plain": [
       "<gpflow.models.svgp.SVGP object at 0x7fe6a4c011c0>\n",
       "name                                 class      transform         prior    trainable    shape        dtype    value\n",
       "-----------------------------------  ---------  ----------------  -------  -----------  -----------  -------  ----------------------------------------------------\n",
       "SVGP.kernel.kernels[0].variance      Parameter  Softplus                   True         ()           float64  0.9075011735257886\n",
       "SVGP.kernel.kernels[0].lengthscales  Parameter  Softplus                   True         ()           float64  2.9083753070720237\n",
       "SVGP.kernel.kernels[1].variance      Parameter  Softplus                   True         ()           float64  0.9256560688556075\n",
       "SVGP.kernel.kernels[2].variance      Parameter  Softplus                   True         ()           float64  0.8894931333896579\n",
       "SVGP.kernel.kernels[2].lengthscales  Parameter  Softplus                   True         ()           float64  0.6584966677526608\n",
       "SVGP.kernel.kernels[2].alpha         Parameter  Softplus                   True         ()           float64  1.0387048770748601\n",
       "SVGP.likelihood.variance             Parameter  Softplus + Shift           True         ()           float64  0.4642747511431118\n",
       "SVGP.inducing_variable.Z             Parameter  Identity                   True         (15, 1)      float64  [[1.46066571...\n",
       "SVGP.q_mu                            Parameter  Identity                   False        (15, 1)      float64  [[0.3376788...\n",
       "SVGP.q_sqrt                          Parameter  FillTriangular             False        (1, 15, 15)  float64  [[[2.40159023e-02, 0.00000000e+00, 0.00000000e+00..."
      ]
     },
     "execution_count": 69,
     "metadata": {},
     "output_type": "execute_result"
    }
   ],
   "source": [
    "model._model"
   ]
  },
  {
   "cell_type": "markdown",
   "metadata": {},
   "source": [
    "### **$\\lambda (t) = f(S(t), I(t))$** - Gaussian - SE\\+L\\+RQ"
   ]
  },
  {
   "cell_type": "code",
   "execution_count": 70,
   "metadata": {
    "ExecuteTime": {
     "end_time": "2021-01-06T17:02:05.115442Z",
     "start_time": "2021-01-06T16:59:47.131757Z"
    }
   },
   "outputs": [],
   "source": [
    "t = final_data[[\"Updated\"]]\n",
    "y = final_data[[\"ConfirmedChange\"]]\n",
    "X = final_data[[\"S\", \"I\"]]\n",
    "\n",
    "model_params = {\n",
    "    'kernel': (\n",
    "        gpflow.kernels.SquaredExponential(lengthscales=np.ones(X.shape[1])) +\n",
    "        gpflow.kernels.Linear() +\n",
    "        gpflow.kernels.RationalQuadratic(lengthscales=np.ones(X.shape[1]))\n",
    "    )\n",
    "}\n",
    "\n",
    "res, model = run_experiment('$f(S(t), I(t))$', t, X, y,\n",
    "                            model_params=model_params, \n",
    "                            train_test_split_func=train_test_split_func, \n",
    "                            plot=False)\n",
    "results.add(res)"
   ]
  },
  {
   "cell_type": "code",
   "execution_count": 71,
   "metadata": {
    "ExecuteTime": {
     "end_time": "2021-01-06T17:02:05.145397Z",
     "start_time": "2021-01-06T17:02:05.117333Z"
    }
   },
   "outputs": [
    {
     "data": {
      "text/html": [
       "&lt;gpflow.models.svgp.SVGP object at 0x7fe69d3c7df0&gt;\n",
       "<table>\n",
       "<thead>\n",
       "<tr><th>name                               </th><th>class    </th><th>transform       </th><th>prior  </th><th>trainable  </th><th>shape      </th><th>dtype  </th><th>value                        </th></tr>\n",
       "</thead>\n",
       "<tbody>\n",
       "<tr><td>SVGP.kernel.kernels[0].variance    </td><td>Parameter</td><td>Softplus        </td><td>       </td><td>True       </td><td>()         </td><td>float64</td><td>0.5984938853330709           </td></tr>\n",
       "<tr><td>SVGP.kernel.kernels[0].lengthscales</td><td>Parameter</td><td>Softplus        </td><td>       </td><td>True       </td><td>(2,)       </td><td>float64</td><td>[2.67674473 2.2433234 ]      </td></tr>\n",
       "<tr><td>SVGP.kernel.kernels[1].variance    </td><td>Parameter</td><td>Softplus        </td><td>       </td><td>True       </td><td>()         </td><td>float64</td><td>0.9029275937890854           </td></tr>\n",
       "<tr><td>SVGP.kernel.kernels[2].variance    </td><td>Parameter</td><td>Softplus        </td><td>       </td><td>True       </td><td>()         </td><td>float64</td><td>0.5040325262505735           </td></tr>\n",
       "<tr><td>SVGP.kernel.kernels[2].lengthscales</td><td>Parameter</td><td>Softplus        </td><td>       </td><td>True       </td><td>(2,)       </td><td>float64</td><td>[2.79848917 1.08422893]      </td></tr>\n",
       "<tr><td>SVGP.kernel.kernels[2].alpha       </td><td>Parameter</td><td>Softplus        </td><td>       </td><td>True       </td><td>()         </td><td>float64</td><td>2.3617619214490286           </td></tr>\n",
       "<tr><td>SVGP.likelihood.variance           </td><td>Parameter</td><td>Softplus + Shift</td><td>       </td><td>True       </td><td>()         </td><td>float64</td><td>0.07477441271582001          </td></tr>\n",
       "<tr><td>SVGP.inducing_variable.Z           </td><td>Parameter</td><td>Identity        </td><td>       </td><td>True       </td><td>(15, 2)    </td><td>float64</td><td>[[-1.55336218, -0.04718864...</td></tr>\n",
       "<tr><td>SVGP.q_mu                          </td><td>Parameter</td><td>Identity        </td><td>       </td><td>False      </td><td>(15, 1)    </td><td>float64</td><td>[[-0.1281628...              </td></tr>\n",
       "<tr><td>SVGP.q_sqrt                        </td><td>Parameter</td><td>FillTriangular  </td><td>       </td><td>False      </td><td>(1, 15, 15)</td><td>float64</td><td>[[[0.01300067, 0., 0....     </td></tr>\n",
       "</tbody>\n",
       "</table>"
      ],
      "text/plain": [
       "<gpflow.models.svgp.SVGP object at 0x7fe69d3c7df0>\n",
       "name                                 class      transform         prior    trainable    shape        dtype    value\n",
       "-----------------------------------  ---------  ----------------  -------  -----------  -----------  -------  -----------------------------\n",
       "SVGP.kernel.kernels[0].variance      Parameter  Softplus                   True         ()           float64  0.5984938853330709\n",
       "SVGP.kernel.kernels[0].lengthscales  Parameter  Softplus                   True         (2,)         float64  [2.67674473 2.2433234 ]\n",
       "SVGP.kernel.kernels[1].variance      Parameter  Softplus                   True         ()           float64  0.9029275937890854\n",
       "SVGP.kernel.kernels[2].variance      Parameter  Softplus                   True         ()           float64  0.5040325262505735\n",
       "SVGP.kernel.kernels[2].lengthscales  Parameter  Softplus                   True         (2,)         float64  [2.79848917 1.08422893]\n",
       "SVGP.kernel.kernels[2].alpha         Parameter  Softplus                   True         ()           float64  2.3617619214490286\n",
       "SVGP.likelihood.variance             Parameter  Softplus + Shift           True         ()           float64  0.07477441271582001\n",
       "SVGP.inducing_variable.Z             Parameter  Identity                   True         (15, 2)      float64  [[-1.55336218, -0.04718864...\n",
       "SVGP.q_mu                            Parameter  Identity                   False        (15, 1)      float64  [[-0.1281628...\n",
       "SVGP.q_sqrt                          Parameter  FillTriangular             False        (1, 15, 15)  float64  [[[0.01300067, 0., 0...."
      ]
     },
     "execution_count": 71,
     "metadata": {},
     "output_type": "execute_result"
    }
   ],
   "source": [
    "model._model"
   ]
  },
  {
   "cell_type": "markdown",
   "metadata": {},
   "source": [
    "### **$\\lambda (t) = f(S(t)*I(t))$** - Gaussian - SE\\+L\\+RQ"
   ]
  },
  {
   "cell_type": "code",
   "execution_count": 72,
   "metadata": {
    "ExecuteTime": {
     "end_time": "2021-01-06T17:04:16.620281Z",
     "start_time": "2021-01-06T17:02:05.147338Z"
    }
   },
   "outputs": [],
   "source": [
    "t = final_data[[\"Updated\"]]\n",
    "y = final_data[[\"ConfirmedChange\"]]\n",
    "X = pd.DataFrame({\n",
    "    \"S*I\": final_data[\"S\"] * final_data[\"I\"]\n",
    "}, index=final_data.index)[[\"S*I\"]]\n",
    "\n",
    "model_params = {\n",
    "    'kernel': (\n",
    "        gpflow.kernels.SquaredExponential() +\n",
    "        gpflow.kernels.Linear() +\n",
    "        gpflow.kernels.RationalQuadratic()\n",
    "    )\n",
    "}\n",
    "\n",
    "res, model = run_experiment('$f(S(t)*I(t))$', t, X, y, \n",
    "                            model_params=model_params, \n",
    "                            train_test_split_func=train_test_split_func, \n",
    "                            plot=False)\n",
    "results.add(res)"
   ]
  },
  {
   "cell_type": "code",
   "execution_count": 73,
   "metadata": {
    "ExecuteTime": {
     "end_time": "2021-01-06T17:04:16.646018Z",
     "start_time": "2021-01-06T17:04:16.622553Z"
    }
   },
   "outputs": [
    {
     "data": {
      "text/html": [
       "&lt;gpflow.models.svgp.SVGP object at 0x7fe6a4bdf4c0&gt;\n",
       "<table>\n",
       "<thead>\n",
       "<tr><th>name                               </th><th>class    </th><th>transform       </th><th>prior  </th><th>trainable  </th><th>shape      </th><th>dtype  </th><th>value                                               </th></tr>\n",
       "</thead>\n",
       "<tbody>\n",
       "<tr><td>SVGP.kernel.kernels[0].variance    </td><td>Parameter</td><td>Softplus        </td><td>       </td><td>True       </td><td>()         </td><td>float64</td><td>0.9004263381701109                                  </td></tr>\n",
       "<tr><td>SVGP.kernel.kernels[0].lengthscales</td><td>Parameter</td><td>Softplus        </td><td>       </td><td>True       </td><td>()         </td><td>float64</td><td>2.9166428814879914                                  </td></tr>\n",
       "<tr><td>SVGP.kernel.kernels[1].variance    </td><td>Parameter</td><td>Softplus        </td><td>       </td><td>True       </td><td>()         </td><td>float64</td><td>0.935577611122401                                   </td></tr>\n",
       "<tr><td>SVGP.kernel.kernels[2].variance    </td><td>Parameter</td><td>Softplus        </td><td>       </td><td>True       </td><td>()         </td><td>float64</td><td>0.7750822205433244                                  </td></tr>\n",
       "<tr><td>SVGP.kernel.kernels[2].lengthscales</td><td>Parameter</td><td>Softplus        </td><td>       </td><td>True       </td><td>()         </td><td>float64</td><td>0.7551451171269256                                  </td></tr>\n",
       "<tr><td>SVGP.kernel.kernels[2].alpha       </td><td>Parameter</td><td>Softplus        </td><td>       </td><td>True       </td><td>()         </td><td>float64</td><td>0.1922967734155796                                  </td></tr>\n",
       "<tr><td>SVGP.likelihood.variance           </td><td>Parameter</td><td>Softplus + Shift</td><td>       </td><td>True       </td><td>()         </td><td>float64</td><td>0.07708083276427381                                 </td></tr>\n",
       "<tr><td>SVGP.inducing_variable.Z           </td><td>Parameter</td><td>Identity        </td><td>       </td><td>True       </td><td>(15, 1)    </td><td>float64</td><td>[[0.41847915...                                     </td></tr>\n",
       "<tr><td>SVGP.q_mu                          </td><td>Parameter</td><td>Identity        </td><td>       </td><td>False      </td><td>(15, 1)    </td><td>float64</td><td>[[0.48335339...                                     </td></tr>\n",
       "<tr><td>SVGP.q_sqrt                        </td><td>Parameter</td><td>FillTriangular  </td><td>       </td><td>False      </td><td>(1, 15, 15)</td><td>float64</td><td>[[[1.69457780e-02, 0.00000000e+00, 0.00000000e+00...</td></tr>\n",
       "</tbody>\n",
       "</table>"
      ],
      "text/plain": [
       "<gpflow.models.svgp.SVGP object at 0x7fe6a4bdf4c0>\n",
       "name                                 class      transform         prior    trainable    shape        dtype    value\n",
       "-----------------------------------  ---------  ----------------  -------  -----------  -----------  -------  ----------------------------------------------------\n",
       "SVGP.kernel.kernels[0].variance      Parameter  Softplus                   True         ()           float64  0.9004263381701109\n",
       "SVGP.kernel.kernels[0].lengthscales  Parameter  Softplus                   True         ()           float64  2.9166428814879914\n",
       "SVGP.kernel.kernels[1].variance      Parameter  Softplus                   True         ()           float64  0.935577611122401\n",
       "SVGP.kernel.kernels[2].variance      Parameter  Softplus                   True         ()           float64  0.7750822205433244\n",
       "SVGP.kernel.kernels[2].lengthscales  Parameter  Softplus                   True         ()           float64  0.7551451171269256\n",
       "SVGP.kernel.kernels[2].alpha         Parameter  Softplus                   True         ()           float64  0.1922967734155796\n",
       "SVGP.likelihood.variance             Parameter  Softplus + Shift           True         ()           float64  0.07708083276427381\n",
       "SVGP.inducing_variable.Z             Parameter  Identity                   True         (15, 1)      float64  [[0.41847915...\n",
       "SVGP.q_mu                            Parameter  Identity                   False        (15, 1)      float64  [[0.48335339...\n",
       "SVGP.q_sqrt                          Parameter  FillTriangular             False        (1, 15, 15)  float64  [[[1.69457780e-02, 0.00000000e+00, 0.00000000e+00..."
      ]
     },
     "execution_count": 73,
     "metadata": {},
     "output_type": "execute_result"
    }
   ],
   "source": [
    "model._model"
   ]
  },
  {
   "cell_type": "markdown",
   "metadata": {},
   "source": [
    "### **$\\lambda (t) = f(S(t)+I(t))$** - Gaussian - SE\\+L\\+RQ"
   ]
  },
  {
   "cell_type": "code",
   "execution_count": 74,
   "metadata": {
    "ExecuteTime": {
     "end_time": "2021-01-06T17:06:28.307015Z",
     "start_time": "2021-01-06T17:04:16.647984Z"
    }
   },
   "outputs": [],
   "source": [
    "t = final_data[[\"Updated\"]]\n",
    "y = final_data[[\"ConfirmedChange\"]]\n",
    "X = pd.DataFrame({\n",
    "    \"S+I\": final_data[\"S\"] + final_data[\"I\"]\n",
    "}, index=final_data.index)[[\n",
    "    \"S+I\"\n",
    "]]\n",
    "\n",
    "model_params = {\n",
    "    'kernel': (\n",
    "        gpflow.kernels.SquaredExponential() +\n",
    "        gpflow.kernels.Linear() +\n",
    "        gpflow.kernels.RationalQuadratic()\n",
    "    )\n",
    "}\n",
    "\n",
    "res, model = run_experiment('$f(S(t)+I(t))$', t, X, y, \n",
    "                            model_params=model_params, \n",
    "                            train_test_split_func=train_test_split_func, \n",
    "                            plot=False)\n",
    "results.add(res)"
   ]
  },
  {
   "cell_type": "code",
   "execution_count": 75,
   "metadata": {
    "ExecuteTime": {
     "end_time": "2021-01-06T17:06:28.333855Z",
     "start_time": "2021-01-06T17:06:28.308617Z"
    }
   },
   "outputs": [
    {
     "data": {
      "text/html": [
       "&lt;gpflow.models.svgp.SVGP object at 0x7fe6a4cc16a0&gt;\n",
       "<table>\n",
       "<thead>\n",
       "<tr><th>name                               </th><th>class    </th><th>transform       </th><th>prior  </th><th>trainable  </th><th>shape      </th><th>dtype  </th><th>value                                               </th></tr>\n",
       "</thead>\n",
       "<tbody>\n",
       "<tr><td>SVGP.kernel.kernels[0].variance    </td><td>Parameter</td><td>Softplus        </td><td>       </td><td>True       </td><td>()         </td><td>float64</td><td>0.9005961656160143                                  </td></tr>\n",
       "<tr><td>SVGP.kernel.kernels[0].lengthscales</td><td>Parameter</td><td>Softplus        </td><td>       </td><td>True       </td><td>()         </td><td>float64</td><td>2.5805240452638563                                  </td></tr>\n",
       "<tr><td>SVGP.kernel.kernels[1].variance    </td><td>Parameter</td><td>Softplus        </td><td>       </td><td>True       </td><td>()         </td><td>float64</td><td>0.9313854922326307                                  </td></tr>\n",
       "<tr><td>SVGP.kernel.kernels[2].variance    </td><td>Parameter</td><td>Softplus        </td><td>       </td><td>True       </td><td>()         </td><td>float64</td><td>0.4706928489605708                                  </td></tr>\n",
       "<tr><td>SVGP.kernel.kernels[2].lengthscales</td><td>Parameter</td><td>Softplus        </td><td>       </td><td>True       </td><td>()         </td><td>float64</td><td>0.5950471891418369                                  </td></tr>\n",
       "<tr><td>SVGP.kernel.kernels[2].alpha       </td><td>Parameter</td><td>Softplus        </td><td>       </td><td>True       </td><td>()         </td><td>float64</td><td>0.003933386005520438                                </td></tr>\n",
       "<tr><td>SVGP.likelihood.variance           </td><td>Parameter</td><td>Softplus + Shift</td><td>       </td><td>True       </td><td>()         </td><td>float64</td><td>0.08133632714280564                                 </td></tr>\n",
       "<tr><td>SVGP.inducing_variable.Z           </td><td>Parameter</td><td>Identity        </td><td>       </td><td>True       </td><td>(15, 1)    </td><td>float64</td><td>[[-0.11683232...                                    </td></tr>\n",
       "<tr><td>SVGP.q_mu                          </td><td>Parameter</td><td>Identity        </td><td>       </td><td>False      </td><td>(15, 1)    </td><td>float64</td><td>[[-0.07789755...                                    </td></tr>\n",
       "<tr><td>SVGP.q_sqrt                        </td><td>Parameter</td><td>FillTriangular  </td><td>       </td><td>False      </td><td>(1, 15, 15)</td><td>float64</td><td>[[[1.50824727e-02, 0.00000000e+00, 0.00000000e+00...</td></tr>\n",
       "</tbody>\n",
       "</table>"
      ],
      "text/plain": [
       "<gpflow.models.svgp.SVGP object at 0x7fe6a4cc16a0>\n",
       "name                                 class      transform         prior    trainable    shape        dtype    value\n",
       "-----------------------------------  ---------  ----------------  -------  -----------  -----------  -------  ----------------------------------------------------\n",
       "SVGP.kernel.kernels[0].variance      Parameter  Softplus                   True         ()           float64  0.9005961656160143\n",
       "SVGP.kernel.kernels[0].lengthscales  Parameter  Softplus                   True         ()           float64  2.5805240452638563\n",
       "SVGP.kernel.kernels[1].variance      Parameter  Softplus                   True         ()           float64  0.9313854922326307\n",
       "SVGP.kernel.kernels[2].variance      Parameter  Softplus                   True         ()           float64  0.4706928489605708\n",
       "SVGP.kernel.kernels[2].lengthscales  Parameter  Softplus                   True         ()           float64  0.5950471891418369\n",
       "SVGP.kernel.kernels[2].alpha         Parameter  Softplus                   True         ()           float64  0.003933386005520438\n",
       "SVGP.likelihood.variance             Parameter  Softplus + Shift           True         ()           float64  0.08133632714280564\n",
       "SVGP.inducing_variable.Z             Parameter  Identity                   True         (15, 1)      float64  [[-0.11683232...\n",
       "SVGP.q_mu                            Parameter  Identity                   False        (15, 1)      float64  [[-0.07789755...\n",
       "SVGP.q_sqrt                          Parameter  FillTriangular             False        (1, 15, 15)  float64  [[[1.50824727e-02, 0.00000000e+00, 0.00000000e+00..."
      ]
     },
     "execution_count": 75,
     "metadata": {},
     "output_type": "execute_result"
    }
   ],
   "source": [
    "model._model"
   ]
  },
  {
   "cell_type": "markdown",
   "metadata": {},
   "source": [
    "### **$\\lambda (t) = f(t, S(t)*I(t))$** - Gaussian - SE\\+L\\+RQ"
   ]
  },
  {
   "cell_type": "code",
   "execution_count": 76,
   "metadata": {
    "ExecuteTime": {
     "end_time": "2021-01-06T17:08:44.939146Z",
     "start_time": "2021-01-06T17:06:28.335850Z"
    }
   },
   "outputs": [],
   "source": [
    "t = final_data[[\"Updated\"]]\n",
    "y = final_data[[\"ConfirmedChange\"]]\n",
    "X = pd.DataFrame({\n",
    "    \"index\": final_data[\"index\"],\n",
    "    \"S*I\": final_data[\"S\"] * final_data[\"I\"]\n",
    "}, index=final_data.index)[[\n",
    "    \"index\",\n",
    "    \"S*I\"\n",
    "]]\n",
    "\n",
    "model_params = {\n",
    "    'kernel': (\n",
    "        gpflow.kernels.SquaredExponential(lengthscales=np.ones(X.shape[1])) +\n",
    "        gpflow.kernels.Linear() +\n",
    "        gpflow.kernels.RationalQuadratic(lengthscales=np.ones(X.shape[1]))\n",
    "    )\n",
    "}\n",
    "\n",
    "res, model = run_experiment('$f(t, S(t)*I(t))$', t, X, y, \n",
    "                            model_params=model_params, \n",
    "                            train_test_split_func=train_test_split_func, \n",
    "                            plot=False)\n",
    "results.add(res)"
   ]
  },
  {
   "cell_type": "code",
   "execution_count": 77,
   "metadata": {
    "ExecuteTime": {
     "end_time": "2021-01-06T17:08:44.966250Z",
     "start_time": "2021-01-06T17:08:44.940961Z"
    }
   },
   "outputs": [
    {
     "data": {
      "text/html": [
       "&lt;gpflow.models.svgp.SVGP object at 0x7fe6a4c9d790&gt;\n",
       "<table>\n",
       "<thead>\n",
       "<tr><th>name                               </th><th>class    </th><th>transform       </th><th>prior  </th><th>trainable  </th><th>shape      </th><th>dtype  </th><th>value                     </th></tr>\n",
       "</thead>\n",
       "<tbody>\n",
       "<tr><td>SVGP.kernel.kernels[0].variance    </td><td>Parameter</td><td>Softplus        </td><td>       </td><td>True       </td><td>()         </td><td>float64</td><td>0.9036825991639766        </td></tr>\n",
       "<tr><td>SVGP.kernel.kernels[0].lengthscales</td><td>Parameter</td><td>Softplus        </td><td>       </td><td>True       </td><td>(2,)       </td><td>float64</td><td>[1.91401064 1.54594483]   </td></tr>\n",
       "<tr><td>SVGP.kernel.kernels[1].variance    </td><td>Parameter</td><td>Softplus        </td><td>       </td><td>True       </td><td>()         </td><td>float64</td><td>0.9032353791768329        </td></tr>\n",
       "<tr><td>SVGP.kernel.kernels[2].variance    </td><td>Parameter</td><td>Softplus        </td><td>       </td><td>True       </td><td>()         </td><td>float64</td><td>0.6248457117486836        </td></tr>\n",
       "<tr><td>SVGP.kernel.kernels[2].lengthscales</td><td>Parameter</td><td>Softplus        </td><td>       </td><td>True       </td><td>(2,)       </td><td>float64</td><td>[1.17595019 2.69015254]   </td></tr>\n",
       "<tr><td>SVGP.kernel.kernels[2].alpha       </td><td>Parameter</td><td>Softplus        </td><td>       </td><td>True       </td><td>()         </td><td>float64</td><td>1.912445019258203         </td></tr>\n",
       "<tr><td>SVGP.likelihood.variance           </td><td>Parameter</td><td>Softplus + Shift</td><td>       </td><td>True       </td><td>()         </td><td>float64</td><td>0.05782871232510346       </td></tr>\n",
       "<tr><td>SVGP.inducing_variable.Z           </td><td>Parameter</td><td>Identity        </td><td>       </td><td>True       </td><td>(15, 2)    </td><td>float64</td><td>[[1.60963085, 0.4171771...</td></tr>\n",
       "<tr><td>SVGP.q_mu                          </td><td>Parameter</td><td>Identity        </td><td>       </td><td>False      </td><td>(15, 1)    </td><td>float64</td><td>[[0.19296628...           </td></tr>\n",
       "<tr><td>SVGP.q_sqrt                        </td><td>Parameter</td><td>FillTriangular  </td><td>       </td><td>False      </td><td>(1, 15, 15)</td><td>float64</td><td>[[[0.01151686, 0., 0....  </td></tr>\n",
       "</tbody>\n",
       "</table>"
      ],
      "text/plain": [
       "<gpflow.models.svgp.SVGP object at 0x7fe6a4c9d790>\n",
       "name                                 class      transform         prior    trainable    shape        dtype    value\n",
       "-----------------------------------  ---------  ----------------  -------  -----------  -----------  -------  --------------------------\n",
       "SVGP.kernel.kernels[0].variance      Parameter  Softplus                   True         ()           float64  0.9036825991639766\n",
       "SVGP.kernel.kernels[0].lengthscales  Parameter  Softplus                   True         (2,)         float64  [1.91401064 1.54594483]\n",
       "SVGP.kernel.kernels[1].variance      Parameter  Softplus                   True         ()           float64  0.9032353791768329\n",
       "SVGP.kernel.kernels[2].variance      Parameter  Softplus                   True         ()           float64  0.6248457117486836\n",
       "SVGP.kernel.kernels[2].lengthscales  Parameter  Softplus                   True         (2,)         float64  [1.17595019 2.69015254]\n",
       "SVGP.kernel.kernels[2].alpha         Parameter  Softplus                   True         ()           float64  1.912445019258203\n",
       "SVGP.likelihood.variance             Parameter  Softplus + Shift           True         ()           float64  0.05782871232510346\n",
       "SVGP.inducing_variable.Z             Parameter  Identity                   True         (15, 2)      float64  [[1.60963085, 0.4171771...\n",
       "SVGP.q_mu                            Parameter  Identity                   False        (15, 1)      float64  [[0.19296628...\n",
       "SVGP.q_sqrt                          Parameter  FillTriangular             False        (1, 15, 15)  float64  [[[0.01151686, 0., 0...."
      ]
     },
     "execution_count": 77,
     "metadata": {},
     "output_type": "execute_result"
    }
   ],
   "source": [
    "model._model"
   ]
  },
  {
   "cell_type": "markdown",
   "metadata": {},
   "source": [
    "### **$\\lambda (t) = f(t, S(t)+I(t))$** - Gaussian - SE\\+L\\+RQ"
   ]
  },
  {
   "cell_type": "code",
   "execution_count": 78,
   "metadata": {
    "ExecuteTime": {
     "end_time": "2021-01-06T17:11:00.024235Z",
     "start_time": "2021-01-06T17:08:44.968425Z"
    }
   },
   "outputs": [],
   "source": [
    "t = final_data[[\"Updated\"]]\n",
    "y = final_data[[\"ConfirmedChange\"]]\n",
    "X = pd.DataFrame({\n",
    "    \"index\": final_data[\"index\"],\n",
    "    \"S+I\": final_data[\"S\"] + final_data[\"I\"]\n",
    "}, index=final_data.index)[[\n",
    "    \"index\",\n",
    "    \"S+I\"\n",
    "]]\n",
    "\n",
    "model_params = {\n",
    "    'kernel': (\n",
    "        gpflow.kernels.SquaredExponential(lengthscales=np.ones(X.shape[1])) +\n",
    "        gpflow.kernels.Linear() +\n",
    "        gpflow.kernels.RationalQuadratic(lengthscales=np.ones(X.shape[1]))\n",
    "    )\n",
    "}\n",
    "\n",
    "res, model = run_experiment('$f(t, S(t)+I(t))$', t, X, y, \n",
    "                            model_params=model_params, \n",
    "                            train_test_split_func=train_test_split_func, \n",
    "                            plot=False)\n",
    "results.add(res)"
   ]
  },
  {
   "cell_type": "code",
   "execution_count": 79,
   "metadata": {
    "ExecuteTime": {
     "end_time": "2021-01-06T17:11:00.051759Z",
     "start_time": "2021-01-06T17:11:00.026464Z"
    }
   },
   "outputs": [
    {
     "data": {
      "text/html": [
       "&lt;gpflow.models.svgp.SVGP object at 0x7fe6a3eefd60&gt;\n",
       "<table>\n",
       "<thead>\n",
       "<tr><th>name                               </th><th>class    </th><th>transform       </th><th>prior  </th><th>trainable  </th><th>shape      </th><th>dtype  </th><th>value                                               </th></tr>\n",
       "</thead>\n",
       "<tbody>\n",
       "<tr><td>SVGP.kernel.kernels[0].variance    </td><td>Parameter</td><td>Softplus        </td><td>       </td><td>True       </td><td>()         </td><td>float64</td><td>0.6511592607949448                                  </td></tr>\n",
       "<tr><td>SVGP.kernel.kernels[0].lengthscales</td><td>Parameter</td><td>Softplus        </td><td>       </td><td>True       </td><td>(2,)       </td><td>float64</td><td>[1.32919493 1.86196073]                             </td></tr>\n",
       "<tr><td>SVGP.kernel.kernels[1].variance    </td><td>Parameter</td><td>Softplus        </td><td>       </td><td>True       </td><td>()         </td><td>float64</td><td>0.9083867934733704                                  </td></tr>\n",
       "<tr><td>SVGP.kernel.kernels[2].variance    </td><td>Parameter</td><td>Softplus        </td><td>       </td><td>True       </td><td>()         </td><td>float64</td><td>0.5983424704423824                                  </td></tr>\n",
       "<tr><td>SVGP.kernel.kernels[2].lengthscales</td><td>Parameter</td><td>Softplus        </td><td>       </td><td>True       </td><td>(2,)       </td><td>float64</td><td>[0.94628849 3.18371172]                             </td></tr>\n",
       "<tr><td>SVGP.kernel.kernels[2].alpha       </td><td>Parameter</td><td>Softplus        </td><td>       </td><td>True       </td><td>()         </td><td>float64</td><td>2.7116998915775006                                  </td></tr>\n",
       "<tr><td>SVGP.likelihood.variance           </td><td>Parameter</td><td>Softplus + Shift</td><td>       </td><td>True       </td><td>()         </td><td>float64</td><td>0.06095701419662046                                 </td></tr>\n",
       "<tr><td>SVGP.inducing_variable.Z           </td><td>Parameter</td><td>Identity        </td><td>       </td><td>True       </td><td>(15, 2)    </td><td>float64</td><td>[[1.52910808, -0.45092703...                        </td></tr>\n",
       "<tr><td>SVGP.q_mu                          </td><td>Parameter</td><td>Identity        </td><td>       </td><td>False      </td><td>(15, 1)    </td><td>float64</td><td>[[-0.08387721...                                    </td></tr>\n",
       "<tr><td>SVGP.q_sqrt                        </td><td>Parameter</td><td>FillTriangular  </td><td>       </td><td>False      </td><td>(1, 15, 15)</td><td>float64</td><td>[[[1.32575432e-02, 0.00000000e+00, 0.00000000e+00...</td></tr>\n",
       "</tbody>\n",
       "</table>"
      ],
      "text/plain": [
       "<gpflow.models.svgp.SVGP object at 0x7fe6a3eefd60>\n",
       "name                                 class      transform         prior    trainable    shape        dtype    value\n",
       "-----------------------------------  ---------  ----------------  -------  -----------  -----------  -------  ----------------------------------------------------\n",
       "SVGP.kernel.kernels[0].variance      Parameter  Softplus                   True         ()           float64  0.6511592607949448\n",
       "SVGP.kernel.kernels[0].lengthscales  Parameter  Softplus                   True         (2,)         float64  [1.32919493 1.86196073]\n",
       "SVGP.kernel.kernels[1].variance      Parameter  Softplus                   True         ()           float64  0.9083867934733704\n",
       "SVGP.kernel.kernels[2].variance      Parameter  Softplus                   True         ()           float64  0.5983424704423824\n",
       "SVGP.kernel.kernels[2].lengthscales  Parameter  Softplus                   True         (2,)         float64  [0.94628849 3.18371172]\n",
       "SVGP.kernel.kernels[2].alpha         Parameter  Softplus                   True         ()           float64  2.7116998915775006\n",
       "SVGP.likelihood.variance             Parameter  Softplus + Shift           True         ()           float64  0.06095701419662046\n",
       "SVGP.inducing_variable.Z             Parameter  Identity                   True         (15, 2)      float64  [[1.52910808, -0.45092703...\n",
       "SVGP.q_mu                            Parameter  Identity                   False        (15, 1)      float64  [[-0.08387721...\n",
       "SVGP.q_sqrt                          Parameter  FillTriangular             False        (1, 15, 15)  float64  [[[1.32575432e-02, 0.00000000e+00, 0.00000000e+00..."
      ]
     },
     "execution_count": 79,
     "metadata": {},
     "output_type": "execute_result"
    }
   ],
   "source": [
    "model._model"
   ]
  },
  {
   "cell_type": "markdown",
   "metadata": {},
   "source": [
    "### **$\\lambda (t) = f(t, S(t), I(t))$** - Gaussian - SE\\+L\\+RQ"
   ]
  },
  {
   "cell_type": "code",
   "execution_count": 80,
   "metadata": {
    "ExecuteTime": {
     "end_time": "2021-01-06T17:13:16.674237Z",
     "start_time": "2021-01-06T17:11:00.054036Z"
    }
   },
   "outputs": [],
   "source": [
    "t = final_data[[\"Updated\"]]\n",
    "y = final_data[[\"ConfirmedChange\"]]\n",
    "X = pd.DataFrame({\n",
    "    \"index\": final_data[\"index\"],\n",
    "    \"S\": final_data[\"S\"],\n",
    "    \"I\": final_data[\"I\"]\n",
    "}, index=final_data.index)[[\n",
    "    \"index\",\n",
    "    \"S\",\n",
    "    \"I\"\n",
    "]]\n",
    "\n",
    "model_params = {\n",
    "    'kernel': (\n",
    "        gpflow.kernels.SquaredExponential(lengthscales=np.ones(X.shape[1])) +\n",
    "        gpflow.kernels.Linear() +\n",
    "        gpflow.kernels.RationalQuadratic(lengthscales=np.ones(X.shape[1]))\n",
    "    )\n",
    "}\n",
    "\n",
    "res, model = run_experiment('$f(t, S(t), I(t))$', t, X, y, \n",
    "                            model_params=model_params, \n",
    "                            train_test_split_func=train_test_split_func, \n",
    "                            plot=False)\n",
    "results.add(res)"
   ]
  },
  {
   "cell_type": "code",
   "execution_count": 81,
   "metadata": {
    "ExecuteTime": {
     "end_time": "2021-01-06T17:13:16.700797Z",
     "start_time": "2021-01-06T17:13:16.676105Z"
    },
    "scrolled": true
   },
   "outputs": [
    {
     "data": {
      "text/html": [
       "&lt;gpflow.models.svgp.SVGP object at 0x7fe6a3f32280&gt;\n",
       "<table>\n",
       "<thead>\n",
       "<tr><th>name                               </th><th>class    </th><th>transform       </th><th>prior  </th><th>trainable  </th><th>shape      </th><th>dtype  </th><th>value                                               </th></tr>\n",
       "</thead>\n",
       "<tbody>\n",
       "<tr><td>SVGP.kernel.kernels[0].variance    </td><td>Parameter</td><td>Softplus        </td><td>       </td><td>True       </td><td>()         </td><td>float64</td><td>0.1773698491952734                                  </td></tr>\n",
       "<tr><td>SVGP.kernel.kernels[0].lengthscales</td><td>Parameter</td><td>Softplus        </td><td>       </td><td>True       </td><td>(3,)       </td><td>float64</td><td>[2.07493616 2.99223406 2.61093143]                  </td></tr>\n",
       "<tr><td>SVGP.kernel.kernels[1].variance    </td><td>Parameter</td><td>Softplus        </td><td>       </td><td>True       </td><td>()         </td><td>float64</td><td>0.914480367260674                                   </td></tr>\n",
       "<tr><td>SVGP.kernel.kernels[2].variance    </td><td>Parameter</td><td>Softplus        </td><td>       </td><td>True       </td><td>()         </td><td>float64</td><td>0.19494251280559294                                 </td></tr>\n",
       "<tr><td>SVGP.kernel.kernels[2].lengthscales</td><td>Parameter</td><td>Softplus        </td><td>       </td><td>True       </td><td>(3,)       </td><td>float64</td><td>[1.45698748 4.15879405 1.17211235]                  </td></tr>\n",
       "<tr><td>SVGP.kernel.kernels[2].alpha       </td><td>Parameter</td><td>Softplus        </td><td>       </td><td>True       </td><td>()         </td><td>float64</td><td>3.345837379353641                                   </td></tr>\n",
       "<tr><td>SVGP.likelihood.variance           </td><td>Parameter</td><td>Softplus + Shift</td><td>       </td><td>True       </td><td>()         </td><td>float64</td><td>0.043981003467384934                                </td></tr>\n",
       "<tr><td>SVGP.inducing_variable.Z           </td><td>Parameter</td><td>Identity        </td><td>       </td><td>True       </td><td>(15, 3)    </td><td>float64</td><td>[[0.7003322, -0.59491876, 0.61430351...             </td></tr>\n",
       "<tr><td>SVGP.q_mu                          </td><td>Parameter</td><td>Identity        </td><td>       </td><td>False      </td><td>(15, 1)    </td><td>float64</td><td>[[0.06156939...                                     </td></tr>\n",
       "<tr><td>SVGP.q_sqrt                        </td><td>Parameter</td><td>FillTriangular  </td><td>       </td><td>False      </td><td>(1, 15, 15)</td><td>float64</td><td>[[[1.10458315e-02, 0.00000000e+00, 0.00000000e+00...</td></tr>\n",
       "</tbody>\n",
       "</table>"
      ],
      "text/plain": [
       "<gpflow.models.svgp.SVGP object at 0x7fe6a3f32280>\n",
       "name                                 class      transform         prior    trainable    shape        dtype    value\n",
       "-----------------------------------  ---------  ----------------  -------  -----------  -----------  -------  ----------------------------------------------------\n",
       "SVGP.kernel.kernels[0].variance      Parameter  Softplus                   True         ()           float64  0.1773698491952734\n",
       "SVGP.kernel.kernels[0].lengthscales  Parameter  Softplus                   True         (3,)         float64  [2.07493616 2.99223406 2.61093143]\n",
       "SVGP.kernel.kernels[1].variance      Parameter  Softplus                   True         ()           float64  0.914480367260674\n",
       "SVGP.kernel.kernels[2].variance      Parameter  Softplus                   True         ()           float64  0.19494251280559294\n",
       "SVGP.kernel.kernels[2].lengthscales  Parameter  Softplus                   True         (3,)         float64  [1.45698748 4.15879405 1.17211235]\n",
       "SVGP.kernel.kernels[2].alpha         Parameter  Softplus                   True         ()           float64  3.345837379353641\n",
       "SVGP.likelihood.variance             Parameter  Softplus + Shift           True         ()           float64  0.043981003467384934\n",
       "SVGP.inducing_variable.Z             Parameter  Identity                   True         (15, 3)      float64  [[0.7003322, -0.59491876, 0.61430351...\n",
       "SVGP.q_mu                            Parameter  Identity                   False        (15, 1)      float64  [[0.06156939...\n",
       "SVGP.q_sqrt                          Parameter  FillTriangular             False        (1, 15, 15)  float64  [[[1.10458315e-02, 0.00000000e+00, 0.00000000e+00..."
      ]
     },
     "execution_count": 81,
     "metadata": {},
     "output_type": "execute_result"
    }
   ],
   "source": [
    "model._model"
   ]
  },
  {
   "cell_type": "markdown",
   "metadata": {},
   "source": [
    "### **$\\lambda (t) = f(t, S(t)^p, I(t)^p)$** - Gaussian - SE\\+L\\+RQ"
   ]
  },
  {
   "cell_type": "code",
   "execution_count": 82,
   "metadata": {
    "ExecuteTime": {
     "end_time": "2021-01-06T17:15:39.391451Z",
     "start_time": "2021-01-06T17:13:16.702486Z"
    }
   },
   "outputs": [],
   "source": [
    "t = final_data[[\"Updated\"]]\n",
    "y = final_data[[\"ConfirmedChange\"]]\n",
    "X = pd.DataFrame({\n",
    "    \"index\": final_data[\"index\"],\n",
    "    \"S\": final_data[\"S\"],\n",
    "    \"S**2\": final_data[\"S\"]**2,\n",
    "    \"S**3\": final_data[\"S\"]**3,\n",
    "    \"I\": final_data[\"I\"],\n",
    "    \"I**2\": final_data[\"I\"]**2,\n",
    "    \"I**3\": final_data[\"I\"]**3\n",
    "}, index=final_data.index)[[\n",
    "    \"index\",\n",
    "    \"S\", \"S**2\", \"S**3\",\n",
    "    \"I\", \"I**2\", \"I**3\"\n",
    "]]\n",
    "\n",
    "model_params = {\n",
    "    'kernel': (\n",
    "        gpflow.kernels.SquaredExponential(lengthscales=np.ones(X.shape[1])) +\n",
    "        gpflow.kernels.Linear() +\n",
    "        gpflow.kernels.RationalQuadratic(lengthscales=np.ones(X.shape[1]))\n",
    "    )\n",
    "}\n",
    "\n",
    "res, model = run_experiment('$f(t, S(t)^p, I(t)^p)$', t, X, y, \n",
    "                            model_params=model_params, \n",
    "                            train_test_split_func=train_test_split_func, \n",
    "                            plot=False)\n",
    "results.add(res)"
   ]
  },
  {
   "cell_type": "code",
   "execution_count": 83,
   "metadata": {
    "ExecuteTime": {
     "end_time": "2021-01-06T17:15:39.427730Z",
     "start_time": "2021-01-06T17:15:39.393340Z"
    }
   },
   "outputs": [
    {
     "data": {
      "text/html": [
       "&lt;gpflow.models.svgp.SVGP object at 0x7fe6ad37a220&gt;\n",
       "<table>\n",
       "<thead>\n",
       "<tr><th>name                               </th><th>class    </th><th>transform       </th><th>prior  </th><th>trainable  </th><th>shape      </th><th>dtype  </th><th>value                                 </th></tr>\n",
       "</thead>\n",
       "<tbody>\n",
       "<tr><td>SVGP.kernel.kernels[0].variance    </td><td>Parameter</td><td>Softplus        </td><td>       </td><td>True       </td><td>()         </td><td>float64</td><td>0.15057753304594157                   </td></tr>\n",
       "<tr><td>SVGP.kernel.kernels[0].lengthscales</td><td>Parameter</td><td>Softplus        </td><td>       </td><td>True       </td><td>(7,)       </td><td>float64</td><td>[3.02058049, 4.0970616, 4.50000006... </td></tr>\n",
       "<tr><td>SVGP.kernel.kernels[1].variance    </td><td>Parameter</td><td>Softplus        </td><td>       </td><td>True       </td><td>()         </td><td>float64</td><td>0.9739701447610657                    </td></tr>\n",
       "<tr><td>SVGP.kernel.kernels[2].variance    </td><td>Parameter</td><td>Softplus        </td><td>       </td><td>True       </td><td>()         </td><td>float64</td><td>0.12564390886392363                   </td></tr>\n",
       "<tr><td>SVGP.kernel.kernels[2].lengthscales</td><td>Parameter</td><td>Softplus        </td><td>       </td><td>True       </td><td>(7,)       </td><td>float64</td><td>[1.58385407, 4.68038645, 5.12970144...</td></tr>\n",
       "<tr><td>SVGP.kernel.kernels[2].alpha       </td><td>Parameter</td><td>Softplus        </td><td>       </td><td>True       </td><td>()         </td><td>float64</td><td>1.309342462932151                     </td></tr>\n",
       "<tr><td>SVGP.likelihood.variance           </td><td>Parameter</td><td>Softplus + Shift</td><td>       </td><td>True       </td><td>()         </td><td>float64</td><td>0.044617630310357544                  </td></tr>\n",
       "<tr><td>SVGP.inducing_variable.Z           </td><td>Parameter</td><td>Identity        </td><td>       </td><td>True       </td><td>(15, 7)    </td><td>float64</td><td>[[1.36486304, 0.4268756, 0.38968959...</td></tr>\n",
       "<tr><td>SVGP.q_mu                          </td><td>Parameter</td><td>Identity        </td><td>       </td><td>False      </td><td>(15, 1)    </td><td>float64</td><td>[[0.33558105...                       </td></tr>\n",
       "<tr><td>SVGP.q_sqrt                        </td><td>Parameter</td><td>FillTriangular  </td><td>       </td><td>False      </td><td>(1, 15, 15)</td><td>float64</td><td>[[[0.00561408, 0., 0....              </td></tr>\n",
       "</tbody>\n",
       "</table>"
      ],
      "text/plain": [
       "<gpflow.models.svgp.SVGP object at 0x7fe6ad37a220>\n",
       "name                                 class      transform         prior    trainable    shape        dtype    value\n",
       "-----------------------------------  ---------  ----------------  -------  -----------  -----------  -------  --------------------------------------\n",
       "SVGP.kernel.kernels[0].variance      Parameter  Softplus                   True         ()           float64  0.15057753304594157\n",
       "SVGP.kernel.kernels[0].lengthscales  Parameter  Softplus                   True         (7,)         float64  [3.02058049, 4.0970616, 4.50000006...\n",
       "SVGP.kernel.kernels[1].variance      Parameter  Softplus                   True         ()           float64  0.9739701447610657\n",
       "SVGP.kernel.kernels[2].variance      Parameter  Softplus                   True         ()           float64  0.12564390886392363\n",
       "SVGP.kernel.kernels[2].lengthscales  Parameter  Softplus                   True         (7,)         float64  [1.58385407, 4.68038645, 5.12970144...\n",
       "SVGP.kernel.kernels[2].alpha         Parameter  Softplus                   True         ()           float64  1.309342462932151\n",
       "SVGP.likelihood.variance             Parameter  Softplus + Shift           True         ()           float64  0.044617630310357544\n",
       "SVGP.inducing_variable.Z             Parameter  Identity                   True         (15, 7)      float64  [[1.36486304, 0.4268756, 0.38968959...\n",
       "SVGP.q_mu                            Parameter  Identity                   False        (15, 1)      float64  [[0.33558105...\n",
       "SVGP.q_sqrt                          Parameter  FillTriangular             False        (1, 15, 15)  float64  [[[0.00561408, 0., 0...."
      ]
     },
     "execution_count": 83,
     "metadata": {},
     "output_type": "execute_result"
    }
   ],
   "source": [
    "model._model"
   ]
  },
  {
   "cell_type": "markdown",
   "metadata": {},
   "source": [
    "### **$\\lambda (t) = f(t, I(t), Home(t))$** - Gaussian - SE\\+L\\+RQ"
   ]
  },
  {
   "cell_type": "code",
   "execution_count": 84,
   "metadata": {
    "ExecuteTime": {
     "end_time": "2021-01-06T17:17:58.673741Z",
     "start_time": "2021-01-06T17:15:39.429929Z"
    }
   },
   "outputs": [],
   "source": [
    "t = final_data[[\"Updated\"]]\n",
    "y = final_data[[\"ConfirmedChange\"]]\n",
    "X = pd.DataFrame({\n",
    "    \"index\": final_data[\"index\"],\n",
    "    \"I\": final_data[\"I\"],\n",
    "    \"HOME\": final_data[\"HOME\"]\n",
    "}, index=final_data.index)[[\n",
    "    \"index\",\n",
    "    \"I\",\n",
    "    \"HOME\"\n",
    "]]\n",
    "\n",
    "model_params = {\n",
    "    'kernel': (\n",
    "        gpflow.kernels.SquaredExponential(lengthscales=np.ones(X.shape[1])) +\n",
    "        gpflow.kernels.Linear() +\n",
    "        gpflow.kernels.RationalQuadratic(lengthscales=np.ones(X.shape[1]))\n",
    "    )\n",
    "}\n",
    "\n",
    "res, model = run_experiment('$f(t, I(t), Home(t))$', t, X, y, \n",
    "                            model_params=model_params, \n",
    "                            train_test_split_func=train_test_split_func, \n",
    "                            plot=False)\n",
    "results.add(res)"
   ]
  },
  {
   "cell_type": "code",
   "execution_count": 85,
   "metadata": {
    "ExecuteTime": {
     "end_time": "2021-01-06T17:17:58.699899Z",
     "start_time": "2021-01-06T17:17:58.675420Z"
    }
   },
   "outputs": [
    {
     "data": {
      "text/html": [
       "&lt;gpflow.models.svgp.SVGP object at 0x7fe6a4bc0f10&gt;\n",
       "<table>\n",
       "<thead>\n",
       "<tr><th>name                               </th><th>class    </th><th>transform       </th><th>prior  </th><th>trainable  </th><th>shape      </th><th>dtype  </th><th>value                                 </th></tr>\n",
       "</thead>\n",
       "<tbody>\n",
       "<tr><td>SVGP.kernel.kernels[0].variance    </td><td>Parameter</td><td>Softplus        </td><td>       </td><td>True       </td><td>()         </td><td>float64</td><td>0.21150482697951786                   </td></tr>\n",
       "<tr><td>SVGP.kernel.kernels[0].lengthscales</td><td>Parameter</td><td>Softplus        </td><td>       </td><td>True       </td><td>(3,)       </td><td>float64</td><td>[2.6178376  2.36026622 3.24586214]    </td></tr>\n",
       "<tr><td>SVGP.kernel.kernels[1].variance    </td><td>Parameter</td><td>Softplus        </td><td>       </td><td>True       </td><td>()         </td><td>float64</td><td>0.8891095681747738                    </td></tr>\n",
       "<tr><td>SVGP.kernel.kernels[2].variance    </td><td>Parameter</td><td>Softplus        </td><td>       </td><td>True       </td><td>()         </td><td>float64</td><td>0.1561481348823982                    </td></tr>\n",
       "<tr><td>SVGP.kernel.kernels[2].lengthscales</td><td>Parameter</td><td>Softplus        </td><td>       </td><td>True       </td><td>(3,)       </td><td>float64</td><td>[2.26881387 1.53650043 2.88409252]    </td></tr>\n",
       "<tr><td>SVGP.kernel.kernels[2].alpha       </td><td>Parameter</td><td>Softplus        </td><td>       </td><td>True       </td><td>()         </td><td>float64</td><td>0.10709179049926572                   </td></tr>\n",
       "<tr><td>SVGP.likelihood.variance           </td><td>Parameter</td><td>Softplus + Shift</td><td>       </td><td>True       </td><td>()         </td><td>float64</td><td>0.05278070187058635                   </td></tr>\n",
       "<tr><td>SVGP.inducing_variable.Z           </td><td>Parameter</td><td>Identity        </td><td>       </td><td>True       </td><td>(15, 3)    </td><td>float64</td><td>[[1.50331437, 0.6790443, 0.01348246...</td></tr>\n",
       "<tr><td>SVGP.q_mu                          </td><td>Parameter</td><td>Identity        </td><td>       </td><td>False      </td><td>(15, 1)    </td><td>float64</td><td>[[0.02640292...                       </td></tr>\n",
       "<tr><td>SVGP.q_sqrt                        </td><td>Parameter</td><td>FillTriangular  </td><td>       </td><td>False      </td><td>(1, 15, 15)</td><td>float64</td><td>[[[0.01473836, 0., 0....              </td></tr>\n",
       "</tbody>\n",
       "</table>"
      ],
      "text/plain": [
       "<gpflow.models.svgp.SVGP object at 0x7fe6a4bc0f10>\n",
       "name                                 class      transform         prior    trainable    shape        dtype    value\n",
       "-----------------------------------  ---------  ----------------  -------  -----------  -----------  -------  --------------------------------------\n",
       "SVGP.kernel.kernels[0].variance      Parameter  Softplus                   True         ()           float64  0.21150482697951786\n",
       "SVGP.kernel.kernels[0].lengthscales  Parameter  Softplus                   True         (3,)         float64  [2.6178376  2.36026622 3.24586214]\n",
       "SVGP.kernel.kernels[1].variance      Parameter  Softplus                   True         ()           float64  0.8891095681747738\n",
       "SVGP.kernel.kernels[2].variance      Parameter  Softplus                   True         ()           float64  0.1561481348823982\n",
       "SVGP.kernel.kernels[2].lengthscales  Parameter  Softplus                   True         (3,)         float64  [2.26881387 1.53650043 2.88409252]\n",
       "SVGP.kernel.kernels[2].alpha         Parameter  Softplus                   True         ()           float64  0.10709179049926572\n",
       "SVGP.likelihood.variance             Parameter  Softplus + Shift           True         ()           float64  0.05278070187058635\n",
       "SVGP.inducing_variable.Z             Parameter  Identity                   True         (15, 3)      float64  [[1.50331437, 0.6790443, 0.01348246...\n",
       "SVGP.q_mu                            Parameter  Identity                   False        (15, 1)      float64  [[0.02640292...\n",
       "SVGP.q_sqrt                          Parameter  FillTriangular             False        (1, 15, 15)  float64  [[[0.01473836, 0., 0...."
      ]
     },
     "execution_count": 85,
     "metadata": {},
     "output_type": "execute_result"
    }
   ],
   "source": [
    "model._model"
   ]
  },
  {
   "cell_type": "markdown",
   "metadata": {},
   "source": [
    "### **$\\lambda (t) = f(t, S(t)*I(t), Home(t))$** - Gaussian - SE\\+L\\+RQ"
   ]
  },
  {
   "cell_type": "code",
   "execution_count": 86,
   "metadata": {
    "ExecuteTime": {
     "end_time": "2021-01-06T17:20:19.661056Z",
     "start_time": "2021-01-06T17:17:58.702485Z"
    }
   },
   "outputs": [],
   "source": [
    "t = final_data[[\"Updated\"]]\n",
    "y = final_data[[\"ConfirmedChange\"]]\n",
    "X = pd.DataFrame({\n",
    "    \"index\": final_data[\"index\"],\n",
    "    \"S*I\": final_data[\"S\"] * final_data[\"I\"],\n",
    "    \"HOME\": final_data[\"HOME\"],\n",
    "}, index=final_data.index)[[\n",
    "    \"index\",\n",
    "    \"S*I\",\n",
    "    \"HOME\"\n",
    "]]\n",
    "\n",
    "model_params = {\n",
    "    'kernel': (\n",
    "        gpflow.kernels.SquaredExponential(lengthscales=np.ones(X.shape[1])) +\n",
    "        gpflow.kernels.Linear() +\n",
    "        gpflow.kernels.RationalQuadratic(lengthscales=np.ones(X.shape[1]))\n",
    "    )\n",
    "}\n",
    "\n",
    "res, model = run_experiment('$f(t, S(t)*I(t), Home(t))$', t, X, y, \n",
    "                            model_params=model_params, \n",
    "                            train_test_split_func=train_test_split_func, \n",
    "                            plot=False)\n",
    "results.add(res)"
   ]
  },
  {
   "cell_type": "code",
   "execution_count": 87,
   "metadata": {
    "ExecuteTime": {
     "end_time": "2021-01-06T17:20:19.693682Z",
     "start_time": "2021-01-06T17:20:19.663063Z"
    }
   },
   "outputs": [
    {
     "data": {
      "text/html": [
       "&lt;gpflow.models.svgp.SVGP object at 0x7fe6a3f95c40&gt;\n",
       "<table>\n",
       "<thead>\n",
       "<tr><th>name                               </th><th>class    </th><th>transform       </th><th>prior  </th><th>trainable  </th><th>shape      </th><th>dtype  </th><th>value                                  </th></tr>\n",
       "</thead>\n",
       "<tbody>\n",
       "<tr><td>SVGP.kernel.kernels[0].variance    </td><td>Parameter</td><td>Softplus        </td><td>       </td><td>True       </td><td>()         </td><td>float64</td><td>0.19360561477225618                    </td></tr>\n",
       "<tr><td>SVGP.kernel.kernels[0].lengthscales</td><td>Parameter</td><td>Softplus        </td><td>       </td><td>True       </td><td>(3,)       </td><td>float64</td><td>[2.17613475 2.32483275 3.54699707]     </td></tr>\n",
       "<tr><td>SVGP.kernel.kernels[1].variance    </td><td>Parameter</td><td>Softplus        </td><td>       </td><td>True       </td><td>()         </td><td>float64</td><td>0.8808425665035522                     </td></tr>\n",
       "<tr><td>SVGP.kernel.kernels[2].variance    </td><td>Parameter</td><td>Softplus        </td><td>       </td><td>True       </td><td>()         </td><td>float64</td><td>0.1562410849244263                     </td></tr>\n",
       "<tr><td>SVGP.kernel.kernels[2].lengthscales</td><td>Parameter</td><td>Softplus        </td><td>       </td><td>True       </td><td>(3,)       </td><td>float64</td><td>[1.59066526 1.43555024 3.74214324]     </td></tr>\n",
       "<tr><td>SVGP.kernel.kernels[2].alpha       </td><td>Parameter</td><td>Softplus        </td><td>       </td><td>True       </td><td>()         </td><td>float64</td><td>1.0030265664040778                     </td></tr>\n",
       "<tr><td>SVGP.likelihood.variance           </td><td>Parameter</td><td>Softplus + Shift</td><td>       </td><td>True       </td><td>()         </td><td>float64</td><td>0.04890450351524829                    </td></tr>\n",
       "<tr><td>SVGP.inducing_variable.Z           </td><td>Parameter</td><td>Identity        </td><td>       </td><td>True       </td><td>(15, 3)    </td><td>float64</td><td>[[1.03743111, 0.23824487, 0.81408102...</td></tr>\n",
       "<tr><td>SVGP.q_mu                          </td><td>Parameter</td><td>Identity        </td><td>       </td><td>False      </td><td>(15, 1)    </td><td>float64</td><td>[[-0.08312164...                       </td></tr>\n",
       "<tr><td>SVGP.q_sqrt                        </td><td>Parameter</td><td>FillTriangular  </td><td>       </td><td>False      </td><td>(1, 15, 15)</td><td>float64</td><td>[[[0.01696503, 0., 0....               </td></tr>\n",
       "</tbody>\n",
       "</table>"
      ],
      "text/plain": [
       "<gpflow.models.svgp.SVGP object at 0x7fe6a3f95c40>\n",
       "name                                 class      transform         prior    trainable    shape        dtype    value\n",
       "-----------------------------------  ---------  ----------------  -------  -----------  -----------  -------  ---------------------------------------\n",
       "SVGP.kernel.kernels[0].variance      Parameter  Softplus                   True         ()           float64  0.19360561477225618\n",
       "SVGP.kernel.kernels[0].lengthscales  Parameter  Softplus                   True         (3,)         float64  [2.17613475 2.32483275 3.54699707]\n",
       "SVGP.kernel.kernels[1].variance      Parameter  Softplus                   True         ()           float64  0.8808425665035522\n",
       "SVGP.kernel.kernels[2].variance      Parameter  Softplus                   True         ()           float64  0.1562410849244263\n",
       "SVGP.kernel.kernels[2].lengthscales  Parameter  Softplus                   True         (3,)         float64  [1.59066526 1.43555024 3.74214324]\n",
       "SVGP.kernel.kernels[2].alpha         Parameter  Softplus                   True         ()           float64  1.0030265664040778\n",
       "SVGP.likelihood.variance             Parameter  Softplus + Shift           True         ()           float64  0.04890450351524829\n",
       "SVGP.inducing_variable.Z             Parameter  Identity                   True         (15, 3)      float64  [[1.03743111, 0.23824487, 0.81408102...\n",
       "SVGP.q_mu                            Parameter  Identity                   False        (15, 1)      float64  [[-0.08312164...\n",
       "SVGP.q_sqrt                          Parameter  FillTriangular             False        (1, 15, 15)  float64  [[[0.01696503, 0., 0...."
      ]
     },
     "execution_count": 87,
     "metadata": {},
     "output_type": "execute_result"
    }
   ],
   "source": [
    "model._model"
   ]
  },
  {
   "cell_type": "markdown",
   "metadata": {},
   "source": [
    "### **$\\lambda (t) = f(t, S(t)*I(t), Home(t)*Work(t)*Recreational(t))$** - Gaussian - SE\\+L\\+RQ"
   ]
  },
  {
   "cell_type": "code",
   "execution_count": 88,
   "metadata": {
    "ExecuteTime": {
     "end_time": "2021-01-06T17:22:41.252109Z",
     "start_time": "2021-01-06T17:20:19.696329Z"
    }
   },
   "outputs": [],
   "source": [
    "t = final_data[[\"Updated\"]]\n",
    "y = final_data[[\"ConfirmedChange\"]]\n",
    "X = pd.DataFrame({\n",
    "    \"index\": final_data[\"index\"],\n",
    "    \"S*I\": final_data[\"S\"] * final_data[\"I\"],\n",
    "    \"HOME*WORK*RECREATIONAL\": final_data[\"HOME\"]*final_data[\"WORK\"]*final_data[\"RECREATIONAL\"],\n",
    "}, index=final_data.index)[[\n",
    "    \"index\",\n",
    "    \"S*I\",\n",
    "    \"HOME*WORK*RECREATIONAL\"\n",
    "]]\n",
    "\n",
    "\n",
    "model_params = {\n",
    "    'kernel': (\n",
    "        gpflow.kernels.SquaredExponential(lengthscales=np.ones(X.shape[1])) +\n",
    "        gpflow.kernels.Linear() +\n",
    "        gpflow.kernels.RationalQuadratic(lengthscales=np.ones(X.shape[1]))\n",
    "    )\n",
    "}\n",
    "\n",
    "res, model = run_experiment('$f(t, S(t)*I(t), Home(t)*Work(t)*Recreational(t)$', t, X, y, \n",
    "                            model_params=model_params, \n",
    "                            train_test_split_func=train_test_split_func, \n",
    "                            plot=False)\n",
    "results.add(res)"
   ]
  },
  {
   "cell_type": "code",
   "execution_count": 89,
   "metadata": {
    "ExecuteTime": {
     "end_time": "2021-01-06T17:22:41.276178Z",
     "start_time": "2021-01-06T17:22:41.253774Z"
    }
   },
   "outputs": [
    {
     "data": {
      "text/html": [
       "&lt;gpflow.models.svgp.SVGP object at 0x7fe6a3ea6670&gt;\n",
       "<table>\n",
       "<thead>\n",
       "<tr><th>name                               </th><th>class    </th><th>transform       </th><th>prior  </th><th>trainable  </th><th>shape      </th><th>dtype  </th><th>value                                    </th></tr>\n",
       "</thead>\n",
       "<tbody>\n",
       "<tr><td>SVGP.kernel.kernels[0].variance    </td><td>Parameter</td><td>Softplus        </td><td>       </td><td>True       </td><td>()         </td><td>float64</td><td>0.19748166691411814                      </td></tr>\n",
       "<tr><td>SVGP.kernel.kernels[0].lengthscales</td><td>Parameter</td><td>Softplus        </td><td>       </td><td>True       </td><td>(3,)       </td><td>float64</td><td>[2.77081906 2.37983677 3.33098938]       </td></tr>\n",
       "<tr><td>SVGP.kernel.kernels[1].variance    </td><td>Parameter</td><td>Softplus        </td><td>       </td><td>True       </td><td>()         </td><td>float64</td><td>0.8677151208979091                       </td></tr>\n",
       "<tr><td>SVGP.kernel.kernels[2].variance    </td><td>Parameter</td><td>Softplus        </td><td>       </td><td>True       </td><td>()         </td><td>float64</td><td>0.1503099119885901                       </td></tr>\n",
       "<tr><td>SVGP.kernel.kernels[2].lengthscales</td><td>Parameter</td><td>Softplus        </td><td>       </td><td>True       </td><td>(3,)       </td><td>float64</td><td>[1.69589561 1.52486861 3.46198165]       </td></tr>\n",
       "<tr><td>SVGP.kernel.kernels[2].alpha       </td><td>Parameter</td><td>Softplus        </td><td>       </td><td>True       </td><td>()         </td><td>float64</td><td>0.5673758425618812                       </td></tr>\n",
       "<tr><td>SVGP.likelihood.variance           </td><td>Parameter</td><td>Softplus + Shift</td><td>       </td><td>True       </td><td>()         </td><td>float64</td><td>0.051317745416679196                     </td></tr>\n",
       "<tr><td>SVGP.inducing_variable.Z           </td><td>Parameter</td><td>Identity        </td><td>       </td><td>True       </td><td>(15, 3)    </td><td>float64</td><td>[[1.28246462, -0.03143076, -0.96078032...</td></tr>\n",
       "<tr><td>SVGP.q_mu                          </td><td>Parameter</td><td>Identity        </td><td>       </td><td>False      </td><td>(15, 1)    </td><td>float64</td><td>[[-0.1594245...                          </td></tr>\n",
       "<tr><td>SVGP.q_sqrt                        </td><td>Parameter</td><td>FillTriangular  </td><td>       </td><td>False      </td><td>(1, 15, 15)</td><td>float64</td><td>[[[0.01424577, 0., 0....                 </td></tr>\n",
       "</tbody>\n",
       "</table>"
      ],
      "text/plain": [
       "<gpflow.models.svgp.SVGP object at 0x7fe6a3ea6670>\n",
       "name                                 class      transform         prior    trainable    shape        dtype    value\n",
       "-----------------------------------  ---------  ----------------  -------  -----------  -----------  -------  -----------------------------------------\n",
       "SVGP.kernel.kernels[0].variance      Parameter  Softplus                   True         ()           float64  0.19748166691411814\n",
       "SVGP.kernel.kernels[0].lengthscales  Parameter  Softplus                   True         (3,)         float64  [2.77081906 2.37983677 3.33098938]\n",
       "SVGP.kernel.kernels[1].variance      Parameter  Softplus                   True         ()           float64  0.8677151208979091\n",
       "SVGP.kernel.kernels[2].variance      Parameter  Softplus                   True         ()           float64  0.1503099119885901\n",
       "SVGP.kernel.kernels[2].lengthscales  Parameter  Softplus                   True         (3,)         float64  [1.69589561 1.52486861 3.46198165]\n",
       "SVGP.kernel.kernels[2].alpha         Parameter  Softplus                   True         ()           float64  0.5673758425618812\n",
       "SVGP.likelihood.variance             Parameter  Softplus + Shift           True         ()           float64  0.051317745416679196\n",
       "SVGP.inducing_variable.Z             Parameter  Identity                   True         (15, 3)      float64  [[1.28246462, -0.03143076, -0.96078032...\n",
       "SVGP.q_mu                            Parameter  Identity                   False        (15, 1)      float64  [[-0.1594245...\n",
       "SVGP.q_sqrt                          Parameter  FillTriangular             False        (1, 15, 15)  float64  [[[0.01424577, 0., 0...."
      ]
     },
     "execution_count": 89,
     "metadata": {},
     "output_type": "execute_result"
    }
   ],
   "source": [
    "model._model"
   ]
  },
  {
   "cell_type": "markdown",
   "metadata": {},
   "source": [
    "### **$\\lambda (t) = f(t, S(t), I(t), Home(t), Work(t), Recreational(t))$** - Gaussian - SE\\+L\\+RQ"
   ]
  },
  {
   "cell_type": "code",
   "execution_count": 90,
   "metadata": {
    "ExecuteTime": {
     "end_time": "2021-01-06T17:25:02.333459Z",
     "start_time": "2021-01-06T17:22:41.278075Z"
    }
   },
   "outputs": [],
   "source": [
    "t = final_data[[\"Updated\"]]\n",
    "y = final_data[[\"ConfirmedChange\"]]\n",
    "X = pd.DataFrame({\n",
    "    \"index\": final_data[\"index\"],\n",
    "    \"S\": final_data[\"S\"],\n",
    "    \"I\": final_data[\"I\"],\n",
    "    \"HOME\": final_data[\"HOME\"],\n",
    "    \"WORK\": final_data[\"WORK\"],\n",
    "    \"RECREATIONAL\": final_data[\"RECREATIONAL\"],\n",
    "}, index=final_data.index)[[\n",
    "    \"index\",\n",
    "    \"S\",\n",
    "    \"I\",\n",
    "    \"HOME\", \n",
    "    \"WORK\", \n",
    "    \"RECREATIONAL\"\n",
    "]]\n",
    "\n",
    "model_params = {\n",
    "    'kernel': (\n",
    "        gpflow.kernels.SquaredExponential(lengthscales=np.ones(X.shape[1])) +\n",
    "        gpflow.kernels.Linear() +\n",
    "        gpflow.kernels.RationalQuadratic(lengthscales=np.ones(X.shape[1]))\n",
    "    )\n",
    "}\n",
    "\n",
    "res, model = run_experiment('$f(t, S(t), I(t), Home(t), Work(t), Recreational(t)$', t, X, y, \n",
    "                            model_params=model_params, \n",
    "                            train_test_split_func=train_test_split_func, \n",
    "                            plot=False)\n",
    "results.add(res)"
   ]
  },
  {
   "cell_type": "code",
   "execution_count": 91,
   "metadata": {
    "ExecuteTime": {
     "end_time": "2021-01-06T17:25:02.362511Z",
     "start_time": "2021-01-06T17:25:02.335894Z"
    }
   },
   "outputs": [
    {
     "data": {
      "text/html": [
       "&lt;gpflow.models.svgp.SVGP object at 0x7fe6ad36b9d0&gt;\n",
       "<table>\n",
       "<thead>\n",
       "<tr><th>name                               </th><th>class    </th><th>transform       </th><th>prior  </th><th>trainable  </th><th>shape      </th><th>dtype  </th><th>value                                  </th></tr>\n",
       "</thead>\n",
       "<tbody>\n",
       "<tr><td>SVGP.kernel.kernels[0].variance    </td><td>Parameter</td><td>Softplus        </td><td>       </td><td>True       </td><td>()         </td><td>float64</td><td>0.1432774625074114                     </td></tr>\n",
       "<tr><td>SVGP.kernel.kernels[0].lengthscales</td><td>Parameter</td><td>Softplus        </td><td>       </td><td>True       </td><td>(6,)       </td><td>float64</td><td>[1.86164251, 5.02098933, 3.90675103... </td></tr>\n",
       "<tr><td>SVGP.kernel.kernels[1].variance    </td><td>Parameter</td><td>Softplus        </td><td>       </td><td>True       </td><td>()         </td><td>float64</td><td>0.8634825152683627                     </td></tr>\n",
       "<tr><td>SVGP.kernel.kernels[2].variance    </td><td>Parameter</td><td>Softplus        </td><td>       </td><td>True       </td><td>()         </td><td>float64</td><td>0.07489803285917014                    </td></tr>\n",
       "<tr><td>SVGP.kernel.kernels[2].lengthscales</td><td>Parameter</td><td>Softplus        </td><td>       </td><td>True       </td><td>(6,)       </td><td>float64</td><td>[3.05431669, 3.97279711, 1.77795301... </td></tr>\n",
       "<tr><td>SVGP.kernel.kernels[2].alpha       </td><td>Parameter</td><td>Softplus        </td><td>       </td><td>True       </td><td>()         </td><td>float64</td><td>0.09212491699211389                    </td></tr>\n",
       "<tr><td>SVGP.likelihood.variance           </td><td>Parameter</td><td>Softplus + Shift</td><td>       </td><td>True       </td><td>()         </td><td>float64</td><td>0.03263006398759925                    </td></tr>\n",
       "<tr><td>SVGP.inducing_variable.Z           </td><td>Parameter</td><td>Identity        </td><td>       </td><td>True       </td><td>(15, 6)    </td><td>float64</td><td>[[1.3496337, -0.79463396, 0.33049046...</td></tr>\n",
       "<tr><td>SVGP.q_mu                          </td><td>Parameter</td><td>Identity        </td><td>       </td><td>False      </td><td>(15, 1)    </td><td>float64</td><td>[[0.20065895...                        </td></tr>\n",
       "<tr><td>SVGP.q_sqrt                        </td><td>Parameter</td><td>FillTriangular  </td><td>       </td><td>False      </td><td>(1, 15, 15)</td><td>float64</td><td>[[[0.00659828, 0., 0....               </td></tr>\n",
       "</tbody>\n",
       "</table>"
      ],
      "text/plain": [
       "<gpflow.models.svgp.SVGP object at 0x7fe6ad36b9d0>\n",
       "name                                 class      transform         prior    trainable    shape        dtype    value\n",
       "-----------------------------------  ---------  ----------------  -------  -----------  -----------  -------  ---------------------------------------\n",
       "SVGP.kernel.kernels[0].variance      Parameter  Softplus                   True         ()           float64  0.1432774625074114\n",
       "SVGP.kernel.kernels[0].lengthscales  Parameter  Softplus                   True         (6,)         float64  [1.86164251, 5.02098933, 3.90675103...\n",
       "SVGP.kernel.kernels[1].variance      Parameter  Softplus                   True         ()           float64  0.8634825152683627\n",
       "SVGP.kernel.kernels[2].variance      Parameter  Softplus                   True         ()           float64  0.07489803285917014\n",
       "SVGP.kernel.kernels[2].lengthscales  Parameter  Softplus                   True         (6,)         float64  [3.05431669, 3.97279711, 1.77795301...\n",
       "SVGP.kernel.kernels[2].alpha         Parameter  Softplus                   True         ()           float64  0.09212491699211389\n",
       "SVGP.likelihood.variance             Parameter  Softplus + Shift           True         ()           float64  0.03263006398759925\n",
       "SVGP.inducing_variable.Z             Parameter  Identity                   True         (15, 6)      float64  [[1.3496337, -0.79463396, 0.33049046...\n",
       "SVGP.q_mu                            Parameter  Identity                   False        (15, 1)      float64  [[0.20065895...\n",
       "SVGP.q_sqrt                          Parameter  FillTriangular             False        (1, 15, 15)  float64  [[[0.00659828, 0., 0...."
      ]
     },
     "execution_count": 91,
     "metadata": {},
     "output_type": "execute_result"
    }
   ],
   "source": [
    "model._model"
   ]
  },
  {
   "cell_type": "markdown",
   "metadata": {},
   "source": [
    "### **$\\lambda (t) = f(t, S(t)^p, I(t)^p, Home(t)^p, Work(t)^p, Recreational(t)^p)$** - Gaussian - SE\\+L\\+RQ"
   ]
  },
  {
   "cell_type": "code",
   "execution_count": 92,
   "metadata": {
    "ExecuteTime": {
     "end_time": "2021-01-06T17:27:35.639199Z",
     "start_time": "2021-01-06T17:25:02.364735Z"
    }
   },
   "outputs": [],
   "source": [
    "t = final_data[[\"Updated\"]]\n",
    "y = final_data[[\"ConfirmedChange\"]]\n",
    "X = pd.DataFrame({\n",
    "    \"index\": final_data[\"index\"],\n",
    "    \"S\": final_data[\"S\"],\n",
    "    \"S**2\": final_data[\"S\"]**2,\n",
    "    \"S**3\": final_data[\"S\"]**3,\n",
    "    \"I\": final_data[\"I\"],\n",
    "    \"I**2\": final_data[\"I\"]**2,\n",
    "    \"I**3\": final_data[\"I\"]**3,\n",
    "    \"HOME\": final_data[\"HOME\"],\n",
    "    \"HOME**2\": final_data[\"HOME\"]**2,\n",
    "    \"HOME**3\": final_data[\"HOME\"]**3,\n",
    "    \"WORK\": final_data[\"WORK\"],\n",
    "    \"WORK**2\": final_data[\"WORK\"]**2,\n",
    "    \"WORK**3\": final_data[\"WORK\"]**3,\n",
    "    \"RECREATIONAL\": final_data[\"RECREATIONAL\"],\n",
    "    \"RECREATIONAL**2\": final_data[\"RECREATIONAL\"]**2,\n",
    "    \"RECREATIONAL**3\": final_data[\"RECREATIONAL\"]**3,\n",
    "}, index=final_data.index)[[\n",
    "    \"index\",\n",
    "    \"S\",\"S**2\",\"S**3\",\n",
    "    \"I\",\"I**2\",\"I**3\",\n",
    "    \"HOME\",\"HOME**2\",\"HOME**3\",\n",
    "    \"WORK\",\"WORK**2\",\"WORK**3\",\n",
    "    \"RECREATIONAL\",\"RECREATIONAL**2\",\"RECREATIONAL**3\",\n",
    "]]\n",
    "\n",
    "model_params = {\n",
    "    'kernel': (\n",
    "        gpflow.kernels.SquaredExponential(lengthscales=np.ones(X.shape[1])) +\n",
    "        gpflow.kernels.Linear() +\n",
    "        gpflow.kernels.RationalQuadratic(lengthscales=np.ones(X.shape[1]))\n",
    "    )\n",
    "}\n",
    "\n",
    "res, model = run_experiment('$f(t, S(t)^p, I(t)^p, Home(t)^p, Work(t)^p, Recreational(t)^p$', t, X, y, \n",
    "                            model_params=model_params, \n",
    "                            train_test_split_func=train_test_split_func, \n",
    "                            plot=False)\n",
    "results.add(res)"
   ]
  },
  {
   "cell_type": "code",
   "execution_count": 93,
   "metadata": {
    "ExecuteTime": {
     "end_time": "2021-01-06T17:27:35.670133Z",
     "start_time": "2021-01-06T17:27:35.641251Z"
    },
    "scrolled": true
   },
   "outputs": [
    {
     "data": {
      "text/html": [
       "&lt;gpflow.models.svgp.SVGP object at 0x7fe6a3f00790&gt;\n",
       "<table>\n",
       "<thead>\n",
       "<tr><th>name                               </th><th>class    </th><th>transform       </th><th>prior  </th><th>trainable  </th><th>shape      </th><th>dtype  </th><th>value                                               </th></tr>\n",
       "</thead>\n",
       "<tbody>\n",
       "<tr><td>SVGP.kernel.kernels[0].variance    </td><td>Parameter</td><td>Softplus        </td><td>       </td><td>True       </td><td>()         </td><td>float64</td><td>0.09601369933305405                                 </td></tr>\n",
       "<tr><td>SVGP.kernel.kernels[0].lengthscales</td><td>Parameter</td><td>Softplus        </td><td>       </td><td>True       </td><td>(16,)      </td><td>float64</td><td>[2.08313239, 7.81070614, 8.01059364...              </td></tr>\n",
       "<tr><td>SVGP.kernel.kernels[1].variance    </td><td>Parameter</td><td>Softplus        </td><td>       </td><td>True       </td><td>()         </td><td>float64</td><td>0.8347730877790062                                  </td></tr>\n",
       "<tr><td>SVGP.kernel.kernels[2].variance    </td><td>Parameter</td><td>Softplus        </td><td>       </td><td>True       </td><td>()         </td><td>float64</td><td>0.12542549424417307                                 </td></tr>\n",
       "<tr><td>SVGP.kernel.kernels[2].lengthscales</td><td>Parameter</td><td>Softplus        </td><td>       </td><td>True       </td><td>(16,)      </td><td>float64</td><td>[5.63985595, 4.06568625, 3.59095552...              </td></tr>\n",
       "<tr><td>SVGP.kernel.kernels[2].alpha       </td><td>Parameter</td><td>Softplus        </td><td>       </td><td>True       </td><td>()         </td><td>float64</td><td>0.005850841474559923                                </td></tr>\n",
       "<tr><td>SVGP.likelihood.variance           </td><td>Parameter</td><td>Softplus + Shift</td><td>       </td><td>True       </td><td>()         </td><td>float64</td><td>0.04293383332085535                                 </td></tr>\n",
       "<tr><td>SVGP.inducing_variable.Z           </td><td>Parameter</td><td>Identity        </td><td>       </td><td>True       </td><td>(15, 16)   </td><td>float64</td><td>[[1.35588228e+00, -1.47351971e+00, 3.96563821e-01...</td></tr>\n",
       "<tr><td>SVGP.q_mu                          </td><td>Parameter</td><td>Identity        </td><td>       </td><td>False      </td><td>(15, 1)    </td><td>float64</td><td>[[-0.50365443...                                    </td></tr>\n",
       "<tr><td>SVGP.q_sqrt                        </td><td>Parameter</td><td>FillTriangular  </td><td>       </td><td>False      </td><td>(1, 15, 15)</td><td>float64</td><td>[[[1.43058379e-01, 0.00000000e+00, 0.00000000e+00...</td></tr>\n",
       "</tbody>\n",
       "</table>"
      ],
      "text/plain": [
       "<gpflow.models.svgp.SVGP object at 0x7fe6a3f00790>\n",
       "name                                 class      transform         prior    trainable    shape        dtype    value\n",
       "-----------------------------------  ---------  ----------------  -------  -----------  -----------  -------  ----------------------------------------------------\n",
       "SVGP.kernel.kernels[0].variance      Parameter  Softplus                   True         ()           float64  0.09601369933305405\n",
       "SVGP.kernel.kernels[0].lengthscales  Parameter  Softplus                   True         (16,)        float64  [2.08313239, 7.81070614, 8.01059364...\n",
       "SVGP.kernel.kernels[1].variance      Parameter  Softplus                   True         ()           float64  0.8347730877790062\n",
       "SVGP.kernel.kernels[2].variance      Parameter  Softplus                   True         ()           float64  0.12542549424417307\n",
       "SVGP.kernel.kernels[2].lengthscales  Parameter  Softplus                   True         (16,)        float64  [5.63985595, 4.06568625, 3.59095552...\n",
       "SVGP.kernel.kernels[2].alpha         Parameter  Softplus                   True         ()           float64  0.005850841474559923\n",
       "SVGP.likelihood.variance             Parameter  Softplus + Shift           True         ()           float64  0.04293383332085535\n",
       "SVGP.inducing_variable.Z             Parameter  Identity                   True         (15, 16)     float64  [[1.35588228e+00, -1.47351971e+00, 3.96563821e-01...\n",
       "SVGP.q_mu                            Parameter  Identity                   False        (15, 1)      float64  [[-0.50365443...\n",
       "SVGP.q_sqrt                          Parameter  FillTriangular             False        (1, 15, 15)  float64  [[[1.43058379e-01, 0.00000000e+00, 0.00000000e+00..."
      ]
     },
     "execution_count": 93,
     "metadata": {},
     "output_type": "execute_result"
    }
   ],
   "source": [
    "model._model"
   ]
  },
  {
   "cell_type": "markdown",
   "metadata": {},
   "source": [
    "## Report"
   ]
  },
  {
   "cell_type": "code",
   "execution_count": 94,
   "metadata": {
    "ExecuteTime": {
     "end_time": "2021-01-06T17:27:35.680620Z",
     "start_time": "2021-01-06T17:27:35.672244Z"
    }
   },
   "outputs": [],
   "source": [
    "report = pd.DataFrame([e.to_dict() for e in results])"
   ]
  },
  {
   "cell_type": "code",
   "execution_count": 95,
   "metadata": {
    "ExecuteTime": {
     "end_time": "2021-01-06T17:27:35.717586Z",
     "start_time": "2021-01-06T17:27:35.682684Z"
    }
   },
   "outputs": [
    {
     "data": {
      "text/html": [
       "<div>\n",
       "<style scoped>\n",
       "    .dataframe tbody tr th:only-of-type {\n",
       "        vertical-align: middle;\n",
       "    }\n",
       "\n",
       "    .dataframe tbody tr th {\n",
       "        vertical-align: top;\n",
       "    }\n",
       "\n",
       "    .dataframe thead th {\n",
       "        text-align: right;\n",
       "    }\n",
       "</style>\n",
       "<table border=\"1\" class=\"dataframe\">\n",
       "  <thead>\n",
       "    <tr style=\"text-align: right;\">\n",
       "      <th></th>\n",
       "      <th>kernel</th>\n",
       "      <th>likelihood</th>\n",
       "      <th>mle</th>\n",
       "      <th>model</th>\n",
       "      <th>n_inducing_points</th>\n",
       "      <th>out_sample</th>\n",
       "      <th>run_time</th>\n",
       "      <th>test_dates</th>\n",
       "      <th>test_size</th>\n",
       "      <th>train_dates</th>\n",
       "      <th>train_size</th>\n",
       "      <th>var_out_sample</th>\n",
       "      <th>var_within_sample</th>\n",
       "      <th>week_1</th>\n",
       "      <th>week_2</th>\n",
       "      <th>week_3</th>\n",
       "      <th>within_sample</th>\n",
       "    </tr>\n",
       "  </thead>\n",
       "  <tbody>\n",
       "    <tr>\n",
       "      <th>38</th>\n",
       "      <td>Sum</td>\n",
       "      <td>Gaussian</td>\n",
       "      <td>432.31</td>\n",
       "      <td>$f(t, S(t), I(t), Home(t), Work(t), Recreational(t)$</td>\n",
       "      <td>15</td>\n",
       "      <td>-0.0060</td>\n",
       "      <td>141.031244</td>\n",
       "      <td>2020-02-26 to 2020-07-27</td>\n",
       "      <td>304</td>\n",
       "      <td>2020-02-21 to 2020-07-27</td>\n",
       "      <td>2298</td>\n",
       "      <td>0.0045</td>\n",
       "      <td>0.0063</td>\n",
       "      <td>0.0007</td>\n",
       "      <td>-0.0144</td>\n",
       "      <td>-0.0060</td>\n",
       "      <td>-0.0001</td>\n",
       "    </tr>\n",
       "    <tr>\n",
       "      <th>35</th>\n",
       "      <td>Product</td>\n",
       "      <td>Gaussian</td>\n",
       "      <td>395.04</td>\n",
       "      <td>$f(t, S(t), I(t), Home(t), Work(t), Recreational(t)$</td>\n",
       "      <td>15</td>\n",
       "      <td>0.0069</td>\n",
       "      <td>139.857041</td>\n",
       "      <td>2020-02-26 to 2020-07-27</td>\n",
       "      <td>304</td>\n",
       "      <td>2020-02-21 to 2020-07-27</td>\n",
       "      <td>2298</td>\n",
       "      <td>0.0038</td>\n",
       "      <td>0.0067</td>\n",
       "      <td>0.0425</td>\n",
       "      <td>-0.0004</td>\n",
       "      <td>0.0062</td>\n",
       "      <td>0.0022</td>\n",
       "    </tr>\n",
       "    <tr>\n",
       "      <th>14</th>\n",
       "      <td>Matern32</td>\n",
       "      <td>Gaussian</td>\n",
       "      <td>93.86</td>\n",
       "      <td>$f(t, S(t)*I(t), Home(t)*Work(t)*Recreational(t))$</td>\n",
       "      <td>15</td>\n",
       "      <td>-0.0087</td>\n",
       "      <td>64.122108</td>\n",
       "      <td>2020-02-26 to 2020-07-27</td>\n",
       "      <td>304</td>\n",
       "      <td>2020-02-21 to 2020-07-27</td>\n",
       "      <td>2298</td>\n",
       "      <td>0.0039</td>\n",
       "      <td>0.0053</td>\n",
       "      <td>0.0348</td>\n",
       "      <td>0.0402</td>\n",
       "      <td>-0.0109</td>\n",
       "      <td>0.0002</td>\n",
       "    </tr>\n",
       "    <tr>\n",
       "      <th>23</th>\n",
       "      <td>Product</td>\n",
       "      <td>Gaussian</td>\n",
       "      <td>-130.38</td>\n",
       "      <td>$f(t, I(t), Home(t))$</td>\n",
       "      <td>15</td>\n",
       "      <td>0.0092</td>\n",
       "      <td>138.136799</td>\n",
       "      <td>2020-02-26 to 2020-07-27</td>\n",
       "      <td>304</td>\n",
       "      <td>2020-02-21 to 2020-07-27</td>\n",
       "      <td>2298</td>\n",
       "      <td>0.0030</td>\n",
       "      <td>0.0059</td>\n",
       "      <td>0.0185</td>\n",
       "      <td>0.0527</td>\n",
       "      <td>0.0079</td>\n",
       "      <td>-0.0422</td>\n",
       "    </tr>\n",
       "    <tr>\n",
       "      <th>13</th>\n",
       "      <td>Product</td>\n",
       "      <td>Gaussian</td>\n",
       "      <td>-690.63</td>\n",
       "      <td>$f(t, S(t)^p, I(t)^p, Home(t)^p, Work(t)^p, Recreational(t)^p$</td>\n",
       "      <td>15</td>\n",
       "      <td>-0.0155</td>\n",
       "      <td>146.623824</td>\n",
       "      <td>2020-02-26 to 2020-07-27</td>\n",
       "      <td>304</td>\n",
       "      <td>2020-02-21 to 2020-07-27</td>\n",
       "      <td>2298</td>\n",
       "      <td>0.0157</td>\n",
       "      <td>0.0270</td>\n",
       "      <td>0.0573</td>\n",
       "      <td>-0.0701</td>\n",
       "      <td>-0.0159</td>\n",
       "      <td>0.0084</td>\n",
       "    </tr>\n",
       "    <tr>\n",
       "      <th>16</th>\n",
       "      <td>Sum</td>\n",
       "      <td>Gaussian</td>\n",
       "      <td>163.43</td>\n",
       "      <td>$f(t, S(t)^p, I(t)^p, Home(t)^p, Work(t)^p, Recreational(t)^p$</td>\n",
       "      <td>15</td>\n",
       "      <td>0.0236</td>\n",
       "      <td>153.240723</td>\n",
       "      <td>2020-02-26 to 2020-07-27</td>\n",
       "      <td>304</td>\n",
       "      <td>2020-02-21 to 2020-07-27</td>\n",
       "      <td>2298</td>\n",
       "      <td>0.0061</td>\n",
       "      <td>0.0090</td>\n",
       "      <td>-0.0373</td>\n",
       "      <td>0.0499</td>\n",
       "      <td>0.0244</td>\n",
       "      <td>0.0003</td>\n",
       "    </tr>\n",
       "    <tr>\n",
       "      <th>8</th>\n",
       "      <td>Product</td>\n",
       "      <td>Gaussian</td>\n",
       "      <td>-517.18</td>\n",
       "      <td>$f(S(t)+I(t))$</td>\n",
       "      <td>15</td>\n",
       "      <td>-0.0279</td>\n",
       "      <td>137.429900</td>\n",
       "      <td>2020-02-26 to 2020-07-27</td>\n",
       "      <td>304</td>\n",
       "      <td>2020-02-21 to 2020-07-27</td>\n",
       "      <td>2298</td>\n",
       "      <td>0.0010</td>\n",
       "      <td>0.0014</td>\n",
       "      <td>-0.0039</td>\n",
       "      <td>0.0350</td>\n",
       "      <td>-0.0300</td>\n",
       "      <td>0.0378</td>\n",
       "    </tr>\n",
       "    <tr>\n",
       "      <th>4</th>\n",
       "      <td>Product</td>\n",
       "      <td>Gaussian</td>\n",
       "      <td>145.45</td>\n",
       "      <td>$f(t, S(t)*I(t), Home(t))$</td>\n",
       "      <td>15</td>\n",
       "      <td>0.0282</td>\n",
       "      <td>142.343074</td>\n",
       "      <td>2020-02-26 to 2020-07-27</td>\n",
       "      <td>304</td>\n",
       "      <td>2020-02-21 to 2020-07-27</td>\n",
       "      <td>2298</td>\n",
       "      <td>0.0021</td>\n",
       "      <td>0.0051</td>\n",
       "      <td>0.0459</td>\n",
       "      <td>0.0525</td>\n",
       "      <td>0.0272</td>\n",
       "      <td>-0.0132</td>\n",
       "    </tr>\n",
       "    <tr>\n",
       "      <th>2</th>\n",
       "      <td>Matern32</td>\n",
       "      <td>Gaussian</td>\n",
       "      <td>161.95</td>\n",
       "      <td>$f(t, S(t)*I(t), Home(t))$</td>\n",
       "      <td>15</td>\n",
       "      <td>0.0330</td>\n",
       "      <td>62.786609</td>\n",
       "      <td>2020-02-26 to 2020-07-27</td>\n",
       "      <td>304</td>\n",
       "      <td>2020-02-21 to 2020-07-27</td>\n",
       "      <td>2298</td>\n",
       "      <td>0.0025</td>\n",
       "      <td>0.0053</td>\n",
       "      <td>0.0415</td>\n",
       "      <td>0.0463</td>\n",
       "      <td>0.0325</td>\n",
       "      <td>-0.0000</td>\n",
       "    </tr>\n",
       "    <tr>\n",
       "      <th>11</th>\n",
       "      <td>Product</td>\n",
       "      <td>Gaussian</td>\n",
       "      <td>86.91</td>\n",
       "      <td>$f(t, S(t)*I(t), Home(t)*Work(t)*Recreational(t)$</td>\n",
       "      <td>15</td>\n",
       "      <td>0.0415</td>\n",
       "      <td>139.630058</td>\n",
       "      <td>2020-02-26 to 2020-07-27</td>\n",
       "      <td>304</td>\n",
       "      <td>2020-02-21 to 2020-07-27</td>\n",
       "      <td>2298</td>\n",
       "      <td>0.0024</td>\n",
       "      <td>0.0053</td>\n",
       "      <td>0.0611</td>\n",
       "      <td>0.0218</td>\n",
       "      <td>0.0415</td>\n",
       "      <td>-0.0142</td>\n",
       "    </tr>\n",
       "    <tr>\n",
       "      <th>3</th>\n",
       "      <td>Matern32</td>\n",
       "      <td>Gaussian</td>\n",
       "      <td>114.69</td>\n",
       "      <td>$f(t, S(t)^p, I(t)^p)$</td>\n",
       "      <td>15</td>\n",
       "      <td>0.0480</td>\n",
       "      <td>63.718287</td>\n",
       "      <td>2020-02-26 to 2020-07-27</td>\n",
       "      <td>304</td>\n",
       "      <td>2020-02-21 to 2020-07-27</td>\n",
       "      <td>2298</td>\n",
       "      <td>0.0062</td>\n",
       "      <td>0.0082</td>\n",
       "      <td>-0.0378</td>\n",
       "      <td>0.0303</td>\n",
       "      <td>0.0505</td>\n",
       "      <td>0.0002</td>\n",
       "    </tr>\n",
       "    <tr>\n",
       "      <th>29</th>\n",
       "      <td>Matern32</td>\n",
       "      <td>Gaussian</td>\n",
       "      <td>383.72</td>\n",
       "      <td>$f(t, S(t)^p, I(t)^p, Home(t)^p, Work(t)^p, Recreational(t)^p)$</td>\n",
       "      <td>15</td>\n",
       "      <td>-0.0496</td>\n",
       "      <td>83.781476</td>\n",
       "      <td>2020-02-26 to 2020-07-27</td>\n",
       "      <td>304</td>\n",
       "      <td>2020-02-21 to 2020-07-27</td>\n",
       "      <td>2298</td>\n",
       "      <td>0.0065</td>\n",
       "      <td>0.0091</td>\n",
       "      <td>0.0657</td>\n",
       "      <td>0.0546</td>\n",
       "      <td>-0.0549</td>\n",
       "      <td>-0.0008</td>\n",
       "    </tr>\n",
       "    <tr>\n",
       "      <th>24</th>\n",
       "      <td>Sum</td>\n",
       "      <td>Gaussian</td>\n",
       "      <td>-115.25</td>\n",
       "      <td>$f(t, S(t)+I(t))$</td>\n",
       "      <td>15</td>\n",
       "      <td>0.0505</td>\n",
       "      <td>135.031370</td>\n",
       "      <td>2020-02-26 to 2020-07-27</td>\n",
       "      <td>304</td>\n",
       "      <td>2020-02-21 to 2020-07-27</td>\n",
       "      <td>2298</td>\n",
       "      <td>0.0013</td>\n",
       "      <td>0.0019</td>\n",
       "      <td>0.0342</td>\n",
       "      <td>-0.0842</td>\n",
       "      <td>0.0542</td>\n",
       "      <td>-0.0000</td>\n",
       "    </tr>\n",
       "    <tr>\n",
       "      <th>34</th>\n",
       "      <td>Matern32</td>\n",
       "      <td>Gaussian</td>\n",
       "      <td>151.91</td>\n",
       "      <td>$f(t, S(t), I(t))$</td>\n",
       "      <td>15</td>\n",
       "      <td>0.0555</td>\n",
       "      <td>62.487989</td>\n",
       "      <td>2020-02-26 to 2020-07-27</td>\n",
       "      <td>304</td>\n",
       "      <td>2020-02-21 to 2020-07-27</td>\n",
       "      <td>2298</td>\n",
       "      <td>0.0039</td>\n",
       "      <td>0.0054</td>\n",
       "      <td>-0.0115</td>\n",
       "      <td>0.0737</td>\n",
       "      <td>0.0567</td>\n",
       "      <td>0.0000</td>\n",
       "    </tr>\n",
       "    <tr>\n",
       "      <th>15</th>\n",
       "      <td>Matern32</td>\n",
       "      <td>Gaussian</td>\n",
       "      <td>-153.20</td>\n",
       "      <td>$f(t, S(t)+I(t))$</td>\n",
       "      <td>15</td>\n",
       "      <td>0.0568</td>\n",
       "      <td>62.222836</td>\n",
       "      <td>2020-02-26 to 2020-07-27</td>\n",
       "      <td>304</td>\n",
       "      <td>2020-02-21 to 2020-07-27</td>\n",
       "      <td>2298</td>\n",
       "      <td>0.0031</td>\n",
       "      <td>0.0039</td>\n",
       "      <td>0.0895</td>\n",
       "      <td>-0.1001</td>\n",
       "      <td>0.0598</td>\n",
       "      <td>-0.0001</td>\n",
       "    </tr>\n",
       "    <tr>\n",
       "      <th>21</th>\n",
       "      <td>Matern32</td>\n",
       "      <td>Gaussian</td>\n",
       "      <td>-55.90</td>\n",
       "      <td>$f(t, S(t)*I(t))$</td>\n",
       "      <td>15</td>\n",
       "      <td>0.0667</td>\n",
       "      <td>61.157449</td>\n",
       "      <td>2020-02-26 to 2020-07-27</td>\n",
       "      <td>304</td>\n",
       "      <td>2020-02-21 to 2020-07-27</td>\n",
       "      <td>2298</td>\n",
       "      <td>0.0032</td>\n",
       "      <td>0.0039</td>\n",
       "      <td>0.0584</td>\n",
       "      <td>0.0128</td>\n",
       "      <td>0.0682</td>\n",
       "      <td>0.0001</td>\n",
       "    </tr>\n",
       "    <tr>\n",
       "      <th>10</th>\n",
       "      <td>Sum</td>\n",
       "      <td>Gaussian</td>\n",
       "      <td>-440.50</td>\n",
       "      <td>$f(S(t)+I(t))$</td>\n",
       "      <td>15</td>\n",
       "      <td>-0.0691</td>\n",
       "      <td>131.637314</td>\n",
       "      <td>2020-02-26 to 2020-07-27</td>\n",
       "      <td>304</td>\n",
       "      <td>2020-02-21 to 2020-07-27</td>\n",
       "      <td>2298</td>\n",
       "      <td>0.0037</td>\n",
       "      <td>0.0035</td>\n",
       "      <td>-0.0509</td>\n",
       "      <td>-0.0238</td>\n",
       "      <td>-0.0706</td>\n",
       "      <td>0.0000</td>\n",
       "    </tr>\n",
       "    <tr>\n",
       "      <th>1</th>\n",
       "      <td>Matern32</td>\n",
       "      <td>Gaussian</td>\n",
       "      <td>407.14</td>\n",
       "      <td>$f(t, S(t)*I(t), Home(t), Work(t), Recreational(t))$</td>\n",
       "      <td>15</td>\n",
       "      <td>-0.0756</td>\n",
       "      <td>81.276554</td>\n",
       "      <td>2020-02-26 to 2020-07-27</td>\n",
       "      <td>304</td>\n",
       "      <td>2020-02-21 to 2020-07-27</td>\n",
       "      <td>2298</td>\n",
       "      <td>0.0053</td>\n",
       "      <td>0.0080</td>\n",
       "      <td>0.0982</td>\n",
       "      <td>0.0889</td>\n",
       "      <td>-0.0838</td>\n",
       "      <td>-0.0004</td>\n",
       "    </tr>\n",
       "    <tr>\n",
       "      <th>5</th>\n",
       "      <td>Matern32</td>\n",
       "      <td>Gaussian</td>\n",
       "      <td>-468.67</td>\n",
       "      <td>$f(S(t)+I(t))$</td>\n",
       "      <td>15</td>\n",
       "      <td>-0.0771</td>\n",
       "      <td>59.479092</td>\n",
       "      <td>2020-02-26 to 2020-07-27</td>\n",
       "      <td>304</td>\n",
       "      <td>2020-02-21 to 2020-07-27</td>\n",
       "      <td>2298</td>\n",
       "      <td>0.0025</td>\n",
       "      <td>0.0023</td>\n",
       "      <td>0.0211</td>\n",
       "      <td>0.0527</td>\n",
       "      <td>-0.0826</td>\n",
       "      <td>-0.0001</td>\n",
       "    </tr>\n",
       "    <tr>\n",
       "      <th>27</th>\n",
       "      <td>Product</td>\n",
       "      <td>Gaussian</td>\n",
       "      <td>-378.59</td>\n",
       "      <td>$f(S(t), I(t))$</td>\n",
       "      <td>15</td>\n",
       "      <td>0.0889</td>\n",
       "      <td>130.957977</td>\n",
       "      <td>2020-02-26 to 2020-07-27</td>\n",
       "      <td>304</td>\n",
       "      <td>2020-02-21 to 2020-07-27</td>\n",
       "      <td>2298</td>\n",
       "      <td>0.0022</td>\n",
       "      <td>0.0051</td>\n",
       "      <td>0.0282</td>\n",
       "      <td>0.0675</td>\n",
       "      <td>0.0909</td>\n",
       "      <td>0.0382</td>\n",
       "    </tr>\n",
       "    <tr>\n",
       "      <th>9</th>\n",
       "      <td>Sum</td>\n",
       "      <td>Gaussian</td>\n",
       "      <td>180.09</td>\n",
       "      <td>$f(t, S(t)^p, I(t)^p)$</td>\n",
       "      <td>15</td>\n",
       "      <td>0.0938</td>\n",
       "      <td>142.662537</td>\n",
       "      <td>2020-02-26 to 2020-07-27</td>\n",
       "      <td>304</td>\n",
       "      <td>2020-02-21 to 2020-07-27</td>\n",
       "      <td>2298</td>\n",
       "      <td>0.0024</td>\n",
       "      <td>0.0038</td>\n",
       "      <td>-0.0627</td>\n",
       "      <td>0.0601</td>\n",
       "      <td>0.0984</td>\n",
       "      <td>0.0001</td>\n",
       "    </tr>\n",
       "    <tr>\n",
       "      <th>30</th>\n",
       "      <td>Sum</td>\n",
       "      <td>Gaussian</td>\n",
       "      <td>-339.88</td>\n",
       "      <td>$f(S(t), I(t))$</td>\n",
       "      <td>15</td>\n",
       "      <td>0.1015</td>\n",
       "      <td>137.959464</td>\n",
       "      <td>2020-02-26 to 2020-07-27</td>\n",
       "      <td>304</td>\n",
       "      <td>2020-02-21 to 2020-07-27</td>\n",
       "      <td>2298</td>\n",
       "      <td>0.0012</td>\n",
       "      <td>0.0018</td>\n",
       "      <td>0.0312</td>\n",
       "      <td>0.0588</td>\n",
       "      <td>0.1042</td>\n",
       "      <td>0.0000</td>\n",
       "    </tr>\n",
       "    <tr>\n",
       "      <th>19</th>\n",
       "      <td>Product</td>\n",
       "      <td>Gaussian</td>\n",
       "      <td>-128.59</td>\n",
       "      <td>$f(t, S(t)+I(t))$</td>\n",
       "      <td>15</td>\n",
       "      <td>0.1046</td>\n",
       "      <td>137.499542</td>\n",
       "      <td>2020-02-26 to 2020-07-27</td>\n",
       "      <td>304</td>\n",
       "      <td>2020-02-21 to 2020-07-27</td>\n",
       "      <td>2298</td>\n",
       "      <td>0.0014</td>\n",
       "      <td>0.0018</td>\n",
       "      <td>0.0285</td>\n",
       "      <td>-0.0613</td>\n",
       "      <td>0.1104</td>\n",
       "      <td>0.0176</td>\n",
       "    </tr>\n",
       "    <tr>\n",
       "      <th>6</th>\n",
       "      <td>Product</td>\n",
       "      <td>Gaussian</td>\n",
       "      <td>58.20</td>\n",
       "      <td>$f(t, S(t)^p, I(t)^p)$</td>\n",
       "      <td>15</td>\n",
       "      <td>0.1102</td>\n",
       "      <td>139.782675</td>\n",
       "      <td>2020-02-26 to 2020-07-27</td>\n",
       "      <td>304</td>\n",
       "      <td>2020-02-21 to 2020-07-27</td>\n",
       "      <td>2298</td>\n",
       "      <td>0.0040</td>\n",
       "      <td>0.0052</td>\n",
       "      <td>-0.1715</td>\n",
       "      <td>0.0402</td>\n",
       "      <td>0.1187</td>\n",
       "      <td>0.0059</td>\n",
       "    </tr>\n",
       "    <tr>\n",
       "      <th>12</th>\n",
       "      <td>Sum</td>\n",
       "      <td>Gaussian</td>\n",
       "      <td>62.41</td>\n",
       "      <td>$f(t, S(t)*I(t), Home(t)*Work(t)*Recreational(t)$</td>\n",
       "      <td>15</td>\n",
       "      <td>0.1199</td>\n",
       "      <td>141.502381</td>\n",
       "      <td>2020-02-26 to 2020-07-27</td>\n",
       "      <td>304</td>\n",
       "      <td>2020-02-21 to 2020-07-27</td>\n",
       "      <td>2298</td>\n",
       "      <td>0.0023</td>\n",
       "      <td>0.0032</td>\n",
       "      <td>0.0891</td>\n",
       "      <td>0.0334</td>\n",
       "      <td>0.1228</td>\n",
       "      <td>-0.0002</td>\n",
       "    </tr>\n",
       "    <tr>\n",
       "      <th>0</th>\n",
       "      <td>Sum</td>\n",
       "      <td>Gaussian</td>\n",
       "      <td>202.39</td>\n",
       "      <td>$f(t, S(t), I(t))$</td>\n",
       "      <td>15</td>\n",
       "      <td>0.1233</td>\n",
       "      <td>136.589060</td>\n",
       "      <td>2020-02-26 to 2020-07-27</td>\n",
       "      <td>304</td>\n",
       "      <td>2020-02-21 to 2020-07-27</td>\n",
       "      <td>2298</td>\n",
       "      <td>0.0022</td>\n",
       "      <td>0.0037</td>\n",
       "      <td>-0.0874</td>\n",
       "      <td>-0.0072</td>\n",
       "      <td>0.1315</td>\n",
       "      <td>0.0003</td>\n",
       "    </tr>\n",
       "    <tr>\n",
       "      <th>28</th>\n",
       "      <td>Sum</td>\n",
       "      <td>Gaussian</td>\n",
       "      <td>-0.01</td>\n",
       "      <td>$f(t, I(t), Home(t))$</td>\n",
       "      <td>15</td>\n",
       "      <td>0.1270</td>\n",
       "      <td>139.217421</td>\n",
       "      <td>2020-02-26 to 2020-07-27</td>\n",
       "      <td>304</td>\n",
       "      <td>2020-02-21 to 2020-07-27</td>\n",
       "      <td>2298</td>\n",
       "      <td>0.0031</td>\n",
       "      <td>0.0045</td>\n",
       "      <td>0.0530</td>\n",
       "      <td>0.0619</td>\n",
       "      <td>0.1304</td>\n",
       "      <td>0.0001</td>\n",
       "    </tr>\n",
       "    <tr>\n",
       "      <th>39</th>\n",
       "      <td>Product</td>\n",
       "      <td>Gaussian</td>\n",
       "      <td>159.96</td>\n",
       "      <td>$f(t, S(t), I(t))$</td>\n",
       "      <td>15</td>\n",
       "      <td>0.1288</td>\n",
       "      <td>137.600429</td>\n",
       "      <td>2020-02-26 to 2020-07-27</td>\n",
       "      <td>304</td>\n",
       "      <td>2020-02-21 to 2020-07-27</td>\n",
       "      <td>2298</td>\n",
       "      <td>0.0033</td>\n",
       "      <td>0.0045</td>\n",
       "      <td>-0.0237</td>\n",
       "      <td>0.0241</td>\n",
       "      <td>0.1350</td>\n",
       "      <td>0.0015</td>\n",
       "    </tr>\n",
       "    <tr>\n",
       "      <th>7</th>\n",
       "      <td>Sum</td>\n",
       "      <td>Gaussian</td>\n",
       "      <td>123.04</td>\n",
       "      <td>$f(t, S(t)*I(t), Home(t))$</td>\n",
       "      <td>15</td>\n",
       "      <td>0.1317</td>\n",
       "      <td>140.932052</td>\n",
       "      <td>2020-02-26 to 2020-07-27</td>\n",
       "      <td>304</td>\n",
       "      <td>2020-02-21 to 2020-07-27</td>\n",
       "      <td>2298</td>\n",
       "      <td>0.0017</td>\n",
       "      <td>0.0027</td>\n",
       "      <td>0.0952</td>\n",
       "      <td>0.0479</td>\n",
       "      <td>0.1346</td>\n",
       "      <td>-0.0002</td>\n",
       "    </tr>\n",
       "    <tr>\n",
       "      <th>25</th>\n",
       "      <td>Sum</td>\n",
       "      <td>Gaussian</td>\n",
       "      <td>-361.59</td>\n",
       "      <td>$f(S(t)*I(t))$</td>\n",
       "      <td>15</td>\n",
       "      <td>-0.1350</td>\n",
       "      <td>131.449174</td>\n",
       "      <td>2020-02-26 to 2020-07-27</td>\n",
       "      <td>304</td>\n",
       "      <td>2020-02-21 to 2020-07-27</td>\n",
       "      <td>2298</td>\n",
       "      <td>0.0011</td>\n",
       "      <td>0.0011</td>\n",
       "      <td>0.0123</td>\n",
       "      <td>0.0688</td>\n",
       "      <td>-0.1435</td>\n",
       "      <td>0.0000</td>\n",
       "    </tr>\n",
       "    <tr>\n",
       "      <th>22</th>\n",
       "      <td>Product</td>\n",
       "      <td>Gaussian</td>\n",
       "      <td>-362.69</td>\n",
       "      <td>$f(S(t)*I(t))$</td>\n",
       "      <td>15</td>\n",
       "      <td>-0.1453</td>\n",
       "      <td>133.925741</td>\n",
       "      <td>2020-02-26 to 2020-07-27</td>\n",
       "      <td>304</td>\n",
       "      <td>2020-02-21 to 2020-07-27</td>\n",
       "      <td>2298</td>\n",
       "      <td>0.0012</td>\n",
       "      <td>0.0009</td>\n",
       "      <td>-0.0042</td>\n",
       "      <td>0.0443</td>\n",
       "      <td>-0.1533</td>\n",
       "      <td>0.0055</td>\n",
       "    </tr>\n",
       "    <tr>\n",
       "      <th>18</th>\n",
       "      <td>Matern32</td>\n",
       "      <td>Gaussian</td>\n",
       "      <td>-17.04</td>\n",
       "      <td>$f(t, I(t), Home(t))$</td>\n",
       "      <td>15</td>\n",
       "      <td>0.1475</td>\n",
       "      <td>61.771013</td>\n",
       "      <td>2020-02-26 to 2020-07-27</td>\n",
       "      <td>304</td>\n",
       "      <td>2020-02-21 to 2020-07-27</td>\n",
       "      <td>2298</td>\n",
       "      <td>0.0051</td>\n",
       "      <td>0.0052</td>\n",
       "      <td>0.0206</td>\n",
       "      <td>0.0461</td>\n",
       "      <td>0.1531</td>\n",
       "      <td>0.0000</td>\n",
       "    </tr>\n",
       "    <tr>\n",
       "      <th>17</th>\n",
       "      <td>Matern32</td>\n",
       "      <td>Gaussian</td>\n",
       "      <td>-361.26</td>\n",
       "      <td>$f(S(t)*I(t))$</td>\n",
       "      <td>15</td>\n",
       "      <td>-0.1492</td>\n",
       "      <td>59.555316</td>\n",
       "      <td>2020-02-26 to 2020-07-27</td>\n",
       "      <td>304</td>\n",
       "      <td>2020-02-21 to 2020-07-27</td>\n",
       "      <td>2298</td>\n",
       "      <td>0.0025</td>\n",
       "      <td>0.0018</td>\n",
       "      <td>0.0017</td>\n",
       "      <td>0.0581</td>\n",
       "      <td>-0.1579</td>\n",
       "      <td>-0.0000</td>\n",
       "    </tr>\n",
       "    <tr>\n",
       "      <th>26</th>\n",
       "      <td>Product</td>\n",
       "      <td>Gaussian</td>\n",
       "      <td>-49.30</td>\n",
       "      <td>$f(t, S(t)*I(t))$</td>\n",
       "      <td>15</td>\n",
       "      <td>0.1509</td>\n",
       "      <td>138.399394</td>\n",
       "      <td>2020-02-26 to 2020-07-27</td>\n",
       "      <td>304</td>\n",
       "      <td>2020-02-21 to 2020-07-27</td>\n",
       "      <td>2298</td>\n",
       "      <td>0.0011</td>\n",
       "      <td>0.0014</td>\n",
       "      <td>0.0040</td>\n",
       "      <td>0.0294</td>\n",
       "      <td>0.1574</td>\n",
       "      <td>0.0010</td>\n",
       "    </tr>\n",
       "    <tr>\n",
       "      <th>31</th>\n",
       "      <td>Sum</td>\n",
       "      <td>Gaussian</td>\n",
       "      <td>-49.33</td>\n",
       "      <td>$f(t, S(t)*I(t))$</td>\n",
       "      <td>15</td>\n",
       "      <td>0.1617</td>\n",
       "      <td>136.579711</td>\n",
       "      <td>2020-02-26 to 2020-07-27</td>\n",
       "      <td>304</td>\n",
       "      <td>2020-02-21 to 2020-07-27</td>\n",
       "      <td>2298</td>\n",
       "      <td>0.0008</td>\n",
       "      <td>0.0014</td>\n",
       "      <td>0.0644</td>\n",
       "      <td>-0.0087</td>\n",
       "      <td>0.1681</td>\n",
       "      <td>-0.0001</td>\n",
       "    </tr>\n",
       "    <tr>\n",
       "      <th>36</th>\n",
       "      <td>Product</td>\n",
       "      <td>Gaussian</td>\n",
       "      <td>-404.54</td>\n",
       "      <td>$f(S(t)I(t), WKD(t), HOME(t), WORK(t), RCR(t))$</td>\n",
       "      <td>15</td>\n",
       "      <td>0.1700</td>\n",
       "      <td>109.784286</td>\n",
       "      <td>2020-02-26 to 2020-07-27</td>\n",
       "      <td>304</td>\n",
       "      <td>2020-02-21 to 2020-07-27</td>\n",
       "      <td>2298</td>\n",
       "      <td>0.0041</td>\n",
       "      <td>0.0062</td>\n",
       "      <td>0.1307</td>\n",
       "      <td>0.1642</td>\n",
       "      <td>0.1710</td>\n",
       "      <td>0.0003</td>\n",
       "    </tr>\n",
       "    <tr>\n",
       "      <th>33</th>\n",
       "      <td>Product</td>\n",
       "      <td>Gaussian</td>\n",
       "      <td>-2411.46</td>\n",
       "      <td>$f(t)$</td>\n",
       "      <td>15</td>\n",
       "      <td>-0.1927</td>\n",
       "      <td>102.599642</td>\n",
       "      <td>2020-02-26 to 2020-07-27</td>\n",
       "      <td>304</td>\n",
       "      <td>2020-02-21 to 2020-07-27</td>\n",
       "      <td>2298</td>\n",
       "      <td>0.0022</td>\n",
       "      <td>0.0023</td>\n",
       "      <td>-0.0214</td>\n",
       "      <td>-0.2878</td>\n",
       "      <td>-0.1945</td>\n",
       "      <td>0.0623</td>\n",
       "    </tr>\n",
       "    <tr>\n",
       "      <th>37</th>\n",
       "      <td>Sum</td>\n",
       "      <td>Gaussian</td>\n",
       "      <td>-2402.86</td>\n",
       "      <td>$f(t)$</td>\n",
       "      <td>15</td>\n",
       "      <td>-0.2561</td>\n",
       "      <td>132.508098</td>\n",
       "      <td>2020-02-26 to 2020-07-27</td>\n",
       "      <td>304</td>\n",
       "      <td>2020-02-21 to 2020-07-27</td>\n",
       "      <td>2298</td>\n",
       "      <td>0.0021</td>\n",
       "      <td>0.0022</td>\n",
       "      <td>0.0068</td>\n",
       "      <td>-0.3428</td>\n",
       "      <td>-0.2604</td>\n",
       "      <td>-0.0001</td>\n",
       "    </tr>\n",
       "    <tr>\n",
       "      <th>32</th>\n",
       "      <td>Matern32</td>\n",
       "      <td>Gaussian</td>\n",
       "      <td>-2405.22</td>\n",
       "      <td>$f(t)$</td>\n",
       "      <td>15</td>\n",
       "      <td>-0.2568</td>\n",
       "      <td>63.954240</td>\n",
       "      <td>2020-02-26 to 2020-07-27</td>\n",
       "      <td>304</td>\n",
       "      <td>2020-02-21 to 2020-07-27</td>\n",
       "      <td>2298</td>\n",
       "      <td>0.0030</td>\n",
       "      <td>0.0031</td>\n",
       "      <td>-0.0271</td>\n",
       "      <td>-0.3662</td>\n",
       "      <td>-0.2597</td>\n",
       "      <td>-0.0003</td>\n",
       "    </tr>\n",
       "    <tr>\n",
       "      <th>20</th>\n",
       "      <td>Matern32</td>\n",
       "      <td>Gaussian</td>\n",
       "      <td>-301.55</td>\n",
       "      <td>$f(S(t), I(t))$</td>\n",
       "      <td>15</td>\n",
       "      <td>-0.3397</td>\n",
       "      <td>66.630419</td>\n",
       "      <td>2020-02-26 to 2020-07-27</td>\n",
       "      <td>304</td>\n",
       "      <td>2020-02-21 to 2020-07-27</td>\n",
       "      <td>2298</td>\n",
       "      <td>0.0044</td>\n",
       "      <td>0.0065</td>\n",
       "      <td>-0.0113</td>\n",
       "      <td>0.0002</td>\n",
       "      <td>-0.3558</td>\n",
       "      <td>-0.0006</td>\n",
       "    </tr>\n",
       "  </tbody>\n",
       "</table>\n",
       "</div>"
      ],
      "text/plain": [
       "      kernel likelihood      mle  \\\n",
       "38  Sum       Gaussian   432.31    \n",
       "35  Product   Gaussian   395.04    \n",
       "14  Matern32  Gaussian   93.86     \n",
       "23  Product   Gaussian  -130.38    \n",
       "13  Product   Gaussian  -690.63    \n",
       "16  Sum       Gaussian   163.43    \n",
       "8   Product   Gaussian  -517.18    \n",
       "4   Product   Gaussian   145.45    \n",
       "2   Matern32  Gaussian   161.95    \n",
       "11  Product   Gaussian   86.91     \n",
       "3   Matern32  Gaussian   114.69    \n",
       "29  Matern32  Gaussian   383.72    \n",
       "24  Sum       Gaussian  -115.25    \n",
       "34  Matern32  Gaussian   151.91    \n",
       "15  Matern32  Gaussian  -153.20    \n",
       "21  Matern32  Gaussian  -55.90     \n",
       "10  Sum       Gaussian  -440.50    \n",
       "1   Matern32  Gaussian   407.14    \n",
       "5   Matern32  Gaussian  -468.67    \n",
       "27  Product   Gaussian  -378.59    \n",
       "9   Sum       Gaussian   180.09    \n",
       "30  Sum       Gaussian  -339.88    \n",
       "19  Product   Gaussian  -128.59    \n",
       "6   Product   Gaussian   58.20     \n",
       "12  Sum       Gaussian   62.41     \n",
       "0   Sum       Gaussian   202.39    \n",
       "28  Sum       Gaussian  -0.01      \n",
       "39  Product   Gaussian   159.96    \n",
       "7   Sum       Gaussian   123.04    \n",
       "25  Sum       Gaussian  -361.59    \n",
       "22  Product   Gaussian  -362.69    \n",
       "18  Matern32  Gaussian  -17.04     \n",
       "17  Matern32  Gaussian  -361.26    \n",
       "26  Product   Gaussian  -49.30     \n",
       "31  Sum       Gaussian  -49.33     \n",
       "36  Product   Gaussian  -404.54    \n",
       "33  Product   Gaussian  -2411.46   \n",
       "37  Sum       Gaussian  -2402.86   \n",
       "32  Matern32  Gaussian  -2405.22   \n",
       "20  Matern32  Gaussian  -301.55    \n",
       "\n",
       "                                                              model  \\\n",
       "38  $f(t, S(t), I(t), Home(t), Work(t), Recreational(t)$              \n",
       "35  $f(t, S(t), I(t), Home(t), Work(t), Recreational(t)$              \n",
       "14  $f(t, S(t)*I(t), Home(t)*Work(t)*Recreational(t))$                \n",
       "23  $f(t, I(t), Home(t))$                                             \n",
       "13  $f(t, S(t)^p, I(t)^p, Home(t)^p, Work(t)^p, Recreational(t)^p$    \n",
       "16  $f(t, S(t)^p, I(t)^p, Home(t)^p, Work(t)^p, Recreational(t)^p$    \n",
       "8   $f(S(t)+I(t))$                                                    \n",
       "4   $f(t, S(t)*I(t), Home(t))$                                        \n",
       "2   $f(t, S(t)*I(t), Home(t))$                                        \n",
       "11  $f(t, S(t)*I(t), Home(t)*Work(t)*Recreational(t)$                 \n",
       "3   $f(t, S(t)^p, I(t)^p)$                                            \n",
       "29  $f(t, S(t)^p, I(t)^p, Home(t)^p, Work(t)^p, Recreational(t)^p)$   \n",
       "24  $f(t, S(t)+I(t))$                                                 \n",
       "34  $f(t, S(t), I(t))$                                                \n",
       "15  $f(t, S(t)+I(t))$                                                 \n",
       "21  $f(t, S(t)*I(t))$                                                 \n",
       "10  $f(S(t)+I(t))$                                                    \n",
       "1   $f(t, S(t)*I(t), Home(t), Work(t), Recreational(t))$              \n",
       "5   $f(S(t)+I(t))$                                                    \n",
       "27  $f(S(t), I(t))$                                                   \n",
       "9   $f(t, S(t)^p, I(t)^p)$                                            \n",
       "30  $f(S(t), I(t))$                                                   \n",
       "19  $f(t, S(t)+I(t))$                                                 \n",
       "6   $f(t, S(t)^p, I(t)^p)$                                            \n",
       "12  $f(t, S(t)*I(t), Home(t)*Work(t)*Recreational(t)$                 \n",
       "0   $f(t, S(t), I(t))$                                                \n",
       "28  $f(t, I(t), Home(t))$                                             \n",
       "39  $f(t, S(t), I(t))$                                                \n",
       "7   $f(t, S(t)*I(t), Home(t))$                                        \n",
       "25  $f(S(t)*I(t))$                                                    \n",
       "22  $f(S(t)*I(t))$                                                    \n",
       "18  $f(t, I(t), Home(t))$                                             \n",
       "17  $f(S(t)*I(t))$                                                    \n",
       "26  $f(t, S(t)*I(t))$                                                 \n",
       "31  $f(t, S(t)*I(t))$                                                 \n",
       "36  $f(S(t)I(t), WKD(t), HOME(t), WORK(t), RCR(t))$                   \n",
       "33  $f(t)$                                                            \n",
       "37  $f(t)$                                                            \n",
       "32  $f(t)$                                                            \n",
       "20  $f(S(t), I(t))$                                                   \n",
       "\n",
       "    n_inducing_points  out_sample    run_time                test_dates  \\\n",
       "38  15                -0.0060      141.031244  2020-02-26 to 2020-07-27   \n",
       "35  15                 0.0069      139.857041  2020-02-26 to 2020-07-27   \n",
       "14  15                -0.0087      64.122108   2020-02-26 to 2020-07-27   \n",
       "23  15                 0.0092      138.136799  2020-02-26 to 2020-07-27   \n",
       "13  15                -0.0155      146.623824  2020-02-26 to 2020-07-27   \n",
       "16  15                 0.0236      153.240723  2020-02-26 to 2020-07-27   \n",
       "8   15                -0.0279      137.429900  2020-02-26 to 2020-07-27   \n",
       "4   15                 0.0282      142.343074  2020-02-26 to 2020-07-27   \n",
       "2   15                 0.0330      62.786609   2020-02-26 to 2020-07-27   \n",
       "11  15                 0.0415      139.630058  2020-02-26 to 2020-07-27   \n",
       "3   15                 0.0480      63.718287   2020-02-26 to 2020-07-27   \n",
       "29  15                -0.0496      83.781476   2020-02-26 to 2020-07-27   \n",
       "24  15                 0.0505      135.031370  2020-02-26 to 2020-07-27   \n",
       "34  15                 0.0555      62.487989   2020-02-26 to 2020-07-27   \n",
       "15  15                 0.0568      62.222836   2020-02-26 to 2020-07-27   \n",
       "21  15                 0.0667      61.157449   2020-02-26 to 2020-07-27   \n",
       "10  15                -0.0691      131.637314  2020-02-26 to 2020-07-27   \n",
       "1   15                -0.0756      81.276554   2020-02-26 to 2020-07-27   \n",
       "5   15                -0.0771      59.479092   2020-02-26 to 2020-07-27   \n",
       "27  15                 0.0889      130.957977  2020-02-26 to 2020-07-27   \n",
       "9   15                 0.0938      142.662537  2020-02-26 to 2020-07-27   \n",
       "30  15                 0.1015      137.959464  2020-02-26 to 2020-07-27   \n",
       "19  15                 0.1046      137.499542  2020-02-26 to 2020-07-27   \n",
       "6   15                 0.1102      139.782675  2020-02-26 to 2020-07-27   \n",
       "12  15                 0.1199      141.502381  2020-02-26 to 2020-07-27   \n",
       "0   15                 0.1233      136.589060  2020-02-26 to 2020-07-27   \n",
       "28  15                 0.1270      139.217421  2020-02-26 to 2020-07-27   \n",
       "39  15                 0.1288      137.600429  2020-02-26 to 2020-07-27   \n",
       "7   15                 0.1317      140.932052  2020-02-26 to 2020-07-27   \n",
       "25  15                -0.1350      131.449174  2020-02-26 to 2020-07-27   \n",
       "22  15                -0.1453      133.925741  2020-02-26 to 2020-07-27   \n",
       "18  15                 0.1475      61.771013   2020-02-26 to 2020-07-27   \n",
       "17  15                -0.1492      59.555316   2020-02-26 to 2020-07-27   \n",
       "26  15                 0.1509      138.399394  2020-02-26 to 2020-07-27   \n",
       "31  15                 0.1617      136.579711  2020-02-26 to 2020-07-27   \n",
       "36  15                 0.1700      109.784286  2020-02-26 to 2020-07-27   \n",
       "33  15                -0.1927      102.599642  2020-02-26 to 2020-07-27   \n",
       "37  15                -0.2561      132.508098  2020-02-26 to 2020-07-27   \n",
       "32  15                -0.2568      63.954240   2020-02-26 to 2020-07-27   \n",
       "20  15                -0.3397      66.630419   2020-02-26 to 2020-07-27   \n",
       "\n",
       "    test_size               train_dates  train_size  var_out_sample  \\\n",
       "38  304        2020-02-21 to 2020-07-27  2298        0.0045           \n",
       "35  304        2020-02-21 to 2020-07-27  2298        0.0038           \n",
       "14  304        2020-02-21 to 2020-07-27  2298        0.0039           \n",
       "23  304        2020-02-21 to 2020-07-27  2298        0.0030           \n",
       "13  304        2020-02-21 to 2020-07-27  2298        0.0157           \n",
       "16  304        2020-02-21 to 2020-07-27  2298        0.0061           \n",
       "8   304        2020-02-21 to 2020-07-27  2298        0.0010           \n",
       "4   304        2020-02-21 to 2020-07-27  2298        0.0021           \n",
       "2   304        2020-02-21 to 2020-07-27  2298        0.0025           \n",
       "11  304        2020-02-21 to 2020-07-27  2298        0.0024           \n",
       "3   304        2020-02-21 to 2020-07-27  2298        0.0062           \n",
       "29  304        2020-02-21 to 2020-07-27  2298        0.0065           \n",
       "24  304        2020-02-21 to 2020-07-27  2298        0.0013           \n",
       "34  304        2020-02-21 to 2020-07-27  2298        0.0039           \n",
       "15  304        2020-02-21 to 2020-07-27  2298        0.0031           \n",
       "21  304        2020-02-21 to 2020-07-27  2298        0.0032           \n",
       "10  304        2020-02-21 to 2020-07-27  2298        0.0037           \n",
       "1   304        2020-02-21 to 2020-07-27  2298        0.0053           \n",
       "5   304        2020-02-21 to 2020-07-27  2298        0.0025           \n",
       "27  304        2020-02-21 to 2020-07-27  2298        0.0022           \n",
       "9   304        2020-02-21 to 2020-07-27  2298        0.0024           \n",
       "30  304        2020-02-21 to 2020-07-27  2298        0.0012           \n",
       "19  304        2020-02-21 to 2020-07-27  2298        0.0014           \n",
       "6   304        2020-02-21 to 2020-07-27  2298        0.0040           \n",
       "12  304        2020-02-21 to 2020-07-27  2298        0.0023           \n",
       "0   304        2020-02-21 to 2020-07-27  2298        0.0022           \n",
       "28  304        2020-02-21 to 2020-07-27  2298        0.0031           \n",
       "39  304        2020-02-21 to 2020-07-27  2298        0.0033           \n",
       "7   304        2020-02-21 to 2020-07-27  2298        0.0017           \n",
       "25  304        2020-02-21 to 2020-07-27  2298        0.0011           \n",
       "22  304        2020-02-21 to 2020-07-27  2298        0.0012           \n",
       "18  304        2020-02-21 to 2020-07-27  2298        0.0051           \n",
       "17  304        2020-02-21 to 2020-07-27  2298        0.0025           \n",
       "26  304        2020-02-21 to 2020-07-27  2298        0.0011           \n",
       "31  304        2020-02-21 to 2020-07-27  2298        0.0008           \n",
       "36  304        2020-02-21 to 2020-07-27  2298        0.0041           \n",
       "33  304        2020-02-21 to 2020-07-27  2298        0.0022           \n",
       "37  304        2020-02-21 to 2020-07-27  2298        0.0021           \n",
       "32  304        2020-02-21 to 2020-07-27  2298        0.0030           \n",
       "20  304        2020-02-21 to 2020-07-27  2298        0.0044           \n",
       "\n",
       "    var_within_sample  week_1  week_2  week_3  within_sample  \n",
       "38  0.0063             0.0007 -0.0144 -0.0060 -0.0001         \n",
       "35  0.0067             0.0425 -0.0004  0.0062  0.0022         \n",
       "14  0.0053             0.0348  0.0402 -0.0109  0.0002         \n",
       "23  0.0059             0.0185  0.0527  0.0079 -0.0422         \n",
       "13  0.0270             0.0573 -0.0701 -0.0159  0.0084         \n",
       "16  0.0090            -0.0373  0.0499  0.0244  0.0003         \n",
       "8   0.0014            -0.0039  0.0350 -0.0300  0.0378         \n",
       "4   0.0051             0.0459  0.0525  0.0272 -0.0132         \n",
       "2   0.0053             0.0415  0.0463  0.0325 -0.0000         \n",
       "11  0.0053             0.0611  0.0218  0.0415 -0.0142         \n",
       "3   0.0082            -0.0378  0.0303  0.0505  0.0002         \n",
       "29  0.0091             0.0657  0.0546 -0.0549 -0.0008         \n",
       "24  0.0019             0.0342 -0.0842  0.0542 -0.0000         \n",
       "34  0.0054            -0.0115  0.0737  0.0567  0.0000         \n",
       "15  0.0039             0.0895 -0.1001  0.0598 -0.0001         \n",
       "21  0.0039             0.0584  0.0128  0.0682  0.0001         \n",
       "10  0.0035            -0.0509 -0.0238 -0.0706  0.0000         \n",
       "1   0.0080             0.0982  0.0889 -0.0838 -0.0004         \n",
       "5   0.0023             0.0211  0.0527 -0.0826 -0.0001         \n",
       "27  0.0051             0.0282  0.0675  0.0909  0.0382         \n",
       "9   0.0038            -0.0627  0.0601  0.0984  0.0001         \n",
       "30  0.0018             0.0312  0.0588  0.1042  0.0000         \n",
       "19  0.0018             0.0285 -0.0613  0.1104  0.0176         \n",
       "6   0.0052            -0.1715  0.0402  0.1187  0.0059         \n",
       "12  0.0032             0.0891  0.0334  0.1228 -0.0002         \n",
       "0   0.0037            -0.0874 -0.0072  0.1315  0.0003         \n",
       "28  0.0045             0.0530  0.0619  0.1304  0.0001         \n",
       "39  0.0045            -0.0237  0.0241  0.1350  0.0015         \n",
       "7   0.0027             0.0952  0.0479  0.1346 -0.0002         \n",
       "25  0.0011             0.0123  0.0688 -0.1435  0.0000         \n",
       "22  0.0009            -0.0042  0.0443 -0.1533  0.0055         \n",
       "18  0.0052             0.0206  0.0461  0.1531  0.0000         \n",
       "17  0.0018             0.0017  0.0581 -0.1579 -0.0000         \n",
       "26  0.0014             0.0040  0.0294  0.1574  0.0010         \n",
       "31  0.0014             0.0644 -0.0087  0.1681 -0.0001         \n",
       "36  0.0062             0.1307  0.1642  0.1710  0.0003         \n",
       "33  0.0023            -0.0214 -0.2878 -0.1945  0.0623         \n",
       "37  0.0022             0.0068 -0.3428 -0.2604 -0.0001         \n",
       "32  0.0031            -0.0271 -0.3662 -0.2597 -0.0003         \n",
       "20  0.0065            -0.0113  0.0002 -0.3558 -0.0006         "
      ]
     },
     "execution_count": 95,
     "metadata": {},
     "output_type": "execute_result"
    }
   ],
   "source": [
    "report.loc[report[\"out_sample\"].abs().sort_values(ascending=True).index]"
   ]
  }
 ],
 "metadata": {
  "hide_input": false,
  "kernelspec": {
   "display_name": "Python 3",
   "language": "python",
   "name": "python3"
  },
  "language_info": {
   "codemirror_mode": {
    "name": "ipython",
    "version": 3
   },
   "file_extension": ".py",
   "mimetype": "text/x-python",
   "name": "python",
   "nbconvert_exporter": "python",
   "pygments_lexer": "ipython3",
   "version": "3.8.3"
  },
  "latex_envs": {
   "LaTeX_envs_menu_present": true,
   "autoclose": false,
   "autocomplete": true,
   "bibliofile": "biblio.bib",
   "cite_by": "apalike",
   "current_citInitial": 1,
   "eqLabelWithNumbers": true,
   "eqNumInitial": 1,
   "hotkeys": {
    "equation": "Ctrl-E",
    "itemize": "Ctrl-I"
   },
   "labels_anchors": false,
   "latex_user_defs": false,
   "report_style_numbering": false,
   "user_envs_cfg": false
  },
  "toc": {
   "base_numbering": 1,
   "nav_menu": {},
   "number_sections": false,
   "sideBar": true,
   "skip_h1_title": true,
   "title_cell": "Table of Contents",
   "title_sidebar": "Contents",
   "toc_cell": true,
   "toc_position": {
    "height": "calc(100% - 180px)",
    "left": "10px",
    "top": "150px",
    "width": "523px"
   },
   "toc_section_display": true,
   "toc_window_display": true
  }
 },
 "nbformat": 4,
 "nbformat_minor": 4
}
