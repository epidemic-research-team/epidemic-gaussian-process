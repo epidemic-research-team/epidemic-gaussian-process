{
 "cells": [
  {
   "cell_type": "code",
   "execution_count": 1,
   "metadata": {},
   "outputs": [
    {
     "name": "stderr",
     "output_type": "stream",
     "text": [
      "<ipython-input-1-c790307d65ce>:25: FutureWarning: Passing a negative integer is deprecated in version 1.0 and will not be supported in future version. Instead, use None to not limit the column width.\n",
      "  pd.set_option('display.max_colwidth', -1)\n"
     ]
    }
   ],
   "source": [
    "import warnings\n",
    "import pandas as pd\n",
    "from itertools import cycle\n",
    "import gpflow\n",
    "import numpy as np\n",
    "from scipy import linalg\n",
    "from gpflow.utilities import print_summary, positive\n",
    "from gpflow.ci_utils import ci_niter\n",
    "from gpflow.optimizers import NaturalGradient\n",
    "from gpflow import set_trainable\n",
    "import tensorflow as tf\n",
    "import tensorflow_probability as tfp\n",
    "import matplotlib.pyplot as plt\n",
    "from matplotlib.gridspec import GridSpec\n",
    "import seaborn as sns\n",
    "from sklearn import preprocessing\n",
    "from sklearn.model_selection import train_test_split\n",
    "from collections import namedtuple\n",
    "import statsmodels.api as sm\n",
    "import timeit\n",
    "\n",
    "sns.set(style=\"white\")\n",
    "pd.set_option('display.max_columns', None)\n",
    "pd.set_option('display.width', None)\n",
    "pd.set_option('display.max_colwidth', -1)\n",
    "\n",
    "np.random.seed(123)\n",
    "\n",
    "gpflow.config.set_default_float(np.float64)\n",
    "gpflow.config.set_default_summary_fmt(\"notebook\")"
   ]
  },
  {
   "cell_type": "code",
   "execution_count": 2,
   "metadata": {},
   "outputs": [],
   "source": [
    "def country_selection(country_name, loc_mobility=None, loc_covid=None, print_summary=True, plots=True):\n",
    "    \n",
    "    avaliable_countries = [\"Germany\", \"Japan\", \"Australia\", \"Canada\", \n",
    "                          \"United States\", \"South Korea\", \"Italy\", \"Argentina\", \n",
    "                          \"Turkey\", \"Thailand\", \"Colombia\", \"Mexico\",\n",
    "                          \"India\", \"Kenya\", \"Bolivia\", \"Egypt\"]\n",
    "    \n",
    "    if country_name not in avaliable_countries:\n",
    "        warnings.warn(\"The selected country might not have optimal COVID data.\")\n",
    "    else:\n",
    "        # https://en.wikipedia.org/wiki/List_of_countries_by_inequality-adjusted_HDI\n",
    "        if country_name in [\"Germany\", \"Japan\", \"Australia\", \"Canada\"]:\n",
    "            # Tier 1: 0.800–1.000 (very high)\n",
    "            tier = 1         \n",
    "        elif country_name in [\"United States\", \"South Korea\", \"Italy\", \"Argentina\"]:\n",
    "            # Tier 2: 0.700–0.799 (high)\n",
    "            tier = 2\n",
    "        elif country_name in [\"Turkey\", \"Thailand\", \"Algeria\", \"Mexico\"]:\n",
    "            # Tier 3: 0.550–0.699 (medium)\n",
    "            tier = 3\n",
    "        else:\n",
    "            # Tier 4: 0.350–0.549 (low)\n",
    "            tier = 4\n",
    "            \n",
    "    if loc_mobility==None:\n",
    "        loc_mobility=\"./Data/Google/Global_Mobility_Report.csv\"\n",
    "        \n",
    "    mobility_data = pd.read_csv(loc_mobility, \n",
    "                                encoding=\"ISO-8859-1\", \n",
    "                                parse_dates=[\"date\"],\n",
    "                                dayfirst=True, low_memory=False)\n",
    "    \n",
    "    mobility_data = mobility_data[\n",
    "        (mobility_data[\"country_region\"]==country_name) & \n",
    "        (mobility_data[\"sub_region_1\"].isnull()) & \n",
    "        (mobility_data[\"metro_area\"].isnull())]\n",
    "    mobility_data = mobility_data.iloc[:,7:].reset_index(drop=True) # keep only relevant columns\n",
    "    mobility_data.iloc[:,1:] = mobility_data.iloc[:,1:].apply(lambda x: x/100 + 1)\n",
    "    \n",
    "    mobility_data = pd.DataFrame({\n",
    "        \"date\": mobility_data[\"date\"],\n",
    "        \"HOME\": mobility_data['residential_percent_change_from_baseline'],\n",
    "        \"WORK\": mobility_data['workplaces_percent_change_from_baseline'],\n",
    "        \"RECREATIONAL\": mobility_data['retail_and_recreation_percent_change_from_baseline'],\n",
    "        \"OTHER\": mobility_data.iloc[:,2:5].mean(axis=1)\n",
    "    })\n",
    "    mobility_data.reset_index(drop=True, inplace=True)\n",
    "    \n",
    "    if loc_covid==None:\n",
    "        loc_covid=\"./Data/Microsoft/COVID_CASES.csv\"\n",
    "     # COVID Cases from Microsoft, includes Recovered and Infected\n",
    "    ms_covid = pd.read_csv(loc_covid, \n",
    "                           encoding=\"ISO-8859-1\",\n",
    "                           parse_dates=[\"Updated\"],\n",
    "                           dayfirst=False, low_memory=False)\n",
    "    \n",
    "    ms_covid = ms_covid[(ms_covid[\"Country_Region\"]==country_name) & (ms_covid[\"AdminRegion1\"].isnull())]\n",
    "    ms_covid = ms_covid.loc[:,[\"Updated\", \"Confirmed\", \"ConfirmedChange\", \"Deaths\", \"Recovered\"]]   \n",
    "    \n",
    "    # Create the 3 categories S, I, R for US data (UK does not include R)\n",
    "    ms_covid = ms_covid.fillna(method='ffill').fillna(0)\n",
    "\n",
    "    # DIFF: Instead of smoothing the I, Daily cases and S, ammend the problematic R value @ 2020-07-18\n",
    "    # To match the next 2020-07-19\n",
    "    if country_name==\"United States\":\n",
    "        ms_covid.iloc[178, 4] = 1117084.0\n",
    "        \n",
    "    # Read the countries population from World Bank Database 2019\n",
    "    pop_dt = pd.read_excel(\n",
    "        \"./Data/Population/Data_Extract_From_World_Development_Indicators.xls\")\n",
    "    \n",
    "\n",
    "    population_size = pop_dt.loc[pop_dt.CountryName==country_name, \"Total\"].values[0]\n",
    "    \n",
    "    ms_covid[\"I\"] = ms_covid[\"Confirmed\"] - ms_covid[\"Deaths\"] - ms_covid[\"Recovered\"]\n",
    "    ms_covid[\"S\"] = population_size - ms_covid[\"I\"]\n",
    "    ms_covid[\"index\"] = ms_covid[\"Updated\"].dt.dayofyear\n",
    "\n",
    "    # DIFF: Create a time variable\n",
    "    # If we have a weekend then assign 0 or weekday 1\n",
    "    ms_covid[\"WEEKDAY\"] = (ms_covid[\"Updated\"].dt.dayofweek < 5).astype(int)\n",
    "    \n",
    "    ms_covid[\"ConfirmedChange\"] = np.log(ms_covid[\"ConfirmedChange\"].rolling(7).median()+1)\n",
    "    ms_covid[\"I\"] = ms_covid[\"I\"].rolling(7).median()\n",
    "    ms_covid[\"S\"] = ms_covid[\"S\"].rolling(7).median()\n",
    "\n",
    "    ms_covid.dropna(inplace=True)\n",
    "    ms_covid.reset_index(drop=True, inplace=True)\n",
    "    \n",
    "    final_data = ms_covid.set_index(\"Updated\").merge(\n",
    "    mobility_data.set_index(\"date\"), how='left', left_index=True, right_index=True).reset_index()\n",
    "    final_data.dropna(inplace=True)\n",
    "    final_data.reset_index(drop=True, inplace=True)\n",
    "    final_data.columns.values[0] = \"Updated\"\n",
    "    \n",
    "    if plots:\n",
    "        \n",
    "        fig, axs = plt.subplots(nrows=2, ncols=3, figsize=(20, 4))\n",
    "        fig.suptitle(\"{0} is a Tier {1} country in IHDI\".format(country_name, int(tier)), fontsize=16)\n",
    "        final_data.set_index(\"Updated\")[[\"ConfirmedChange\"]].plot(ax=axs[0, 0])\n",
    "        final_data.set_index(\"Updated\")[[\"I\"]].plot(ax=axs[0, 1])\n",
    "        final_data.set_index(\"Updated\")[[\"S\"]].plot(ax=axs[0, 2])\n",
    "        final_data.set_index(\"Updated\")[[\"HOME\"]].plot(ax=axs[1, 0])\n",
    "        final_data.set_index(\"Updated\")[[\"WORK\"]].plot(ax=axs[1, 1])\n",
    "        final_data.set_index(\"Updated\")[[\"OTHER\"]].plot(ax=axs[1, 2])\n",
    "    \n",
    "    if print_summary:\n",
    "        print(round(final_data.describe(), 3))\n",
    "    \n",
    "    return(final_data)"
   ]
  },
  {
   "cell_type": "code",
   "execution_count": 3,
   "metadata": {},
   "outputs": [],
   "source": [
    "def create_multioutput_table(long=False):\n",
    "    \n",
    "    countries_list = [\"Germany\", \"Japan\", \"Australia\", \"Canada\", \n",
    "                      \"United States\", \"South Korea\", \"Italy\", \"Argentina\", \n",
    "                      \"Turkey\", \"Thailand\", \"Colombia\", \"Mexico\",\n",
    "                      \"India\", \"Kenya\", \"Bolivia\", \"Egypt\"]\n",
    "    \n",
    "    if long: # Long table format. We create a column to name each country and we concat the tables.\n",
    "        for i, country_name in enumerate(countries_list):\n",
    "\n",
    "            print(\"\\n Read {0} and extract the data...{1}\".format(country_name, i))\n",
    "\n",
    "            if i==0:\n",
    "                final_data = country_selection(country_name, print_summary=False, plots=False)\n",
    "                final_data[\"Country\"] = country_name\n",
    "            else:\n",
    "                data_batch = country_selection(country_name, print_summary=False, plots=False)\n",
    "                data_batch[\"Country\"] = country_name\n",
    "                final_data = pd.concat([final_data, data_batch], axis=0)\n",
    "            \n",
    "    else: # We add each country's table as a column extension. We add a suffix on each column country-group.\n",
    "        for i, country_name in enumerate(countries_list):\n",
    "            \n",
    "            print(\"\\n Read {0} and extract the data...{1}\".format(country_name, i))\n",
    "            \n",
    "            if i==0:\n",
    "                final_data = country_selection(country_name, print_summary=False, plots=False)\n",
    "                final_data.columns = [str(col) + '_' + str(country_name) for col in final_data.columns]\n",
    "            else:    \n",
    "                data_batch = country_selection(country_name, print_summary=False, plots=False)\n",
    "                data_batch.columns = [str(col) + '_' + str(country_name) for col in data_batch.columns]\n",
    "                final_data = pd.concat([final_data, data_batch], axis=1)\n",
    "\n",
    "        \n",
    "    return(final_data) "
   ]
  },
  {
   "cell_type": "code",
   "execution_count": 4,
   "metadata": {},
   "outputs": [
    {
     "name": "stdout",
     "output_type": "stream",
     "text": [
      "\n",
      " Read Germany and extract the data...0\n",
      "\n",
      " Read Japan and extract the data...1\n",
      "\n",
      " Read Australia and extract the data...2\n",
      "\n",
      " Read Canada and extract the data...3\n",
      "\n",
      " Read United States and extract the data...4\n",
      "\n",
      " Read South Korea and extract the data...5\n",
      "\n",
      " Read Italy and extract the data...6\n",
      "\n",
      " Read Argentina and extract the data...7\n",
      "\n",
      " Read Turkey and extract the data...8\n",
      "\n",
      " Read Thailand and extract the data...9\n",
      "\n",
      " Read Colombia and extract the data...10\n",
      "\n",
      " Read Mexico and extract the data...11\n",
      "\n",
      " Read India and extract the data...12\n",
      "\n",
      " Read Kenya and extract the data...13\n",
      "\n",
      " Read Bolivia and extract the data...14\n",
      "\n",
      " Read Egypt and extract the data...15\n"
     ]
    }
   ],
   "source": [
    "final_data = create_multioutput_table()"
   ]
  },
  {
   "cell_type": "code",
   "execution_count": 5,
   "metadata": {},
   "outputs": [
    {
     "data": {
      "text/plain": [
       "(164, 208)"
      ]
     },
     "execution_count": 5,
     "metadata": {},
     "output_type": "execute_result"
    }
   ],
   "source": [
    "final_data.shape"
   ]
  },
  {
   "cell_type": "markdown",
   "metadata": {},
   "source": [
    "## Data Preprocessing (similar to the experiment.py)"
   ]
  },
  {
   "cell_type": "markdown",
   "metadata": {},
   "source": [
    "I will not create a class for that since we wish to check a very specific task.\n",
    "The GP model that I will use is going to be the "
   ]
  },
  {
   "cell_type": "code",
   "execution_count": null,
   "metadata": {},
   "outputs": [],
   "source": []
  },
  {
   "cell_type": "code",
   "execution_count": 6,
   "metadata": {},
   "outputs": [],
   "source": [
    "# Drop rows with missing values\n",
    "# In this particular example are going to be 20-30 bottom rows. \n",
    "final_data.dropna(axis=0, inplace=True)"
   ]
  },
  {
   "cell_type": "code",
   "execution_count": 7,
   "metadata": {},
   "outputs": [],
   "source": [
    "# Split the dataset\n",
    "y = final_data.filter(regex='^ConfirmedChange', axis=1).to_numpy() # Extract columns that contain each country's daily COVID cases\n",
    "y_cols = final_data.filter(regex='^ConfirmedChange', axis=1).columns\n",
    "\n",
    "\n",
    "X = final_data.drop(final_data.filter(regex='^Updated|^Confirmed', axis=1).columns, axis=1).to_numpy() # Extract mobility and SI data for each country\n",
    "X_cols = final_data.drop(final_data.filter(regex='^Updated|^Confirmed', axis=1).columns, axis=1).columns\n",
    "\n",
    "X_train, X_test = X[:-21,:], X[-21:,:]\n",
    "y_train, y_test = y[:-21,:], y[-21:,:]\n",
    "\n",
    "y_scaler = preprocessing.StandardScaler().fit(y_train)\n",
    "y_train = y_scaler.transform(y_train)\n",
    "y_test = y_scaler.transform(y_test)\n",
    "#y = y_scaler.transform(y)\n",
    "\n",
    "x_scaler = preprocessing.StandardScaler().fit(X_train)\n",
    "X_train = x_scaler.transform(X_train)\n",
    "X_test = x_scaler.transform(X_test)\n",
    "#X = x_scaler.transform(X)"
   ]
  },
  {
   "cell_type": "code",
   "execution_count": 30,
   "metadata": {},
   "outputs": [
    {
     "data": {
      "text/plain": [
       "Index(['Deaths_Germany', 'Recovered_Germany', 'I_Germany', 'S_Germany',\n",
       "       'index_Germany', 'WEEKDAY_Germany', 'HOME_Germany', 'WORK_Germany',\n",
       "       'RECREATIONAL_Germany', 'OTHER_Germany'],\n",
       "      dtype='object')"
      ]
     },
     "execution_count": 30,
     "metadata": {},
     "output_type": "execute_result"
    }
   ],
   "source": [
    "X_cols[list(range(0, 10))]"
   ]
  },
  {
   "cell_type": "code",
   "execution_count": 8,
   "metadata": {},
   "outputs": [
    {
     "name": "stdout",
     "output_type": "stream",
     "text": [
      "The shape of y is: (131, 16) and the shape of X is: (131, 160)\n",
      "The shape of X_train is: (110, 160) and the shape of X_test is: (21, 160)\n"
     ]
    }
   ],
   "source": [
    "print(\"The shape of y is: {0} and the shape of X is: {1}\".format(y.shape, X.shape))\n",
    "print(\"The shape of X_train is: {0} and the shape of X_test is: {1}\".format(X_train.shape, X_test.shape))"
   ]
  },
  {
   "cell_type": "code",
   "execution_count": null,
   "metadata": {},
   "outputs": [],
   "source": [
    "countries_list = [\"Germany\", \"Japan\", \"Australia\", \"Canada\",\n",
    "                  \"United States\", \"South Korea\", \"Italy\", \"Argentina\", \n",
    "                  \"Turkey\", \"Thailand\", \"Colombia\", \"Mexico\",\n",
    "                  \"India\", \"Kenya\", \"Bolivia\", \"Egypt\"]"
   ]
  },
  {
   "cell_type": "code",
   "execution_count": 31,
   "metadata": {},
   "outputs": [
    {
     "ename": "ValueError",
     "evalue": "Size of `active_dims` [0 1 2 3 4 5 6 7 8 9] does not match size of ard parameter (160)",
     "output_type": "error",
     "traceback": [
      "\u001b[0;31m---------------------------------------------------------------------------\u001b[0m",
      "\u001b[0;31mValueError\u001b[0m                                Traceback (most recent call last)",
      "\u001b[0;32m<ipython-input-31-2e0feb5ea32c>\u001b[0m in \u001b[0;36m<module>\u001b[0;34m\u001b[0m\n\u001b[1;32m      3\u001b[0m \u001b[0;34m\u001b[0m\u001b[0m\n\u001b[1;32m      4\u001b[0m \u001b[0;31m# Create list of kernels for each output\u001b[0m\u001b[0;34m\u001b[0m\u001b[0;34m\u001b[0m\u001b[0;34m\u001b[0m\u001b[0m\n\u001b[0;32m----> 5\u001b[0;31m kern_list = [gpflow.kernels.SquaredExponential(lengthscales=np.ones(X_train.shape[1]), active_dims=list(range(_, _+10))) * \\\n\u001b[0m\u001b[1;32m      6\u001b[0m              \u001b[0mgpflow\u001b[0m\u001b[0;34m.\u001b[0m\u001b[0mkernels\u001b[0m\u001b[0;34m.\u001b[0m\u001b[0mLinear\u001b[0m\u001b[0;34m(\u001b[0m\u001b[0mactive_dims\u001b[0m\u001b[0;34m=\u001b[0m\u001b[0mlist\u001b[0m\u001b[0;34m(\u001b[0m\u001b[0mrange\u001b[0m\u001b[0;34m(\u001b[0m\u001b[0m_\u001b[0m\u001b[0;34m,\u001b[0m \u001b[0m_\u001b[0m\u001b[0;34m+\u001b[0m\u001b[0;36m10\u001b[0m\u001b[0;34m)\u001b[0m\u001b[0;34m)\u001b[0m\u001b[0;34m)\u001b[0m \u001b[0;34m*\u001b[0m\u001b[0;31m \u001b[0m\u001b[0;31m \u001b[0m\u001b[0;31m\\\u001b[0m\u001b[0;34m\u001b[0m\u001b[0;34m\u001b[0m\u001b[0m\n\u001b[1;32m      7\u001b[0m              gpflow.kernels.RationalQuadratic(lengthscales=np.ones(X_train.shape[1]), active_dims=list(range(_, _+10))) for _ in range(P)]\n",
      "\u001b[0;32m<ipython-input-31-2e0feb5ea32c>\u001b[0m in \u001b[0;36m<listcomp>\u001b[0;34m(.0)\u001b[0m\n\u001b[1;32m      3\u001b[0m \u001b[0;34m\u001b[0m\u001b[0m\n\u001b[1;32m      4\u001b[0m \u001b[0;31m# Create list of kernels for each output\u001b[0m\u001b[0;34m\u001b[0m\u001b[0;34m\u001b[0m\u001b[0;34m\u001b[0m\u001b[0m\n\u001b[0;32m----> 5\u001b[0;31m kern_list = [gpflow.kernels.SquaredExponential(lengthscales=np.ones(X_train.shape[1]), active_dims=list(range(_, _+10))) * \\\n\u001b[0m\u001b[1;32m      6\u001b[0m              \u001b[0mgpflow\u001b[0m\u001b[0;34m.\u001b[0m\u001b[0mkernels\u001b[0m\u001b[0;34m.\u001b[0m\u001b[0mLinear\u001b[0m\u001b[0;34m(\u001b[0m\u001b[0mactive_dims\u001b[0m\u001b[0;34m=\u001b[0m\u001b[0mlist\u001b[0m\u001b[0;34m(\u001b[0m\u001b[0mrange\u001b[0m\u001b[0;34m(\u001b[0m\u001b[0m_\u001b[0m\u001b[0;34m,\u001b[0m \u001b[0m_\u001b[0m\u001b[0;34m+\u001b[0m\u001b[0;36m10\u001b[0m\u001b[0;34m)\u001b[0m\u001b[0;34m)\u001b[0m\u001b[0;34m)\u001b[0m \u001b[0;34m*\u001b[0m\u001b[0;31m \u001b[0m\u001b[0;31m \u001b[0m\u001b[0;31m\\\u001b[0m\u001b[0;34m\u001b[0m\u001b[0;34m\u001b[0m\u001b[0m\n\u001b[1;32m      7\u001b[0m              gpflow.kernels.RationalQuadratic(lengthscales=np.ones(X_train.shape[1]), active_dims=list(range(_, _+10))) for _ in range(P)]\n",
      "\u001b[0;32m~/opt/anaconda3/envs/hyperion/lib/python3.8/site-packages/gpflow/kernels/stationaries.py\u001b[0m in \u001b[0;36m__init__\u001b[0;34m(self, variance, lengthscales, **kwargs)\u001b[0m\n\u001b[1;32m     52\u001b[0m         \u001b[0mself\u001b[0m\u001b[0;34m.\u001b[0m\u001b[0mvariance\u001b[0m \u001b[0;34m=\u001b[0m \u001b[0mParameter\u001b[0m\u001b[0;34m(\u001b[0m\u001b[0mvariance\u001b[0m\u001b[0;34m,\u001b[0m \u001b[0mtransform\u001b[0m\u001b[0;34m=\u001b[0m\u001b[0mpositive\u001b[0m\u001b[0;34m(\u001b[0m\u001b[0;34m)\u001b[0m\u001b[0;34m)\u001b[0m\u001b[0;34m\u001b[0m\u001b[0;34m\u001b[0m\u001b[0m\n\u001b[1;32m     53\u001b[0m         \u001b[0mself\u001b[0m\u001b[0;34m.\u001b[0m\u001b[0mlengthscales\u001b[0m \u001b[0;34m=\u001b[0m \u001b[0mParameter\u001b[0m\u001b[0;34m(\u001b[0m\u001b[0mlengthscales\u001b[0m\u001b[0;34m,\u001b[0m \u001b[0mtransform\u001b[0m\u001b[0;34m=\u001b[0m\u001b[0mpositive\u001b[0m\u001b[0;34m(\u001b[0m\u001b[0;34m)\u001b[0m\u001b[0;34m)\u001b[0m\u001b[0;34m\u001b[0m\u001b[0;34m\u001b[0m\u001b[0m\n\u001b[0;32m---> 54\u001b[0;31m         \u001b[0mself\u001b[0m\u001b[0;34m.\u001b[0m\u001b[0m_validate_ard_active_dims\u001b[0m\u001b[0;34m(\u001b[0m\u001b[0mself\u001b[0m\u001b[0;34m.\u001b[0m\u001b[0mlengthscales\u001b[0m\u001b[0;34m)\u001b[0m\u001b[0;34m\u001b[0m\u001b[0;34m\u001b[0m\u001b[0m\n\u001b[0m\u001b[1;32m     55\u001b[0m \u001b[0;34m\u001b[0m\u001b[0m\n\u001b[1;32m     56\u001b[0m     \u001b[0;34m@\u001b[0m\u001b[0mproperty\u001b[0m\u001b[0;34m\u001b[0m\u001b[0;34m\u001b[0m\u001b[0m\n",
      "\u001b[0;32m~/opt/anaconda3/envs/hyperion/lib/python3.8/site-packages/gpflow/kernels/base.py\u001b[0m in \u001b[0;36m_validate_ard_active_dims\u001b[0;34m(self, ard_parameter)\u001b[0m\n\u001b[1;32m    146\u001b[0m \u001b[0;34m\u001b[0m\u001b[0m\n\u001b[1;32m    147\u001b[0m         \u001b[0;32mif\u001b[0m \u001b[0mard_parameter\u001b[0m\u001b[0;34m.\u001b[0m\u001b[0mshape\u001b[0m\u001b[0;34m.\u001b[0m\u001b[0mrank\u001b[0m \u001b[0;34m>\u001b[0m \u001b[0;36m0\u001b[0m \u001b[0;32mand\u001b[0m \u001b[0mard_parameter\u001b[0m\u001b[0;34m.\u001b[0m\u001b[0mshape\u001b[0m\u001b[0;34m[\u001b[0m\u001b[0;36m0\u001b[0m\u001b[0;34m]\u001b[0m \u001b[0;34m!=\u001b[0m \u001b[0mlen\u001b[0m\u001b[0;34m(\u001b[0m\u001b[0mself\u001b[0m\u001b[0;34m.\u001b[0m\u001b[0mactive_dims\u001b[0m\u001b[0;34m)\u001b[0m\u001b[0;34m:\u001b[0m\u001b[0;34m\u001b[0m\u001b[0;34m\u001b[0m\u001b[0m\n\u001b[0;32m--> 148\u001b[0;31m             raise ValueError(\n\u001b[0m\u001b[1;32m    149\u001b[0m                 \u001b[0;34mf\"Size of `active_dims` {self.active_dims} does not match \"\u001b[0m\u001b[0;34m\u001b[0m\u001b[0;34m\u001b[0m\u001b[0m\n\u001b[1;32m    150\u001b[0m                 \u001b[0;34mf\"size of ard parameter ({ard_parameter.shape[0]})\"\u001b[0m\u001b[0;34m\u001b[0m\u001b[0;34m\u001b[0m\u001b[0m\n",
      "\u001b[0;31mValueError\u001b[0m: Size of `active_dims` [0 1 2 3 4 5 6 7 8 9] does not match size of ard parameter (160)"
     ]
    }
   ],
   "source": [
    "# !! Simplified model to make it run\n",
    "P = len(y_cols)\n",
    "\n",
    "# Create list of kernels for each output\n",
    "kern_list = [gpflow.kernels.SquaredExponential(lengthscales=np.ones(X_train.shape[1]), active_dims=list(range(_, _+10))) * \\\n",
    "             gpflow.kernels.Linear(active_dims=list(range(_, _+10))) *  \\\n",
    "             gpflow.kernels.RationalQuadratic(lengthscales=np.ones(X_train.shape[1]), active_dims=list(range(_, _+10))) for _ in range(P)]\n",
    "# Create multi-output kernel from kernel list\n",
    "kernel = gpflow.kernels.SeparateIndependent(kern_list)\n",
    "\n",
    "Zinit = X_train[np.random.randint(X_train.shape[0], size=15), :]\n",
    "# initialization of inducing input locations, one set of locations per output\n",
    "Zs = [Zinit.copy() for _ in range(P)]\n",
    "# initialize as list inducing inducing variables\n",
    "iv_list = [gpflow.inducing_variables.InducingPoints(Z) for Z in Zs]\n",
    "# create multi-output inducing variables from iv_list\n",
    "iv = gpflow.inducing_variables.SeparateIndependentInducingVariables(iv_list)"
   ]
  },
  {
   "cell_type": "code",
   "execution_count": null,
   "metadata": {},
   "outputs": [],
   "source": [
    "P = len(y_cols) # number of target outputs, alternatively the number of countries: 16\n",
    "\n",
    "# Create a temp dataset as an image of the input data X\n",
    "temp_data = final_data.filter(X_cols, axis=1).copy()\n",
    "temp_data = temp_data.iloc[:-21,:]\n",
    "\n",
    "# Empty lists for kernels and inducing points\n",
    "mogp_kernel = []\n",
    "Zs = []\n",
    "\n",
    "# Create country specific kernels and inducing points through a loop\n",
    "for i, country in enumerate(countries_list):\n",
    "    \n",
    "    # Extract the index location of the country-columns from the dataset X\n",
    "    # For example, extract the location of mobility and SI columns for Germany\n",
    "    col_index = [temp_data.columns.get_loc(c) for c in temp_data.filter(regex=str(country)+'$', axis=1).columns.values]\n",
    "    \n",
    "    # Create multi-output ARD kernel, one for each country. By linking the kernel to the appropriate X data location\n",
    "    kern_temp = gpflow.kernels.SquaredExponential(lengthscales=np.ones(len(col_index)), active_dims=col_index) * \\\n",
    "        gpflow.kernels.Linear(active_dims=col_index) * \\\n",
    "        gpflow.kernels.RationalQuadratic(lengthscales=np.ones(len(col_index)), active_dims=col_index)\n",
    "    \n",
    "    #Add all the country-specific kernels together in a list\n",
    "    mogp_kernel.append(kern_temp)\n",
    "    \n",
    "    # Create inducing point matrices (<number of points> X <columns allocated to each country>) for each country\n",
    "    for j, col in enumerate(col_index):\n",
    "        \n",
    "        if j==0:\n",
    "            Z = X_train[np.random.randint(X_train.shape[0], size=15), col].copy()\n",
    "        else:\n",
    "            Z = np.vstack([Z, X_train[np.random.randint(X_train.shape[0], size=15), col].copy()])\n",
    "    \n",
    "    # Add all the country-specific inducing point matrices together in a list\n",
    "    Zs.append(Z.T)\n",
    "            \n",
    "            \n",
    "    \n",
    "# Create multi-output kernel from kernel list\n",
    "kernel = gpflow.kernels.SeparateIndependent(mogp_kernel)\n",
    "\n",
    "# Initialize as list inducing inducing variables\n",
    "iv_list = [gpflow.inducing_variables.InducingPoints(Z) for Z in Zs]\n",
    "\n",
    "# Create multi-output inducing variables from iv_list\n",
    "iv = gpflow.inducing_variables.SeparateIndependentInducingVariables(iv_list)\n",
    "\n"
   ]
  },
  {
   "cell_type": "code",
   "execution_count": 21,
   "metadata": {},
   "outputs": [],
   "source": [
    "# create SVGP model\n",
    "m = gpflow.models.SVGP(kernel, gpflow.likelihoods.Gaussian(), inducing_variable=iv, num_latent_gps=P)"
   ]
  },
  {
   "cell_type": "code",
   "execution_count": null,
   "metadata": {},
   "outputs": [],
   "source": [
    "#print_summary(m)"
   ]
  },
  {
   "cell_type": "code",
   "execution_count": 22,
   "metadata": {},
   "outputs": [],
   "source": [
    "# Stop Adam from optimizing the variational parameters\n",
    "set_trainable(m.q_mu, False)\n",
    "set_trainable(m.q_sqrt, False)\n",
    "\n",
    "adam_opt = tf.optimizers.Adam(0.01)\n",
    "natgrad_opt = NaturalGradient(gamma=0.1)\n",
    "\n",
    "variational_params = [(m.q_mu, m.q_sqrt)]\n",
    "\n",
    "train_loss = m.training_loss_closure((X_train, y_train))"
   ]
  },
  {
   "cell_type": "code",
   "execution_count": 23,
   "metadata": {},
   "outputs": [],
   "source": [
    "for _ in range(ci_niter(100)):\n",
    "    natgrad_opt.minimize(train_loss, var_list=variational_params)\n",
    "    adam_opt.minimize(train_loss, var_list=m.trainable_variables)\n",
    "    \n",
    "\n",
    "# It works with the simple approach"
   ]
  },
  {
   "cell_type": "code",
   "execution_count": null,
   "metadata": {},
   "outputs": [],
   "source": [
    "def optimize_model_with_scipy(model):\n",
    "    \n",
    "    optimizer = gpflow.optimizers.Scipy()\n",
    "    optimizer.minimize(\n",
    "        model.training_loss_closure((X_train, y_train)),\n",
    "        variables=model.trainable_variables,\n",
    "        method=\"l-bfgs-b\",\n",
    "        options={\"disp\": True, \"maxiter\": ci_niter(2000)},\n",
    "    )\n",
    "\n",
    "\n",
    "optimize_model_with_scipy(m)"
   ]
  },
  {
   "cell_type": "code",
   "execution_count": 24,
   "metadata": {},
   "outputs": [
    {
     "data": {
      "text/html": [
       "<table>\n",
       "<thead>\n",
       "<tr><th>name                                               </th><th>class    </th><th>transform       </th><th>prior  </th><th>trainable  </th><th>shape       </th><th>dtype  </th><th>value                                               </th></tr>\n",
       "</thead>\n",
       "<tbody>\n",
       "<tr><td>SVGP.kernel.kernels[0].kernels[0].variance         </td><td>Parameter</td><td>Softplus        </td><td>       </td><td>True       </td><td>()          </td><td>float64</td><td>0.614989349878386                                   </td></tr>\n",
       "<tr><td>SVGP.kernel.kernels[0].kernels[0].lengthscales     </td><td>Parameter</td><td>Softplus        </td><td>       </td><td>True       </td><td>(160,)      </td><td>float64</td><td>[1.30812791, 1.30614363, 1.31603872...              </td></tr>\n",
       "<tr><td>SVGP.kernel.kernels[0].kernels[1].variance         </td><td>Parameter</td><td>Softplus        </td><td>       </td><td>True       </td><td>()          </td><td>float64</td><td>0.6149893498783858                                  </td></tr>\n",
       "<tr><td>SVGP.kernel.kernels[0].kernels[2].variance         </td><td>Parameter</td><td>Softplus        </td><td>       </td><td>True       </td><td>()          </td><td>float64</td><td>0.6149893498783856                                  </td></tr>\n",
       "<tr><td>SVGP.kernel.kernels[0].kernels[2].lengthscales     </td><td>Parameter</td><td>Softplus        </td><td>       </td><td>True       </td><td>(160,)      </td><td>float64</td><td>[1.32407366, 1.32243334, 1.32955202...              </td></tr>\n",
       "<tr><td>SVGP.kernel.kernels[0].kernels[2].alpha            </td><td>Parameter</td><td>Softplus        </td><td>       </td><td>True       </td><td>()          </td><td>float64</td><td>1.3125604784602667                                  </td></tr>\n",
       "<tr><td>SVGP.kernel.kernels[1].kernels[0].variance         </td><td>Parameter</td><td>Softplus        </td><td>       </td><td>True       </td><td>()          </td><td>float64</td><td>0.6149909641963163                                  </td></tr>\n",
       "<tr><td>SVGP.kernel.kernels[1].kernels[0].lengthscales     </td><td>Parameter</td><td>Softplus        </td><td>       </td><td>True       </td><td>(160,)      </td><td>float64</td><td>[1.3274423, 1.32687734, 1.33178421...               </td></tr>\n",
       "<tr><td>SVGP.kernel.kernels[1].kernels[1].variance         </td><td>Parameter</td><td>Softplus        </td><td>       </td><td>True       </td><td>()          </td><td>float64</td><td>0.6149909641963157                                  </td></tr>\n",
       "<tr><td>SVGP.kernel.kernels[1].kernels[2].variance         </td><td>Parameter</td><td>Softplus        </td><td>       </td><td>True       </td><td>()          </td><td>float64</td><td>0.6149909641963165                                  </td></tr>\n",
       "<tr><td>SVGP.kernel.kernels[1].kernels[2].lengthscales     </td><td>Parameter</td><td>Softplus        </td><td>       </td><td>True       </td><td>(160,)      </td><td>float64</td><td>[1.34082403, 1.34055207, 1.34288152...              </td></tr>\n",
       "<tr><td>SVGP.kernel.kernels[1].kernels[2].alpha            </td><td>Parameter</td><td>Softplus        </td><td>       </td><td>True       </td><td>()          </td><td>float64</td><td>1.3242666123297815                                  </td></tr>\n",
       "<tr><td>SVGP.kernel.kernels[2].kernels[0].variance         </td><td>Parameter</td><td>Softplus        </td><td>       </td><td>True       </td><td>()          </td><td>float64</td><td>0.6149938990569517                                  </td></tr>\n",
       "<tr><td>SVGP.kernel.kernels[2].kernels[0].lengthscales     </td><td>Parameter</td><td>Softplus        </td><td>       </td><td>True       </td><td>(160,)      </td><td>float64</td><td>[1.31112569, 1.30680138, 1.31946523...              </td></tr>\n",
       "<tr><td>SVGP.kernel.kernels[2].kernels[1].variance         </td><td>Parameter</td><td>Softplus        </td><td>       </td><td>True       </td><td>()          </td><td>float64</td><td>0.6149938990569506                                  </td></tr>\n",
       "<tr><td>SVGP.kernel.kernels[2].kernels[2].variance         </td><td>Parameter</td><td>Softplus        </td><td>       </td><td>True       </td><td>()          </td><td>float64</td><td>0.6149938990569513                                  </td></tr>\n",
       "<tr><td>SVGP.kernel.kernels[2].kernels[2].lengthscales     </td><td>Parameter</td><td>Softplus        </td><td>       </td><td>True       </td><td>(160,)      </td><td>float64</td><td>[1.32775705, 1.32440221, 1.33128494...              </td></tr>\n",
       "<tr><td>SVGP.kernel.kernels[2].kernels[2].alpha            </td><td>Parameter</td><td>Softplus        </td><td>       </td><td>True       </td><td>()          </td><td>float64</td><td>1.320483351818604                                   </td></tr>\n",
       "<tr><td>SVGP.kernel.kernels[3].kernels[0].variance         </td><td>Parameter</td><td>Softplus        </td><td>       </td><td>True       </td><td>()          </td><td>float64</td><td>0.6149827387061089                                  </td></tr>\n",
       "<tr><td>SVGP.kernel.kernels[3].kernels[0].lengthscales     </td><td>Parameter</td><td>Softplus        </td><td>       </td><td>True       </td><td>(160,)      </td><td>float64</td><td>[1.34060589, 1.33997598, 1.34512133...              </td></tr>\n",
       "<tr><td>SVGP.kernel.kernels[3].kernels[1].variance         </td><td>Parameter</td><td>Softplus        </td><td>       </td><td>True       </td><td>()          </td><td>float64</td><td>0.6149827387061086                                  </td></tr>\n",
       "<tr><td>SVGP.kernel.kernels[3].kernels[2].variance         </td><td>Parameter</td><td>Softplus        </td><td>       </td><td>True       </td><td>()          </td><td>float64</td><td>0.6149827387061093                                  </td></tr>\n",
       "<tr><td>SVGP.kernel.kernels[3].kernels[2].lengthscales     </td><td>Parameter</td><td>Softplus        </td><td>       </td><td>True       </td><td>(160,)      </td><td>float64</td><td>[1.35596493, 1.35545762, 1.35863309...              </td></tr>\n",
       "<tr><td>SVGP.kernel.kernels[3].kernels[2].alpha            </td><td>Parameter</td><td>Softplus        </td><td>       </td><td>True       </td><td>()          </td><td>float64</td><td>1.3493008683644252                                  </td></tr>\n",
       "<tr><td>SVGP.kernel.kernels[4].kernels[0].variance         </td><td>Parameter</td><td>Softplus        </td><td>       </td><td>True       </td><td>()          </td><td>float64</td><td>0.6149814501190652                                  </td></tr>\n",
       "<tr><td>SVGP.kernel.kernels[4].kernels[0].lengthscales     </td><td>Parameter</td><td>Softplus        </td><td>       </td><td>True       </td><td>(160,)      </td><td>float64</td><td>[1.33795614, 1.337014, 1.34400835...                </td></tr>\n",
       "<tr><td>SVGP.kernel.kernels[4].kernels[1].variance         </td><td>Parameter</td><td>Softplus        </td><td>       </td><td>True       </td><td>()          </td><td>float64</td><td>0.6149814501190671                                  </td></tr>\n",
       "<tr><td>SVGP.kernel.kernels[4].kernels[2].variance         </td><td>Parameter</td><td>Softplus        </td><td>       </td><td>True       </td><td>()          </td><td>float64</td><td>0.6149814501190657                                  </td></tr>\n",
       "<tr><td>SVGP.kernel.kernels[4].kernels[2].lengthscales     </td><td>Parameter</td><td>Softplus        </td><td>       </td><td>True       </td><td>(160,)      </td><td>float64</td><td>[1.35361621, 1.35284461, 1.3576809...               </td></tr>\n",
       "<tr><td>SVGP.kernel.kernels[4].kernels[2].alpha            </td><td>Parameter</td><td>Softplus        </td><td>       </td><td>True       </td><td>()          </td><td>float64</td><td>1.3489626897655786                                  </td></tr>\n",
       "<tr><td>SVGP.kernel.kernels[5].kernels[0].variance         </td><td>Parameter</td><td>Softplus        </td><td>       </td><td>True       </td><td>()          </td><td>float64</td><td>0.6149888495249026                                  </td></tr>\n",
       "<tr><td>SVGP.kernel.kernels[5].kernels[0].lengthscales     </td><td>Parameter</td><td>Softplus        </td><td>       </td><td>True       </td><td>(160,)      </td><td>float64</td><td>[1.33243738, 1.330645, 1.34111462...                </td></tr>\n",
       "<tr><td>SVGP.kernel.kernels[5].kernels[1].variance         </td><td>Parameter</td><td>Softplus        </td><td>       </td><td>True       </td><td>()          </td><td>float64</td><td>0.6149888495249017                                  </td></tr>\n",
       "<tr><td>SVGP.kernel.kernels[5].kernels[2].variance         </td><td>Parameter</td><td>Softplus        </td><td>       </td><td>True       </td><td>()          </td><td>float64</td><td>0.6149888495249026                                  </td></tr>\n",
       "<tr><td>SVGP.kernel.kernels[5].kernels[2].lengthscales     </td><td>Parameter</td><td>Softplus        </td><td>       </td><td>True       </td><td>(160,)      </td><td>float64</td><td>[1.34924934, 1.34771515, 1.35539693...              </td></tr>\n",
       "<tr><td>SVGP.kernel.kernels[5].kernels[2].alpha            </td><td>Parameter</td><td>Softplus        </td><td>       </td><td>True       </td><td>()          </td><td>float64</td><td>1.3353990386293018                                  </td></tr>\n",
       "<tr><td>SVGP.kernel.kernels[6].kernels[0].variance         </td><td>Parameter</td><td>Softplus        </td><td>       </td><td>True       </td><td>()          </td><td>float64</td><td>0.6149923436536464                                  </td></tr>\n",
       "<tr><td>SVGP.kernel.kernels[6].kernels[0].lengthscales     </td><td>Parameter</td><td>Softplus        </td><td>       </td><td>True       </td><td>(160,)      </td><td>float64</td><td>[1.30468137, 1.30194776, 1.31180834...              </td></tr>\n",
       "<tr><td>SVGP.kernel.kernels[6].kernels[1].variance         </td><td>Parameter</td><td>Softplus        </td><td>       </td><td>True       </td><td>()          </td><td>float64</td><td>0.6149923436536469                                  </td></tr>\n",
       "<tr><td>SVGP.kernel.kernels[6].kernels[2].variance         </td><td>Parameter</td><td>Softplus        </td><td>       </td><td>True       </td><td>()          </td><td>float64</td><td>0.6149923436536462                                  </td></tr>\n",
       "<tr><td>SVGP.kernel.kernels[6].kernels[2].lengthscales     </td><td>Parameter</td><td>Softplus        </td><td>       </td><td>True       </td><td>(160,)      </td><td>float64</td><td>[1.32111287, 1.31876849, 1.32625945...              </td></tr>\n",
       "<tr><td>SVGP.kernel.kernels[6].kernels[2].alpha            </td><td>Parameter</td><td>Softplus        </td><td>       </td><td>True       </td><td>()          </td><td>float64</td><td>1.2953368904048779                                  </td></tr>\n",
       "<tr><td>SVGP.kernel.kernels[7].kernels[0].variance         </td><td>Parameter</td><td>Softplus        </td><td>       </td><td>True       </td><td>()          </td><td>float64</td><td>0.6149893792753502                                  </td></tr>\n",
       "<tr><td>SVGP.kernel.kernels[7].kernels[0].lengthscales     </td><td>Parameter</td><td>Softplus        </td><td>       </td><td>True       </td><td>(160,)      </td><td>float64</td><td>[1.30482477, 1.30472805, 1.31114842...              </td></tr>\n",
       "<tr><td>SVGP.kernel.kernels[7].kernels[1].variance         </td><td>Parameter</td><td>Softplus        </td><td>       </td><td>True       </td><td>()          </td><td>float64</td><td>0.6149893792753495                                  </td></tr>\n",
       "<tr><td>SVGP.kernel.kernels[7].kernels[2].variance         </td><td>Parameter</td><td>Softplus        </td><td>       </td><td>True       </td><td>()          </td><td>float64</td><td>0.6149893792753502                                  </td></tr>\n",
       "<tr><td>SVGP.kernel.kernels[7].kernels[2].lengthscales     </td><td>Parameter</td><td>Softplus        </td><td>       </td><td>True       </td><td>(160,)      </td><td>float64</td><td>[1.32387522, 1.3237723, 1.32682513...               </td></tr>\n",
       "<tr><td>SVGP.kernel.kernels[7].kernels[2].alpha            </td><td>Parameter</td><td>Softplus        </td><td>       </td><td>True       </td><td>()          </td><td>float64</td><td>1.3196211666601168                                  </td></tr>\n",
       "<tr><td>SVGP.kernel.kernels[8].kernels[0].variance         </td><td>Parameter</td><td>Softplus        </td><td>       </td><td>True       </td><td>()          </td><td>float64</td><td>0.6149950154148812                                  </td></tr>\n",
       "<tr><td>SVGP.kernel.kernels[8].kernels[0].lengthscales     </td><td>Parameter</td><td>Softplus        </td><td>       </td><td>True       </td><td>(160,)      </td><td>float64</td><td>[1.29396106, 1.29125154, 1.30291875...              </td></tr>\n",
       "<tr><td>SVGP.kernel.kernels[8].kernels[1].variance         </td><td>Parameter</td><td>Softplus        </td><td>       </td><td>True       </td><td>()          </td><td>float64</td><td>0.6149950154148814                                  </td></tr>\n",
       "<tr><td>SVGP.kernel.kernels[8].kernels[2].variance         </td><td>Parameter</td><td>Softplus        </td><td>       </td><td>True       </td><td>()          </td><td>float64</td><td>0.6149950154148811                                  </td></tr>\n",
       "<tr><td>SVGP.kernel.kernels[8].kernels[2].lengthscales     </td><td>Parameter</td><td>Softplus        </td><td>       </td><td>True       </td><td>(160,)      </td><td>float64</td><td>[1.31520451, 1.31298847, 1.32081115...              </td></tr>\n",
       "<tr><td>SVGP.kernel.kernels[8].kernels[2].alpha            </td><td>Parameter</td><td>Softplus        </td><td>       </td><td>True       </td><td>()          </td><td>float64</td><td>1.287230240139681                                   </td></tr>\n",
       "<tr><td>SVGP.kernel.kernels[9].kernels[0].variance         </td><td>Parameter</td><td>Softplus        </td><td>       </td><td>True       </td><td>()          </td><td>float64</td><td>0.6149892741775144                                  </td></tr>\n",
       "<tr><td>SVGP.kernel.kernels[9].kernels[0].lengthscales     </td><td>Parameter</td><td>Softplus        </td><td>       </td><td>True       </td><td>(160,)      </td><td>float64</td><td>[1.33917868, 1.33550077, 1.34762282...              </td></tr>\n",
       "<tr><td>SVGP.kernel.kernels[9].kernels[1].variance         </td><td>Parameter</td><td>Softplus        </td><td>       </td><td>True       </td><td>()          </td><td>float64</td><td>0.6149892741775148                                  </td></tr>\n",
       "<tr><td>SVGP.kernel.kernels[9].kernels[2].variance         </td><td>Parameter</td><td>Softplus        </td><td>       </td><td>True       </td><td>()          </td><td>float64</td><td>0.6149892741775144                                  </td></tr>\n",
       "<tr><td>SVGP.kernel.kernels[9].kernels[2].lengthscales     </td><td>Parameter</td><td>Softplus        </td><td>       </td><td>True       </td><td>(160,)      </td><td>float64</td><td>[1.35415151, 1.35114021, 1.35797135...              </td></tr>\n",
       "<tr><td>SVGP.kernel.kernels[9].kernels[2].alpha            </td><td>Parameter</td><td>Softplus        </td><td>       </td><td>True       </td><td>()          </td><td>float64</td><td>1.3461080681520556                                  </td></tr>\n",
       "<tr><td>SVGP.kernel.kernels[10].kernels[0].variance        </td><td>Parameter</td><td>Softplus        </td><td>       </td><td>True       </td><td>()          </td><td>float64</td><td>0.6149864732322912                                  </td></tr>\n",
       "<tr><td>SVGP.kernel.kernels[10].kernels[0].lengthscales    </td><td>Parameter</td><td>Softplus        </td><td>       </td><td>True       </td><td>(160,)      </td><td>float64</td><td>[1.32419364, 1.32428494, 1.32972535...              </td></tr>\n",
       "<tr><td>SVGP.kernel.kernels[10].kernels[1].variance        </td><td>Parameter</td><td>Softplus        </td><td>       </td><td>True       </td><td>()          </td><td>float64</td><td>0.6149864732322905                                  </td></tr>\n",
       "<tr><td>SVGP.kernel.kernels[10].kernels[2].variance        </td><td>Parameter</td><td>Softplus        </td><td>       </td><td>True       </td><td>()          </td><td>float64</td><td>0.6149864732322914                                  </td></tr>\n",
       "<tr><td>SVGP.kernel.kernels[10].kernels[2].lengthscales    </td><td>Parameter</td><td>Softplus        </td><td>       </td><td>True       </td><td>(160,)      </td><td>float64</td><td>[1.34140936, 1.34148641, 1.34478786...              </td></tr>\n",
       "<tr><td>SVGP.kernel.kernels[10].kernels[2].alpha           </td><td>Parameter</td><td>Softplus        </td><td>       </td><td>True       </td><td>()          </td><td>float64</td><td>1.3323584351491746                                  </td></tr>\n",
       "<tr><td>SVGP.kernel.kernels[11].kernels[0].variance        </td><td>Parameter</td><td>Softplus        </td><td>       </td><td>True       </td><td>()          </td><td>float64</td><td>0.6149844375256001                                  </td></tr>\n",
       "<tr><td>SVGP.kernel.kernels[11].kernels[0].lengthscales    </td><td>Parameter</td><td>Softplus        </td><td>       </td><td>True       </td><td>(160,)      </td><td>float64</td><td>[1.3311374, 1.33083678, 1.33496761...               </td></tr>\n",
       "<tr><td>SVGP.kernel.kernels[11].kernels[1].variance        </td><td>Parameter</td><td>Softplus        </td><td>       </td><td>True       </td><td>()          </td><td>float64</td><td>0.6149844375256017                                  </td></tr>\n",
       "<tr><td>SVGP.kernel.kernels[11].kernels[2].variance        </td><td>Parameter</td><td>Softplus        </td><td>       </td><td>True       </td><td>()          </td><td>float64</td><td>0.6149844375256003                                  </td></tr>\n",
       "<tr><td>SVGP.kernel.kernels[11].kernels[2].lengthscales    </td><td>Parameter</td><td>Softplus        </td><td>       </td><td>True       </td><td>(160,)      </td><td>float64</td><td>[1.34750262, 1.34725971, 1.34976407...              </td></tr>\n",
       "<tr><td>SVGP.kernel.kernels[11].kernels[2].alpha           </td><td>Parameter</td><td>Softplus        </td><td>       </td><td>True       </td><td>()          </td><td>float64</td><td>1.3366159408158007                                  </td></tr>\n",
       "<tr><td>SVGP.kernel.kernels[12].kernels[0].variance        </td><td>Parameter</td><td>Softplus        </td><td>       </td><td>True       </td><td>()          </td><td>float64</td><td>0.6149842945218599                                  </td></tr>\n",
       "<tr><td>SVGP.kernel.kernels[12].kernels[0].lengthscales    </td><td>Parameter</td><td>Softplus        </td><td>       </td><td>True       </td><td>(160,)      </td><td>float64</td><td>[1.32522663, 1.32520244, 1.33062321...              </td></tr>\n",
       "<tr><td>SVGP.kernel.kernels[12].kernels[1].variance        </td><td>Parameter</td><td>Softplus        </td><td>       </td><td>True       </td><td>()          </td><td>float64</td><td>0.6149842945218603                                  </td></tr>\n",
       "<tr><td>SVGP.kernel.kernels[12].kernels[2].variance        </td><td>Parameter</td><td>Softplus        </td><td>       </td><td>True       </td><td>()          </td><td>float64</td><td>0.6149842945218599                                  </td></tr>\n",
       "<tr><td>SVGP.kernel.kernels[12].kernels[2].lengthscales    </td><td>Parameter</td><td>Softplus        </td><td>       </td><td>True       </td><td>(160,)      </td><td>float64</td><td>[1.34155577, 1.34154575, 1.34515554...              </td></tr>\n",
       "<tr><td>SVGP.kernel.kernels[12].kernels[2].alpha           </td><td>Parameter</td><td>Softplus        </td><td>       </td><td>True       </td><td>()          </td><td>float64</td><td>1.3458245825564572                                  </td></tr>\n",
       "<tr><td>SVGP.kernel.kernels[13].kernels[0].variance        </td><td>Parameter</td><td>Softplus        </td><td>       </td><td>True       </td><td>()          </td><td>float64</td><td>0.6149915701901874                                  </td></tr>\n",
       "<tr><td>SVGP.kernel.kernels[13].kernels[0].lengthscales    </td><td>Parameter</td><td>Softplus        </td><td>       </td><td>True       </td><td>(160,)      </td><td>float64</td><td>[1.30213752, 1.30210076, 1.31136...                 </td></tr>\n",
       "<tr><td>SVGP.kernel.kernels[13].kernels[1].variance        </td><td>Parameter</td><td>Softplus        </td><td>       </td><td>True       </td><td>()          </td><td>float64</td><td>0.6149915701901874                                  </td></tr>\n",
       "<tr><td>SVGP.kernel.kernels[13].kernels[2].variance        </td><td>Parameter</td><td>Softplus        </td><td>       </td><td>True       </td><td>()          </td><td>float64</td><td>0.6149915701901876                                  </td></tr>\n",
       "<tr><td>SVGP.kernel.kernels[13].kernels[2].lengthscales    </td><td>Parameter</td><td>Softplus        </td><td>       </td><td>True       </td><td>(160,)      </td><td>float64</td><td>[1.32168027, 1.32162321, 1.32670977...              </td></tr>\n",
       "<tr><td>SVGP.kernel.kernels[13].kernels[2].alpha           </td><td>Parameter</td><td>Softplus        </td><td>       </td><td>True       </td><td>()          </td><td>float64</td><td>1.3158548072260345                                  </td></tr>\n",
       "<tr><td>SVGP.kernel.kernels[14].kernels[0].variance        </td><td>Parameter</td><td>Softplus        </td><td>       </td><td>True       </td><td>()          </td><td>float64</td><td>0.6149845232863768                                  </td></tr>\n",
       "<tr><td>SVGP.kernel.kernels[14].kernels[0].lengthscales    </td><td>Parameter</td><td>Softplus        </td><td>       </td><td>True       </td><td>(160,)      </td><td>float64</td><td>[1.32284724, 1.32299646, 1.32771718...              </td></tr>\n",
       "<tr><td>SVGP.kernel.kernels[14].kernels[1].variance        </td><td>Parameter</td><td>Softplus        </td><td>       </td><td>True       </td><td>()          </td><td>float64</td><td>0.6149845232863765                                  </td></tr>\n",
       "<tr><td>SVGP.kernel.kernels[14].kernels[2].variance        </td><td>Parameter</td><td>Softplus        </td><td>       </td><td>True       </td><td>()          </td><td>float64</td><td>0.6149845232863764                                  </td></tr>\n",
       "<tr><td>SVGP.kernel.kernels[14].kernels[2].lengthscales    </td><td>Parameter</td><td>Softplus        </td><td>       </td><td>True       </td><td>(160,)      </td><td>float64</td><td>[1.33953896, 1.33966748, 1.34262171...              </td></tr>\n",
       "<tr><td>SVGP.kernel.kernels[14].kernels[2].alpha           </td><td>Parameter</td><td>Softplus        </td><td>       </td><td>True       </td><td>()          </td><td>float64</td><td>1.3419278375388457                                  </td></tr>\n",
       "<tr><td>SVGP.kernel.kernels[15].kernels[0].variance        </td><td>Parameter</td><td>Softplus        </td><td>       </td><td>True       </td><td>()          </td><td>float64</td><td>0.6149834213713291                                  </td></tr>\n",
       "<tr><td>SVGP.kernel.kernels[15].kernels[0].lengthscales    </td><td>Parameter</td><td>Softplus        </td><td>       </td><td>True       </td><td>(160,)      </td><td>float64</td><td>[1.3244582, 1.32420428, 1.32972105...               </td></tr>\n",
       "<tr><td>SVGP.kernel.kernels[15].kernels[1].variance        </td><td>Parameter</td><td>Softplus        </td><td>       </td><td>True       </td><td>()          </td><td>float64</td><td>0.6149834213713299                                  </td></tr>\n",
       "<tr><td>SVGP.kernel.kernels[15].kernels[2].variance        </td><td>Parameter</td><td>Softplus        </td><td>       </td><td>True       </td><td>()          </td><td>float64</td><td>0.6149834213713286                                  </td></tr>\n",
       "<tr><td>SVGP.kernel.kernels[15].kernels[2].lengthscales    </td><td>Parameter</td><td>Softplus        </td><td>       </td><td>True       </td><td>(160,)      </td><td>float64</td><td>[1.34128078, 1.34108269, 1.34470271...              </td></tr>\n",
       "<tr><td>SVGP.kernel.kernels[15].kernels[2].alpha           </td><td>Parameter</td><td>Softplus        </td><td>       </td><td>True       </td><td>()          </td><td>float64</td><td>1.3422817790178805                                  </td></tr>\n",
       "<tr><td>SVGP.likelihood.variance                           </td><td>Parameter</td><td>Softplus + Shift</td><td>       </td><td>True       </td><td>()          </td><td>float64</td><td>1.4544931079023444                                  </td></tr>\n",
       "<tr><td>SVGP.inducing_variable.inducing_variable_list[0].Z </td><td>Parameter</td><td>Identity        </td><td>       </td><td>True       </td><td>(15, 160)   </td><td>float64</td><td>[[-0.77759784, -0.80017112, 1.01785514...           </td></tr>\n",
       "<tr><td>SVGP.inducing_variable.inducing_variable_list[1].Z </td><td>Parameter</td><td>Identity        </td><td>       </td><td>True       </td><td>(15, 160)   </td><td>float64</td><td>[[-0.77759846, -0.80022141, 1.01777252...           </td></tr>\n",
       "<tr><td>SVGP.inducing_variable.inducing_variable_list[2].Z </td><td>Parameter</td><td>Identity        </td><td>       </td><td>True       </td><td>(15, 160)   </td><td>float64</td><td>[[-0.7776022, -0.80028634, 1.01779938...            </td></tr>\n",
       "<tr><td>SVGP.inducing_variable.inducing_variable_list[3].Z </td><td>Parameter</td><td>Identity        </td><td>       </td><td>True       </td><td>(15, 160)   </td><td>float64</td><td>[[-0.77764743, -0.80026542, 1.01787012...           </td></tr>\n",
       "<tr><td>SVGP.inducing_variable.inducing_variable_list[4].Z </td><td>Parameter</td><td>Identity        </td><td>       </td><td>True       </td><td>(15, 160)   </td><td>float64</td><td>[[-0.77764549, -0.80026318, 1.01787007...           </td></tr>\n",
       "<tr><td>SVGP.inducing_variable.inducing_variable_list[5].Z </td><td>Parameter</td><td>Identity        </td><td>       </td><td>True       </td><td>(15, 160)   </td><td>float64</td><td>[[-0.77762836, -0.80024916, 1.01783966...           </td></tr>\n",
       "<tr><td>SVGP.inducing_variable.inducing_variable_list[6].Z </td><td>Parameter</td><td>Identity        </td><td>       </td><td>True       </td><td>(15, 160)   </td><td>float64</td><td>[[-0.77758206, -0.80019237, 1.01776056...           </td></tr>\n",
       "<tr><td>SVGP.inducing_variable.inducing_variable_list[7].Z </td><td>Parameter</td><td>Identity        </td><td>       </td><td>True       </td><td>(15, 160)   </td><td>float64</td><td>[[-0.77769602, -0.80019264, 1.01778153...           </td></tr>\n",
       "<tr><td>SVGP.inducing_variable.inducing_variable_list[8].Z </td><td>Parameter</td><td>Identity        </td><td>       </td><td>True       </td><td>(15, 160)   </td><td>float64</td><td>[[-0.77763599, -0.80024411, 1.01788637...           </td></tr>\n",
       "<tr><td>SVGP.inducing_variable.inducing_variable_list[9].Z </td><td>Parameter</td><td>Identity        </td><td>       </td><td>True       </td><td>(15, 160)   </td><td>float64</td><td>[[-0.77761437, -0.80029781, 1.01780344...           </td></tr>\n",
       "<tr><td>SVGP.inducing_variable.inducing_variable_list[10].Z</td><td>Parameter</td><td>Identity        </td><td>       </td><td>True       </td><td>(15, 160)   </td><td>float64</td><td>[[-0.77771096, -0.80018068, 1.01776814...           </td></tr>\n",
       "<tr><td>SVGP.inducing_variable.inducing_variable_list[11].Z</td><td>Parameter</td><td>Identity        </td><td>       </td><td>True       </td><td>(15, 160)   </td><td>float64</td><td>[[-0.77758804, -0.80017701, 1.01775931...           </td></tr>\n",
       "<tr><td>SVGP.inducing_variable.inducing_variable_list[12].Z</td><td>Parameter</td><td>Identity        </td><td>       </td><td>True       </td><td>(15, 160)   </td><td>float64</td><td>[[-0.77759243, -0.80018131, 1.01775482...           </td></tr>\n",
       "<tr><td>SVGP.inducing_variable.inducing_variable_list[13].Z</td><td>Parameter</td><td>Identity        </td><td>       </td><td>True       </td><td>(15, 160)   </td><td>float64</td><td>[[-0.77770018, -0.80024366, 1.01778597...           </td></tr>\n",
       "<tr><td>SVGP.inducing_variable.inducing_variable_list[14].Z</td><td>Parameter</td><td>Identity        </td><td>       </td><td>True       </td><td>(15, 160)   </td><td>float64</td><td>[[-0.77759348, -0.80018232, 1.01775788...           </td></tr>\n",
       "<tr><td>SVGP.inducing_variable.inducing_variable_list[15].Z</td><td>Parameter</td><td>Identity        </td><td>       </td><td>True       </td><td>(15, 160)   </td><td>float64</td><td>[[-0.77759348, -0.80018008, 1.01776397...           </td></tr>\n",
       "<tr><td>SVGP.q_mu                                          </td><td>Parameter</td><td>Identity        </td><td>       </td><td>False      </td><td>(15, 16)    </td><td>float64</td><td>[[0.17543605, 0.12823477, 0.31731203...             </td></tr>\n",
       "<tr><td>SVGP.q_sqrt                                        </td><td>Parameter</td><td>FillTriangular  </td><td>       </td><td>False      </td><td>(16, 15, 15)</td><td>float64</td><td>[[[2.26911639e-01, 0.00000000e+00, 0.00000000e+00...</td></tr>\n",
       "</tbody>\n",
       "</table>"
      ],
      "text/plain": [
       "<IPython.core.display.HTML object>"
      ]
     },
     "metadata": {},
     "output_type": "display_data"
    }
   ],
   "source": [
    "print_summary(m)"
   ]
  },
  {
   "cell_type": "code",
   "execution_count": null,
   "metadata": {},
   "outputs": [],
   "source": [
    "kern_list"
   ]
  },
  {
   "cell_type": "code",
   "execution_count": null,
   "metadata": {},
   "outputs": [],
   "source": []
  }
 ],
 "metadata": {
  "kernelspec": {
   "display_name": "Python 3",
   "language": "python",
   "name": "python3"
  },
  "language_info": {
   "codemirror_mode": {
    "name": "ipython",
    "version": 3
   },
   "file_extension": ".py",
   "mimetype": "text/x-python",
   "name": "python",
   "nbconvert_exporter": "python",
   "pygments_lexer": "ipython3",
   "version": "3.8.5"
  }
 },
 "nbformat": 4,
 "nbformat_minor": 5
}
