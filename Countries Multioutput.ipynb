{
 "cells": [
  {
   "cell_type": "code",
   "execution_count": 1,
   "metadata": {},
   "outputs": [
    {
     "name": "stderr",
     "output_type": "stream",
     "text": [
      "<ipython-input-1-c790307d65ce>:25: FutureWarning: Passing a negative integer is deprecated in version 1.0 and will not be supported in future version. Instead, use None to not limit the column width.\n",
      "  pd.set_option('display.max_colwidth', -1)\n"
     ]
    }
   ],
   "source": [
    "import warnings\n",
    "import pandas as pd\n",
    "from itertools import cycle\n",
    "import gpflow\n",
    "import numpy as np\n",
    "from scipy import linalg\n",
    "from gpflow.utilities import print_summary, positive\n",
    "from gpflow.ci_utils import ci_niter\n",
    "from gpflow.optimizers import NaturalGradient\n",
    "from gpflow import set_trainable\n",
    "import tensorflow as tf\n",
    "import tensorflow_probability as tfp\n",
    "import matplotlib.pyplot as plt\n",
    "from matplotlib.gridspec import GridSpec\n",
    "import seaborn as sns\n",
    "from sklearn import preprocessing\n",
    "from sklearn.model_selection import train_test_split\n",
    "from collections import namedtuple\n",
    "import statsmodels.api as sm\n",
    "import timeit\n",
    "\n",
    "sns.set(style=\"white\")\n",
    "pd.set_option('display.max_columns', None)\n",
    "pd.set_option('display.width', None)\n",
    "pd.set_option('display.max_colwidth', -1)\n",
    "\n",
    "np.random.seed(123)\n",
    "\n",
    "gpflow.config.set_default_float(np.float64)\n",
    "gpflow.config.set_default_summary_fmt(\"notebook\")"
   ]
  },
  {
   "cell_type": "code",
   "execution_count": 37,
   "metadata": {},
   "outputs": [],
   "source": [
    "def country_selection(country_name, loc_mobility=None, loc_covid=None, print_summary=True, plots=True):\n",
    "    \n",
    "    avaliable_countries = [\"Germany\", \"Japan\", \"Australia\", \"Canada\", \n",
    "                          \"United States\", \"South Korea\", \"Italy\", \"Argentina\", \n",
    "                          \"Turkey\", \"Thailand\", \"Colombia\", \"Mexico\",\n",
    "                          \"India\", \"Kenya\", \"Bolivia\", \"Egypt\"]\n",
    "    \n",
    "    if country_name not in avaliable_countries:\n",
    "        warnings.warn(\"The selected country might not have optimal COVID data.\")\n",
    "    else:\n",
    "        # https://en.wikipedia.org/wiki/List_of_countries_by_inequality-adjusted_HDI\n",
    "        if country_name in [\"Germany\", \"Japan\", \"Australia\", \"Canada\"]:\n",
    "            # Tier 1: 0.800–1.000 (very high)\n",
    "            tier = 1         \n",
    "        elif country_name in [\"United States\", \"South Korea\", \"Italy\", \"Argentina\"]:\n",
    "            # Tier 2: 0.700–0.799 (high)\n",
    "            tier = 2\n",
    "        elif country_name in [\"Turkey\", \"Thailand\", \"Algeria\", \"Mexico\"]:\n",
    "            # Tier 3: 0.550–0.699 (medium)\n",
    "            tier = 3\n",
    "        else:\n",
    "            # Tier 4: 0.350–0.549 (low)\n",
    "            tier = 4\n",
    "            \n",
    "    if loc_mobility==None:\n",
    "        loc_mobility=\"./Data/Google/Global_Mobility_Report.csv\"\n",
    "        \n",
    "    mobility_data = pd.read_csv(loc_mobility, \n",
    "                                encoding=\"ISO-8859-1\", \n",
    "                                parse_dates=[\"date\"],\n",
    "                                dayfirst=True, low_memory=False)\n",
    "    \n",
    "    mobility_data = mobility_data[\n",
    "        (mobility_data[\"country_region\"]==country_name) & \n",
    "        (mobility_data[\"sub_region_1\"].isnull()) & \n",
    "        (mobility_data[\"metro_area\"].isnull())]\n",
    "    mobility_data = mobility_data.iloc[:,7:].reset_index(drop=True) # keep only relevant columns\n",
    "    mobility_data.iloc[:,1:] = mobility_data.iloc[:,1:].apply(lambda x: x/100 + 1)\n",
    "    \n",
    "    mobility_data = pd.DataFrame({\n",
    "        \"date\": mobility_data[\"date\"],\n",
    "        \"HOME\": mobility_data['residential_percent_change_from_baseline'],\n",
    "        \"WORK\": mobility_data['workplaces_percent_change_from_baseline'],\n",
    "        \"RECREATIONAL\": mobility_data['retail_and_recreation_percent_change_from_baseline'],\n",
    "        \"OTHER\": mobility_data.iloc[:,2:5].mean(axis=1)\n",
    "    })\n",
    "    mobility_data.reset_index(drop=True, inplace=True)\n",
    "    \n",
    "    if loc_covid==None:\n",
    "        loc_covid=\"./Data/Microsoft/COVID_CASES.csv\"\n",
    "     # COVID Cases from Microsoft, includes Recovered and Infected\n",
    "    ms_covid = pd.read_csv(loc_covid, \n",
    "                           encoding=\"ISO-8859-1\",\n",
    "                           parse_dates=[\"Updated\"],\n",
    "                           dayfirst=False, low_memory=False)\n",
    "    \n",
    "    ms_covid = ms_covid[(ms_covid[\"Country_Region\"]==country_name) & (ms_covid[\"AdminRegion1\"].isnull())]\n",
    "    ms_covid = ms_covid.loc[:,[\"Updated\", \"Confirmed\", \"ConfirmedChange\", \"Deaths\", \"Recovered\"]]   \n",
    "    \n",
    "    # Create the 3 categories S, I, R for US data (UK does not include R)\n",
    "    ms_covid = ms_covid.fillna(method='ffill').fillna(0)\n",
    "\n",
    "    # DIFF: Instead of smoothing the I, Daily cases and S, ammend the problematic R value @ 2020-07-18\n",
    "    # To match the next 2020-07-19\n",
    "    if country_name==\"United States\":\n",
    "        ms_covid.iloc[178, 4] = 1117084.0\n",
    "        \n",
    "    # Read the countries population from World Bank Database 2019\n",
    "    pop_dt = pd.read_excel(\n",
    "        \"./Data/Population/Data_Extract_From_World_Development_Indicators.xls\")\n",
    "    \n",
    "\n",
    "    population_size = pop_dt.loc[pop_dt.CountryName==country_name, \"Total\"].values[0]\n",
    "    \n",
    "    ms_covid[\"I\"] = ms_covid[\"Confirmed\"] - ms_covid[\"Deaths\"] - ms_covid[\"Recovered\"]\n",
    "    ms_covid.drop([\"Confirmed\", \"Deaths\", \"Recovered\"], axis=1, inplace=True)\n",
    "    ms_covid[\"S\"] = population_size - ms_covid[\"I\"]\n",
    "    ms_covid[\"index\"] = ms_covid[\"Updated\"].dt.dayofyear\n",
    "\n",
    "    # DIFF: Create a time variable\n",
    "    # If we have a weekend then assign 0 or weekday 1\n",
    "    ms_covid[\"WEEKDAY\"] = (ms_covid[\"Updated\"].dt.dayofweek < 5).astype(int)\n",
    "    \n",
    "    ms_covid[\"ConfirmedChange\"] = np.log(ms_covid[\"ConfirmedChange\"].rolling(7).median()+1)\n",
    "    ms_covid[\"I\"] = ms_covid[\"I\"].rolling(7).median()\n",
    "    ms_covid[\"S\"] = ms_covid[\"S\"].rolling(7).median()\n",
    "\n",
    "    ms_covid.dropna(inplace=True)\n",
    "    ms_covid.reset_index(drop=True, inplace=True)\n",
    "    \n",
    "    final_data = ms_covid.set_index(\"Updated\").merge(\n",
    "    mobility_data.set_index(\"date\"), how='left', left_index=True, right_index=True).reset_index()\n",
    "    final_data.dropna(inplace=True)\n",
    "    final_data.reset_index(drop=True, inplace=True)\n",
    "    final_data.columns.values[0] = \"Updated\"\n",
    "    \n",
    "    if plots:\n",
    "        \n",
    "        fig, axs = plt.subplots(nrows=2, ncols=3, figsize=(20, 4))\n",
    "        fig.suptitle(\"{0} is a Tier {1} country in IHDI\".format(country_name, int(tier)), fontsize=16)\n",
    "        final_data.set_index(\"Updated\")[[\"ConfirmedChange\"]].plot(ax=axs[0, 0])\n",
    "        final_data.set_index(\"Updated\")[[\"I\"]].plot(ax=axs[0, 1])\n",
    "        final_data.set_index(\"Updated\")[[\"S\"]].plot(ax=axs[0, 2])\n",
    "        final_data.set_index(\"Updated\")[[\"HOME\"]].plot(ax=axs[1, 0])\n",
    "        final_data.set_index(\"Updated\")[[\"WORK\"]].plot(ax=axs[1, 1])\n",
    "        final_data.set_index(\"Updated\")[[\"OTHER\"]].plot(ax=axs[1, 2])\n",
    "    \n",
    "    if print_summary:\n",
    "        print(round(final_data.describe(), 3))\n",
    "    \n",
    "    return(final_data)"
   ]
  },
  {
   "cell_type": "code",
   "execution_count": 38,
   "metadata": {},
   "outputs": [],
   "source": [
    "def create_multioutput_table(long=False):\n",
    "    \n",
    "    countries_list = [\"Germany\", \"Japan\", \"Australia\", \"Canada\", \n",
    "                      \"United States\", \"South Korea\", \"Italy\", \"Argentina\", \n",
    "                      \"Turkey\", \"Thailand\", \"Colombia\", \"Mexico\",\n",
    "                      \"India\", \"Kenya\", \"Bolivia\", \"Egypt\"]\n",
    "    \n",
    "    if long: # Long table format. We create a column to name each country and we concat the tables.\n",
    "        for i, country_name in enumerate(countries_list):\n",
    "\n",
    "            print(\"\\n Read {0} and extract the data...{1}\".format(country_name, i))\n",
    "\n",
    "            if i==0:\n",
    "                final_data = country_selection(country_name, print_summary=False, plots=False)\n",
    "                final_data[\"Country\"] = country_name\n",
    "            else:\n",
    "                data_batch = country_selection(country_name, print_summary=False, plots=False)\n",
    "                data_batch[\"Country\"] = country_name\n",
    "                final_data = pd.concat([final_data, data_batch], axis=0)\n",
    "            \n",
    "    else: # We add each country's table as a column extension. We add a suffix on each column country-group.\n",
    "        for i, country_name in enumerate(countries_list):\n",
    "            \n",
    "            print(\"\\n Read {0} and extract the data...{1}\".format(country_name, i))\n",
    "            \n",
    "            if i==0:\n",
    "                final_data = country_selection(country_name, print_summary=False, plots=False)\n",
    "                final_data.columns = [str(col) + '_' + str(country_name) for col in final_data.columns]\n",
    "            else:    \n",
    "                data_batch = country_selection(country_name, print_summary=False, plots=False)\n",
    "                data_batch.columns = [str(col) + '_' + str(country_name) for col in data_batch.columns]\n",
    "                final_data = pd.concat([final_data, data_batch], axis=1)\n",
    "\n",
    "        \n",
    "    return(final_data) "
   ]
  },
  {
   "cell_type": "code",
   "execution_count": 39,
   "metadata": {},
   "outputs": [
    {
     "name": "stdout",
     "output_type": "stream",
     "text": [
      "\n",
      " Read Germany and extract the data...0\n",
      "\n",
      " Read Japan and extract the data...1\n",
      "\n",
      " Read Australia and extract the data...2\n",
      "\n",
      " Read Canada and extract the data...3\n",
      "\n",
      " Read United States and extract the data...4\n",
      "\n",
      " Read South Korea and extract the data...5\n",
      "\n",
      " Read Italy and extract the data...6\n",
      "\n",
      " Read Argentina and extract the data...7\n",
      "\n",
      " Read Turkey and extract the data...8\n",
      "\n",
      " Read Thailand and extract the data...9\n",
      "\n",
      " Read Colombia and extract the data...10\n",
      "\n",
      " Read Mexico and extract the data...11\n",
      "\n",
      " Read India and extract the data...12\n",
      "\n",
      " Read Kenya and extract the data...13\n",
      "\n",
      " Read Bolivia and extract the data...14\n",
      "\n",
      " Read Egypt and extract the data...15\n"
     ]
    }
   ],
   "source": [
    "final_data = create_multioutput_table()"
   ]
  },
  {
   "cell_type": "code",
   "execution_count": 40,
   "metadata": {},
   "outputs": [
    {
     "data": {
      "text/plain": [
       "(164, 160)"
      ]
     },
     "execution_count": 40,
     "metadata": {},
     "output_type": "execute_result"
    }
   ],
   "source": [
    "final_data.shape"
   ]
  },
  {
   "cell_type": "markdown",
   "metadata": {},
   "source": [
    "## Data Preprocessing (similar to the experiment.py)"
   ]
  },
  {
   "cell_type": "markdown",
   "metadata": {},
   "source": [
    "I will not create a class for that since we wish to check a very specific task.\n",
    "The GP model that I will use is going to be the "
   ]
  },
  {
   "cell_type": "code",
   "execution_count": null,
   "metadata": {},
   "outputs": [],
   "source": []
  },
  {
   "cell_type": "code",
   "execution_count": 41,
   "metadata": {},
   "outputs": [],
   "source": [
    "# Drop rows with missing values\n",
    "# In this particular example are going to be 20-30 bottom rows. \n",
    "final_data.dropna(axis=0, inplace=True)"
   ]
  },
  {
   "cell_type": "code",
   "execution_count": 42,
   "metadata": {},
   "outputs": [],
   "source": [
    "# Split the dataset\n",
    "y = final_data.filter(regex='^ConfirmedChange', axis=1).to_numpy() # Extract columns that contain each country's daily COVID cases\n",
    "y_cols = final_data.filter(regex='^ConfirmedChange', axis=1).columns\n",
    "\n",
    "\n",
    "X = final_data.drop(final_data.filter(regex='^Updated|^Confirmed', axis=1).columns, axis=1).to_numpy() # Extract mobility and SI data for each country\n",
    "X_cols = final_data.drop(final_data.filter(regex='^Updated|^Confirmed', axis=1).columns, axis=1).columns\n",
    "\n",
    "X_train, X_test = X[:-21,:], X[-21:,:]\n",
    "y_train, y_test = y[:-21,:], y[-21:,:]\n",
    "\n",
    "y_scaler = preprocessing.StandardScaler().fit(y_train)\n",
    "y_train = y_scaler.transform(y_train)\n",
    "y_test = y_scaler.transform(y_test)\n",
    "#y = y_scaler.transform(y)\n",
    "\n",
    "x_scaler = preprocessing.StandardScaler().fit(X_train)\n",
    "X_train = x_scaler.transform(X_train)\n",
    "X_test = x_scaler.transform(X_test)\n",
    "#X = x_scaler.transform(X)"
   ]
  },
  {
   "cell_type": "code",
   "execution_count": 44,
   "metadata": {},
   "outputs": [
    {
     "data": {
      "text/plain": [
       "Index(['I_Germany', 'S_Germany', 'index_Germany', 'WEEKDAY_Germany',\n",
       "       'HOME_Germany', 'WORK_Germany', 'RECREATIONAL_Germany',\n",
       "       'OTHER_Germany'],\n",
       "      dtype='object')"
      ]
     },
     "execution_count": 44,
     "metadata": {},
     "output_type": "execute_result"
    }
   ],
   "source": [
    "X_cols[list(range(0, 8))]"
   ]
  },
  {
   "cell_type": "code",
   "execution_count": 45,
   "metadata": {},
   "outputs": [
    {
     "name": "stdout",
     "output_type": "stream",
     "text": [
      "The shape of y is: (131, 16) and the shape of X is: (131, 128)\n",
      "The shape of X_train is: (110, 128) and the shape of X_test is: (21, 128)\n"
     ]
    }
   ],
   "source": [
    "print(\"The shape of y is: {0} and the shape of X is: {1}\".format(y.shape, X.shape))\n",
    "print(\"The shape of X_train is: {0} and the shape of X_test is: {1}\".format(X_train.shape, X_test.shape))"
   ]
  },
  {
   "cell_type": "code",
   "execution_count": 46,
   "metadata": {},
   "outputs": [],
   "source": [
    "countries_list = [\"Germany\", \"Japan\", \"Australia\", \"Canada\",\n",
    "                  \"United States\", \"South Korea\", \"Italy\", \"Argentina\", \n",
    "                  \"Turkey\", \"Thailand\", \"Colombia\", \"Mexico\",\n",
    "                  \"India\", \"Kenya\", \"Bolivia\", \"Egypt\"]"
   ]
  },
  {
   "cell_type": "code",
   "execution_count": 53,
   "metadata": {},
   "outputs": [],
   "source": [
    "# !! Simplified model to make it run\n",
    "P = len(y_cols)\n",
    "\n",
    "# Create list of kernels for each output\n",
    "kern_list = [gpflow.kernels.SquaredExponential(lengthscales=np.ones(8), active_dims=list(range(_, _+8))) * \\\n",
    "             gpflow.kernels.Linear(active_dims=list(range(_, _+8))) *  \\\n",
    "             gpflow.kernels.RationalQuadratic(lengthscales=np.ones(8), active_dims=list(range(_, _+8))) for _ in range(P)]\n",
    "# Create multi-output kernel from kernel list\n",
    "kernel = gpflow.kernels.SeparateIndependent(kern_list)\n",
    "\n",
    "Zinit = X_train[np.random.randint(X_train.shape[0], size=15), :]\n",
    "# initialization of inducing input locations, one set of locations per output\n",
    "Zs = [Zinit.copy() for _ in range(P)]\n",
    "# initialize as list inducing inducing variables\n",
    "iv_list = [gpflow.inducing_variables.InducingPoints(Z) for Z in Zs]\n",
    "# create multi-output inducing variables from iv_list\n",
    "iv = gpflow.inducing_variables.SeparateIndependentInducingVariables(iv_list)"
   ]
  },
  {
   "cell_type": "code",
   "execution_count": 54,
   "metadata": {},
   "outputs": [],
   "source": [
    "# create SVGP model\n",
    "m = gpflow.models.SVGP(kernel, gpflow.likelihoods.Gaussian(), inducing_variable=iv, num_latent_gps=P)"
   ]
  },
  {
   "cell_type": "code",
   "execution_count": 55,
   "metadata": {},
   "outputs": [],
   "source": [
    "#print_summary(m)"
   ]
  },
  {
   "cell_type": "code",
   "execution_count": 56,
   "metadata": {},
   "outputs": [],
   "source": [
    "# Stop Adam from optimizing the variational parameters\n",
    "set_trainable(m.q_mu, False)\n",
    "set_trainable(m.q_sqrt, False)\n",
    "\n",
    "adam_opt = tf.optimizers.Adam(0.01)\n",
    "natgrad_opt = NaturalGradient(gamma=0.1)\n",
    "\n",
    "variational_params = [(m.q_mu, m.q_sqrt)]\n",
    "\n",
    "train_loss = m.training_loss_closure((X_train, y_train))"
   ]
  },
  {
   "cell_type": "code",
   "execution_count": 57,
   "metadata": {},
   "outputs": [],
   "source": [
    "logf = []\n",
    "length1 = []\n",
    "length2 = []\n",
    "rmse = []\n",
    "\n",
    "for _ in range(ci_niter(1000)):\n",
    "    natgrad_opt.minimize(train_loss, var_list=variational_params)\n",
    "    adam_opt.minimize(train_loss, var_list=m.trainable_variables)\n",
    "    elbo = -train_loss().numpy()\n",
    "    logf.append(elbo)\n",
    "    \n",
    "    length1.append(m.kernel.kernels[0].kernels[0].lengthscales[0].numpy())\n",
    "    length2.append(m.kernel.kernels[0].kernels[0].lengthscales[1].numpy())\n",
    "    \n",
    "    mean_predict, _ = m.predict_y(X_train)\n",
    "    rmse.append(np.sqrt(np.mean((y_train - mean_predict)**2)))\n",
    "    \n",
    "    \n"
   ]
  },
  {
   "cell_type": "code",
   "execution_count": 65,
   "metadata": {},
   "outputs": [
    {
     "data": {
      "text/plain": [
       "(40, 40, 40)"
      ]
     },
     "execution_count": 65,
     "metadata": {},
     "output_type": "execute_result"
    }
   ],
   "source": [
    "# Make data.\n",
    "a = np.arange(-5, 5, 0.25)\n",
    "b = np.arange(-5, 5, 0.25)\n",
    "c = np.arange(-5, 5, 0.25)\n",
    "a, b, c = np.meshgrid(a, b, c)\n",
    "a.shape"
   ]
  },
  {
   "cell_type": "code",
   "execution_count": 66,
   "metadata": {},
   "outputs": [
    {
     "data": {
      "text/plain": [
       "<mpl_toolkits.mplot3d.art3d.Poly3DCollection at 0x7fe242f16be0>"
      ]
     },
     "execution_count": 66,
     "metadata": {},
     "output_type": "execute_result"
    },
    {
     "data": {
      "image/png": "[encoded data removed]",
      "text/plain": [
       "<Figure size 576x288 with 1 Axes>"
      ]
     },
     "metadata": {},
     "output_type": "display_data"
    }
   ],
   "source": [
    "from mpl_toolkits.mplot3d import Axes3D \n",
    "from matplotlib import cm\n",
    "from matplotlib.ticker import LinearLocator, FormatStrFormatter\n",
    "import matplotlib.tri as mtri\n",
    "\n",
    "fig = plt.figure(figsize=plt.figaspect(0.5))\n",
    "\n",
    "# Triangulate parameter space to determine the triangles\n",
    "tri = mtri.Triangulation(np.array(length1), np.array(length2))\n",
    "\n",
    "ax = fig.add_subplot(1, 2, 1, projection='3d')\n",
    "ax.plot_trisurf(np.array(length1), np.array(length2), np.array(rmse), triangles=tri.triangles, cmap=plt.cm.Spectral)"
   ]
  },
  {
   "cell_type": "code",
   "execution_count": 17,
   "metadata": {},
   "outputs": [],
   "source": [
    "mean_test, var_test = m.predict_y(X_test)"
   ]
  },
  {
   "cell_type": "code",
   "execution_count": 18,
   "metadata": {},
   "outputs": [
    {
     "data": {
      "text/plain": [
       "TensorShape([21, 16])"
      ]
     },
     "execution_count": 18,
     "metadata": {},
     "output_type": "execute_result"
    }
   ],
   "source": [
    "mean_test.shape"
   ]
  },
  {
   "cell_type": "code",
   "execution_count": 29,
   "metadata": {},
   "outputs": [
    {
     "data": {
      "text/plain": [
       "1.4987461127871893"
      ]
     },
     "execution_count": 29,
     "metadata": {},
     "output_type": "execute_result"
    }
   ],
   "source": [
    "m.kernel.kernels[0].kernels[0].lengthscales[0].numpy()"
   ]
  },
  {
   "cell_type": "code",
   "execution_count": 15,
   "metadata": {},
   "outputs": [
    {
     "data": {
      "text/html": [
       "<table>\n",
       "<thead>\n",
       "<tr><th>name                                               </th><th>class    </th><th>transform       </th><th>prior  </th><th>trainable  </th><th>shape       </th><th>dtype  </th><th>value                                                </th></tr>\n",
       "</thead>\n",
       "<tbody>\n",
       "<tr><td>SVGP.kernel.kernels[0].kernels[0].variance         </td><td>Parameter</td><td>Softplus        </td><td>       </td><td>True       </td><td>()          </td><td>float64</td><td>0.6156373281552028                                   </td></tr>\n",
       "<tr><td>SVGP.kernel.kernels[0].kernels[0].lengthscales     </td><td>Parameter</td><td>Softplus        </td><td>       </td><td>True       </td><td>(10,)       </td><td>float64</td><td>[1.49874611, 1.49674035, 1.52531016...               </td></tr>\n",
       "<tr><td>SVGP.kernel.kernels[0].kernels[1].variance         </td><td>Parameter</td><td>Softplus        </td><td>       </td><td>True       </td><td>()          </td><td>float64</td><td>0.6156373281552028                                   </td></tr>\n",
       "<tr><td>SVGP.kernel.kernels[0].kernels[2].variance         </td><td>Parameter</td><td>Softplus        </td><td>       </td><td>True       </td><td>()          </td><td>float64</td><td>0.6156373281552028                                   </td></tr>\n",
       "<tr><td>SVGP.kernel.kernels[0].kernels[2].lengthscales     </td><td>Parameter</td><td>Softplus        </td><td>       </td><td>True       </td><td>(10,)       </td><td>float64</td><td>[1.519577, 1.51799452, 1.52318932...                 </td></tr>\n",
       "<tr><td>SVGP.kernel.kernels[0].kernels[2].alpha            </td><td>Parameter</td><td>Softplus        </td><td>       </td><td>True       </td><td>()          </td><td>float64</td><td>0.5693110364756715                                   </td></tr>\n",
       "<tr><td>SVGP.kernel.kernels[1].kernels[0].variance         </td><td>Parameter</td><td>Softplus        </td><td>       </td><td>True       </td><td>()          </td><td>float64</td><td>0.6156642787128673                                   </td></tr>\n",
       "<tr><td>SVGP.kernel.kernels[1].kernels[0].lengthscales     </td><td>Parameter</td><td>Softplus        </td><td>       </td><td>True       </td><td>(10,)       </td><td>float64</td><td>[1.47973485, 1.48493372, 1.48493372...               </td></tr>\n",
       "<tr><td>SVGP.kernel.kernels[1].kernels[1].variance         </td><td>Parameter</td><td>Softplus        </td><td>       </td><td>True       </td><td>()          </td><td>float64</td><td>0.6156642787128673                                   </td></tr>\n",
       "<tr><td>SVGP.kernel.kernels[1].kernels[2].variance         </td><td>Parameter</td><td>Softplus        </td><td>       </td><td>True       </td><td>()          </td><td>float64</td><td>0.6156642787128673                                   </td></tr>\n",
       "<tr><td>SVGP.kernel.kernels[1].kernels[2].lengthscales     </td><td>Parameter</td><td>Softplus        </td><td>       </td><td>True       </td><td>(10,)       </td><td>float64</td><td>[1.50053569, 1.48875873, 1.48875873...               </td></tr>\n",
       "<tr><td>SVGP.kernel.kernels[1].kernels[2].alpha            </td><td>Parameter</td><td>Softplus        </td><td>       </td><td>True       </td><td>()          </td><td>float64</td><td>0.5950829885345024                                   </td></tr>\n",
       "<tr><td>SVGP.kernel.kernels[2].kernels[0].variance         </td><td>Parameter</td><td>Softplus        </td><td>       </td><td>True       </td><td>()          </td><td>float64</td><td>0.6157058570845276                                   </td></tr>\n",
       "<tr><td>SVGP.kernel.kernels[2].kernels[0].lengthscales     </td><td>Parameter</td><td>Softplus        </td><td>       </td><td>True       </td><td>(10,)       </td><td>float64</td><td>[1.50620497, 1.50620497, 1.41316435...               </td></tr>\n",
       "<tr><td>SVGP.kernel.kernels[2].kernels[1].variance         </td><td>Parameter</td><td>Softplus        </td><td>       </td><td>True       </td><td>()          </td><td>float64</td><td>0.6157058570845276                                   </td></tr>\n",
       "<tr><td>SVGP.kernel.kernels[2].kernels[2].variance         </td><td>Parameter</td><td>Softplus        </td><td>       </td><td>True       </td><td>()          </td><td>float64</td><td>0.6157058570845276                                   </td></tr>\n",
       "<tr><td>SVGP.kernel.kernels[2].kernels[2].lengthscales     </td><td>Parameter</td><td>Softplus        </td><td>       </td><td>True       </td><td>(10,)       </td><td>float64</td><td>[1.51274779, 1.51274779, 1.41741...                  </td></tr>\n",
       "<tr><td>SVGP.kernel.kernels[2].kernels[2].alpha            </td><td>Parameter</td><td>Softplus        </td><td>       </td><td>True       </td><td>()          </td><td>float64</td><td>0.580509616206658                                    </td></tr>\n",
       "<tr><td>SVGP.kernel.kernels[3].kernels[0].variance         </td><td>Parameter</td><td>Softplus        </td><td>       </td><td>True       </td><td>()          </td><td>float64</td><td>0.6155821640834002                                   </td></tr>\n",
       "<tr><td>SVGP.kernel.kernels[3].kernels[0].lengthscales     </td><td>Parameter</td><td>Softplus        </td><td>       </td><td>True       </td><td>(10,)       </td><td>float64</td><td>[1.54560108, 1.43953549, 1.84893753...               </td></tr>\n",
       "<tr><td>SVGP.kernel.kernels[3].kernels[1].variance         </td><td>Parameter</td><td>Softplus        </td><td>       </td><td>True       </td><td>()          </td><td>float64</td><td>0.6155821640834003                                   </td></tr>\n",
       "<tr><td>SVGP.kernel.kernels[3].kernels[2].variance         </td><td>Parameter</td><td>Softplus        </td><td>       </td><td>True       </td><td>()          </td><td>float64</td><td>0.6155821640834003                                   </td></tr>\n",
       "<tr><td>SVGP.kernel.kernels[3].kernels[2].lengthscales     </td><td>Parameter</td><td>Softplus        </td><td>       </td><td>True       </td><td>(10,)       </td><td>float64</td><td>[1.55625981, 1.4297366, 1.91733147...                </td></tr>\n",
       "<tr><td>SVGP.kernel.kernels[3].kernels[2].alpha            </td><td>Parameter</td><td>Softplus        </td><td>       </td><td>True       </td><td>()          </td><td>float64</td><td>0.5505959605394181                                   </td></tr>\n",
       "<tr><td>SVGP.kernel.kernels[4].kernels[0].variance         </td><td>Parameter</td><td>Softplus        </td><td>       </td><td>True       </td><td>()          </td><td>float64</td><td>0.6154547187166571                                   </td></tr>\n",
       "<tr><td>SVGP.kernel.kernels[4].kernels[0].lengthscales     </td><td>Parameter</td><td>Softplus        </td><td>       </td><td>True       </td><td>(10,)       </td><td>float64</td><td>[1.4101488, 1.85526972, 1.46725716...                </td></tr>\n",
       "<tr><td>SVGP.kernel.kernels[4].kernels[1].variance         </td><td>Parameter</td><td>Softplus        </td><td>       </td><td>True       </td><td>()          </td><td>float64</td><td>0.6154547187166571                                   </td></tr>\n",
       "<tr><td>SVGP.kernel.kernels[4].kernels[2].variance         </td><td>Parameter</td><td>Softplus        </td><td>       </td><td>True       </td><td>()          </td><td>float64</td><td>0.615454718716657                                    </td></tr>\n",
       "<tr><td>SVGP.kernel.kernels[4].kernels[2].lengthscales     </td><td>Parameter</td><td>Softplus        </td><td>       </td><td>True       </td><td>(10,)       </td><td>float64</td><td>[1.40066729, 1.92441718, 1.45882311...               </td></tr>\n",
       "<tr><td>SVGP.kernel.kernels[4].kernels[2].alpha            </td><td>Parameter</td><td>Softplus        </td><td>       </td><td>True       </td><td>()          </td><td>float64</td><td>0.5352240211320005                                   </td></tr>\n",
       "<tr><td>SVGP.kernel.kernels[5].kernels[0].variance         </td><td>Parameter</td><td>Softplus        </td><td>       </td><td>True       </td><td>()          </td><td>float64</td><td>0.6154950750254603                                   </td></tr>\n",
       "<tr><td>SVGP.kernel.kernels[5].kernels[0].lengthscales     </td><td>Parameter</td><td>Softplus        </td><td>       </td><td>True       </td><td>(10,)       </td><td>float64</td><td>[1.97562615, 1.49739373, 1.5422682...                </td></tr>\n",
       "<tr><td>SVGP.kernel.kernels[5].kernels[1].variance         </td><td>Parameter</td><td>Softplus        </td><td>       </td><td>True       </td><td>()          </td><td>float64</td><td>0.6154950750254602                                   </td></tr>\n",
       "<tr><td>SVGP.kernel.kernels[5].kernels[2].variance         </td><td>Parameter</td><td>Softplus        </td><td>       </td><td>True       </td><td>()          </td><td>float64</td><td>0.6154950750254603                                   </td></tr>\n",
       "<tr><td>SVGP.kernel.kernels[5].kernels[2].lengthscales     </td><td>Parameter</td><td>Softplus        </td><td>       </td><td>True       </td><td>(10,)       </td><td>float64</td><td>[2.04130128, 1.49794161, 1.53182808...               </td></tr>\n",
       "<tr><td>SVGP.kernel.kernels[5].kernels[2].alpha            </td><td>Parameter</td><td>Softplus        </td><td>       </td><td>True       </td><td>()          </td><td>float64</td><td>0.576114363393161                                    </td></tr>\n",
       "<tr><td>SVGP.kernel.kernels[6].kernels[0].variance         </td><td>Parameter</td><td>Softplus        </td><td>       </td><td>True       </td><td>()          </td><td>float64</td><td>0.6155201108400117                                   </td></tr>\n",
       "<tr><td>SVGP.kernel.kernels[6].kernels[0].lengthscales     </td><td>Parameter</td><td>Softplus        </td><td>       </td><td>True       </td><td>(10,)       </td><td>float64</td><td>[1.51185573, 1.53622382, 1.4555502...                </td></tr>\n",
       "<tr><td>SVGP.kernel.kernels[6].kernels[1].variance         </td><td>Parameter</td><td>Softplus        </td><td>       </td><td>True       </td><td>()          </td><td>float64</td><td>0.6155201108400117                                   </td></tr>\n",
       "<tr><td>SVGP.kernel.kernels[6].kernels[2].variance         </td><td>Parameter</td><td>Softplus        </td><td>       </td><td>True       </td><td>()          </td><td>float64</td><td>0.6155201108400118                                   </td></tr>\n",
       "<tr><td>SVGP.kernel.kernels[6].kernels[2].lengthscales     </td><td>Parameter</td><td>Softplus        </td><td>       </td><td>True       </td><td>(10,)       </td><td>float64</td><td>[1.51105235, 1.52879067, 1.45933986...               </td></tr>\n",
       "<tr><td>SVGP.kernel.kernels[6].kernels[2].alpha            </td><td>Parameter</td><td>Softplus        </td><td>       </td><td>True       </td><td>()          </td><td>float64</td><td>0.5384680481703594                                   </td></tr>\n",
       "<tr><td>SVGP.kernel.kernels[7].kernels[0].variance         </td><td>Parameter</td><td>Softplus        </td><td>       </td><td>True       </td><td>()          </td><td>float64</td><td>0.6154895407014308                                   </td></tr>\n",
       "<tr><td>SVGP.kernel.kernels[7].kernels[0].lengthscales     </td><td>Parameter</td><td>Softplus        </td><td>       </td><td>True       </td><td>(10,)       </td><td>float64</td><td>[1.53905692, 1.48854402, 1.48000118...               </td></tr>\n",
       "<tr><td>SVGP.kernel.kernels[7].kernels[1].variance         </td><td>Parameter</td><td>Softplus        </td><td>       </td><td>True       </td><td>()          </td><td>float64</td><td>0.6154895407014308                                   </td></tr>\n",
       "<tr><td>SVGP.kernel.kernels[7].kernels[2].variance         </td><td>Parameter</td><td>Softplus        </td><td>       </td><td>True       </td><td>()          </td><td>float64</td><td>0.6154895407014308                                   </td></tr>\n",
       "<tr><td>SVGP.kernel.kernels[7].kernels[2].lengthscales     </td><td>Parameter</td><td>Softplus        </td><td>       </td><td>True       </td><td>(10,)       </td><td>float64</td><td>[1.5395219, 1.47271864, 1.47164668...                </td></tr>\n",
       "<tr><td>SVGP.kernel.kernels[7].kernels[2].alpha            </td><td>Parameter</td><td>Softplus        </td><td>       </td><td>True       </td><td>()          </td><td>float64</td><td>0.5479856818727512                                   </td></tr>\n",
       "<tr><td>SVGP.kernel.kernels[8].kernels[0].variance         </td><td>Parameter</td><td>Softplus        </td><td>       </td><td>True       </td><td>()          </td><td>float64</td><td>0.6155120504670386                                   </td></tr>\n",
       "<tr><td>SVGP.kernel.kernels[8].kernels[0].lengthscales     </td><td>Parameter</td><td>Softplus        </td><td>       </td><td>True       </td><td>(10,)       </td><td>float64</td><td>[1.52602616, 1.48462044, 1.45038258...               </td></tr>\n",
       "<tr><td>SVGP.kernel.kernels[8].kernels[1].variance         </td><td>Parameter</td><td>Softplus        </td><td>       </td><td>True       </td><td>()          </td><td>float64</td><td>0.6155120504670386                                   </td></tr>\n",
       "<tr><td>SVGP.kernel.kernels[8].kernels[2].variance         </td><td>Parameter</td><td>Softplus        </td><td>       </td><td>True       </td><td>()          </td><td>float64</td><td>0.6155120504670386                                   </td></tr>\n",
       "<tr><td>SVGP.kernel.kernels[8].kernels[2].lengthscales     </td><td>Parameter</td><td>Softplus        </td><td>       </td><td>True       </td><td>(10,)       </td><td>float64</td><td>[1.53925262, 1.4757826, 1.45330793...                </td></tr>\n",
       "<tr><td>SVGP.kernel.kernels[8].kernels[2].alpha            </td><td>Parameter</td><td>Softplus        </td><td>       </td><td>True       </td><td>()          </td><td>float64</td><td>0.5537746914558436                                   </td></tr>\n",
       "<tr><td>SVGP.kernel.kernels[9].kernels[0].variance         </td><td>Parameter</td><td>Softplus        </td><td>       </td><td>True       </td><td>()          </td><td>float64</td><td>0.6155971109629989                                   </td></tr>\n",
       "<tr><td>SVGP.kernel.kernels[9].kernels[0].lengthscales     </td><td>Parameter</td><td>Softplus        </td><td>       </td><td>True       </td><td>(10,)       </td><td>float64</td><td>[1.49740913, 1.43588773, 1.43886199...               </td></tr>\n",
       "<tr><td>SVGP.kernel.kernels[9].kernels[1].variance         </td><td>Parameter</td><td>Softplus        </td><td>       </td><td>True       </td><td>()          </td><td>float64</td><td>0.6155971109629989                                   </td></tr>\n",
       "<tr><td>SVGP.kernel.kernels[9].kernels[2].variance         </td><td>Parameter</td><td>Softplus        </td><td>       </td><td>True       </td><td>()          </td><td>float64</td><td>0.6155971109629989                                   </td></tr>\n",
       "<tr><td>SVGP.kernel.kernels[9].kernels[2].lengthscales     </td><td>Parameter</td><td>Softplus        </td><td>       </td><td>True       </td><td>(10,)       </td><td>float64</td><td>[1.49852731, 1.4521983, 1.43940244...                </td></tr>\n",
       "<tr><td>SVGP.kernel.kernels[9].kernels[2].alpha            </td><td>Parameter</td><td>Softplus        </td><td>       </td><td>True       </td><td>()          </td><td>float64</td><td>0.5717430912566807                                   </td></tr>\n",
       "<tr><td>SVGP.kernel.kernels[10].kernels[0].variance        </td><td>Parameter</td><td>Softplus        </td><td>       </td><td>True       </td><td>()          </td><td>float64</td><td>0.6156196656249947                                   </td></tr>\n",
       "<tr><td>SVGP.kernel.kernels[10].kernels[0].lengthscales    </td><td>Parameter</td><td>Softplus        </td><td>       </td><td>True       </td><td>(10,)       </td><td>float64</td><td>[1.51325551, 1.48946561, 1.48695785...               </td></tr>\n",
       "<tr><td>SVGP.kernel.kernels[10].kernels[1].variance        </td><td>Parameter</td><td>Softplus        </td><td>       </td><td>True       </td><td>()          </td><td>float64</td><td>0.6156196656249947                                   </td></tr>\n",
       "<tr><td>SVGP.kernel.kernels[10].kernels[2].variance        </td><td>Parameter</td><td>Softplus        </td><td>       </td><td>True       </td><td>()          </td><td>float64</td><td>0.6156196656249947                                   </td></tr>\n",
       "<tr><td>SVGP.kernel.kernels[10].kernels[2].lengthscales    </td><td>Parameter</td><td>Softplus        </td><td>       </td><td>True       </td><td>(10,)       </td><td>float64</td><td>[1.48987898, 1.47981718, 1.48103639...               </td></tr>\n",
       "<tr><td>SVGP.kernel.kernels[10].kernels[2].alpha           </td><td>Parameter</td><td>Softplus        </td><td>       </td><td>True       </td><td>()          </td><td>float64</td><td>0.5623922016281776                                   </td></tr>\n",
       "<tr><td>SVGP.kernel.kernels[11].kernels[0].variance        </td><td>Parameter</td><td>Softplus        </td><td>       </td><td>True       </td><td>()          </td><td>float64</td><td>0.6156824839798041                                   </td></tr>\n",
       "<tr><td>SVGP.kernel.kernels[11].kernels[0].lengthscales    </td><td>Parameter</td><td>Softplus        </td><td>       </td><td>True       </td><td>(10,)       </td><td>float64</td><td>[1.51970426, 1.51572743, 1.51572743...               </td></tr>\n",
       "<tr><td>SVGP.kernel.kernels[11].kernels[1].variance        </td><td>Parameter</td><td>Softplus        </td><td>       </td><td>True       </td><td>()          </td><td>float64</td><td>0.6156824839798041                                   </td></tr>\n",
       "<tr><td>SVGP.kernel.kernels[11].kernels[2].variance        </td><td>Parameter</td><td>Softplus        </td><td>       </td><td>True       </td><td>()          </td><td>float64</td><td>0.6156824839798041                                   </td></tr>\n",
       "<tr><td>SVGP.kernel.kernels[11].kernels[2].lengthscales    </td><td>Parameter</td><td>Softplus        </td><td>       </td><td>True       </td><td>(10,)       </td><td>float64</td><td>[1.49398666, 1.50041784, 1.50041784...               </td></tr>\n",
       "<tr><td>SVGP.kernel.kernels[11].kernels[2].alpha           </td><td>Parameter</td><td>Softplus        </td><td>       </td><td>True       </td><td>()          </td><td>float64</td><td>0.5497872316976585                                   </td></tr>\n",
       "<tr><td>SVGP.kernel.kernels[12].kernels[0].variance        </td><td>Parameter</td><td>Softplus        </td><td>       </td><td>True       </td><td>()          </td><td>float64</td><td>0.6158328492625581                                   </td></tr>\n",
       "<tr><td>SVGP.kernel.kernels[12].kernels[0].lengthscales    </td><td>Parameter</td><td>Softplus        </td><td>       </td><td>True       </td><td>(10,)       </td><td>float64</td><td>[1.54202799, 1.54202799, 1.45765307...               </td></tr>\n",
       "<tr><td>SVGP.kernel.kernels[12].kernels[1].variance        </td><td>Parameter</td><td>Softplus        </td><td>       </td><td>True       </td><td>()          </td><td>float64</td><td>0.6158328492625581                                   </td></tr>\n",
       "<tr><td>SVGP.kernel.kernels[12].kernels[2].variance        </td><td>Parameter</td><td>Softplus        </td><td>       </td><td>True       </td><td>()          </td><td>float64</td><td>0.6158328492625581                                   </td></tr>\n",
       "<tr><td>SVGP.kernel.kernels[12].kernels[2].lengthscales    </td><td>Parameter</td><td>Softplus        </td><td>       </td><td>True       </td><td>(10,)       </td><td>float64</td><td>[1.53656661, 1.53656661, 1.45048477...               </td></tr>\n",
       "<tr><td>SVGP.kernel.kernels[12].kernels[2].alpha           </td><td>Parameter</td><td>Softplus        </td><td>       </td><td>True       </td><td>()          </td><td>float64</td><td>0.5540498137656955                                   </td></tr>\n",
       "<tr><td>SVGP.kernel.kernels[13].kernels[0].variance        </td><td>Parameter</td><td>Softplus        </td><td>       </td><td>True       </td><td>()          </td><td>float64</td><td>0.6157057812048107                                   </td></tr>\n",
       "<tr><td>SVGP.kernel.kernels[13].kernels[0].lengthscales    </td><td>Parameter</td><td>Softplus        </td><td>       </td><td>True       </td><td>(10,)       </td><td>float64</td><td>[1.5318103, 1.42891425, 1.85085848...                </td></tr>\n",
       "<tr><td>SVGP.kernel.kernels[13].kernels[1].variance        </td><td>Parameter</td><td>Softplus        </td><td>       </td><td>True       </td><td>()          </td><td>float64</td><td>0.6157057812048107                                   </td></tr>\n",
       "<tr><td>SVGP.kernel.kernels[13].kernels[2].variance        </td><td>Parameter</td><td>Softplus        </td><td>       </td><td>True       </td><td>()          </td><td>float64</td><td>0.6157057812048107                                   </td></tr>\n",
       "<tr><td>SVGP.kernel.kernels[13].kernels[2].lengthscales    </td><td>Parameter</td><td>Softplus        </td><td>       </td><td>True       </td><td>(10,)       </td><td>float64</td><td>[1.52839303, 1.40911133, 1.92076251...               </td></tr>\n",
       "<tr><td>SVGP.kernel.kernels[13].kernels[2].alpha           </td><td>Parameter</td><td>Softplus        </td><td>       </td><td>True       </td><td>()          </td><td>float64</td><td>0.5468570817255229                                   </td></tr>\n",
       "<tr><td>SVGP.kernel.kernels[14].kernels[0].variance        </td><td>Parameter</td><td>Softplus        </td><td>       </td><td>True       </td><td>()          </td><td>float64</td><td>0.6157531313398192                                   </td></tr>\n",
       "<tr><td>SVGP.kernel.kernels[14].kernels[0].lengthscales    </td><td>Parameter</td><td>Softplus        </td><td>       </td><td>True       </td><td>(10,)       </td><td>float64</td><td>[1.4246985, 1.86197938, 1.3968793...                 </td></tr>\n",
       "<tr><td>SVGP.kernel.kernels[14].kernels[1].variance        </td><td>Parameter</td><td>Softplus        </td><td>       </td><td>True       </td><td>()          </td><td>float64</td><td>0.6157531313398192                                   </td></tr>\n",
       "<tr><td>SVGP.kernel.kernels[14].kernels[2].variance        </td><td>Parameter</td><td>Softplus        </td><td>       </td><td>True       </td><td>()          </td><td>float64</td><td>0.6157531313398191                                   </td></tr>\n",
       "<tr><td>SVGP.kernel.kernels[14].kernels[2].lengthscales    </td><td>Parameter</td><td>Softplus        </td><td>       </td><td>True       </td><td>(10,)       </td><td>float64</td><td>[1.41678015, 1.9332611, 1.3935651...                 </td></tr>\n",
       "<tr><td>SVGP.kernel.kernels[14].kernels[2].alpha           </td><td>Parameter</td><td>Softplus        </td><td>       </td><td>True       </td><td>()          </td><td>float64</td><td>0.5514230366657068                                   </td></tr>\n",
       "<tr><td>SVGP.kernel.kernels[15].kernels[0].variance        </td><td>Parameter</td><td>Softplus        </td><td>       </td><td>True       </td><td>()          </td><td>float64</td><td>0.615757007150772                                    </td></tr>\n",
       "<tr><td>SVGP.kernel.kernels[15].kernels[0].lengthscales    </td><td>Parameter</td><td>Softplus        </td><td>       </td><td>True       </td><td>(10,)       </td><td>float64</td><td>[1.86309731, 1.38013309, 1.52252659...               </td></tr>\n",
       "<tr><td>SVGP.kernel.kernels[15].kernels[1].variance        </td><td>Parameter</td><td>Softplus        </td><td>       </td><td>True       </td><td>()          </td><td>float64</td><td>0.615757007150772                                    </td></tr>\n",
       "<tr><td>SVGP.kernel.kernels[15].kernels[2].variance        </td><td>Parameter</td><td>Softplus        </td><td>       </td><td>True       </td><td>()          </td><td>float64</td><td>0.615757007150772                                    </td></tr>\n",
       "<tr><td>SVGP.kernel.kernels[15].kernels[2].lengthscales    </td><td>Parameter</td><td>Softplus        </td><td>       </td><td>True       </td><td>(10,)       </td><td>float64</td><td>[1.93806594, 1.37856878, 1.49322702...               </td></tr>\n",
       "<tr><td>SVGP.kernel.kernels[15].kernels[2].alpha           </td><td>Parameter</td><td>Softplus        </td><td>       </td><td>True       </td><td>()          </td><td>float64</td><td>0.5504526792200342                                   </td></tr>\n",
       "<tr><td>SVGP.likelihood.variance                           </td><td>Parameter</td><td>Softplus + Shift</td><td>       </td><td>True       </td><td>()          </td><td>float64</td><td>1.452539429302643                                    </td></tr>\n",
       "<tr><td>SVGP.inducing_variable.inducing_variable_list[0].Z </td><td>Parameter</td><td>Identity        </td><td>       </td><td>True       </td><td>(15, 160)   </td><td>float64</td><td>[[1.48110904, 1.51071296, -0.63717764...             </td></tr>\n",
       "<tr><td>SVGP.inducing_variable.inducing_variable_list[1].Z </td><td>Parameter</td><td>Identity        </td><td>       </td><td>True       </td><td>(15, 160)   </td><td>float64</td><td>[[1.52236376, 1.51647118, -0.64738119...             </td></tr>\n",
       "<tr><td>SVGP.inducing_variable.inducing_variable_list[2].Z </td><td>Parameter</td><td>Identity        </td><td>       </td><td>True       </td><td>(15, 160)   </td><td>float64</td><td>[[1.52236376, 1.55299902, -0.65826753...             </td></tr>\n",
       "<tr><td>SVGP.inducing_variable.inducing_variable_list[3].Z </td><td>Parameter</td><td>Identity        </td><td>       </td><td>True       </td><td>(15, 160)   </td><td>float64</td><td>[[1.52236376, 1.55299902, -0.69438192...             </td></tr>\n",
       "<tr><td>SVGP.inducing_variable.inducing_variable_list[4].Z </td><td>Parameter</td><td>Identity        </td><td>       </td><td>True       </td><td>(15, 160)   </td><td>float64</td><td>[[1.52236376, 1.55299902, -0.69438192...             </td></tr>\n",
       "<tr><td>SVGP.inducing_variable.inducing_variable_list[5].Z </td><td>Parameter</td><td>Identity        </td><td>       </td><td>True       </td><td>(15, 160)   </td><td>float64</td><td>[[1.52236376, 1.55299902, -0.69438192...             </td></tr>\n",
       "<tr><td>SVGP.inducing_variable.inducing_variable_list[6].Z </td><td>Parameter</td><td>Identity        </td><td>       </td><td>True       </td><td>(15, 160)   </td><td>float64</td><td>[[1.52236376, 1.55299902, -0.69438192...             </td></tr>\n",
       "<tr><td>SVGP.inducing_variable.inducing_variable_list[7].Z </td><td>Parameter</td><td>Identity        </td><td>       </td><td>True       </td><td>(15, 160)   </td><td>float64</td><td>[[1.52236376, 1.55299902, -0.69438192...             </td></tr>\n",
       "<tr><td>SVGP.inducing_variable.inducing_variable_list[8].Z </td><td>Parameter</td><td>Identity        </td><td>       </td><td>True       </td><td>(15, 160)   </td><td>float64</td><td>[[1.52236376, 1.55299902, -0.69438192...             </td></tr>\n",
       "<tr><td>SVGP.inducing_variable.inducing_variable_list[9].Z </td><td>Parameter</td><td>Identity        </td><td>       </td><td>True       </td><td>(15, 160)   </td><td>float64</td><td>[[1.52236376, 1.55299902, -0.69438192...             </td></tr>\n",
       "<tr><td>SVGP.inducing_variable.inducing_variable_list[10].Z</td><td>Parameter</td><td>Identity        </td><td>       </td><td>True       </td><td>(15, 160)   </td><td>float64</td><td>[[1.52236376, 1.55299902, -0.69438192...             </td></tr>\n",
       "<tr><td>SVGP.inducing_variable.inducing_variable_list[11].Z</td><td>Parameter</td><td>Identity        </td><td>       </td><td>True       </td><td>(15, 160)   </td><td>float64</td><td>[[1.52236376, 1.55299902, -0.69438192...             </td></tr>\n",
       "<tr><td>SVGP.inducing_variable.inducing_variable_list[12].Z</td><td>Parameter</td><td>Identity        </td><td>       </td><td>True       </td><td>(15, 160)   </td><td>float64</td><td>[[1.52236376, 1.55299902, -0.69438192...             </td></tr>\n",
       "<tr><td>SVGP.inducing_variable.inducing_variable_list[13].Z</td><td>Parameter</td><td>Identity        </td><td>       </td><td>True       </td><td>(15, 160)   </td><td>float64</td><td>[[1.52236376, 1.55299902, -0.69438192...             </td></tr>\n",
       "<tr><td>SVGP.inducing_variable.inducing_variable_list[14].Z</td><td>Parameter</td><td>Identity        </td><td>       </td><td>True       </td><td>(15, 160)   </td><td>float64</td><td>[[1.52236376, 1.55299902, -0.69438192...             </td></tr>\n",
       "<tr><td>SVGP.inducing_variable.inducing_variable_list[15].Z</td><td>Parameter</td><td>Identity        </td><td>       </td><td>True       </td><td>(15, 160)   </td><td>float64</td><td>[[1.52236376, 1.55299902, -0.69438192...             </td></tr>\n",
       "<tr><td>SVGP.q_mu                                          </td><td>Parameter</td><td>Identity        </td><td>       </td><td>False      </td><td>(15, 16)    </td><td>float64</td><td>[[1.32233787e-02, -2.51071218e-01, -1.36255131e-01...</td></tr>\n",
       "<tr><td>SVGP.q_sqrt                                        </td><td>Parameter</td><td>FillTriangular  </td><td>       </td><td>False      </td><td>(16, 15, 15)</td><td>float64</td><td>[[[3.47921809e-01, 0.00000000e+00, 0.00000000e+00... </td></tr>\n",
       "</tbody>\n",
       "</table>"
      ],
      "text/plain": [
       "<IPython.core.display.HTML object>"
      ]
     },
     "metadata": {},
     "output_type": "display_data"
    }
   ],
   "source": [
    "print_summary(m)"
   ]
  },
  {
   "cell_type": "code",
   "execution_count": null,
   "metadata": {},
   "outputs": [],
   "source": [
    "kern_list"
   ]
  },
  {
   "cell_type": "code",
   "execution_count": null,
   "metadata": {},
   "outputs": [],
   "source": []
  }
 ],
 "metadata": {
  "kernelspec": {
   "display_name": "Python 3",
   "language": "python",
   "name": "python3"
  },
  "language_info": {
   "codemirror_mode": {
    "name": "ipython",
    "version": 3
   },
   "file_extension": ".py",
   "mimetype": "text/x-python",
   "name": "python",
   "nbconvert_exporter": "python",
   "pygments_lexer": "ipython3",
   "version": "3.8.5"
  }
 },
 "nbformat": 4,
 "nbformat_minor": 5
}
