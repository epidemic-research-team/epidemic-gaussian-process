{
 "metadata": {
  "language_info": {
   "codemirror_mode": {
    "name": "ipython",
    "version": 3
   },
   "file_extension": ".py",
   "mimetype": "text/x-python",
   "name": "python",
   "nbconvert_exporter": "python",
   "pygments_lexer": "ipython3",
   "version": 3
  },
  "orig_nbformat": 2
 },
 "nbformat": 4,
 "nbformat_minor": 2,
 "cells": [
  {
   "source": [
    "The SVGP model according to Titsias([2009](http://proceedings.mlr.press/v5/titsias09a/titsias09a.pdf)) and Hensman ([2013](https://arxiv.org/ftp/arxiv/papers/1309/1309.6835.pdf)) has this form for mean and variance:"
   ],
   "cell_type": "markdown",
   "metadata": {}
  },
  {
   "source": [
    "mean = $\\beta K^{-1}_{mm}K_{mn}$"
   ],
   "cell_type": "markdown",
   "metadata": {}
  },
  {
   "cell_type": "code",
   "execution_count": null,
   "metadata": {},
   "outputs": [],
   "source": []
  }
 ]
}