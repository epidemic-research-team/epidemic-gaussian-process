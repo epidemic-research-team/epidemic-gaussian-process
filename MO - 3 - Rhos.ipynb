{
 "cells": [
  {
   "cell_type": "code",
   "execution_count": 8,
   "id": "stuck-grounds",
   "metadata": {
    "scrolled": true
   },
   "outputs": [
    {
     "output_type": "stream",
     "name": "stderr",
     "text": [
      "<ipython-input-8-06da3225ef62>:22: FutureWarning: Passing a negative integer is deprecated in version 1.0 and will not be supported in future version. Instead, use None to not limit the column width.\n  pd.set_option('display.max_colwidth', -1)\n"
     ]
    }
   ],
   "source": [
    "import pandas as pd\n",
    "from itertools import cycle\n",
    "import gpflow\n",
    "import numpy as np\n",
    "from gpflow.utilities import print_summary, positive\n",
    "from gpflow.ci_utils import ci_niter\n",
    "from gpflow.optimizers import NaturalGradient\n",
    "from gpflow import set_trainable\n",
    "import tensorflow as tf\n",
    "import tensorflow_probability as tfp\n",
    "import matplotlib.pyplot as plt\n",
    "import seaborn as sns\n",
    "from sklearn import preprocessing\n",
    "from sklearn.model_selection import train_test_split\n",
    "from collections import namedtuple\n",
    "import statsmodels.api as sm\n",
    "import dill as pickle\n",
    "\n",
    "sns.set(style=\"white\")\n",
    "pd.set_option('display.max_columns', None)\n",
    "pd.set_option('display.width', None)\n",
    "pd.set_option('display.max_colwidth', -1)\n",
    "\n",
    "gpflow.config.set_default_float(np.float64)\n",
    "gpflow.config.set_default_summary_fmt(\"notebook\")"
   ]
  },
  {
   "cell_type": "code",
   "execution_count": 9,
   "id": "dutch-referral",
   "metadata": {},
   "outputs": [],
   "source": [
    "final_data = pd.read_pickle(\"tmp/final_data.pkl\")\n",
    "u0 = pd.read_pickle(\"tmp/u0.pkl\")\n",
    "linear_filters_states = pickle.load(open('tmp/linear_filters_states.pkl', 'rb'))\n",
    "descriptive_stats = pd.read_pickle(\"tmp/residual_descriptive_stats.pkl\")"
   ]
  },
  {
   "cell_type": "code",
   "execution_count": 10,
   "metadata": {},
   "outputs": [
    {
     "output_type": "execute_result",
     "data": {
      "text/plain": [
       "17"
      ]
     },
     "metadata": {},
     "execution_count": 10
    }
   ],
   "source": [
    "len(linear_filters_states)"
   ]
  },
  {
   "cell_type": "code",
   "execution_count": 3,
   "id": "academic-defensive",
   "metadata": {},
   "outputs": [
    {
     "output_type": "error",
     "ename": "NameError",
     "evalue": "name 'linear_filters_states' is not defined",
     "traceback": [
      "\u001b[1;31m---------------------------------------------------------------------------\u001b[0m",
      "\u001b[1;31mNameError\u001b[0m                                 Traceback (most recent call last)",
      "\u001b[1;32m<ipython-input-3-2f3b362fec3a>\u001b[0m in \u001b[0;36m<module>\u001b[1;34m\u001b[0m\n\u001b[1;32m----> 1\u001b[1;33m \u001b[0mORDER\u001b[0m \u001b[1;33m=\u001b[0m \u001b[0mlen\u001b[0m\u001b[1;33m(\u001b[0m\u001b[0mlist\u001b[0m\u001b[1;33m(\u001b[0m\u001b[0mlinear_filters_states\u001b[0m\u001b[1;33m.\u001b[0m\u001b[0mvalues\u001b[0m\u001b[1;33m(\u001b[0m\u001b[1;33m)\u001b[0m\u001b[1;33m)\u001b[0m\u001b[1;33m[\u001b[0m\u001b[1;36m0\u001b[0m\u001b[1;33m]\u001b[0m\u001b[1;33m[\u001b[0m\u001b[1;36m0\u001b[0m\u001b[1;33m]\u001b[0m\u001b[1;33m)\u001b[0m\u001b[1;33m\u001b[0m\u001b[1;33m\u001b[0m\u001b[0m\n\u001b[0m\u001b[0;32m      2\u001b[0m \u001b[0mN\u001b[0m \u001b[1;33m=\u001b[0m \u001b[0mlen\u001b[0m\u001b[1;33m(\u001b[0m\u001b[0mlinear_filters_states\u001b[0m\u001b[1;33m)\u001b[0m\u001b[1;33m\u001b[0m\u001b[1;33m\u001b[0m\u001b[0m\n",
      "\u001b[1;31mNameError\u001b[0m: name 'linear_filters_states' is not defined"
     ]
    }
   ],
   "source": [
    "ORDER = len(list(linear_filters_states.values())[0][0])\n",
    "N = len(linear_filters_states)"
   ]
  },
  {
   "cell_type": "markdown",
   "id": "corresponding-version",
   "metadata": {},
   "source": [
    "## Rhos"
   ]
  },
  {
   "cell_type": "code",
   "execution_count": 7,
   "metadata": {},
   "outputs": [
    {
     "output_type": "execute_result",
     "data": {
      "text/plain": [
       "dict_keys(['Alaska', 'Alabama', 'Arkansas', 'Arizona', 'California', 'Colorado', 'Connecticut', 'District of Columbia', 'Delaware', 'Florida', 'Georgia', 'Hawaii', 'Iowa', 'Idaho', 'Illinois', 'Indiana', 'Kansas'])"
      ]
     },
     "metadata": {},
     "execution_count": 7
    }
   ],
   "source": [
    "results_states.keys()"
   ]
  },
  {
   "cell_type": "code",
   "execution_count": null,
   "metadata": {},
   "outputs": [],
   "source": [
    "\n",
    "state_residual = results_states[\"Alabama\"][1]\n",
    "ORDER = int(descriptive_stats.loc[descriptive_stats.state==\"Alabama\", \"optimal lag\"])\n",
    "rho_, sigma_ = sm.regression.yule_walker(state_residual, order=ORDER, method=\"mle\")\n",
    "len"
   ]
  },
  {
   "cell_type": "code",
   "execution_count": 11,
   "metadata": {},
   "outputs": [
    {
     "output_type": "stream",
     "name": "stdout",
     "text": [
      "0 [-0.20146002  0.15406379  0.57237811]\n1 [-0.22278488  0.04580468  0.01233745 -0.18271465  0.26658548 -0.25023515\n  0.74198619]\n2 [-0.21834862  0.07211645  0.39587389]\n3 [0.16727922]\n4 [0.43604558]\n5 [-0.27697628  0.18866375  0.07644872 -0.32963489  0.7205469 ]\n6 [-0.15439855 -0.09507318 -0.14010959 -0.05250449 -0.06288609  0.33904084]\n7 [-0.18118596  0.08080095 -0.18567735  0.10321467  0.27770449]\n8 [0.11855228 0.61669982]\n9 [-0.15144291 -0.11152191  0.02694584 -0.13236132  0.37332853]\n10 [-0.17916254  0.09956574  0.38960707]\n11 [-0.18129723  0.52955387]\n12 [-0.26272272  0.13068273 -0.01824872 -0.27199511  0.62690492]\n13 [-0.23442645  0.51582658]\n14 [-0.19123557  0.05341087 -0.1232227   0.21293816  0.21019968]\n15 [0.26483504]\n16 [-0.15782528  0.132635    0.30568647]\n"
     ]
    }
   ],
   "source": [
    "for i, (hX, epsX) in enumerate(linear_filters_states.values()):\n",
    "    print(i, hX)"
   ]
  },
  {
   "cell_type": "code",
   "execution_count": 16,
   "metadata": {},
   "outputs": [
    {
     "output_type": "execute_result",
     "data": {
      "text/plain": [
       "0.024908819007078403"
      ]
     },
     "metadata": {},
     "execution_count": 16
    }
   ],
   "source": [
    "-0.15782528*-0.15782528"
   ]
  },
  {
   "cell_type": "code",
   "execution_count": 12,
   "metadata": {},
   "outputs": [
    {
     "output_type": "execute_result",
     "data": {
      "text/plain": [
       "array([ 0.02490882, -0.04186631, -0.03065301])"
      ]
     },
     "metadata": {},
     "execution_count": 12
    }
   ],
   "source": [
    "np.convolve(hX, hX[:-1], mode=\"same\")"
   ]
  },
  {
   "cell_type": "code",
   "execution_count": 13,
   "metadata": {},
   "outputs": [
    {
     "output_type": "execute_result",
     "data": {
      "text/plain": [
       "array([-0.04186631, -0.07889806,  0.08108945])"
      ]
     },
     "metadata": {},
     "execution_count": 13
    }
   ],
   "source": [
    "np.convolve(hX, hX, mode=\"same\")"
   ]
  },
  {
   "cell_type": "code",
   "execution_count": 3,
   "id": "alone-ethnic",
   "metadata": {},
   "outputs": [],
   "source": [
    "times = None\n",
    "for s in final_data.index.unique():\n",
    "    s_times = set(final_data.loc[s, 'Updated'].unique())\n",
    "    if times is None:\n",
    "        times = s_times\n",
    "    else:\n",
    "        times = times.intersection(s_times)"
   ]
  },
  {
   "cell_type": "code",
   "execution_count": 5,
   "id": "reasonable-indicator",
   "metadata": {},
   "outputs": [],
   "source": [
    "u0_ = u0[u0['Updated'].isin(times)]['Residual'].values\n",
    "T = u0_.shape[0]\n",
    "t = np.arange(1, T + 1).reshape(-1, 1)\n",
    "\n",
    "T2 = T - ORDER + 1\n",
    "\n",
    "rhos = np.zeros((T2*N, T2*N))\n",
    "for i, (hX, epsX) in enumerate(linear_filters_states.values()):\n",
    "    for j, (hY, epsY) in enumerate(linear_filters_states.values()):\n",
    "        convol = np.convolve(hX, hY[::-1], mode=\"same\")\n",
    "        for t in range(T2):\n",
    "            data = convol[max(len(convol)//2 - t, 0): min(len(convol), T2 - t + len(convol)//2)]\n",
    "            jstart = j*T2+max(t - len(convol)//2, 0)\n",
    "            jend = jstart + len(data)\n",
    "            rhos[i*T2+t, jstart:jend] = data"
   ]
  },
  {
   "cell_type": "code",
   "execution_count": 6,
   "id": "civil-cruise",
   "metadata": {},
   "outputs": [],
   "source": [
    "# validation\n",
    "for x in range(N):\n",
    "    for y in range(N):\n",
    "        for t in range(T2):\n",
    "            for s in range(T2):\n",
    "                assert rhos[x*T2+t, y*T2+s] == rhos[y*T2+s, x*T2+t], \\\n",
    "                f\"x={x}, y={y}, t={t}, s={s} => \\rho^{{XY}}_{{t,s}} = \\rho^{{YX}}_{{s,t}}\"\n",
    "                assert rhos[y*T2+t, x*T2+s] == rhos[x*T2+s, y*T2+t], \\\n",
    "                f\"x={x}, y={y}, t={t}, s={s} => \\rho^{{YX}}_{{t,s}} = \\rho^{{XY}}_{{s,t}}\""
   ]
  },
  {
   "cell_type": "code",
   "execution_count": 7,
   "id": "supreme-inflation",
   "metadata": {},
   "outputs": [
    {
     "data": {
      "text/plain": [
       "array([[ True,  True,  True, ...,  True,  True,  True],\n",
       "       [ True,  True,  True, ...,  True,  True,  True],\n",
       "       [ True,  True,  True, ...,  True,  True,  True],\n",
       "       ...,\n",
       "       [ True,  True,  True, ...,  True,  True,  True],\n",
       "       [ True,  True,  True, ...,  True,  True,  True],\n",
       "       [ True,  True,  True, ...,  True,  True,  True]])"
      ]
     },
     "execution_count": 7,
     "metadata": {},
     "output_type": "execute_result"
    }
   ],
   "source": [
    "rhos.T == rhos"
   ]
  },
  {
   "cell_type": "code",
   "execution_count": 8,
   "id": "chronic-favor",
   "metadata": {},
   "outputs": [
    {
     "data": {
      "text/plain": [
       "array([[ 0.29698109,  0.03198337, -0.05212048, ...,  0.        ,\n",
       "         0.        ,  0.        ],\n",
       "       [ 0.03198337,  0.29698109,  0.03198337, ...,  0.        ,\n",
       "         0.        ,  0.        ],\n",
       "       [-0.05212048,  0.03198337,  0.29698109, ...,  0.        ,\n",
       "         0.        ,  0.        ],\n",
       "       ...,\n",
       "       [ 0.        ,  0.        ,  0.        , ...,  0.13562352,\n",
       "         0.04408787, -0.03850037],\n",
       "       [ 0.        ,  0.        ,  0.        , ...,  0.04408787,\n",
       "         0.13562352,  0.04408787],\n",
       "       [ 0.        ,  0.        ,  0.        , ..., -0.03850037,\n",
       "         0.04408787,  0.13562352]])"
      ]
     },
     "execution_count": 8,
     "metadata": {},
     "output_type": "execute_result"
    }
   ],
   "source": [
    "rhos"
   ]
  },
  {
   "cell_type": "code",
   "execution_count": 9,
   "id": "forty-cliff",
   "metadata": {},
   "outputs": [
    {
     "data": {
      "text/plain": [
       "(2516, 2516)"
      ]
     },
     "execution_count": 9,
     "metadata": {},
     "output_type": "execute_result"
    }
   ],
   "source": [
    "rhos.shape"
   ]
  },
  {
   "cell_type": "code",
   "execution_count": 10,
   "id": "assigned-sally",
   "metadata": {},
   "outputs": [],
   "source": [
    "pickle.dump(rhos, open(\"tmp/rhos.pkl\", \"wb\"))"
   ]
  }
 ],
 "metadata": {
  "kernelspec": {
   "name": "python388jvsc74a57bd0b9f12c32adf86fc2efd1397b2d2075f849c4422d6d18a8f17e3a6426f48001a6",
   "display_name": "Python 3.8.8 64-bit ('Achilles-mkl': conda)"
  },
  "language_info": {
   "codemirror_mode": {
    "name": "ipython",
    "version": 3
   },
   "file_extension": ".py",
   "mimetype": "text/x-python",
   "name": "python",
   "nbconvert_exporter": "python",
   "pygments_lexer": "ipython3",
   "version": "3.8.8"
  }
 },
 "nbformat": 4,
 "nbformat_minor": 5
}