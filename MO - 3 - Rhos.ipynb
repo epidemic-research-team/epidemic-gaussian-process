{
 "cells": [
  {
   "cell_type": "code",
   "execution_count": 1,
   "id": "victorian-administrator",
   "metadata": {
    "scrolled": true
   },
   "outputs": [
    {
     "name": "stderr",
     "output_type": "stream",
     "text": [
      "/Users/leo/.pyenv/versions/3.8.7/envs/covid/lib/python3.8/site-packages/pandas/compat/__init__.py:97: UserWarning: Could not import the lzma module. Your installed Python is incomplete. Attempting to use lzma compression will result in a RuntimeError.\n",
      "  warnings.warn(msg)\n",
      "<ipython-input-1-06da3225ef62>:22: FutureWarning: Passing a negative integer is deprecated in version 1.0 and will not be supported in future version. Instead, use None to not limit the column width.\n",
      "  pd.set_option('display.max_colwidth', -1)\n"
     ]
    }
   ],
   "source": [
    "import pandas as pd\n",
    "from itertools import cycle\n",
    "import gpflow\n",
    "import numpy as np\n",
    "from gpflow.utilities import print_summary, positive\n",
    "from gpflow.ci_utils import ci_niter\n",
    "from gpflow.optimizers import NaturalGradient\n",
    "from gpflow import set_trainable\n",
    "import tensorflow as tf\n",
    "import tensorflow_probability as tfp\n",
    "import matplotlib.pyplot as plt\n",
    "import seaborn as sns\n",
    "from sklearn import preprocessing\n",
    "from sklearn.model_selection import train_test_split\n",
    "from collections import namedtuple\n",
    "import statsmodels.api as sm\n",
    "import dill as pickle\n",
    "\n",
    "sns.set(style=\"white\")\n",
    "pd.set_option('display.max_columns', None)\n",
    "pd.set_option('display.width', None)\n",
    "pd.set_option('display.max_colwidth', -1)\n",
    "\n",
    "gpflow.config.set_default_float(np.float64)\n",
    "gpflow.config.set_default_summary_fmt(\"notebook\")"
   ]
  },
  {
   "cell_type": "code",
   "execution_count": 2,
   "id": "neural-picking",
   "metadata": {},
   "outputs": [],
   "source": [
    "final_data = pd.read_pickle(\"tmp/final_data.pkl\")\n",
    "u0 = pd.read_pickle(\"tmp/u0.pkl\")\n",
    "linear_filters_states = pickle.load(open('tmp/linear_filters_states.pkl', 'rb'))"
   ]
  },
  {
   "cell_type": "code",
   "execution_count": 3,
   "id": "described-standard",
   "metadata": {},
   "outputs": [],
   "source": [
    "ORDER = len(list(linear_filters_states.values())[0][0])\n",
    "N = len(linear_filters_states)"
   ]
  },
  {
   "cell_type": "markdown",
   "id": "enormous-sucking",
   "metadata": {},
   "source": [
    "## Rhos"
   ]
  },
  {
   "cell_type": "code",
   "execution_count": 4,
   "id": "solar-morgan",
   "metadata": {},
   "outputs": [],
   "source": [
    "times = None\n",
    "for s in final_data.index.unique():\n",
    "    s_times = set(final_data.loc[s, 'Updated'].unique())\n",
    "    if times is None:\n",
    "        times = s_times\n",
    "    else:\n",
    "        times = times.intersection(s_times)"
   ]
  },
  {
   "cell_type": "code",
   "execution_count": 5,
   "id": "unexpected-bronze",
   "metadata": {},
   "outputs": [],
   "source": [
    "u0_ = u0[u0['Updated'].isin(times)]['Residual'].values\n",
    "T = u0_.shape[0]\n",
    "t = np.arange(1, T + 1).reshape(-1, 1)\n",
    "\n",
    "T2 = T - ORDER + 1\n",
    "\n",
    "rhos = np.zeros((T2*N, T2*N))\n",
    "for i, (hX, epsX) in enumerate(linear_filters_states.values()):\n",
    "    for j, (hY, epsY) in enumerate(linear_filters_states.values()):\n",
    "        convol = np.convolve(hX, hY[::-1], mode=\"same\")\n",
    "        for t in range(T2):\n",
    "            data = convol[max(len(convol)//2 - t, 0): min(len(convol), T2 - t + len(convol)//2)]\n",
    "            jstart = j*T2+max(t - len(convol)//2, 0)\n",
    "            jend = jstart + len(data)\n",
    "            rhos[i*T2+t, jstart:jend] = data"
   ]
  },
  {
   "cell_type": "code",
   "execution_count": 6,
   "id": "dangerous-right",
   "metadata": {},
   "outputs": [],
   "source": [
    "# validation\n",
    "for x in range(N):\n",
    "    for y in range(N):\n",
    "        for t in range(T2):\n",
    "            for s in range(T2):\n",
    "                assert rhos[x*T2+t, y*T2+s] == rhos[y*T2+s, x*T2+t], \\\n",
    "                f\"x={x}, y={y}, t={t}, s={s} => \\rho^{{XY}}_{{t,s}} = \\rho^{{YX}}_{{s,t}}\"\n",
    "                assert rhos[y*T2+t, x*T2+s] == rhos[x*T2+s, y*T2+t], \\\n",
    "                f\"x={x}, y={y}, t={t}, s={s} => \\rho^{{YX}}_{{t,s}} = \\rho^{{XY}}_{{s,t}}\""
   ]
  },
  {
   "cell_type": "code",
   "execution_count": 7,
   "id": "organized-tender",
   "metadata": {},
   "outputs": [
    {
     "data": {
      "text/plain": [
       "array([[ True,  True,  True, ...,  True,  True,  True],\n",
       "       [ True,  True,  True, ...,  True,  True,  True],\n",
       "       [ True,  True,  True, ...,  True,  True,  True],\n",
       "       ...,\n",
       "       [ True,  True,  True, ...,  True,  True,  True],\n",
       "       [ True,  True,  True, ...,  True,  True,  True],\n",
       "       [ True,  True,  True, ...,  True,  True,  True]])"
      ]
     },
     "execution_count": 7,
     "metadata": {},
     "output_type": "execute_result"
    }
   ],
   "source": [
    "rhos.T == rhos"
   ]
  },
  {
   "cell_type": "code",
   "execution_count": 8,
   "id": "detected-patrol",
   "metadata": {},
   "outputs": [
    {
     "data": {
      "text/plain": [
       "array([[ 0.29698109,  0.03198337, -0.05212048, ...,  0.        ,\n",
       "         0.        ,  0.        ],\n",
       "       [ 0.03198337,  0.29698109,  0.03198337, ...,  0.        ,\n",
       "         0.        ,  0.        ],\n",
       "       [-0.05212048,  0.03198337,  0.29698109, ...,  0.        ,\n",
       "         0.        ,  0.        ],\n",
       "       ...,\n",
       "       [ 0.        ,  0.        ,  0.        , ...,  0.13562352,\n",
       "         0.04408787, -0.03850037],\n",
       "       [ 0.        ,  0.        ,  0.        , ...,  0.04408787,\n",
       "         0.13562352,  0.04408787],\n",
       "       [ 0.        ,  0.        ,  0.        , ..., -0.03850037,\n",
       "         0.04408787,  0.13562352]])"
      ]
     },
     "execution_count": 8,
     "metadata": {},
     "output_type": "execute_result"
    }
   ],
   "source": [
    "rhos"
   ]
  },
  {
   "cell_type": "code",
   "execution_count": 9,
   "id": "competent-working",
   "metadata": {},
   "outputs": [
    {
     "data": {
      "text/plain": [
       "(2516, 2516)"
      ]
     },
     "execution_count": 9,
     "metadata": {},
     "output_type": "execute_result"
    }
   ],
   "source": [
    "rhos.shape"
   ]
  },
  {
   "cell_type": "code",
   "execution_count": 10,
   "id": "solid-mozambique",
   "metadata": {},
   "outputs": [],
   "source": [
    "pickle.dump(rhos, open(\"tmp/rhos.pkl\", \"wb\"))"
   ]
  }
 ],
 "metadata": {
  "kernelspec": {
   "display_name": "Python 3",
   "language": "python",
   "name": "python3"
  },
  "language_info": {
   "codemirror_mode": {
    "name": "ipython",
    "version": 3
   },
   "file_extension": ".py",
   "mimetype": "text/x-python",
   "name": "python",
   "nbconvert_exporter": "python",
   "pygments_lexer": "ipython3",
   "version": "3.8.7"
  }
 },
 "nbformat": 4,
 "nbformat_minor": 5
}
