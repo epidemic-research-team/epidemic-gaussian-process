{
 "cells": [
  {
   "cell_type": "code",
   "execution_count": 1,
   "id": "stuck-grounds",
   "metadata": {
    "scrolled": true
   },
   "outputs": [
    {
     "output_type": "stream",
     "name": "stderr",
     "text": [
      "<ipython-input-1-06da3225ef62>:22: FutureWarning: Passing a negative integer is deprecated in version 1.0 and will not be supported in future version. Instead, use None to not limit the column width.\n  pd.set_option('display.max_colwidth', -1)\n"
     ]
    }
   ],
   "source": [
    "import pandas as pd\n",
    "from itertools import cycle\n",
    "import gpflow\n",
    "import numpy as np\n",
    "from gpflow.utilities import print_summary, positive\n",
    "from gpflow.ci_utils import ci_niter\n",
    "from gpflow.optimizers import NaturalGradient\n",
    "from gpflow import set_trainable\n",
    "import tensorflow as tf\n",
    "import tensorflow_probability as tfp\n",
    "import matplotlib.pyplot as plt\n",
    "import seaborn as sns\n",
    "from sklearn import preprocessing\n",
    "from sklearn.model_selection import train_test_split\n",
    "from collections import namedtuple\n",
    "import statsmodels.api as sm\n",
    "import dill as pickle\n",
    "\n",
    "sns.set(style=\"white\")\n",
    "pd.set_option('display.max_columns', None)\n",
    "pd.set_option('display.width', None)\n",
    "pd.set_option('display.max_colwidth', -1)\n",
    "\n",
    "gpflow.config.set_default_float(np.float64)\n",
    "gpflow.config.set_default_summary_fmt(\"notebook\")"
   ]
  },
  {
   "cell_type": "code",
   "execution_count": 2,
   "id": "dutch-referral",
   "metadata": {},
   "outputs": [],
   "source": [
    "final_data = pd.read_pickle(\"tmp/final_data.pkl\")\n",
    "u0 = pd.read_pickle(\"tmp/u0.pkl\")\n",
    "#linear_filters_states = pickle.load(open('tmp/linear_filters_states.pkl', 'rb'))\n",
    "descriptive_stats = pd.read_pickle(\"tmp/residual_descriptive_stats.pkl\")"
   ]
  },
  {
   "cell_type": "code",
   "execution_count": 3,
   "id": "academic-defensive",
   "metadata": {},
   "outputs": [],
   "source": [
    "ORDER = len(list(linear_filters_states.values())[0][0])\n",
    "N = len(linear_filters_states)"
   ]
  },
  {
   "cell_type": "markdown",
   "id": "corresponding-version",
   "metadata": {},
   "source": [
    "## Rhos"
   ]
  },
  {
   "cell_type": "code",
   "execution_count": 5,
   "metadata": {},
   "outputs": [],
   "source": [
    "results_states = pickle.load(open('tmp/trained_models_states.pkl', 'rb'))\n"
   ]
  },
  {
   "cell_type": "code",
   "execution_count": 7,
   "metadata": {},
   "outputs": [
    {
     "output_type": "execute_result",
     "data": {
      "text/plain": [
       "dict_keys(['Alaska', 'Alabama', 'Arkansas', 'Arizona', 'California', 'Colorado', 'Connecticut', 'District of Columbia', 'Delaware', 'Florida', 'Georgia', 'Hawaii', 'Iowa', 'Idaho', 'Illinois', 'Indiana', 'Kansas'])"
      ]
     },
     "metadata": {},
     "execution_count": 7
    }
   ],
   "source": [
    "results_states.keys()"
   ]
  },
  {
   "cell_type": "code",
   "execution_count": null,
   "metadata": {},
   "outputs": [],
   "source": [
    "\n",
    "state_residual = results_states[\"Alabama\"][1]\n",
    "ORDER = int(descriptive_stats.loc[descriptive_stats.state==\"Alabama\", \"optimal lag\"])\n",
    "rho_, sigma_ = sm.regression.yule_walker(state_residual, order=ORDER, method=\"mle\")\n",
    "len"
   ]
  },
  {
   "cell_type": "code",
   "execution_count": 9,
   "metadata": {},
   "outputs": [],
   "source": [
    "from functools import partial"
   ]
  },
  {
   "cell_type": "code",
   "execution_count": 12,
   "metadata": {},
   "outputs": [],
   "source": [
    "linear_filters_states = {}\n",
    "\n",
    "ORDER = 5\n",
    "\n",
    "for state in results_states.keys():\n",
    "    u0_ = u0[u0['Updated'].isin(final_data.loc[state, 'Updated'])]\n",
    "    state_residual = results_states[state][1]\n",
    "    t = u0_[\"Updated\"].index.astype('float').values.reshape(-1, 1)\n",
    "\n",
    "    def _yule_walker(u=None, coeff_=None, sigma_=None):\n",
    "        return np.convolve(coeff_, u, mode=\"same\")\n",
    "\n",
    "    rho_, sigma_ = sm.regression.yule_walker(state_residual, order=ORDER, method=\"mle\")\n",
    "    rho_ = np.array(rho_)[::-1]\n",
    "    linear_filters_states[state] = rho_, partial(\n",
    "        _yule_walker, u=u0_[\"Residual\"].values, coeff_=tuple(rho_), sigma_=sigma_\n",
    "    )\n",
    "        \n",
    "\n",
    "#pickle.dump(linear_filters_states, open('tmp/linear_filters_states.pkl', 'wb'))"
   ]
  },
  {
   "cell_type": "code",
   "execution_count": 16,
   "metadata": {},
   "outputs": [
    {
     "output_type": "stream",
     "name": "stdout",
     "text": [
      "0 [-0.14643903  0.06704519 -0.16920594  0.12843791  0.56670992]\n1 [-0.02558185 -0.22483327  0.28722446 -0.23792546  0.77321569]\n2 [-0.06048746  0.07802322 -0.23534824  0.053782    0.41075618]\n3 [-0.18796695 -0.00044972  0.04378605  0.10109961  0.14424703]\n4 [-0.04629181 -0.03574982 -0.0716829   0.00164463  0.44129902]\n5 [-0.27697628  0.18866375  0.07644872 -0.32963489  0.7205469 ]\n6 [-0.15102076 -0.13358458 -0.04548212 -0.04226082  0.36235823]\n7 [-0.18118596  0.08080095 -0.18567735  0.10321467  0.27770449]\n8 [-0.04920707 -0.09264461 -0.0096279   0.19915444  0.6102216 ]\n9 [-0.15144291 -0.11152191  0.02694584 -0.13236132  0.37332853]\n10 [ 0.01996153 -0.00777803 -0.18114968  0.10314218  0.38960693]\n11 [-0.00300286 -0.13448326  0.03933124 -0.18696637  0.51918862]\n12 [-0.26272272  0.13068273 -0.01824872 -0.27199511  0.62690492]\n13 [-0.06868136  0.01322886  0.00383376 -0.24301964  0.51661272]\n14 [-0.19123557  0.05341087 -0.1232227   0.21293816  0.21019968]\n15 [ 0.0355288  -0.01787333 -0.05742505 -0.03953028  0.27653028]\n16 [-0.06566442 -0.09769858 -0.11246886  0.14007161  0.27963577]\n"
     ]
    }
   ],
   "source": [
    "for i, (hX, epsX) in enumerate(linear_filters_states.values()):\n",
    "    print(i, hX)"
   ]
  },
  {
   "cell_type": "code",
   "execution_count": 29,
   "metadata": {},
   "outputs": [
    {
     "output_type": "execute_result",
     "data": {
      "text/plain": [
       "-0.0183621206483034"
      ]
     },
     "metadata": {},
     "execution_count": 29
    }
   ],
   "source": [
    "-0.06566442*0.27963577"
   ]
  },
  {
   "cell_type": "code",
   "execution_count": 26,
   "metadata": {},
   "outputs": [
    {
     "output_type": "execute_result",
     "data": {
      "text/plain": [
       "array([ 0.01283064,  0.02431542,  0.01277837, -0.01939767, -0.04307371])"
      ]
     },
     "metadata": {},
     "execution_count": 26
    }
   ],
   "source": [
    "np.convolve(hX, hX[:-2], mode=\"same\")"
   ]
  },
  {
   "cell_type": "code",
   "execution_count": 21,
   "metadata": {},
   "outputs": [
    {
     "output_type": "execute_result",
     "data": {
      "text/plain": [
       "array([ 0.02431542,  0.00358065, -0.05144459, -0.08614742, -0.04328058])"
      ]
     },
     "metadata": {},
     "execution_count": 21
    }
   ],
   "source": [
    "np.convolve(hX, hX, mode=\"same\")"
   ]
  },
  {
   "cell_type": "code",
   "execution_count": 3,
   "id": "alone-ethnic",
   "metadata": {},
   "outputs": [],
   "source": [
    "times = None\n",
    "for s in final_data.index.unique():\n",
    "    s_times = set(final_data.loc[s, 'Updated'].unique())\n",
    "    if times is None:\n",
    "        times = s_times\n",
    "    else:\n",
    "        times = times.intersection(s_times)"
   ]
  },
  {
   "cell_type": "code",
   "execution_count": 5,
   "id": "reasonable-indicator",
   "metadata": {},
   "outputs": [],
   "source": [
    "u0_ = u0[u0['Updated'].isin(times)]['Residual'].values\n",
    "T = u0_.shape[0]\n",
    "t = np.arange(1, T + 1).reshape(-1, 1)\n",
    "\n",
    "T2 = T - ORDER + 1\n",
    "\n",
    "rhos = np.zeros((T2*N, T2*N))\n",
    "for i, (hX, epsX) in enumerate(linear_filters_states.values()):\n",
    "    for j, (hY, epsY) in enumerate(linear_filters_states.values()):\n",
    "        convol = np.convolve(hX, hY[::-1], mode=\"same\")\n",
    "        for t in range(T2):\n",
    "            data = convol[max(len(convol)//2 - t, 0): min(len(convol), T2 - t + len(convol)//2)]\n",
    "            jstart = j*T2+max(t - len(convol)//2, 0)\n",
    "            jend = jstart + len(data)\n",
    "            rhos[i*T2+t, jstart:jend] = data"
   ]
  },
  {
   "cell_type": "code",
   "execution_count": 6,
   "id": "civil-cruise",
   "metadata": {},
   "outputs": [],
   "source": [
    "# validation\n",
    "for x in range(N):\n",
    "    for y in range(N):\n",
    "        for t in range(T2):\n",
    "            for s in range(T2):\n",
    "                assert rhos[x*T2+t, y*T2+s] == rhos[y*T2+s, x*T2+t], \\\n",
    "                f\"x={x}, y={y}, t={t}, s={s} => \\rho^{{XY}}_{{t,s}} = \\rho^{{YX}}_{{s,t}}\"\n",
    "                assert rhos[y*T2+t, x*T2+s] == rhos[x*T2+s, y*T2+t], \\\n",
    "                f\"x={x}, y={y}, t={t}, s={s} => \\rho^{{YX}}_{{t,s}} = \\rho^{{XY}}_{{s,t}}\""
   ]
  },
  {
   "cell_type": "code",
   "execution_count": 7,
   "id": "supreme-inflation",
   "metadata": {},
   "outputs": [
    {
     "data": {
      "text/plain": [
       "array([[ True,  True,  True, ...,  True,  True,  True],\n",
       "       [ True,  True,  True, ...,  True,  True,  True],\n",
       "       [ True,  True,  True, ...,  True,  True,  True],\n",
       "       ...,\n",
       "       [ True,  True,  True, ...,  True,  True,  True],\n",
       "       [ True,  True,  True, ...,  True,  True,  True],\n",
       "       [ True,  True,  True, ...,  True,  True,  True]])"
      ]
     },
     "execution_count": 7,
     "metadata": {},
     "output_type": "execute_result"
    }
   ],
   "source": [
    "rhos.T == rhos"
   ]
  },
  {
   "cell_type": "code",
   "execution_count": 8,
   "id": "chronic-favor",
   "metadata": {},
   "outputs": [
    {
     "data": {
      "text/plain": [
       "array([[ 0.29698109,  0.03198337, -0.05212048, ...,  0.        ,\n",
       "         0.        ,  0.        ],\n",
       "       [ 0.03198337,  0.29698109,  0.03198337, ...,  0.        ,\n",
       "         0.        ,  0.        ],\n",
       "       [-0.05212048,  0.03198337,  0.29698109, ...,  0.        ,\n",
       "         0.        ,  0.        ],\n",
       "       ...,\n",
       "       [ 0.        ,  0.        ,  0.        , ...,  0.13562352,\n",
       "         0.04408787, -0.03850037],\n",
       "       [ 0.        ,  0.        ,  0.        , ...,  0.04408787,\n",
       "         0.13562352,  0.04408787],\n",
       "       [ 0.        ,  0.        ,  0.        , ..., -0.03850037,\n",
       "         0.04408787,  0.13562352]])"
      ]
     },
     "execution_count": 8,
     "metadata": {},
     "output_type": "execute_result"
    }
   ],
   "source": [
    "rhos"
   ]
  },
  {
   "cell_type": "code",
   "execution_count": 9,
   "id": "forty-cliff",
   "metadata": {},
   "outputs": [
    {
     "data": {
      "text/plain": [
       "(2516, 2516)"
      ]
     },
     "execution_count": 9,
     "metadata": {},
     "output_type": "execute_result"
    }
   ],
   "source": [
    "rhos.shape"
   ]
  },
  {
   "cell_type": "code",
   "execution_count": 10,
   "id": "assigned-sally",
   "metadata": {},
   "outputs": [],
   "source": [
    "pickle.dump(rhos, open(\"tmp/rhos.pkl\", \"wb\"))"
   ]
  }
 ],
 "metadata": {
  "kernelspec": {
   "name": "python385jvsc74a57bd0b0294442219a30d10355fd4dee684b59f05f5108c445826cb7e374371973bdb0",
   "display_name": "Python 3.8.5 64-bit ('hyperion': conda)"
  },
  "language_info": {
   "codemirror_mode": {
    "name": "ipython",
    "version": 3
   },
   "file_extension": ".py",
   "mimetype": "text/x-python",
   "name": "python",
   "nbconvert_exporter": "python",
   "pygments_lexer": "ipython3",
   "version": "3.8.5-final"
  }
 },
 "nbformat": 4,
 "nbformat_minor": 5
}