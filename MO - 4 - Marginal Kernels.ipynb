{
 "cells": [
  {
   "cell_type": "code",
   "execution_count": 22,
   "id": "eight-macintosh",
   "metadata": {
    "scrolled": true
   },
   "outputs": [
    {
     "name": "stderr",
     "output_type": "stream",
     "text": [
      "<ipython-input-22-06da3225ef62>:22: FutureWarning: Passing a negative integer is deprecated in version 1.0 and will not be supported in future version. Instead, use None to not limit the column width.\n",
      "  pd.set_option('display.max_colwidth', -1)\n"
     ]
    }
   ],
   "source": [
    "import pandas as pd\n",
    "from itertools import cycle\n",
    "import gpflow\n",
    "import numpy as np\n",
    "from gpflow.utilities import print_summary, positive\n",
    "from gpflow.ci_utils import ci_niter\n",
    "from gpflow.optimizers import NaturalGradient\n",
    "from gpflow import set_trainable\n",
    "import tensorflow as tf\n",
    "import tensorflow_probability as tfp\n",
    "import matplotlib.pyplot as plt\n",
    "import seaborn as sns\n",
    "from sklearn import preprocessing\n",
    "from sklearn.model_selection import train_test_split\n",
    "from collections import namedtuple\n",
    "import statsmodels.api as sm\n",
    "import dill as pickle\n",
    "\n",
    "sns.set(style=\"white\")\n",
    "pd.set_option('display.max_columns', None)\n",
    "pd.set_option('display.width', None)\n",
    "pd.set_option('display.max_colwidth', -1)\n",
    "\n",
    "gpflow.config.set_default_float(np.float64)\n",
    "gpflow.config.set_default_summary_fmt(\"notebook\")"
   ]
  },
  {
   "cell_type": "code",
   "execution_count": 23,
   "id": "stuck-musical",
   "metadata": {},
   "outputs": [],
   "source": [
    "final_data = pd.read_pickle(\"tmp/final_data.pkl\")\n",
    "results_states = pickle.load(open('tmp/trained_models_states.pkl', 'rb'))\n",
    "linear_filters_states = pickle.load(open('tmp/linear_filters_states.pkl', 'rb'))\n",
    "rhos = pickle.load(open(\"tmp/rhos.pkl\", \"rb\"))"
   ]
  },
  {
   "cell_type": "code",
   "execution_count": 24,
   "id": "alternate-jumping",
   "metadata": {},
   "outputs": [],
   "source": [
    "ORDER = len(list(linear_filters_states.values())[0][0])\n",
    "N = len(linear_filters_states)\n",
    "T2 = int(rhos.shape[0] / N)"
   ]
  },
  {
   "cell_type": "markdown",
   "id": "characteristic-norfolk",
   "metadata": {},
   "source": [
    "## Marginal Kernels"
   ]
  },
  {
   "cell_type": "code",
   "execution_count": 25,
   "id": "existing-norman",
   "metadata": {},
   "outputs": [],
   "source": [
    "def prepare_data_for_state(data):\n",
    "    data = data.copy()\n",
    "    data.reset_index(inplace=True)\n",
    "    t = data[[\"Updated\"]]\n",
    "    y = data[[\"Updated\", \"ConfirmedChange\"]]\n",
    "    X = pd.DataFrame({\n",
    "        \"Updated\": data[\"Updated\"],\n",
    "        \"state\": data[\"state\"].apply(lambda v: list(results_states.keys()).index(v)),\n",
    "        \"index\": data[\"index\"],\n",
    "        \"S\": data[\"S\"],\n",
    "        \"I\": data[\"I\"],\n",
    "        \"HOME\": data[\"HOME\"],\n",
    "        \"WORK\": data[\"WORK\"],\n",
    "        \"RECREATIONAL\": data[\"RECREATIONAL\"],\n",
    "    }, index=data.index)[[\n",
    "        \"Updated\",\n",
    "        \"state\",\n",
    "        \"index\",\n",
    "        \"S\",\n",
    "        \"I\",\n",
    "        \"HOME\", \n",
    "        \"WORK\", \n",
    "        \"RECREATIONAL\"\n",
    "    ]]\n",
    "    return X, y"
   ]
  },
  {
   "cell_type": "code",
   "execution_count": 26,
   "id": "joined-comfort",
   "metadata": {},
   "outputs": [],
   "source": [
    "times = None\n",
    "for s in final_data.index.unique():\n",
    "    s_times = set(final_data.loc[s, 'Updated'].unique())\n",
    "    if times is None:\n",
    "        times = s_times\n",
    "    else:\n",
    "        times = times.intersection(s_times)"
   ]
  },
  {
   "cell_type": "code",
   "execution_count": 136,
   "id": "basic-spouse",
   "metadata": {},
   "outputs": [
    {
     "data": {
      "text/plain": [
       "False"
      ]
     },
     "execution_count": 136,
     "metadata": {},
     "output_type": "execute_result"
    }
   ],
   "source": [
    "ks = np.zeros((T2*N, T2))\n",
    "\n",
    "final_data_ = final_data[final_data['Updated'].isin(times)]\n",
    "\n",
    "for i, (s, (m, _r)) in enumerate(results_states.items()):\n",
    "    data = final_data_.loc[s]\n",
    "    X, _y = prepare_data_for_state(data)\n",
    "    Xnew = X.drop(columns=[\"Updated\", \"index\"]).values[ORDER-1:]\n",
    "    \n",
    "    kernel = m._model.kernel\n",
    "    inducing_variable = m._model.inducing_variable\n",
    "    f = m._model.q_mu\n",
    "    \n",
    "    q_sqrt = m._model.q_sqrt\n",
    "    full_cov = True\n",
    "    \n",
    "    Kmm = kernel(inducing_variable.Z)\n",
    "    Kmm += 1e-6 * tf.eye(inducing_variable.num_inducing, dtype=Kmm.dtype)\n",
    "\n",
    "    Kmn = kernel(inducing_variable.Z, Xnew)\n",
    "    \n",
    "    Knn = kernel(Xnew, full_cov=full_cov)\n",
    "    \n",
    "    Lm = tf.linalg.cholesky(Kmm)\n",
    "    num_func = tf.shape(f)[-1]  # R\n",
    "    N = tf.shape(Kmn)[-1]\n",
    "    \n",
    "    K = tf.rank(Kmn)\n",
    "    perm = tf.concat(\n",
    "        [\n",
    "            tf.reshape(tf.range(1, K - 1), [K - 2]),  # leading dims (...)\n",
    "            tf.reshape(0, [1]),  # [M]\n",
    "            tf.reshape(K - 1, [1]),\n",
    "        ],\n",
    "        0,\n",
    "    )  # [N]\n",
    "    Kmn = tf.transpose(Kmn, perm)  # [..., M, N]\n",
    "\n",
    "    leading_dims = tf.shape(Kmn)[:-2]\n",
    "\n",
    "    # Compute the projection matrix A\n",
    "    Lm = tf.broadcast_to(Lm, tf.concat([leading_dims, tf.shape(Lm)], 0))  # [..., M, M]\n",
    "    A = tf.linalg.triangular_solve(Lm, Kmn, lower=True)  # [..., M, N]\n",
    "    \n",
    "    if full_cov:\n",
    "        fvar = Knn - tf.linalg.matmul(A, A, transpose_a=True)  # [..., N, N]\n",
    "        cov_shape = tf.concat([leading_dims, [num_func, N, N]], 0)\n",
    "        fvar = tf.broadcast_to(tf.expand_dims(fvar, -3), cov_shape)  # [..., R, N, N]\n",
    "    else:\n",
    "        fvar = Knn - tf.reduce_sum(tf.square(A), -2)  # [..., N]\n",
    "        cov_shape = tf.concat([leading_dims, [num_func, N]], 0)  # [..., R, N]\n",
    "        fvar = tf.broadcast_to(tf.expand_dims(fvar, -2), cov_shape)  # [..., R, N]\n",
    "        \n",
    "    q_sqrt_dims = q_sqrt.shape.ndims\n",
    "    if q_sqrt_dims == 2:\n",
    "        LTA = A * tf.expand_dims(tf.transpose(q_sqrt), 2)  # [R, M, N]\n",
    "    elif q_sqrt_dims == 3:\n",
    "        L = tf.linalg.band_part(q_sqrt, -1, 0)  # force lower triangle # [R, M, M]\n",
    "        L_shape = tf.shape(L)\n",
    "        L = tf.broadcast_to(L, tf.concat([leading_dims, L_shape], 0))\n",
    "\n",
    "        shape = tf.concat([leading_dims, [num_func, M, N]], axis=0)\n",
    "        A_tiled = tf.broadcast_to(tf.expand_dims(A, -3), shape)\n",
    "        LTA = tf.linalg.matmul(L, A_tiled, transpose_a=True)  # [R, M, N]\n",
    "    else:  # pragma: no cover\n",
    "        raise ValueError(\"Bad dimension for q_sqrt: %s\" % str(q_sqrt.shape.ndims))\n",
    "\n",
    "    if full_cov:\n",
    "        fvar = fvar + tf.linalg.matmul(LTA, LTA, transpose_a=True)  # [R, N, N]\n",
    "    else:\n",
    "        fvar = fvar + tf.reduce_sum(tf.square(LTA), -2)  # [R, N]\n",
    "\n",
    "    if not full_cov:\n",
    "        fvar = tf.linalg.adjoint(fvar)  # [N, R]\n",
    "    \n",
    "    break\n",
    "\n",
    "fvar\n",
    "B = fvar.numpy()[0]\n",
    "\n",
    "np.all(np.linalg.eigvals(B) > 0)"
   ]
  },
  {
   "cell_type": "code",
   "execution_count": null,
   "id": "handmade-router",
   "metadata": {},
   "outputs": [],
   "source": []
  },
  {
   "cell_type": "code",
   "execution_count": 1002,
   "id": "regional-state",
   "metadata": {},
   "outputs": [],
   "source": [
    "M = ks + rhos"
   ]
  },
  {
   "cell_type": "code",
   "execution_count": 1003,
   "id": "judicial-symbol",
   "metadata": {},
   "outputs": [
    {
     "data": {
      "text/plain": [
       "(2516, 2516)"
      ]
     },
     "execution_count": 1003,
     "metadata": {},
     "output_type": "execute_result"
    }
   ],
   "source": [
    "M.shape"
   ]
  },
  {
   "cell_type": "code",
   "execution_count": 1004,
   "id": "national-insight",
   "metadata": {},
   "outputs": [
    {
     "data": {
      "text/plain": [
       "880"
      ]
     },
     "execution_count": 1004,
     "metadata": {},
     "output_type": "execute_result"
    }
   ],
   "source": [
    "np.linalg.matrix_rank(M)"
   ]
  },
  {
   "cell_type": "code",
   "execution_count": 1005,
   "id": "empirical-victorian",
   "metadata": {},
   "outputs": [
    {
     "data": {
      "text/plain": [
       "0.0"
      ]
     },
     "execution_count": 1005,
     "metadata": {},
     "output_type": "execute_result"
    }
   ],
   "source": [
    "np.linalg.det(M)"
   ]
  },
  {
   "cell_type": "code",
   "execution_count": 1006,
   "id": "fallen-amount",
   "metadata": {},
   "outputs": [
    {
     "data": {
      "text/plain": [
       "(-546082.4507611456-0j)"
      ]
     },
     "execution_count": 1006,
     "metadata": {},
     "output_type": "execute_result"
    }
   ],
   "source": [
    "e_val, e_vec = np.linalg.eig(M)\n",
    "np.max(e_val) / np.min(e_val)"
   ]
  },
  {
   "cell_type": "code",
   "execution_count": 863,
   "id": "amino-channels",
   "metadata": {},
   "outputs": [],
   "source": [
    "M_reshaped = np.zeros((T2, N, T2, N))\n",
    "\n",
    "for i in range(N):\n",
    "    for j in range(N):\n",
    "        v = M[i*T2:(i+1)*T2, j*T2:(j+1)*T2]\n",
    "        M_reshaped[:, i, :, j] = v"
   ]
  },
  {
   "cell_type": "code",
   "execution_count": 864,
   "id": "signal-legend",
   "metadata": {},
   "outputs": [
    {
     "data": {
      "text/plain": [
       "(148, 17, 148, 17)"
      ]
     },
     "execution_count": 864,
     "metadata": {},
     "output_type": "execute_result"
    }
   ],
   "source": [
    "M_reshaped.shape"
   ]
  }
 ],
 "metadata": {
  "kernelspec": {
   "display_name": "Python 3",
   "language": "python",
   "name": "python3"
  },
  "language_info": {
   "codemirror_mode": {
    "name": "ipython",
    "version": 3
   },
   "file_extension": ".py",
   "mimetype": "text/x-python",
   "name": "python",
   "nbconvert_exporter": "python",
   "pygments_lexer": "ipython3",
   "version": "3.8.5"
  }
 },
 "nbformat": 4,
 "nbformat_minor": 5
}
