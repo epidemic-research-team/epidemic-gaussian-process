{
 "cells": [
  {
   "cell_type": "code",
   "execution_count": null,
   "metadata": {},
   "outputs": [],
   "source": [
    "import pandas as pd\n",
    "from itertools import cycle\n",
    "import gpflow\n",
    "import numpy as np\n",
    "from scipy import linalg\n",
    "from gpflow.utilities import print_summary, positive\n",
    "from gpflow.ci_utils import ci_niter\n",
    "from gpflow.optimizers import NaturalGradient\n",
    "from gpflow import set_trainable\n",
    "import tensorflow as tf\n",
    "import tensorflow_probability as tfp\n",
    "import matplotlib.pyplot as plt\n",
    "from matplotlib.gridspec import GridSpec\n",
    "import seaborn as sns\n",
    "from sklearn import preprocessing\n",
    "from sklearn.model_selection import train_test_split\n",
    "from collections import namedtuple\n",
    "import statsmodels.api as sm\n",
    "import timeit\n",
    "\n",
    "sns.set(style=\"white\")\n",
    "pd.set_option('display.max_columns', None)\n",
    "pd.set_option('display.width', None)\n",
    "pd.set_option('display.max_colwidth', -1)\n",
    "\n",
    "np.random.seed(123)\n",
    "\n",
    "gpflow.config.set_default_float(np.float64)\n",
    "gpflow.config.set_default_summary_fmt(\"notebook\")"
   ]
  },
  {
   "cell_type": "code",
   "execution_count": null,
   "metadata": {},
   "outputs": [],
   "source": [
    "print(\"The GPflow version is {0}\".format(gpflow.__version__))\n",
    "print(\"The tensorflow version is {0}\".format(tf.__version__))\n",
    "print(\"The tensorflow-probability version is {0}\".format(tfp.__version__))"
   ]
  },
  {
   "cell_type": "markdown",
   "metadata": {},
   "source": [
    "# Data Onboarding and Pre-processing"
   ]
  },
  {
   "cell_type": "code",
   "execution_count": null,
   "metadata": {},
   "outputs": [],
   "source": [
    "mobility_data = pd.read_csv(\n",
    "    \"./Data/Google/Global_Mobility_Report.csv\", \n",
    "    encoding=\"ISO-8859-1\", \n",
    "    parse_dates=[\"date\"],\n",
    "    dayfirst=True\n",
    ")"
   ]
  },
  {
   "cell_type": "code",
   "execution_count": null,
   "metadata": {},
   "outputs": [],
   "source": [
    "mobility_data_us = mobility_data[\n",
    "    (mobility_data[\"country_region\"]==\"United States\") & (mobility_data[\"sub_region_1\"].isnull())\n",
    "]\n",
    "mobility_data_us = mobility_data_us.iloc[:,7:].reset_index(drop=True) # keep only relevant columns\n",
    "mobility_data_us.iloc[:,1:] = mobility_data_us.iloc[:,1:].apply(lambda x: x/100 + 1)"
   ]
  },
  {
   "cell_type": "code",
   "execution_count": null,
   "metadata": {},
   "outputs": [],
   "source": [
    "mobility_data_us = pd.DataFrame({\n",
    "    \"date\": mobility_data_us[\"date\"],\n",
    "    \"HOME\": mobility_data_us['residential_percent_change_from_baseline'],\n",
    "    \"WORK\": mobility_data_us['workplaces_percent_change_from_baseline'],\n",
    "    \"OTHER\": mobility_data_us.iloc[:,1:5].mean(axis=1)\n",
    "})"
   ]
  },
  {
   "cell_type": "code",
   "execution_count": null,
   "metadata": {},
   "outputs": [],
   "source": [
    "# COVID Cases from Microsoft, includes Recovered and Infected\n",
    "ms_covid = pd.read_csv(\n",
    "    \"./Data/Microsoft/COVID_CASES.csv\", \n",
    "    encoding=\"ISO-8859-1\",\n",
    "    parse_dates=[\"Updated\"],\n",
    "    dayfirst=False\n",
    ")\n",
    "ms_us_covid = ms_covid[(ms_covid[\"Country_Region\"]==\"United States\") & (ms_covid[\"AdminRegion1\"].isnull())]\n",
    "ms_us_covid = ms_us_covid.loc[:,[\"Updated\", \"Confirmed\", \"ConfirmedChange\", \"Deaths\", \"Recovered\"]]\n",
    "ms_us_covid.reset_index(drop=True, inplace=True)"
   ]
  },
  {
   "cell_type": "code",
   "execution_count": null,
   "metadata": {},
   "outputs": [],
   "source": [
    "# Create the 3 categories S, I, R for US data (UK does not include R)\n",
    "ms_us_covid = ms_us_covid.fillna(method='ffill').fillna(0)\n",
    "\n",
    "# DIFF: Instead of smoothing the I, Daily cases and S, ammend the problematic R value @ 2020-07-18\n",
    "# To match the next 2020-07-19\n",
    "ms_us_covid.iloc[178, 4] = 1117084.0\n",
    "\n",
    "ms_us_covid[\"I\"] = ms_us_covid[\"Confirmed\"] - ms_us_covid[\"Deaths\"] - ms_us_covid[\"Recovered\"]\n",
    "\n",
    "# https://www.kff.org/other/state-indicator/distribution-by-age/?dataView=1&currentTimeframe=0&sortModel=%7B%22colId%22:%22Location%22,%22sort%22:%22asc%22%7D\n",
    "# 2018; 20<=age\n",
    "ms_us_covid[\"S\"] = 242620800 - ms_us_covid[\"I\"]\n",
    "\n",
    "ms_us_covid[\"index\"] = ms_us_covid[\"Updated\"].dt.dayofyear\n",
    "\n",
    "# DIFF: Create a time variable\n",
    "# If we have a weekend then assign 0 or weekday 1\n",
    "ms_us_covid[\"WEEKDAY\"] = 0\n",
    "ms_us_covid.loc[ms_us_covid.Updated.dt.dayofweek < 5, \"WEEKDAY\"] = 1\n",
    "\n",
    "ms_us_covid.dropna(inplace=True)"
   ]
  },
  {
   "cell_type": "code",
   "execution_count": null,
   "metadata": {},
   "outputs": [],
   "source": [
    "final_data = ms_us_covid.set_index(\"Updated\").merge(\n",
    "    mobility_data_us.set_index(\"date\"), how='left', left_index=True, right_index=True\n",
    ").reset_index()\n",
    "final_data.dropna(inplace=True)"
   ]
  },
  {
   "cell_type": "code",
   "execution_count": null,
   "metadata": {},
   "outputs": [],
   "source": [
    "fig, axs = plt.subplots(nrows=2, ncols=3, figsize=(20, 4))\n",
    "\n",
    "final_data.set_index(\"Updated\")[[\"ConfirmedChange\"]].plot(ax=axs[0, 0])\n",
    "final_data.set_index(\"Updated\")[[\"I\"]].plot(ax=axs[0, 1])\n",
    "final_data.set_index(\"Updated\")[[\"S\"]].plot(ax=axs[0, 2])\n",
    "final_data.set_index(\"Updated\")[[\"HOME\"]].plot(ax=axs[1, 0])\n",
    "final_data.set_index(\"Updated\")[[\"WORK\"]].plot(ax=axs[1, 1])\n",
    "final_data.set_index(\"Updated\")[[\"OTHER\"]].plot(ax=axs[1, 2])"
   ]
  },
  {
   "cell_type": "markdown",
   "metadata": {},
   "source": [
    "# Gaussian Process Model"
   ]
  },
  {
   "cell_type": "code",
   "execution_count": null,
   "metadata": {},
   "outputs": [],
   "source": [
    "from experiment import run_experiment, Report"
   ]
  },
  {
   "cell_type": "code",
   "execution_count": null,
   "metadata": {},
   "outputs": [],
   "source": [
    "def train_test_split_func(t, X, y):\n",
    "    t_train, t_test = t[:-21,:], t[-21:,:]\n",
    "    X_train, X_test = X[:-21,:], X[-21:,:]\n",
    "    y_train, y_test = y[:-21,:], y[-21:,:]\n",
    "    \n",
    "    return t_train, t_test, X_train, X_test, y_train, y_test"
   ]
  },
  {
   "cell_type": "code",
   "execution_count": null,
   "metadata": {},
   "outputs": [],
   "source": [
    "t = final_data[[\"Updated\"]].to_numpy()\n",
    "y = final_data[[\"ConfirmedChange\"]].to_numpy()\n",
    "X = np.hstack([\n",
    "    (final_data[\"S\"] * final_data[\"I\"]).to_numpy().reshape(-1, 1),\n",
    "    final_data[[\"WEEKDAY\"]].to_numpy(),\n",
    "    final_data[[\"HOME\"]].to_numpy(),\n",
    "    final_data[[\"WORK\"]].to_numpy(),\n",
    "    final_data[[\"OTHER\"]].to_numpy(),\n",
    "])\n",
    "\n",
    "model_params = {\n",
    "    'kernel': (\n",
    "        gpflow.kernels.SquaredExponential() *\n",
    "        gpflow.kernels.Linear() *\n",
    "        gpflow.kernels.RationalQuadratic()\n",
    "    ),\n",
    "    'n_inducing': (15)\n",
    "}\n",
    "\n",
    "res, model = run_experiment('$f(S(t)I(t), WKDAY(t), Home(t), Work(t), Other(t)$', \n",
    "                            t, X, y, model_params=model_params, train_test_split_func=train_test_split_func, plot=True)\n",
    "results.add(res)"
   ]
  },
  {
   "cell_type": "markdown",
   "metadata": {},
   "source": [
    "# Kernel Analysis"
   ]
  },
  {
   "cell_type": "code",
   "execution_count": null,
   "metadata": {},
   "outputs": [],
   "source": [
    "def kernel_analysis(model, model_params, X):\n",
    "    \n",
    "    X_sub = X[:-21,:]\n",
    "    kernel_scaler = preprocessing.StandardScaler().fit(X_sub)\n",
    "    X_kernel = kernel_scaler.transform(X_sub)\n",
    "    \n",
    "    # Extract the eigenvalues\n",
    "    eigv, _ = linalg.eig(model_params[\"kernel\"](X_kernel)) # pre-opt\n",
    "    eigv_opt, _ = linalg.eig(model._model.kernel(X_kernel)) # after-opt\n",
    "    \n",
    "    # Generate the plots\n",
    "    fig, ax = plt.subplots(1, figsize=(20, 4))\n",
    "    fig.suptitle(\"Before Optimization\", fontsize=16)\n",
    "    ax.plot(np.mean(np.random.multivariate_normal(np.zeros(X_kernel.shape[0]), model_params[\"kernel\"](X_kernel), 100).T, axis=1))\n",
    "    ax.imshow(k(X_kernel))\n",
    "    ax.bar(np.arange(40), eigv[0:40])\n",
    "\n",
    "    fig, ax = plt.subplots(1, figsize=(20, 4))\n",
    "    fig.suptitle(\"After Optimization\", fontsize=16)\n",
    "    ax.plot(np.mean(np.random.multivariate_normal(np.zeros(X_kernel.shape[0]), model._model.kernel(X_kernel), 100).T, axis=1))\n",
    "    ax.imshow(model._model.kernel(X_kernel))\n",
    "    ax.bar(np.arange(40), eigv_opt[0:40])"
   ]
  },
  {
   "cell_type": "code",
   "execution_count": null,
   "metadata": {},
   "outputs": [],
   "source": []
  }
 ],
 "metadata": {
  "kernelspec": {
   "display_name": "Python 3",
   "language": "python",
   "name": "python3"
  },
  "language_info": {
   "codemirror_mode": {
    "name": "ipython",
    "version": 3
   },
   "file_extension": ".py",
   "mimetype": "text/x-python",
   "name": "python",
   "nbconvert_exporter": "python",
   "pygments_lexer": "ipython3",
   "version": "3.7.9"
  }
 },
 "nbformat": 4,
 "nbformat_minor": 4
}
