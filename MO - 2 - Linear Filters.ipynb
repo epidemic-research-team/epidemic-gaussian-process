{
 "cells": [
  {
   "cell_type": "code",
   "execution_count": 1,
   "id": "adequate-accessory",
   "metadata": {
    "scrolled": true
   },
   "outputs": [
    {
     "output_type": "stream",
     "name": "stderr",
     "text": [
      "<ipython-input-1-1e75e9e9177d>:23: FutureWarning: Passing a negative integer is deprecated in version 1.0 and will not be supported in future version. Instead, use None to not limit the column width.\n  pd.set_option('display.max_colwidth', -1)\n"
     ]
    }
   ],
   "source": [
    "import pandas as pd\n",
    "from itertools import cycle\n",
    "import gpflow\n",
    "import numpy as np\n",
    "from gpflow.utilities import print_summary, positive\n",
    "from gpflow.ci_utils import ci_niter\n",
    "from gpflow.optimizers import NaturalGradient\n",
    "from gpflow import set_trainable\n",
    "import tensorflow as tf\n",
    "import tensorflow_probability as tfp\n",
    "import matplotlib.pyplot as plt\n",
    "import seaborn as sns\n",
    "from sklearn import preprocessing\n",
    "from sklearn.model_selection import train_test_split\n",
    "from collections import namedtuple\n",
    "import statsmodels.api as sm\n",
    "import dill as pickle\n",
    "import statsmodels\n",
    "\n",
    "sns.set(style=\"white\")\n",
    "pd.set_option('display.max_columns', None)\n",
    "pd.set_option('display.width', None)\n",
    "pd.set_option('display.max_colwidth', -1)\n",
    "\n",
    "gpflow.config.set_default_float(np.float64)\n",
    "gpflow.config.set_default_summary_fmt(\"notebook\")"
   ]
  },
  {
   "cell_type": "code",
   "execution_count": 2,
   "id": "primary-niger",
   "metadata": {},
   "outputs": [],
   "source": [
    "final_data = pd.read_pickle(\"tmp/final_data.pkl\")\n",
    "\n",
    "results_states = pickle.load(open('tmp/trained_models_states.pkl', 'rb'))\n",
    "\n",
    "descriptive_stats = pd.read_pickle(\"tmp/residual_descriptive_stats.pkl\")\n"
   ]
  },
  {
   "cell_type": "markdown",
   "id": "earlier-breast",
   "metadata": {},
   "source": [
    "## White noise"
   ]
  },
  {
   "cell_type": "code",
   "execution_count": 3,
   "id": "loved-condition",
   "metadata": {},
   "outputs": [
    {
     "output_type": "execute_result",
     "data": {
      "text/plain": [
       "     Updated  Residual\n",
       "0 2020-02-28 -1.085631\n",
       "1 2020-02-29  0.997345\n",
       "2 2020-03-01  0.282978\n",
       "3 2020-03-02 -1.506295\n",
       "4 2020-03-03 -0.578600"
      ],
      "text/html": "<div>\n<style scoped>\n    .dataframe tbody tr th:only-of-type {\n        vertical-align: middle;\n    }\n\n    .dataframe tbody tr th {\n        vertical-align: top;\n    }\n\n    .dataframe thead th {\n        text-align: right;\n    }\n</style>\n<table border=\"1\" class=\"dataframe\">\n  <thead>\n    <tr style=\"text-align: right;\">\n      <th></th>\n      <th>Updated</th>\n      <th>Residual</th>\n    </tr>\n  </thead>\n  <tbody>\n    <tr>\n      <th>0</th>\n      <td>2020-02-28</td>\n      <td>-1.085631</td>\n    </tr>\n    <tr>\n      <th>1</th>\n      <td>2020-02-29</td>\n      <td>0.997345</td>\n    </tr>\n    <tr>\n      <th>2</th>\n      <td>2020-03-01</td>\n      <td>0.282978</td>\n    </tr>\n    <tr>\n      <th>3</th>\n      <td>2020-03-02</td>\n      <td>-1.506295</td>\n    </tr>\n    <tr>\n      <th>4</th>\n      <td>2020-03-03</td>\n      <td>-0.578600</td>\n    </tr>\n  </tbody>\n</table>\n</div>"
     },
     "metadata": {},
     "execution_count": 3
    }
   ],
   "source": [
    "np.random.seed(123)\n",
    "dates = pd.date_range(final_data[[\"Updated\"]].min().values[0], final_data[[\"Updated\"]].max().values[0]).values\n",
    "u0 = np.random.normal(size=len(dates))\n",
    "\n",
    "u0 = pd.DataFrame({\"Updated\": dates, \"Residual\": u0})\n",
    "u0.head()"
   ]
  },
  {
   "cell_type": "code",
   "execution_count": 4,
   "id": "armed-parameter",
   "metadata": {},
   "outputs": [
    {
     "output_type": "execute_result",
     "data": {
      "text/plain": [
       "<AxesSubplot:>"
      ]
     },
     "metadata": {},
     "execution_count": 4
    },
    {
     "output_type": "display_data",
     "data": {
      "text/plain": "<Figure size 432x288 with 1 Axes>",
      "image/svg+xml": "<?xml version=\"1.0\" encoding=\"utf-8\" standalone=\"no\"?>\r\n<!DOCTYPE svg PUBLIC \"-//W3C//DTD SVG 1.1//EN\"\r\n  \"http://www.w3.org/Graphics/SVG/1.1/DTD/svg11.dtd\">\r\n<svg height=\"251.399844pt\" version=\"1.1\" viewBox=\"0 0 371.241719 251.399844\" width=\"371.241719pt\" xmlns=\"http://www.w3.org/2000/svg\" xmlns:xlink=\"http://www.w3.org/1999/xlink\">\r\n <metadata>\r\n  <rdf:RDF xmlns:cc=\"http://creativecommons.org/ns#\" xmlns:dc=\"http://purl.org/dc/elements/1.1/\" xmlns:rdf=\"http://www.w3.org/1999/02/22-rdf-syntax-ns#\">\r\n   <cc:Work>\r\n    <dc:type rdf:resource=\"http://purl.org/dc/dcmitype/StillImage\"/>\r\n    <dc:date>2021-04-07T16:50:58.591165</dc:date>\r\n    <dc:format>image/svg+xml</dc:format>\r\n    <dc:creator>\r\n     <cc:Agent>\r\n      <dc:title>Matplotlib v3.4.1, https://matplotlib.org/</dc:title>\r\n     </cc:Agent>\r\n    </dc:creator>\r\n   </cc:Work>\r\n  </rdf:RDF>\r\n </metadata>\r\n <defs>\r\n  <style type=\"text/css\">*{stroke-linecap:butt;stroke-linejoin:round;}</style>\r\n </defs>\r\n <g id=\"figure_1\">\r\n  <g id=\"patch_1\">\r\n   <path d=\"M 0 251.399844 \r\nL 371.241719 251.399844 \r\nL 371.241719 0 \r\nL 0 0 \r\nz\r\n\" style=\"fill:#ffffff;\"/>\r\n  </g>\r\n  <g id=\"axes_1\">\r\n   <g id=\"patch_2\">\r\n    <path d=\"M 29.241719 224.64 \r\nL 364.041719 224.64 \r\nL 364.041719 7.2 \r\nL 29.241719 7.2 \r\nz\r\n\" style=\"fill:#ffffff;\"/>\r\n   </g>\r\n   <g id=\"matplotlib.axis_1\">\r\n    <g id=\"xtick_1\">\r\n     <g id=\"text_1\">\r\n      <!-- 0 -->\r\n      <g style=\"fill:#262626;\" transform=\"translate(41.401385 242.013594)scale(0.11 -0.11)\">\r\n       <defs>\r\n        <path d=\"M 266 2259 \r\nQ 266 3072 433 3567 \r\nQ 600 4063 929 4331 \r\nQ 1259 4600 1759 4600 \r\nQ 2128 4600 2406 4451 \r\nQ 2684 4303 2865 4023 \r\nQ 3047 3744 3150 3342 \r\nQ 3253 2941 3253 2259 \r\nQ 3253 1453 3087 958 \r\nQ 2922 463 2592 192 \r\nQ 2263 -78 1759 -78 \r\nQ 1097 -78 719 397 \r\nQ 266 969 266 2259 \r\nz\r\nM 844 2259 \r\nQ 844 1131 1108 757 \r\nQ 1372 384 1759 384 \r\nQ 2147 384 2411 759 \r\nQ 2675 1134 2675 2259 \r\nQ 2675 3391 2411 3762 \r\nQ 2147 4134 1753 4134 \r\nQ 1366 4134 1134 3806 \r\nQ 844 3388 844 2259 \r\nz\r\n\" id=\"ArialMT-30\" transform=\"scale(0.015625)\"/>\r\n       </defs>\r\n       <use xlink:href=\"#ArialMT-30\"/>\r\n      </g>\r\n     </g>\r\n    </g>\r\n    <g id=\"xtick_2\">\r\n     <g id=\"text_2\">\r\n      <!-- 20 -->\r\n      <g style=\"fill:#262626;\" transform=\"translate(78.924688 242.013594)scale(0.11 -0.11)\">\r\n       <defs>\r\n        <path d=\"M 3222 541 \r\nL 3222 0 \r\nL 194 0 \r\nQ 188 203 259 391 \r\nQ 375 700 629 1000 \r\nQ 884 1300 1366 1694 \r\nQ 2113 2306 2375 2664 \r\nQ 2638 3022 2638 3341 \r\nQ 2638 3675 2398 3904 \r\nQ 2159 4134 1775 4134 \r\nQ 1369 4134 1125 3890 \r\nQ 881 3647 878 3216 \r\nL 300 3275 \r\nQ 359 3922 746 4261 \r\nQ 1134 4600 1788 4600 \r\nQ 2447 4600 2831 4234 \r\nQ 3216 3869 3216 3328 \r\nQ 3216 3053 3103 2787 \r\nQ 2991 2522 2730 2228 \r\nQ 2469 1934 1863 1422 \r\nQ 1356 997 1212 845 \r\nQ 1069 694 975 541 \r\nL 3222 541 \r\nz\r\n\" id=\"ArialMT-32\" transform=\"scale(0.015625)\"/>\r\n       </defs>\r\n       <use xlink:href=\"#ArialMT-32\"/>\r\n       <use x=\"55.615234\" xlink:href=\"#ArialMT-30\"/>\r\n      </g>\r\n     </g>\r\n    </g>\r\n    <g id=\"xtick_3\">\r\n     <g id=\"text_3\">\r\n      <!-- 40 -->\r\n      <g style=\"fill:#262626;\" transform=\"translate(119.506506 242.013594)scale(0.11 -0.11)\">\r\n       <defs>\r\n        <path d=\"M 2069 0 \r\nL 2069 1097 \r\nL 81 1097 \r\nL 81 1613 \r\nL 2172 4581 \r\nL 2631 4581 \r\nL 2631 1613 \r\nL 3250 1613 \r\nL 3250 1097 \r\nL 2631 1097 \r\nL 2631 0 \r\nL 2069 0 \r\nz\r\nM 2069 1613 \r\nL 2069 3678 \r\nL 634 1613 \r\nL 2069 1613 \r\nz\r\n\" id=\"ArialMT-34\" transform=\"scale(0.015625)\"/>\r\n       </defs>\r\n       <use xlink:href=\"#ArialMT-34\"/>\r\n       <use x=\"55.615234\" xlink:href=\"#ArialMT-30\"/>\r\n      </g>\r\n     </g>\r\n    </g>\r\n    <g id=\"xtick_4\">\r\n     <g id=\"text_4\">\r\n      <!-- 60 -->\r\n      <g style=\"fill:#262626;\" transform=\"translate(160.088324 242.013594)scale(0.11 -0.11)\">\r\n       <defs>\r\n        <path d=\"M 3184 3459 \r\nL 2625 3416 \r\nQ 2550 3747 2413 3897 \r\nQ 2184 4138 1850 4138 \r\nQ 1581 4138 1378 3988 \r\nQ 1113 3794 959 3422 \r\nQ 806 3050 800 2363 \r\nQ 1003 2672 1297 2822 \r\nQ 1591 2972 1913 2972 \r\nQ 2475 2972 2870 2558 \r\nQ 3266 2144 3266 1488 \r\nQ 3266 1056 3080 686 \r\nQ 2894 316 2569 119 \r\nQ 2244 -78 1831 -78 \r\nQ 1128 -78 684 439 \r\nQ 241 956 241 2144 \r\nQ 241 3472 731 4075 \r\nQ 1159 4600 1884 4600 \r\nQ 2425 4600 2770 4297 \r\nQ 3116 3994 3184 3459 \r\nz\r\nM 888 1484 \r\nQ 888 1194 1011 928 \r\nQ 1134 663 1356 523 \r\nQ 1578 384 1822 384 \r\nQ 2178 384 2434 671 \r\nQ 2691 959 2691 1453 \r\nQ 2691 1928 2437 2201 \r\nQ 2184 2475 1800 2475 \r\nQ 1419 2475 1153 2201 \r\nQ 888 1928 888 1484 \r\nz\r\n\" id=\"ArialMT-36\" transform=\"scale(0.015625)\"/>\r\n       </defs>\r\n       <use xlink:href=\"#ArialMT-36\"/>\r\n       <use x=\"55.615234\" xlink:href=\"#ArialMT-30\"/>\r\n      </g>\r\n     </g>\r\n    </g>\r\n    <g id=\"xtick_5\">\r\n     <g id=\"text_5\">\r\n      <!-- 80 -->\r\n      <g style=\"fill:#262626;\" transform=\"translate(200.670142 242.013594)scale(0.11 -0.11)\">\r\n       <defs>\r\n        <path d=\"M 1131 2484 \r\nQ 781 2613 612 2850 \r\nQ 444 3088 444 3419 \r\nQ 444 3919 803 4259 \r\nQ 1163 4600 1759 4600 \r\nQ 2359 4600 2725 4251 \r\nQ 3091 3903 3091 3403 \r\nQ 3091 3084 2923 2848 \r\nQ 2756 2613 2416 2484 \r\nQ 2838 2347 3058 2040 \r\nQ 3278 1734 3278 1309 \r\nQ 3278 722 2862 322 \r\nQ 2447 -78 1769 -78 \r\nQ 1091 -78 675 323 \r\nQ 259 725 259 1325 \r\nQ 259 1772 486 2073 \r\nQ 713 2375 1131 2484 \r\nz\r\nM 1019 3438 \r\nQ 1019 3113 1228 2906 \r\nQ 1438 2700 1772 2700 \r\nQ 2097 2700 2305 2904 \r\nQ 2513 3109 2513 3406 \r\nQ 2513 3716 2298 3927 \r\nQ 2084 4138 1766 4138 \r\nQ 1444 4138 1231 3931 \r\nQ 1019 3725 1019 3438 \r\nz\r\nM 838 1322 \r\nQ 838 1081 952 856 \r\nQ 1066 631 1291 507 \r\nQ 1516 384 1775 384 \r\nQ 2178 384 2440 643 \r\nQ 2703 903 2703 1303 \r\nQ 2703 1709 2433 1975 \r\nQ 2163 2241 1756 2241 \r\nQ 1359 2241 1098 1978 \r\nQ 838 1716 838 1322 \r\nz\r\n\" id=\"ArialMT-38\" transform=\"scale(0.015625)\"/>\r\n       </defs>\r\n       <use xlink:href=\"#ArialMT-38\"/>\r\n       <use x=\"55.615234\" xlink:href=\"#ArialMT-30\"/>\r\n      </g>\r\n     </g>\r\n    </g>\r\n    <g id=\"xtick_6\">\r\n     <g id=\"text_6\">\r\n      <!-- 100 -->\r\n      <g style=\"fill:#262626;\" transform=\"translate(238.193445 242.013594)scale(0.11 -0.11)\">\r\n       <defs>\r\n        <path d=\"M 2384 0 \r\nL 1822 0 \r\nL 1822 3584 \r\nQ 1619 3391 1289 3197 \r\nQ 959 3003 697 2906 \r\nL 697 3450 \r\nQ 1169 3672 1522 3987 \r\nQ 1875 4303 2022 4600 \r\nL 2384 4600 \r\nL 2384 0 \r\nz\r\n\" id=\"ArialMT-31\" transform=\"scale(0.015625)\"/>\r\n       </defs>\r\n       <use xlink:href=\"#ArialMT-31\"/>\r\n       <use x=\"55.615234\" xlink:href=\"#ArialMT-30\"/>\r\n       <use x=\"111.230469\" xlink:href=\"#ArialMT-30\"/>\r\n      </g>\r\n     </g>\r\n    </g>\r\n    <g id=\"xtick_7\">\r\n     <g id=\"text_7\">\r\n      <!-- 120 -->\r\n      <g style=\"fill:#262626;\" transform=\"translate(278.775263 242.013594)scale(0.11 -0.11)\">\r\n       <use xlink:href=\"#ArialMT-31\"/>\r\n       <use x=\"55.615234\" xlink:href=\"#ArialMT-32\"/>\r\n       <use x=\"111.230469\" xlink:href=\"#ArialMT-30\"/>\r\n      </g>\r\n     </g>\r\n    </g>\r\n    <g id=\"xtick_8\">\r\n     <g id=\"text_8\">\r\n      <!-- 140 -->\r\n      <g style=\"fill:#262626;\" transform=\"translate(319.357081 242.013594)scale(0.11 -0.11)\">\r\n       <use xlink:href=\"#ArialMT-31\"/>\r\n       <use x=\"55.615234\" xlink:href=\"#ArialMT-34\"/>\r\n       <use x=\"111.230469\" xlink:href=\"#ArialMT-30\"/>\r\n      </g>\r\n     </g>\r\n    </g>\r\n   </g>\r\n   <g id=\"matplotlib.axis_2\">\r\n    <g id=\"ytick_1\">\r\n     <g id=\"text_9\">\r\n      <!-- −3 -->\r\n      <g style=\"fill:#262626;\" transform=\"translate(7.2 226.070264)scale(0.11 -0.11)\">\r\n       <defs>\r\n        <path d=\"M 3381 1997 \r\nL 356 1997 \r\nL 356 2522 \r\nL 3381 2522 \r\nL 3381 1997 \r\nz\r\n\" id=\"ArialMT-2212\" transform=\"scale(0.015625)\"/>\r\n        <path d=\"M 269 1209 \r\nL 831 1284 \r\nQ 928 806 1161 595 \r\nQ 1394 384 1728 384 \r\nQ 2125 384 2398 659 \r\nQ 2672 934 2672 1341 \r\nQ 2672 1728 2419 1979 \r\nQ 2166 2231 1775 2231 \r\nQ 1616 2231 1378 2169 \r\nL 1441 2663 \r\nQ 1497 2656 1531 2656 \r\nQ 1891 2656 2178 2843 \r\nQ 2466 3031 2466 3422 \r\nQ 2466 3731 2256 3934 \r\nQ 2047 4138 1716 4138 \r\nQ 1388 4138 1169 3931 \r\nQ 950 3725 888 3313 \r\nL 325 3413 \r\nQ 428 3978 793 4289 \r\nQ 1159 4600 1703 4600 \r\nQ 2078 4600 2393 4439 \r\nQ 2709 4278 2876 4000 \r\nQ 3044 3722 3044 3409 \r\nQ 3044 3113 2884 2869 \r\nQ 2725 2625 2413 2481 \r\nQ 2819 2388 3044 2092 \r\nQ 3269 1797 3269 1353 \r\nQ 3269 753 2831 336 \r\nQ 2394 -81 1725 -81 \r\nQ 1122 -81 723 278 \r\nQ 325 638 269 1209 \r\nz\r\n\" id=\"ArialMT-33\" transform=\"scale(0.015625)\"/>\r\n       </defs>\r\n       <use xlink:href=\"#ArialMT-2212\"/>\r\n       <use x=\"58.398438\" xlink:href=\"#ArialMT-33\"/>\r\n      </g>\r\n     </g>\r\n    </g>\r\n    <g id=\"ytick_2\">\r\n     <g id=\"text_10\">\r\n      <!-- −2 -->\r\n      <g style=\"fill:#262626;\" transform=\"translate(7.2 189.44313)scale(0.11 -0.11)\">\r\n       <use xlink:href=\"#ArialMT-2212\"/>\r\n       <use x=\"58.398438\" xlink:href=\"#ArialMT-32\"/>\r\n      </g>\r\n     </g>\r\n    </g>\r\n    <g id=\"ytick_3\">\r\n     <g id=\"text_11\">\r\n      <!-- −1 -->\r\n      <g style=\"fill:#262626;\" transform=\"translate(7.2 152.815995)scale(0.11 -0.11)\">\r\n       <use xlink:href=\"#ArialMT-2212\"/>\r\n       <use x=\"58.398438\" xlink:href=\"#ArialMT-31\"/>\r\n      </g>\r\n     </g>\r\n    </g>\r\n    <g id=\"ytick_4\">\r\n     <g id=\"text_12\">\r\n      <!-- 0 -->\r\n      <g style=\"fill:#262626;\" transform=\"translate(13.624688 116.188861)scale(0.11 -0.11)\">\r\n       <use xlink:href=\"#ArialMT-30\"/>\r\n      </g>\r\n     </g>\r\n    </g>\r\n    <g id=\"ytick_5\">\r\n     <g id=\"text_13\">\r\n      <!-- 1 -->\r\n      <g style=\"fill:#262626;\" transform=\"translate(13.624688 79.561726)scale(0.11 -0.11)\">\r\n       <use xlink:href=\"#ArialMT-31\"/>\r\n      </g>\r\n     </g>\r\n    </g>\r\n    <g id=\"ytick_6\">\r\n     <g id=\"text_14\">\r\n      <!-- 2 -->\r\n      <g style=\"fill:#262626;\" transform=\"translate(13.624688 42.934592)scale(0.11 -0.11)\">\r\n       <use xlink:href=\"#ArialMT-32\"/>\r\n      </g>\r\n     </g>\r\n    </g>\r\n   </g>\r\n   <g id=\"line2d_1\">\r\n    <path clip-path=\"url(#pa78a097d6a)\" d=\"M 44.459901 152.015602 \r\nL 46.488991 75.722158 \r\nL 48.518082 101.887372 \r\nL 50.547173 167.423323 \r\nL 52.576264 133.444533 \r\nL 54.605355 51.764676 \r\nL 56.634446 201.134371 \r\nL 58.663537 127.961904 \r\nL 60.692628 65.884446 \r\nL 62.721719 143.998281 \r\nL 64.75081 137.117718 \r\nL 66.779901 115.720982 \r\nL 68.808991 57.626735 \r\nL 70.838082 135.653213 \r\nL 72.867173 128.513851 \r\nL 74.896264 128.161107 \r\nL 76.925355 31.455166 \r\nL 78.954446 32.156356 \r\nL 80.983537 75.476447 \r\nL 83.012628 98.107163 \r\nL 85.041719 85.244366 \r\nL 87.07081 57.650821 \r\nL 89.099901 146.528977 \r\nL 91.128991 69.184815 \r\nL 93.158082 158.17812 \r\nL 95.187173 135.611074 \r\nL 97.216264 79.0274 \r\nL 99.245355 164.580544 \r\nL 101.274446 117.38238 \r\nL 103.303537 143.815676 \r\nL 105.332628 121.614669 \r\nL 107.361719 214.756364 \r\nL 111.419901 137.886562 \r\nL 113.448991 78.281773 \r\nL 115.478082 118.611841 \r\nL 117.507173 112.147826 \r\nL 119.536264 87.044438 \r\nL 121.565355 144.46696 \r\nL 123.594446 101.863608 \r\nL 125.623537 141.750332 \r\nL 127.652628 175.531647 \r\nL 129.681719 126.569603 \r\nL 131.71081 91.235199 \r\nL 133.739901 99.850517 \r\nL 135.768991 112.685381 \r\nL 137.798082 24.626579 \r\nL 139.827173 97.128275 \r\nL 141.856264 76.403769 \r\nL 143.885355 30.275287 \r\nL 145.914446 159.650701 \r\nL 147.943537 150.299899 \r\nL 149.972628 48.384882 \r\nL 152.001719 141.482815 \r\nL 154.03081 111.164852 \r\nL 156.059901 73.086084 \r\nL 158.088991 79.628041 \r\nL 160.118082 47.975612 \r\nL 162.147173 57.470905 \r\nL 164.176264 73.083275 \r\nL 166.205355 140.55417 \r\nL 168.234446 83.138522 \r\nL 170.263537 100.741181 \r\nL 172.292628 160.829367 \r\nL 174.321719 60.340461 \r\nL 176.35081 82.685303 \r\nL 178.379901 110.585893 \r\nL 180.408991 120.789558 \r\nL 182.438082 156.142401 \r\nL 184.467173 104.944069 \r\nL 186.496264 95.094481 \r\nL 188.525355 142.694889 \r\nL 190.554446 69.68386 \r\nL 192.583537 152.439468 \r\nL 194.612628 190.015146 \r\nL 196.641719 74.16984 \r\nL 198.67081 127.026206 \r\nL 200.699901 116.868166 \r\nL 202.728991 142.927902 \r\nL 204.758082 171.073878 \r\nL 206.787173 66.276316 \r\nL 208.816264 137.483361 \r\nL 210.845355 51.416134 \r\nL 212.874446 82.682678 \r\nL 214.903537 123.780753 \r\nL 216.932628 152.025557 \r\nL 218.961719 139.080048 \r\nL 220.99081 156.663312 \r\nL 223.019901 35.807082 \r\nL 225.048991 106.229053 \r\nL 227.078082 70.123331 \r\nL 229.107173 158.671538 \r\nL 231.136264 105.621266 \r\nL 233.165355 69.110356 \r\nL 235.194446 124.522548 \r\nL 237.223537 74.485296 \r\nL 239.252628 151.976679 \r\nL 241.281719 162.19212 \r\nL 243.31081 98.355707 \r\nL 245.339901 126.14021 \r\nL 247.368991 88.73544 \r\nL 249.398082 184.696431 \r\nL 251.427173 86.163851 \r\nL 253.456264 17.083636 \r\nL 255.485355 113.154043 \r\nL 257.514446 111.001536 \r\nL 259.543537 105.675681 \r\nL 261.572628 180.450899 \r\nL 263.601719 96.643534 \r\nL 265.63081 171.053623 \r\nL 267.659901 127.916742 \r\nL 269.688991 66.729314 \r\nL 271.718082 139.180954 \r\nL 273.747173 93.89275 \r\nL 275.776264 75.158334 \r\nL 277.805355 102.042585 \r\nL 279.834446 162.465978 \r\nL 281.863537 124.429681 \r\nL 283.892628 40.484441 \r\nL 285.921719 186.423688 \r\nL 287.95081 122.353315 \r\nL 289.979901 132.474201 \r\nL 292.008991 107.829434 \r\nL 294.038082 84.84707 \r\nL 296.067173 53.330323 \r\nL 298.096264 122.149902 \r\nL 300.125355 82.498329 \r\nL 302.154446 93.948014 \r\nL 304.183537 94.878082 \r\nL 306.212628 132.906982 \r\nL 308.241719 148.781092 \r\nL 310.27081 152.543491 \r\nL 312.299901 139.958191 \r\nL 314.328991 100.469606 \r\nL 316.358082 84.380668 \r\nL 318.387173 100.404327 \r\nL 320.416264 132.358716 \r\nL 322.445355 46.104554 \r\nL 324.474446 56.620368 \r\nL 326.503537 125.218074 \r\nL 328.532628 142.411997 \r\nL 330.561719 107.482663 \r\nL 332.59081 65.834546 \r\nL 334.619901 100.063836 \r\nL 336.648991 91.86728 \r\nL 338.678082 120.019951 \r\nL 340.707173 95.540168 \r\nL 342.736264 55.679826 \r\nL 344.765355 121.030445 \r\nL 346.794446 107.003112 \r\nL 348.823537 102.955494 \r\nL 348.823537 102.955494 \r\n\" style=\"fill:none;stroke:#4c72b0;stroke-linecap:round;stroke-width:1.5;\"/>\r\n   </g>\r\n   <g id=\"patch_3\">\r\n    <path d=\"M 29.241719 224.64 \r\nL 29.241719 7.2 \r\n\" style=\"fill:none;stroke:#262626;stroke-linecap:square;stroke-linejoin:miter;stroke-width:1.25;\"/>\r\n   </g>\r\n   <g id=\"patch_4\">\r\n    <path d=\"M 364.041719 224.64 \r\nL 364.041719 7.2 \r\n\" style=\"fill:none;stroke:#262626;stroke-linecap:square;stroke-linejoin:miter;stroke-width:1.25;\"/>\r\n   </g>\r\n   <g id=\"patch_5\">\r\n    <path d=\"M 29.241719 224.64 \r\nL 364.041719 224.64 \r\n\" style=\"fill:none;stroke:#262626;stroke-linecap:square;stroke-linejoin:miter;stroke-width:1.25;\"/>\r\n   </g>\r\n   <g id=\"patch_6\">\r\n    <path d=\"M 29.241719 7.2 \r\nL 364.041719 7.2 \r\n\" style=\"fill:none;stroke:#262626;stroke-linecap:square;stroke-linejoin:miter;stroke-width:1.25;\"/>\r\n   </g>\r\n  </g>\r\n </g>\r\n <defs>\r\n  <clipPath id=\"pa78a097d6a\">\r\n   <rect height=\"217.44\" width=\"334.8\" x=\"29.241719\" y=\"7.2\"/>\r\n  </clipPath>\r\n </defs>\r\n</svg>\r\n",
      "image/png": "[encoded data removed]"
     },
     "metadata": {}
    }
   ],
   "source": [
    "u0[\"Residual\"].plot()"
   ]
  },
  {
   "cell_type": "code",
   "execution_count": 5,
   "id": "committed-teaching",
   "metadata": {},
   "outputs": [],
   "source": [
    "u0.to_pickle(\"tmp/u0.pkl\")"
   ]
  },
  {
   "cell_type": "markdown",
   "id": "constitutional-laptop",
   "metadata": {},
   "source": [
    "## $h_.(t)$ linear filters"
   ]
  },
  {
   "cell_type": "code",
   "execution_count": 6,
   "id": "banned-question",
   "metadata": {},
   "outputs": [],
   "source": [
    "from functools import partial"
   ]
  },
  {
   "cell_type": "code",
   "execution_count": 7,
   "metadata": {},
   "outputs": [],
   "source": [
    "# Check the value of lag (p) used in the Yule-Walker method through the AIC\n",
    "# http://pages.stern.nyu.edu/~churvich/TimeSeries/Handouts/AICC.pdf\n",
    "# page 2, formula 1\n",
    "\n",
    "# AIC = n*(log(sigma^2) + 1) + 2*(p + 1)*n/(n-p-2)\n",
    "\n",
    "AIC_table = pd.DataFrame(columns=descriptive_stats.state)\n",
    "\n",
    "def yule_walker_aic():\n",
    "    '''\n",
    "    The idea is to iterate through the 17 US states\n",
    "    and for each state's GP residual, compute the AIC value for the Yule-Walker model for lags from 1-5\n",
    "    as an extra step we also compute the AIC value according to the recommended lag by the ACF model in        MO-1 (descriptive_stats::lags small)\n",
    "    '''\n",
    "\n",
    "    for state in results_states.keys():\n",
    "        state_residual = results_states[state][1]\n",
    "        n = len(state_residual)\n",
    "        AIC = []\n",
    "\n",
    "        # First method, use the ACF results (lags small) from MO - 1. Table 'descriptive_stats'\n",
    "        ORDER = int(descriptive_stats[descriptive_stats.state == state][\"lags small\"])\n",
    "        rho_, sigma_ = sm.regression.yule_walker(state_residual, order=ORDER, method=\"mle\")\n",
    "        p = len(rho_)\n",
    "        AIC_i = np.round(n*(np.log(sigma_**2) + 1) + 2*(p + 1)*n/(n-p-2), 2)\n",
    "        AIC.append(AIC_i)\n",
    "\n",
    "        # Second method, fine tune the AIC for a series of lags\n",
    "        for ORDER in range(5): \n",
    "            ORDER = ORDER + 1\n",
    "            rho_, sigma_ = sm.regression.yule_walker(state_residual, order=ORDER, method=\"mle\")\n",
    "            p = len(rho_)\n",
    "            AIC_i = np.round(n*(np.log(sigma_**2) + 1) + 2*(p + 1)*n/(n-p-2), 2)\n",
    "            AIC.append(AIC_i)\n",
    "  \n",
    "        # Add the AIC results for each lag to the state column\n",
    "        AIC_table[state] = AIC\n"
   ]
  },
  {
   "cell_type": "code",
   "execution_count": 8,
   "metadata": {},
   "outputs": [
    {
     "output_type": "execute_result",
     "data": {
      "text/plain": [
       "state  Alabama  Alaska  Arizona  Arkansas  California  Colorado  Connecticut  \\\n",
       "0     -484.77  -476.90 -471.43  -419.33   -522.30     -451.56   -449.31        \n",
       "1     -474.31  -475.58 -473.66  -419.44   -531.20     -442.85   -443.98        \n",
       "2     -474.28  -473.75 -473.00  -417.39   -529.36     -451.19   -442.90        \n",
       "3     -473.99  -477.89 -470.96  -422.65   -528.68     -453.68   -442.98        \n",
       "4     -481.18  -475.79 -468.94  -420.95   -527.02     -451.56   -446.55        \n",
       "5     -479.11  -476.90 -472.21  -419.33   -525.17     -461.44   -447.87        \n",
       "\n",
       "state  Delaware  District of Columbia  Florida  Georgia  Hawaii   Idaho  \\\n",
       "0     -469.44   -570.49               -485.35  -496.24  -353.81 -418.70   \n",
       "1     -470.40   -568.92               -484.59  -498.18  -353.81 -418.70   \n",
       "2     -470.46   -568.24               -484.99  -496.24  -356.78 -425.15   \n",
       "3     -469.77   -572.48               -482.95  -499.05  -354.82 -423.05   \n",
       "4     -469.93   -570.49               -485.35  -496.91  -355.50 -420.99   \n",
       "5     -468.12   -573.36               -486.68  -494.80  -353.33 -419.53   \n",
       "\n",
       "state  Illinois  Indiana    Iowa  Kansas  \n",
       "0     -545.04   -569.57  -495.19 -531.93  \n",
       "1     -539.51   -578.50  -490.94 -531.18  \n",
       "2     -544.97   -576.93  -499.07 -530.23  \n",
       "3     -547.15   -575.39  -497.13 -531.93  \n",
       "4     -545.04   -573.25  -495.19 -531.85  \n",
       "5     -548.50   -571.28  -503.82 -530.34  "
      ],
      "text/html": "<div>\n<style scoped>\n    .dataframe tbody tr th:only-of-type {\n        vertical-align: middle;\n    }\n\n    .dataframe tbody tr th {\n        vertical-align: top;\n    }\n\n    .dataframe thead th {\n        text-align: right;\n    }\n</style>\n<table border=\"1\" class=\"dataframe\">\n  <thead>\n    <tr style=\"text-align: right;\">\n      <th>state</th>\n      <th>Alabama</th>\n      <th>Alaska</th>\n      <th>Arizona</th>\n      <th>Arkansas</th>\n      <th>California</th>\n      <th>Colorado</th>\n      <th>Connecticut</th>\n      <th>Delaware</th>\n      <th>District of Columbia</th>\n      <th>Florida</th>\n      <th>Georgia</th>\n      <th>Hawaii</th>\n      <th>Idaho</th>\n      <th>Illinois</th>\n      <th>Indiana</th>\n      <th>Iowa</th>\n      <th>Kansas</th>\n    </tr>\n  </thead>\n  <tbody>\n    <tr>\n      <th>0</th>\n      <td>-484.77</td>\n      <td>-476.90</td>\n      <td>-471.43</td>\n      <td>-419.33</td>\n      <td>-522.30</td>\n      <td>-451.56</td>\n      <td>-449.31</td>\n      <td>-469.44</td>\n      <td>-570.49</td>\n      <td>-485.35</td>\n      <td>-496.24</td>\n      <td>-353.81</td>\n      <td>-418.70</td>\n      <td>-545.04</td>\n      <td>-569.57</td>\n      <td>-495.19</td>\n      <td>-531.93</td>\n    </tr>\n    <tr>\n      <th>1</th>\n      <td>-474.31</td>\n      <td>-475.58</td>\n      <td>-473.66</td>\n      <td>-419.44</td>\n      <td>-531.20</td>\n      <td>-442.85</td>\n      <td>-443.98</td>\n      <td>-470.40</td>\n      <td>-568.92</td>\n      <td>-484.59</td>\n      <td>-498.18</td>\n      <td>-353.81</td>\n      <td>-418.70</td>\n      <td>-539.51</td>\n      <td>-578.50</td>\n      <td>-490.94</td>\n      <td>-531.18</td>\n    </tr>\n    <tr>\n      <th>2</th>\n      <td>-474.28</td>\n      <td>-473.75</td>\n      <td>-473.00</td>\n      <td>-417.39</td>\n      <td>-529.36</td>\n      <td>-451.19</td>\n      <td>-442.90</td>\n      <td>-470.46</td>\n      <td>-568.24</td>\n      <td>-484.99</td>\n      <td>-496.24</td>\n      <td>-356.78</td>\n      <td>-425.15</td>\n      <td>-544.97</td>\n      <td>-576.93</td>\n      <td>-499.07</td>\n      <td>-530.23</td>\n    </tr>\n    <tr>\n      <th>3</th>\n      <td>-473.99</td>\n      <td>-477.89</td>\n      <td>-470.96</td>\n      <td>-422.65</td>\n      <td>-528.68</td>\n      <td>-453.68</td>\n      <td>-442.98</td>\n      <td>-469.77</td>\n      <td>-572.48</td>\n      <td>-482.95</td>\n      <td>-499.05</td>\n      <td>-354.82</td>\n      <td>-423.05</td>\n      <td>-547.15</td>\n      <td>-575.39</td>\n      <td>-497.13</td>\n      <td>-531.93</td>\n    </tr>\n    <tr>\n      <th>4</th>\n      <td>-481.18</td>\n      <td>-475.79</td>\n      <td>-468.94</td>\n      <td>-420.95</td>\n      <td>-527.02</td>\n      <td>-451.56</td>\n      <td>-446.55</td>\n      <td>-469.93</td>\n      <td>-570.49</td>\n      <td>-485.35</td>\n      <td>-496.91</td>\n      <td>-355.50</td>\n      <td>-420.99</td>\n      <td>-545.04</td>\n      <td>-573.25</td>\n      <td>-495.19</td>\n      <td>-531.85</td>\n    </tr>\n    <tr>\n      <th>5</th>\n      <td>-479.11</td>\n      <td>-476.90</td>\n      <td>-472.21</td>\n      <td>-419.33</td>\n      <td>-525.17</td>\n      <td>-461.44</td>\n      <td>-447.87</td>\n      <td>-468.12</td>\n      <td>-573.36</td>\n      <td>-486.68</td>\n      <td>-494.80</td>\n      <td>-353.33</td>\n      <td>-419.53</td>\n      <td>-548.50</td>\n      <td>-571.28</td>\n      <td>-503.82</td>\n      <td>-530.34</td>\n    </tr>\n  </tbody>\n</table>\n</div>"
     },
     "metadata": {},
     "execution_count": 8
    }
   ],
   "source": [
    "# Run the script\n",
    "# The table below shows the AIC for each lag by state\n",
    "# 1st row is the lag as defined in descriptive_stats::lags small\n",
    "# the subsequent rows show the AIC for lags 1-5\n",
    "yule_walker_aic()\n",
    "AIC_table"
   ]
  },
  {
   "cell_type": "code",
   "execution_count": 9,
   "metadata": {},
   "outputs": [
    {
     "output_type": "execute_result",
     "data": {
      "text/plain": [
       "                   state   min date   max date  count  ADF p-value  lags  \\\n",
       "0   Alabama              2020-02-28 2020-07-27  151    0.001        21     \n",
       "1   Alaska               2020-02-28 2020-07-27  151    0.000        0      \n",
       "2   Arizona              2020-02-28 2020-07-27  151    0.000        9      \n",
       "3   Arkansas             2020-02-28 2020-07-27  151    0.000        5      \n",
       "4   California           2020-02-28 2020-07-27  151    0.000        6      \n",
       "5   Colorado             2020-02-28 2020-07-27  151    0.000        0      \n",
       "6   Connecticut          2020-02-28 2020-07-27  151    0.000        5      \n",
       "7   Delaware             2020-02-28 2020-07-27  151    0.000        17     \n",
       "8   District of Columbia 2020-02-28 2020-07-27  151    0.000        6      \n",
       "9   Florida              2020-02-28 2020-07-27  151    0.000        16     \n",
       "10  Georgia              2020-02-28 2020-07-27  151    0.000        6      \n",
       "11  Hawaii               2020-02-28 2020-07-27  151    0.004        34     \n",
       "12  Idaho                2020-02-28 2020-07-27  151    0.000        14     \n",
       "13  Illinois             2020-02-28 2020-07-27  151    0.000        0      \n",
       "14  Indiana              2020-02-28 2020-07-27  151    0.000        2      \n",
       "15  Iowa                 2020-02-28 2020-07-27  151    0.000        4      \n",
       "16  Kansas               2020-02-28 2020-07-27  151    0.000        0      \n",
       "\n",
       "    ADF p-value small  lags small  min values  max values      mean    median  \\\n",
       "0   0.0                7          -0.436368    0.490748    0.000093  0.001422   \n",
       "1   0.0                5          -0.575354    0.344012    0.000478 -0.006051   \n",
       "2   0.0                0          -0.522762    0.497143   -0.000081  0.002783   \n",
       "3   0.0                5          -0.617740    0.529385   -0.000016  0.004379   \n",
       "4   0.0                7          -0.443048    0.553555    0.000022  0.004882   \n",
       "5   0.0                4          -1.224421    0.487439    0.000012  0.009615   \n",
       "6   0.0                6          -0.674588    0.331076   -0.000007  0.016808   \n",
       "7   0.0                6          -0.481264    0.506871    0.000297  0.015521   \n",
       "8   0.0                4          -0.274038    0.251222   -0.000049 -0.006508   \n",
       "9   0.0                4          -0.606273    0.504574    0.000016 -0.000222   \n",
       "10  0.0                2          -0.452642    0.383215    0.000076  0.004142   \n",
       "11  0.0                1          -0.454462    0.637433    0.000272 -0.004519   \n",
       "12  0.0                1          -0.711159    0.421296    0.000115  0.011084   \n",
       "13  0.0                4          -0.404744    0.356426    0.000029 -0.005007   \n",
       "14  0.0                0          -0.310345    0.417506   -0.000049 -0.003124   \n",
       "15  0.0                4          -0.434463    0.317028   -0.000016  0.000490   \n",
       "16  0.0                3          -0.440794    0.328976    0.000055 -0.003742   \n",
       "\n",
       "          sd  optimal lag  AIC diff  \n",
       "0   0.166738  7            10.78     \n",
       "1   0.153685  3            4.14      \n",
       "2   0.126892  1            4.72      \n",
       "3   0.162828  3            5.26      \n",
       "4   0.114899  1            8.90      \n",
       "5   0.164364  5            18.59     \n",
       "6   0.150060  6            6.41      \n",
       "7   0.176996  2            2.34      \n",
       "8   0.094845  5            5.12      \n",
       "9   0.129317  5            3.73      \n",
       "10  0.125637  3            4.25      \n",
       "11  0.208130  2            3.45      \n",
       "12  0.165192  2            6.45      \n",
       "13  0.103027  5            8.99      \n",
       "14  0.091686  1            8.93      \n",
       "15  0.136335  5            12.88     \n",
       "16  0.109137  3            1.70      "
      ],
      "text/html": "<div>\n<style scoped>\n    .dataframe tbody tr th:only-of-type {\n        vertical-align: middle;\n    }\n\n    .dataframe tbody tr th {\n        vertical-align: top;\n    }\n\n    .dataframe thead th {\n        text-align: right;\n    }\n</style>\n<table border=\"1\" class=\"dataframe\">\n  <thead>\n    <tr style=\"text-align: right;\">\n      <th></th>\n      <th>state</th>\n      <th>min date</th>\n      <th>max date</th>\n      <th>count</th>\n      <th>ADF p-value</th>\n      <th>lags</th>\n      <th>ADF p-value small</th>\n      <th>lags small</th>\n      <th>min values</th>\n      <th>max values</th>\n      <th>mean</th>\n      <th>median</th>\n      <th>sd</th>\n      <th>optimal lag</th>\n      <th>AIC diff</th>\n    </tr>\n  </thead>\n  <tbody>\n    <tr>\n      <th>0</th>\n      <td>Alabama</td>\n      <td>2020-02-28</td>\n      <td>2020-07-27</td>\n      <td>151</td>\n      <td>0.001</td>\n      <td>21</td>\n      <td>0.0</td>\n      <td>7</td>\n      <td>-0.436368</td>\n      <td>0.490748</td>\n      <td>0.000093</td>\n      <td>0.001422</td>\n      <td>0.166738</td>\n      <td>7</td>\n      <td>10.78</td>\n    </tr>\n    <tr>\n      <th>1</th>\n      <td>Alaska</td>\n      <td>2020-02-28</td>\n      <td>2020-07-27</td>\n      <td>151</td>\n      <td>0.000</td>\n      <td>0</td>\n      <td>0.0</td>\n      <td>5</td>\n      <td>-0.575354</td>\n      <td>0.344012</td>\n      <td>0.000478</td>\n      <td>-0.006051</td>\n      <td>0.153685</td>\n      <td>3</td>\n      <td>4.14</td>\n    </tr>\n    <tr>\n      <th>2</th>\n      <td>Arizona</td>\n      <td>2020-02-28</td>\n      <td>2020-07-27</td>\n      <td>151</td>\n      <td>0.000</td>\n      <td>9</td>\n      <td>0.0</td>\n      <td>0</td>\n      <td>-0.522762</td>\n      <td>0.497143</td>\n      <td>-0.000081</td>\n      <td>0.002783</td>\n      <td>0.126892</td>\n      <td>1</td>\n      <td>4.72</td>\n    </tr>\n    <tr>\n      <th>3</th>\n      <td>Arkansas</td>\n      <td>2020-02-28</td>\n      <td>2020-07-27</td>\n      <td>151</td>\n      <td>0.000</td>\n      <td>5</td>\n      <td>0.0</td>\n      <td>5</td>\n      <td>-0.617740</td>\n      <td>0.529385</td>\n      <td>-0.000016</td>\n      <td>0.004379</td>\n      <td>0.162828</td>\n      <td>3</td>\n      <td>5.26</td>\n    </tr>\n    <tr>\n      <th>4</th>\n      <td>California</td>\n      <td>2020-02-28</td>\n      <td>2020-07-27</td>\n      <td>151</td>\n      <td>0.000</td>\n      <td>6</td>\n      <td>0.0</td>\n      <td>7</td>\n      <td>-0.443048</td>\n      <td>0.553555</td>\n      <td>0.000022</td>\n      <td>0.004882</td>\n      <td>0.114899</td>\n      <td>1</td>\n      <td>8.90</td>\n    </tr>\n    <tr>\n      <th>5</th>\n      <td>Colorado</td>\n      <td>2020-02-28</td>\n      <td>2020-07-27</td>\n      <td>151</td>\n      <td>0.000</td>\n      <td>0</td>\n      <td>0.0</td>\n      <td>4</td>\n      <td>-1.224421</td>\n      <td>0.487439</td>\n      <td>0.000012</td>\n      <td>0.009615</td>\n      <td>0.164364</td>\n      <td>5</td>\n      <td>18.59</td>\n    </tr>\n    <tr>\n      <th>6</th>\n      <td>Connecticut</td>\n      <td>2020-02-28</td>\n      <td>2020-07-27</td>\n      <td>151</td>\n      <td>0.000</td>\n      <td>5</td>\n      <td>0.0</td>\n      <td>6</td>\n      <td>-0.674588</td>\n      <td>0.331076</td>\n      <td>-0.000007</td>\n      <td>0.016808</td>\n      <td>0.150060</td>\n      <td>6</td>\n      <td>6.41</td>\n    </tr>\n    <tr>\n      <th>7</th>\n      <td>Delaware</td>\n      <td>2020-02-28</td>\n      <td>2020-07-27</td>\n      <td>151</td>\n      <td>0.000</td>\n      <td>17</td>\n      <td>0.0</td>\n      <td>6</td>\n      <td>-0.481264</td>\n      <td>0.506871</td>\n      <td>0.000297</td>\n      <td>0.015521</td>\n      <td>0.176996</td>\n      <td>2</td>\n      <td>2.34</td>\n    </tr>\n    <tr>\n      <th>8</th>\n      <td>District of Columbia</td>\n      <td>2020-02-28</td>\n      <td>2020-07-27</td>\n      <td>151</td>\n      <td>0.000</td>\n      <td>6</td>\n      <td>0.0</td>\n      <td>4</td>\n      <td>-0.274038</td>\n      <td>0.251222</td>\n      <td>-0.000049</td>\n      <td>-0.006508</td>\n      <td>0.094845</td>\n      <td>5</td>\n      <td>5.12</td>\n    </tr>\n    <tr>\n      <th>9</th>\n      <td>Florida</td>\n      <td>2020-02-28</td>\n      <td>2020-07-27</td>\n      <td>151</td>\n      <td>0.000</td>\n      <td>16</td>\n      <td>0.0</td>\n      <td>4</td>\n      <td>-0.606273</td>\n      <td>0.504574</td>\n      <td>0.000016</td>\n      <td>-0.000222</td>\n      <td>0.129317</td>\n      <td>5</td>\n      <td>3.73</td>\n    </tr>\n    <tr>\n      <th>10</th>\n      <td>Georgia</td>\n      <td>2020-02-28</td>\n      <td>2020-07-27</td>\n      <td>151</td>\n      <td>0.000</td>\n      <td>6</td>\n      <td>0.0</td>\n      <td>2</td>\n      <td>-0.452642</td>\n      <td>0.383215</td>\n      <td>0.000076</td>\n      <td>0.004142</td>\n      <td>0.125637</td>\n      <td>3</td>\n      <td>4.25</td>\n    </tr>\n    <tr>\n      <th>11</th>\n      <td>Hawaii</td>\n      <td>2020-02-28</td>\n      <td>2020-07-27</td>\n      <td>151</td>\n      <td>0.004</td>\n      <td>34</td>\n      <td>0.0</td>\n      <td>1</td>\n      <td>-0.454462</td>\n      <td>0.637433</td>\n      <td>0.000272</td>\n      <td>-0.004519</td>\n      <td>0.208130</td>\n      <td>2</td>\n      <td>3.45</td>\n    </tr>\n    <tr>\n      <th>12</th>\n      <td>Idaho</td>\n      <td>2020-02-28</td>\n      <td>2020-07-27</td>\n      <td>151</td>\n      <td>0.000</td>\n      <td>14</td>\n      <td>0.0</td>\n      <td>1</td>\n      <td>-0.711159</td>\n      <td>0.421296</td>\n      <td>0.000115</td>\n      <td>0.011084</td>\n      <td>0.165192</td>\n      <td>2</td>\n      <td>6.45</td>\n    </tr>\n    <tr>\n      <th>13</th>\n      <td>Illinois</td>\n      <td>2020-02-28</td>\n      <td>2020-07-27</td>\n      <td>151</td>\n      <td>0.000</td>\n      <td>0</td>\n      <td>0.0</td>\n      <td>4</td>\n      <td>-0.404744</td>\n      <td>0.356426</td>\n      <td>0.000029</td>\n      <td>-0.005007</td>\n      <td>0.103027</td>\n      <td>5</td>\n      <td>8.99</td>\n    </tr>\n    <tr>\n      <th>14</th>\n      <td>Indiana</td>\n      <td>2020-02-28</td>\n      <td>2020-07-27</td>\n      <td>151</td>\n      <td>0.000</td>\n      <td>2</td>\n      <td>0.0</td>\n      <td>0</td>\n      <td>-0.310345</td>\n      <td>0.417506</td>\n      <td>-0.000049</td>\n      <td>-0.003124</td>\n      <td>0.091686</td>\n      <td>1</td>\n      <td>8.93</td>\n    </tr>\n    <tr>\n      <th>15</th>\n      <td>Iowa</td>\n      <td>2020-02-28</td>\n      <td>2020-07-27</td>\n      <td>151</td>\n      <td>0.000</td>\n      <td>4</td>\n      <td>0.0</td>\n      <td>4</td>\n      <td>-0.434463</td>\n      <td>0.317028</td>\n      <td>-0.000016</td>\n      <td>0.000490</td>\n      <td>0.136335</td>\n      <td>5</td>\n      <td>12.88</td>\n    </tr>\n    <tr>\n      <th>16</th>\n      <td>Kansas</td>\n      <td>2020-02-28</td>\n      <td>2020-07-27</td>\n      <td>151</td>\n      <td>0.000</td>\n      <td>0</td>\n      <td>0.0</td>\n      <td>3</td>\n      <td>-0.440794</td>\n      <td>0.328976</td>\n      <td>0.000055</td>\n      <td>-0.003742</td>\n      <td>0.109137</td>\n      <td>3</td>\n      <td>1.70</td>\n    </tr>\n  </tbody>\n</table>\n</div>"
     },
     "metadata": {},
     "execution_count": 9
    }
   ],
   "source": [
    "descriptive_stats"
   ]
  },
  {
   "cell_type": "code",
   "execution_count": 10,
   "metadata": {
    "tags": []
   },
   "outputs": [],
   "source": [
    "# Add to the descriptive stats table the optimimum lag for each state\n",
    "descriptive_stats[\"optimal lag\"] = 0\n",
    "descriptive_stats[\"AIC diff\"] = 0\n",
    "\n",
    "for state in results_states.keys():\n",
    "    lag_value = AIC_table[state].idxmin()\n",
    "    AIC_diff = AIC_table[state].max() - AIC_table[state].min()\n",
    "    if lag_value==0:\n",
    "        lag_value = int(descriptive_stats.loc[descriptive_stats.state==state][\"lags small\"])\n",
    "\n",
    "    descriptive_stats.loc[descriptive_stats.state==state, \"optimal lag\"] = lag_value\n",
    "    descriptive_stats.loc[descriptive_stats.state==state, \"AIC diff\"] = AIC_diff\n"
   ]
  },
  {
   "cell_type": "code",
   "execution_count": 11,
   "metadata": {},
   "outputs": [
    {
     "output_type": "execute_result",
     "data": {
      "text/plain": [
       "                   state   min date   max date  count  ADF p-value  lags  \\\n",
       "0   Alabama              2020-02-28 2020-07-27  151    0.001        21     \n",
       "1   Alaska               2020-02-28 2020-07-27  151    0.000        0      \n",
       "2   Arizona              2020-02-28 2020-07-27  151    0.000        9      \n",
       "3   Arkansas             2020-02-28 2020-07-27  151    0.000        5      \n",
       "4   California           2020-02-28 2020-07-27  151    0.000        6      \n",
       "5   Colorado             2020-02-28 2020-07-27  151    0.000        0      \n",
       "6   Connecticut          2020-02-28 2020-07-27  151    0.000        5      \n",
       "7   Delaware             2020-02-28 2020-07-27  151    0.000        17     \n",
       "8   District of Columbia 2020-02-28 2020-07-27  151    0.000        6      \n",
       "9   Florida              2020-02-28 2020-07-27  151    0.000        16     \n",
       "10  Georgia              2020-02-28 2020-07-27  151    0.000        6      \n",
       "11  Hawaii               2020-02-28 2020-07-27  151    0.004        34     \n",
       "12  Idaho                2020-02-28 2020-07-27  151    0.000        14     \n",
       "13  Illinois             2020-02-28 2020-07-27  151    0.000        0      \n",
       "14  Indiana              2020-02-28 2020-07-27  151    0.000        2      \n",
       "15  Iowa                 2020-02-28 2020-07-27  151    0.000        4      \n",
       "16  Kansas               2020-02-28 2020-07-27  151    0.000        0      \n",
       "\n",
       "    ADF p-value small  lags small  min values  max values      mean    median  \\\n",
       "0   0.0                7          -0.436368    0.490748    0.000093  0.001422   \n",
       "1   0.0                5          -0.575354    0.344012    0.000478 -0.006051   \n",
       "2   0.0                0          -0.522762    0.497143   -0.000081  0.002783   \n",
       "3   0.0                5          -0.617740    0.529385   -0.000016  0.004379   \n",
       "4   0.0                7          -0.443048    0.553555    0.000022  0.004882   \n",
       "5   0.0                4          -1.224421    0.487439    0.000012  0.009615   \n",
       "6   0.0                6          -0.674588    0.331076   -0.000007  0.016808   \n",
       "7   0.0                6          -0.481264    0.506871    0.000297  0.015521   \n",
       "8   0.0                4          -0.274038    0.251222   -0.000049 -0.006508   \n",
       "9   0.0                4          -0.606273    0.504574    0.000016 -0.000222   \n",
       "10  0.0                2          -0.452642    0.383215    0.000076  0.004142   \n",
       "11  0.0                1          -0.454462    0.637433    0.000272 -0.004519   \n",
       "12  0.0                1          -0.711159    0.421296    0.000115  0.011084   \n",
       "13  0.0                4          -0.404744    0.356426    0.000029 -0.005007   \n",
       "14  0.0                0          -0.310345    0.417506   -0.000049 -0.003124   \n",
       "15  0.0                4          -0.434463    0.317028   -0.000016  0.000490   \n",
       "16  0.0                3          -0.440794    0.328976    0.000055 -0.003742   \n",
       "\n",
       "          sd  optimal lag  AIC diff  \n",
       "0   0.166738  7            10.78     \n",
       "1   0.153685  3            4.14      \n",
       "2   0.126892  1            4.72      \n",
       "3   0.162828  3            5.26      \n",
       "4   0.114899  1            8.90      \n",
       "5   0.164364  5            18.59     \n",
       "6   0.150060  6            6.41      \n",
       "7   0.176996  2            2.34      \n",
       "8   0.094845  5            5.12      \n",
       "9   0.129317  5            3.73      \n",
       "10  0.125637  3            4.25      \n",
       "11  0.208130  2            3.45      \n",
       "12  0.165192  2            6.45      \n",
       "13  0.103027  5            8.99      \n",
       "14  0.091686  1            8.93      \n",
       "15  0.136335  5            12.88     \n",
       "16  0.109137  3            1.70      "
      ],
      "text/html": "<div>\n<style scoped>\n    .dataframe tbody tr th:only-of-type {\n        vertical-align: middle;\n    }\n\n    .dataframe tbody tr th {\n        vertical-align: top;\n    }\n\n    .dataframe thead th {\n        text-align: right;\n    }\n</style>\n<table border=\"1\" class=\"dataframe\">\n  <thead>\n    <tr style=\"text-align: right;\">\n      <th></th>\n      <th>state</th>\n      <th>min date</th>\n      <th>max date</th>\n      <th>count</th>\n      <th>ADF p-value</th>\n      <th>lags</th>\n      <th>ADF p-value small</th>\n      <th>lags small</th>\n      <th>min values</th>\n      <th>max values</th>\n      <th>mean</th>\n      <th>median</th>\n      <th>sd</th>\n      <th>optimal lag</th>\n      <th>AIC diff</th>\n    </tr>\n  </thead>\n  <tbody>\n    <tr>\n      <th>0</th>\n      <td>Alabama</td>\n      <td>2020-02-28</td>\n      <td>2020-07-27</td>\n      <td>151</td>\n      <td>0.001</td>\n      <td>21</td>\n      <td>0.0</td>\n      <td>7</td>\n      <td>-0.436368</td>\n      <td>0.490748</td>\n      <td>0.000093</td>\n      <td>0.001422</td>\n      <td>0.166738</td>\n      <td>7</td>\n      <td>10.78</td>\n    </tr>\n    <tr>\n      <th>1</th>\n      <td>Alaska</td>\n      <td>2020-02-28</td>\n      <td>2020-07-27</td>\n      <td>151</td>\n      <td>0.000</td>\n      <td>0</td>\n      <td>0.0</td>\n      <td>5</td>\n      <td>-0.575354</td>\n      <td>0.344012</td>\n      <td>0.000478</td>\n      <td>-0.006051</td>\n      <td>0.153685</td>\n      <td>3</td>\n      <td>4.14</td>\n    </tr>\n    <tr>\n      <th>2</th>\n      <td>Arizona</td>\n      <td>2020-02-28</td>\n      <td>2020-07-27</td>\n      <td>151</td>\n      <td>0.000</td>\n      <td>9</td>\n      <td>0.0</td>\n      <td>0</td>\n      <td>-0.522762</td>\n      <td>0.497143</td>\n      <td>-0.000081</td>\n      <td>0.002783</td>\n      <td>0.126892</td>\n      <td>1</td>\n      <td>4.72</td>\n    </tr>\n    <tr>\n      <th>3</th>\n      <td>Arkansas</td>\n      <td>2020-02-28</td>\n      <td>2020-07-27</td>\n      <td>151</td>\n      <td>0.000</td>\n      <td>5</td>\n      <td>0.0</td>\n      <td>5</td>\n      <td>-0.617740</td>\n      <td>0.529385</td>\n      <td>-0.000016</td>\n      <td>0.004379</td>\n      <td>0.162828</td>\n      <td>3</td>\n      <td>5.26</td>\n    </tr>\n    <tr>\n      <th>4</th>\n      <td>California</td>\n      <td>2020-02-28</td>\n      <td>2020-07-27</td>\n      <td>151</td>\n      <td>0.000</td>\n      <td>6</td>\n      <td>0.0</td>\n      <td>7</td>\n      <td>-0.443048</td>\n      <td>0.553555</td>\n      <td>0.000022</td>\n      <td>0.004882</td>\n      <td>0.114899</td>\n      <td>1</td>\n      <td>8.90</td>\n    </tr>\n    <tr>\n      <th>5</th>\n      <td>Colorado</td>\n      <td>2020-02-28</td>\n      <td>2020-07-27</td>\n      <td>151</td>\n      <td>0.000</td>\n      <td>0</td>\n      <td>0.0</td>\n      <td>4</td>\n      <td>-1.224421</td>\n      <td>0.487439</td>\n      <td>0.000012</td>\n      <td>0.009615</td>\n      <td>0.164364</td>\n      <td>5</td>\n      <td>18.59</td>\n    </tr>\n    <tr>\n      <th>6</th>\n      <td>Connecticut</td>\n      <td>2020-02-28</td>\n      <td>2020-07-27</td>\n      <td>151</td>\n      <td>0.000</td>\n      <td>5</td>\n      <td>0.0</td>\n      <td>6</td>\n      <td>-0.674588</td>\n      <td>0.331076</td>\n      <td>-0.000007</td>\n      <td>0.016808</td>\n      <td>0.150060</td>\n      <td>6</td>\n      <td>6.41</td>\n    </tr>\n    <tr>\n      <th>7</th>\n      <td>Delaware</td>\n      <td>2020-02-28</td>\n      <td>2020-07-27</td>\n      <td>151</td>\n      <td>0.000</td>\n      <td>17</td>\n      <td>0.0</td>\n      <td>6</td>\n      <td>-0.481264</td>\n      <td>0.506871</td>\n      <td>0.000297</td>\n      <td>0.015521</td>\n      <td>0.176996</td>\n      <td>2</td>\n      <td>2.34</td>\n    </tr>\n    <tr>\n      <th>8</th>\n      <td>District of Columbia</td>\n      <td>2020-02-28</td>\n      <td>2020-07-27</td>\n      <td>151</td>\n      <td>0.000</td>\n      <td>6</td>\n      <td>0.0</td>\n      <td>4</td>\n      <td>-0.274038</td>\n      <td>0.251222</td>\n      <td>-0.000049</td>\n      <td>-0.006508</td>\n      <td>0.094845</td>\n      <td>5</td>\n      <td>5.12</td>\n    </tr>\n    <tr>\n      <th>9</th>\n      <td>Florida</td>\n      <td>2020-02-28</td>\n      <td>2020-07-27</td>\n      <td>151</td>\n      <td>0.000</td>\n      <td>16</td>\n      <td>0.0</td>\n      <td>4</td>\n      <td>-0.606273</td>\n      <td>0.504574</td>\n      <td>0.000016</td>\n      <td>-0.000222</td>\n      <td>0.129317</td>\n      <td>5</td>\n      <td>3.73</td>\n    </tr>\n    <tr>\n      <th>10</th>\n      <td>Georgia</td>\n      <td>2020-02-28</td>\n      <td>2020-07-27</td>\n      <td>151</td>\n      <td>0.000</td>\n      <td>6</td>\n      <td>0.0</td>\n      <td>2</td>\n      <td>-0.452642</td>\n      <td>0.383215</td>\n      <td>0.000076</td>\n      <td>0.004142</td>\n      <td>0.125637</td>\n      <td>3</td>\n      <td>4.25</td>\n    </tr>\n    <tr>\n      <th>11</th>\n      <td>Hawaii</td>\n      <td>2020-02-28</td>\n      <td>2020-07-27</td>\n      <td>151</td>\n      <td>0.004</td>\n      <td>34</td>\n      <td>0.0</td>\n      <td>1</td>\n      <td>-0.454462</td>\n      <td>0.637433</td>\n      <td>0.000272</td>\n      <td>-0.004519</td>\n      <td>0.208130</td>\n      <td>2</td>\n      <td>3.45</td>\n    </tr>\n    <tr>\n      <th>12</th>\n      <td>Idaho</td>\n      <td>2020-02-28</td>\n      <td>2020-07-27</td>\n      <td>151</td>\n      <td>0.000</td>\n      <td>14</td>\n      <td>0.0</td>\n      <td>1</td>\n      <td>-0.711159</td>\n      <td>0.421296</td>\n      <td>0.000115</td>\n      <td>0.011084</td>\n      <td>0.165192</td>\n      <td>2</td>\n      <td>6.45</td>\n    </tr>\n    <tr>\n      <th>13</th>\n      <td>Illinois</td>\n      <td>2020-02-28</td>\n      <td>2020-07-27</td>\n      <td>151</td>\n      <td>0.000</td>\n      <td>0</td>\n      <td>0.0</td>\n      <td>4</td>\n      <td>-0.404744</td>\n      <td>0.356426</td>\n      <td>0.000029</td>\n      <td>-0.005007</td>\n      <td>0.103027</td>\n      <td>5</td>\n      <td>8.99</td>\n    </tr>\n    <tr>\n      <th>14</th>\n      <td>Indiana</td>\n      <td>2020-02-28</td>\n      <td>2020-07-27</td>\n      <td>151</td>\n      <td>0.000</td>\n      <td>2</td>\n      <td>0.0</td>\n      <td>0</td>\n      <td>-0.310345</td>\n      <td>0.417506</td>\n      <td>-0.000049</td>\n      <td>-0.003124</td>\n      <td>0.091686</td>\n      <td>1</td>\n      <td>8.93</td>\n    </tr>\n    <tr>\n      <th>15</th>\n      <td>Iowa</td>\n      <td>2020-02-28</td>\n      <td>2020-07-27</td>\n      <td>151</td>\n      <td>0.000</td>\n      <td>4</td>\n      <td>0.0</td>\n      <td>4</td>\n      <td>-0.434463</td>\n      <td>0.317028</td>\n      <td>-0.000016</td>\n      <td>0.000490</td>\n      <td>0.136335</td>\n      <td>5</td>\n      <td>12.88</td>\n    </tr>\n    <tr>\n      <th>16</th>\n      <td>Kansas</td>\n      <td>2020-02-28</td>\n      <td>2020-07-27</td>\n      <td>151</td>\n      <td>0.000</td>\n      <td>0</td>\n      <td>0.0</td>\n      <td>3</td>\n      <td>-0.440794</td>\n      <td>0.328976</td>\n      <td>0.000055</td>\n      <td>-0.003742</td>\n      <td>0.109137</td>\n      <td>3</td>\n      <td>1.70</td>\n    </tr>\n  </tbody>\n</table>\n</div>"
     },
     "metadata": {},
     "execution_count": 11
    }
   ],
   "source": [
    "descriptive_stats"
   ]
  },
  {
   "cell_type": "code",
   "execution_count": 12,
   "metadata": {},
   "outputs": [],
   "source": [
    "descriptive_stats.to_pickle(\"tmp/residual_descriptive_stats.pkl\")"
   ]
  },
  {
   "cell_type": "code",
   "execution_count": 13,
   "metadata": {},
   "outputs": [],
   "source": [
    "# In case we want to revert back to the original method of shared lags across states\n",
    "# Don't forget to uncomment the ORDER and revert the yule_walker order\n",
    "linear_filters_states = {}\n",
    "\n",
    "# ORDER = 5\n",
    "\n",
    "for state in results_states.keys():\n",
    "    ORDER = int(descriptive_stats.loc[descriptive_stats.state==state, \"optimal lag\"])\n",
    "    u0_ = u0[u0['Updated'].isin(final_data.loc[state, 'Updated'])]\n",
    "    state_residual = results_states[state][1]\n",
    "    t = u0_[\"Updated\"].index.astype('float').values.reshape(-1, 1)\n",
    "\n",
    "    def _yule_walker(u=None, coeff_=None, sigma_=None):\n",
    "        return np.convolve(coeff_, u, mode=\"same\")\n",
    "\n",
    "    rho_, sigma_ = sm.regression.yule_walker(state_residual, order=ORDER, method=\"mle\")\n",
    "    rho_ = np.array(rho_)[::-1]\n",
    "    linear_filters_states[state] = rho_, partial(\n",
    "        _yule_walker, u=u0_[\"Residual\"].values, coeff_=tuple(rho_), sigma_=sigma_\n",
    "    )\n",
    "        \n",
    "\n",
    "pickle.dump(linear_filters_states, open('tmp/linear_filters_states.pkl', 'wb'))"
   ]
  },
  {
   "cell_type": "code",
   "execution_count": null,
   "metadata": {},
   "outputs": [],
   "source": []
  }
 ],
 "metadata": {
  "kernelspec": {
   "name": "python388jvsc74a57bd0b9f12c32adf86fc2efd1397b2d2075f849c4422d6d18a8f17e3a6426f48001a6",
   "display_name": "Python 3.8.8 64-bit ('Achilles-mkl': conda)"
  },
  "language_info": {
   "codemirror_mode": {
    "name": "ipython",
    "version": 3
   },
   "file_extension": ".py",
   "mimetype": "text/x-python",
   "name": "python",
   "nbconvert_exporter": "python",
   "pygments_lexer": "ipython3",
   "version": "3.8.8"
  }
 },
 "nbformat": 4,
 "nbformat_minor": 5
}